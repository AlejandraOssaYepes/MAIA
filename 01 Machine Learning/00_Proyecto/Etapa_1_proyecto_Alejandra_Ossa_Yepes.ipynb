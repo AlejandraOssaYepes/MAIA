{
 "cells": [
  {
   "cell_type": "markdown",
   "metadata": {},
   "source": [
    "# Etapa 1 del proyecto. La tarea de regresión: modelos polinomiales y regularizados\n",
    "**By: Alejandra Ossa Yepes**\n",
    "\n",
    "Modelo predictivo que permita determinar la demanda sobre el uso de un sistema de alquiler de bicicletas. Este conocimiento puede dar soporte para mejorar el servicio y conocer los factores que inciden en su eficiencia. Fomentar planes de movilidad sostenible es una manera de reducir las emisiones de CO2, que afectan la temperatura del planeta y desequilibran el ciclo natural. \n",
    "\n",
    "1. Aplicar técnicas de regresión para construir un modelo predictivo que permita estimar la demanda sobre el uso de un sistema de alquiler de bicicletas siguiendo el ciclo de machine learning.\n",
    "2. Determinar cuáles son los factores que más inciden en la demanda con base en los datos\n"
   ]
  },
  {
   "cell_type": "code",
   "execution_count": 1,
   "metadata": {},
   "outputs": [],
   "source": [
    "import pandas as pd\n",
    "import numpy as np\n",
    "import warnings\n",
    "import matplotlib.pyplot as plt\n",
    "warnings.filterwarnings('ignore')\n",
    "\n",
    "from sklearn.model_selection import train_test_split, GridSearchCV, KFold\n",
    "from sklearn.linear_model import LinearRegression, Lasso,  Ridge\n",
    "from sklearn.metrics import mean_squared_error, mean_absolute_error, r2_score\n",
    "from sklearn.preprocessing import PolynomialFeatures, RobustScaler, MinMaxScaler\n",
    "from sklearn.pipeline import make_pipeline"
   ]
  },
  {
   "cell_type": "markdown",
   "metadata": {},
   "source": [
    "## 1. Carga de datos"
   ]
  },
  {
   "cell_type": "code",
   "execution_count": 2,
   "metadata": {},
   "outputs": [],
   "source": [
    "data_raw = pd.read_csv('Datos_Etapa-1.csv', sep = ',')"
   ]
  },
  {
   "cell_type": "code",
   "execution_count": 3,
   "metadata": {},
   "outputs": [
    {
     "data": {
      "text/plain": [
       "(17379, 9)"
      ]
     },
     "execution_count": 3,
     "metadata": {},
     "output_type": "execute_result"
    }
   ],
   "source": [
    "data_raw.shape"
   ]
  },
  {
   "cell_type": "code",
   "execution_count": 4,
   "metadata": {},
   "outputs": [
    {
     "data": {
      "text/html": [
       "<div>\n",
       "<style scoped>\n",
       "    .dataframe tbody tr th:only-of-type {\n",
       "        vertical-align: middle;\n",
       "    }\n",
       "\n",
       "    .dataframe tbody tr th {\n",
       "        vertical-align: top;\n",
       "    }\n",
       "\n",
       "    .dataframe thead th {\n",
       "        text-align: right;\n",
       "    }\n",
       "</style>\n",
       "<table border=\"1\" class=\"dataframe\">\n",
       "  <thead>\n",
       "    <tr style=\"text-align: right;\">\n",
       "      <th></th>\n",
       "      <th>season</th>\n",
       "      <th>weekday</th>\n",
       "      <th>weathersit</th>\n",
       "      <th>temp</th>\n",
       "      <th>atemp</th>\n",
       "      <th>hum</th>\n",
       "      <th>windspeed</th>\n",
       "      <th>cnt</th>\n",
       "      <th>time_of_day</th>\n",
       "    </tr>\n",
       "  </thead>\n",
       "  <tbody>\n",
       "    <tr>\n",
       "      <th>0</th>\n",
       "      <td>Winter</td>\n",
       "      <td>6</td>\n",
       "      <td>Clear</td>\n",
       "      <td>3.28</td>\n",
       "      <td>3.0014</td>\n",
       "      <td>0.81</td>\n",
       "      <td>0.0</td>\n",
       "      <td>16</td>\n",
       "      <td>Night</td>\n",
       "    </tr>\n",
       "    <tr>\n",
       "      <th>1</th>\n",
       "      <td>Winter</td>\n",
       "      <td>6</td>\n",
       "      <td>Clear</td>\n",
       "      <td>2.34</td>\n",
       "      <td>1.9982</td>\n",
       "      <td>0.80</td>\n",
       "      <td>0.0</td>\n",
       "      <td>40</td>\n",
       "      <td>Night</td>\n",
       "    </tr>\n",
       "    <tr>\n",
       "      <th>2</th>\n",
       "      <td>Winter</td>\n",
       "      <td>6</td>\n",
       "      <td>Clear</td>\n",
       "      <td>2.34</td>\n",
       "      <td>1.9982</td>\n",
       "      <td>0.80</td>\n",
       "      <td>0.0</td>\n",
       "      <td>32</td>\n",
       "      <td>Night</td>\n",
       "    </tr>\n",
       "    <tr>\n",
       "      <th>3</th>\n",
       "      <td>Winter</td>\n",
       "      <td>6</td>\n",
       "      <td>Clear</td>\n",
       "      <td>3.28</td>\n",
       "      <td>3.0014</td>\n",
       "      <td>0.75</td>\n",
       "      <td>0.0</td>\n",
       "      <td>13</td>\n",
       "      <td>Night</td>\n",
       "    </tr>\n",
       "    <tr>\n",
       "      <th>4</th>\n",
       "      <td>Winter</td>\n",
       "      <td>6</td>\n",
       "      <td>Clear</td>\n",
       "      <td>3.28</td>\n",
       "      <td>3.0014</td>\n",
       "      <td>0.75</td>\n",
       "      <td>0.0</td>\n",
       "      <td>1</td>\n",
       "      <td>Night</td>\n",
       "    </tr>\n",
       "  </tbody>\n",
       "</table>\n",
       "</div>"
      ],
      "text/plain": [
       "   season  weekday weathersit  temp   atemp   hum  windspeed  cnt time_of_day\n",
       "0  Winter        6      Clear  3.28  3.0014  0.81        0.0   16       Night\n",
       "1  Winter        6      Clear  2.34  1.9982  0.80        0.0   40       Night\n",
       "2  Winter        6      Clear  2.34  1.9982  0.80        0.0   32       Night\n",
       "3  Winter        6      Clear  3.28  3.0014  0.75        0.0   13       Night\n",
       "4  Winter        6      Clear  3.28  3.0014  0.75        0.0    1       Night"
      ]
     },
     "execution_count": 4,
     "metadata": {},
     "output_type": "execute_result"
    }
   ],
   "source": [
    "data_raw.head()"
   ]
  },
  {
   "cell_type": "markdown",
   "metadata": {},
   "source": [
    "Utilizaremos la variable data para almacenar un conjunto de datos modificado."
   ]
  },
  {
   "cell_type": "code",
   "execution_count": 5,
   "metadata": {},
   "outputs": [],
   "source": [
    "data = data_raw"
   ]
  },
  {
   "cell_type": "markdown",
   "metadata": {},
   "source": [
    "### 2. Preparación de los Datos"
   ]
  },
  {
   "cell_type": "markdown",
   "metadata": {},
   "source": [
    "Transformar todas las variables categóricas en variables numéricas que puedan ser interpretadas por nuestro modelo y eliminacion de datos duplicados"
   ]
  },
  {
   "cell_type": "code",
   "execution_count": 6,
   "metadata": {},
   "outputs": [
    {
     "data": {
      "text/plain": [
       "Summer    4496\n",
       "Spring    4409\n",
       "Winter    4242\n",
       "Fall      4232\n",
       "Name: season, dtype: int64"
      ]
     },
     "execution_count": 6,
     "metadata": {},
     "output_type": "execute_result"
    }
   ],
   "source": [
    "pd.value_counts(data['season'])"
   ]
  },
  {
   "cell_type": "code",
   "execution_count": 7,
   "metadata": {},
   "outputs": [
    {
     "data": {
      "text/plain": [
       "Clear         11413\n",
       "Mist           4544\n",
       "Light Rain     1419\n",
       "Heavy Rain        3\n",
       "Name: weathersit, dtype: int64"
      ]
     },
     "execution_count": 7,
     "metadata": {},
     "output_type": "execute_result"
    }
   ],
   "source": [
    "pd.value_counts(data['weathersit'])"
   ]
  },
  {
   "cell_type": "code",
   "execution_count": 8,
   "metadata": {},
   "outputs": [
    {
     "data": {
      "text/plain": [
       "Night      6471\n",
       "Morning    5805\n",
       "Evening    5103\n",
       "Name: time_of_day, dtype: int64"
      ]
     },
     "execution_count": 8,
     "metadata": {},
     "output_type": "execute_result"
    }
   ],
   "source": [
    "pd.value_counts(data['time_of_day'])"
   ]
  },
  {
   "cell_type": "code",
   "execution_count": 9,
   "metadata": {},
   "outputs": [
    {
     "data": {
      "text/plain": [
       "season         0\n",
       "weekday        0\n",
       "weathersit     0\n",
       "temp           0\n",
       "atemp          0\n",
       "hum            0\n",
       "windspeed      0\n",
       "cnt            0\n",
       "time_of_day    0\n",
       "dtype: int64"
      ]
     },
     "execution_count": 9,
     "metadata": {},
     "output_type": "execute_result"
    }
   ],
   "source": [
    "p21 = data.isna().sum()\n",
    "p21"
   ]
  },
  {
   "cell_type": "code",
   "execution_count": 10,
   "metadata": {},
   "outputs": [
    {
     "data": {
      "text/plain": [
       "42"
      ]
     },
     "execution_count": 10,
     "metadata": {},
     "output_type": "execute_result"
    }
   ],
   "source": [
    "data.duplicated().sum()"
   ]
  },
  {
   "cell_type": "code",
   "execution_count": 11,
   "metadata": {},
   "outputs": [],
   "source": [
    "data.drop_duplicates(inplace= True)"
   ]
  },
  {
   "cell_type": "code",
   "execution_count": 12,
   "metadata": {},
   "outputs": [
    {
     "data": {
      "text/plain": [
       "(17337, 9)"
      ]
     },
     "execution_count": 12,
     "metadata": {},
     "output_type": "execute_result"
    }
   ],
   "source": [
    "data.shape"
   ]
  },
  {
   "cell_type": "code",
   "execution_count": 13,
   "metadata": {},
   "outputs": [],
   "source": [
    "data = pd.get_dummies(data)"
   ]
  },
  {
   "cell_type": "code",
   "execution_count": 14,
   "metadata": {},
   "outputs": [
    {
     "data": {
      "text/plain": [
       "(17337, 17)"
      ]
     },
     "execution_count": 14,
     "metadata": {},
     "output_type": "execute_result"
    }
   ],
   "source": [
    "data.shape"
   ]
  },
  {
   "cell_type": "code",
   "execution_count": 15,
   "metadata": {},
   "outputs": [
    {
     "data": {
      "text/html": [
       "<div>\n",
       "<style scoped>\n",
       "    .dataframe tbody tr th:only-of-type {\n",
       "        vertical-align: middle;\n",
       "    }\n",
       "\n",
       "    .dataframe tbody tr th {\n",
       "        vertical-align: top;\n",
       "    }\n",
       "\n",
       "    .dataframe thead th {\n",
       "        text-align: right;\n",
       "    }\n",
       "</style>\n",
       "<table border=\"1\" class=\"dataframe\">\n",
       "  <thead>\n",
       "    <tr style=\"text-align: right;\">\n",
       "      <th></th>\n",
       "      <th>weekday</th>\n",
       "      <th>temp</th>\n",
       "      <th>atemp</th>\n",
       "      <th>hum</th>\n",
       "      <th>windspeed</th>\n",
       "      <th>cnt</th>\n",
       "      <th>season_Fall</th>\n",
       "      <th>season_Spring</th>\n",
       "      <th>season_Summer</th>\n",
       "      <th>season_Winter</th>\n",
       "      <th>weathersit_Clear</th>\n",
       "      <th>weathersit_Heavy Rain</th>\n",
       "      <th>weathersit_Light Rain</th>\n",
       "      <th>weathersit_Mist</th>\n",
       "      <th>time_of_day_Evening</th>\n",
       "      <th>time_of_day_Morning</th>\n",
       "      <th>time_of_day_Night</th>\n",
       "    </tr>\n",
       "  </thead>\n",
       "  <tbody>\n",
       "    <tr>\n",
       "      <th>0</th>\n",
       "      <td>6</td>\n",
       "      <td>3.28</td>\n",
       "      <td>3.0014</td>\n",
       "      <td>0.81</td>\n",
       "      <td>0.0</td>\n",
       "      <td>16</td>\n",
       "      <td>0</td>\n",
       "      <td>0</td>\n",
       "      <td>0</td>\n",
       "      <td>1</td>\n",
       "      <td>1</td>\n",
       "      <td>0</td>\n",
       "      <td>0</td>\n",
       "      <td>0</td>\n",
       "      <td>0</td>\n",
       "      <td>0</td>\n",
       "      <td>1</td>\n",
       "    </tr>\n",
       "    <tr>\n",
       "      <th>1</th>\n",
       "      <td>6</td>\n",
       "      <td>2.34</td>\n",
       "      <td>1.9982</td>\n",
       "      <td>0.80</td>\n",
       "      <td>0.0</td>\n",
       "      <td>40</td>\n",
       "      <td>0</td>\n",
       "      <td>0</td>\n",
       "      <td>0</td>\n",
       "      <td>1</td>\n",
       "      <td>1</td>\n",
       "      <td>0</td>\n",
       "      <td>0</td>\n",
       "      <td>0</td>\n",
       "      <td>0</td>\n",
       "      <td>0</td>\n",
       "      <td>1</td>\n",
       "    </tr>\n",
       "    <tr>\n",
       "      <th>2</th>\n",
       "      <td>6</td>\n",
       "      <td>2.34</td>\n",
       "      <td>1.9982</td>\n",
       "      <td>0.80</td>\n",
       "      <td>0.0</td>\n",
       "      <td>32</td>\n",
       "      <td>0</td>\n",
       "      <td>0</td>\n",
       "      <td>0</td>\n",
       "      <td>1</td>\n",
       "      <td>1</td>\n",
       "      <td>0</td>\n",
       "      <td>0</td>\n",
       "      <td>0</td>\n",
       "      <td>0</td>\n",
       "      <td>0</td>\n",
       "      <td>1</td>\n",
       "    </tr>\n",
       "    <tr>\n",
       "      <th>3</th>\n",
       "      <td>6</td>\n",
       "      <td>3.28</td>\n",
       "      <td>3.0014</td>\n",
       "      <td>0.75</td>\n",
       "      <td>0.0</td>\n",
       "      <td>13</td>\n",
       "      <td>0</td>\n",
       "      <td>0</td>\n",
       "      <td>0</td>\n",
       "      <td>1</td>\n",
       "      <td>1</td>\n",
       "      <td>0</td>\n",
       "      <td>0</td>\n",
       "      <td>0</td>\n",
       "      <td>0</td>\n",
       "      <td>0</td>\n",
       "      <td>1</td>\n",
       "    </tr>\n",
       "    <tr>\n",
       "      <th>4</th>\n",
       "      <td>6</td>\n",
       "      <td>3.28</td>\n",
       "      <td>3.0014</td>\n",
       "      <td>0.75</td>\n",
       "      <td>0.0</td>\n",
       "      <td>1</td>\n",
       "      <td>0</td>\n",
       "      <td>0</td>\n",
       "      <td>0</td>\n",
       "      <td>1</td>\n",
       "      <td>1</td>\n",
       "      <td>0</td>\n",
       "      <td>0</td>\n",
       "      <td>0</td>\n",
       "      <td>0</td>\n",
       "      <td>0</td>\n",
       "      <td>1</td>\n",
       "    </tr>\n",
       "  </tbody>\n",
       "</table>\n",
       "</div>"
      ],
      "text/plain": [
       "   weekday  temp   atemp   hum  windspeed  cnt  season_Fall  season_Spring  \\\n",
       "0        6  3.28  3.0014  0.81        0.0   16            0              0   \n",
       "1        6  2.34  1.9982  0.80        0.0   40            0              0   \n",
       "2        6  2.34  1.9982  0.80        0.0   32            0              0   \n",
       "3        6  3.28  3.0014  0.75        0.0   13            0              0   \n",
       "4        6  3.28  3.0014  0.75        0.0    1            0              0   \n",
       "\n",
       "   season_Summer  season_Winter  weathersit_Clear  weathersit_Heavy Rain  \\\n",
       "0              0              1                 1                      0   \n",
       "1              0              1                 1                      0   \n",
       "2              0              1                 1                      0   \n",
       "3              0              1                 1                      0   \n",
       "4              0              1                 1                      0   \n",
       "\n",
       "   weathersit_Light Rain  weathersit_Mist  time_of_day_Evening  \\\n",
       "0                      0                0                    0   \n",
       "1                      0                0                    0   \n",
       "2                      0                0                    0   \n",
       "3                      0                0                    0   \n",
       "4                      0                0                    0   \n",
       "\n",
       "   time_of_day_Morning  time_of_day_Night  \n",
       "0                    0                  1  \n",
       "1                    0                  1  \n",
       "2                    0                  1  \n",
       "3                    0                  1  \n",
       "4                    0                  1  "
      ]
     },
     "execution_count": 15,
     "metadata": {},
     "output_type": "execute_result"
    }
   ],
   "source": [
    "data.head()"
   ]
  },
  {
   "cell_type": "markdown",
   "metadata": {},
   "source": [
    "### 3. División de datos\n",
    "\n",
    "Ahora dividiremos el conjunto de datos resultante en un conjunto de entrenamiento y uno de pruebas. Usaremos el 80% de los datos para el entrenamiento y el 20% restante para las pruebas. Nuestra variable de objetivo es `cnt`"
   ]
  },
  {
   "cell_type": "code",
   "execution_count": 16,
   "metadata": {},
   "outputs": [],
   "source": [
    "x = data.drop(['cnt'], axis=1)\n",
    "y = data['cnt']"
   ]
  },
  {
   "cell_type": "code",
   "execution_count": 17,
   "metadata": {},
   "outputs": [],
   "source": [
    "x_train, x_test, y_train, y_test = train_test_split(x, y, test_size=0.2, random_state=77 )"
   ]
  },
  {
   "cell_type": "markdown",
   "metadata": {},
   "source": [
    "### 4. Estandarización\n",
    "Se hace uso del objeto de la clase `MinMaxScaler()` que, por defecto, escala los valores de cada variable al rango [0,1]"
   ]
  },
  {
   "cell_type": "code",
   "execution_count": 18,
   "metadata": {},
   "outputs": [],
   "source": [
    "scaler = MinMaxScaler()"
   ]
  },
  {
   "cell_type": "code",
   "execution_count": 19,
   "metadata": {},
   "outputs": [],
   "source": [
    "columns = x_train.columns\n",
    "x_train = scaler.fit_transform(x_train)\n",
    "x_train = pd.DataFrame(x_train, columns=columns)"
   ]
  },
  {
   "cell_type": "code",
   "execution_count": 20,
   "metadata": {},
   "outputs": [
    {
     "data": {
      "text/html": [
       "<div>\n",
       "<style scoped>\n",
       "    .dataframe tbody tr th:only-of-type {\n",
       "        vertical-align: middle;\n",
       "    }\n",
       "\n",
       "    .dataframe tbody tr th {\n",
       "        vertical-align: top;\n",
       "    }\n",
       "\n",
       "    .dataframe thead th {\n",
       "        text-align: right;\n",
       "    }\n",
       "</style>\n",
       "<table border=\"1\" class=\"dataframe\">\n",
       "  <thead>\n",
       "    <tr style=\"text-align: right;\">\n",
       "      <th></th>\n",
       "      <th>weekday</th>\n",
       "      <th>temp</th>\n",
       "      <th>atemp</th>\n",
       "      <th>hum</th>\n",
       "      <th>windspeed</th>\n",
       "      <th>season_Fall</th>\n",
       "      <th>season_Spring</th>\n",
       "      <th>season_Summer</th>\n",
       "      <th>season_Winter</th>\n",
       "      <th>weathersit_Clear</th>\n",
       "      <th>weathersit_Heavy Rain</th>\n",
       "      <th>weathersit_Light Rain</th>\n",
       "      <th>weathersit_Mist</th>\n",
       "      <th>time_of_day_Evening</th>\n",
       "      <th>time_of_day_Morning</th>\n",
       "      <th>time_of_day_Night</th>\n",
       "    </tr>\n",
       "  </thead>\n",
       "  <tbody>\n",
       "    <tr>\n",
       "      <th>0</th>\n",
       "      <td>0.333333</td>\n",
       "      <td>0.367347</td>\n",
       "      <td>0.3939</td>\n",
       "      <td>0.94</td>\n",
       "      <td>0.263195</td>\n",
       "      <td>1.0</td>\n",
       "      <td>0.0</td>\n",
       "      <td>0.0</td>\n",
       "      <td>0.0</td>\n",
       "      <td>0.0</td>\n",
       "      <td>0.0</td>\n",
       "      <td>1.0</td>\n",
       "      <td>0.0</td>\n",
       "      <td>0.0</td>\n",
       "      <td>1.0</td>\n",
       "      <td>0.0</td>\n",
       "    </tr>\n",
       "    <tr>\n",
       "      <th>1</th>\n",
       "      <td>0.166667</td>\n",
       "      <td>0.673469</td>\n",
       "      <td>0.6364</td>\n",
       "      <td>0.74</td>\n",
       "      <td>0.193018</td>\n",
       "      <td>0.0</td>\n",
       "      <td>0.0</td>\n",
       "      <td>1.0</td>\n",
       "      <td>0.0</td>\n",
       "      <td>0.0</td>\n",
       "      <td>0.0</td>\n",
       "      <td>1.0</td>\n",
       "      <td>0.0</td>\n",
       "      <td>0.0</td>\n",
       "      <td>1.0</td>\n",
       "      <td>0.0</td>\n",
       "    </tr>\n",
       "    <tr>\n",
       "      <th>2</th>\n",
       "      <td>0.833333</td>\n",
       "      <td>0.591837</td>\n",
       "      <td>0.5909</td>\n",
       "      <td>0.73</td>\n",
       "      <td>0.228047</td>\n",
       "      <td>0.0</td>\n",
       "      <td>0.0</td>\n",
       "      <td>1.0</td>\n",
       "      <td>0.0</td>\n",
       "      <td>1.0</td>\n",
       "      <td>0.0</td>\n",
       "      <td>0.0</td>\n",
       "      <td>0.0</td>\n",
       "      <td>0.0</td>\n",
       "      <td>0.0</td>\n",
       "      <td>1.0</td>\n",
       "    </tr>\n",
       "    <tr>\n",
       "      <th>3</th>\n",
       "      <td>0.500000</td>\n",
       "      <td>0.530612</td>\n",
       "      <td>0.5152</td>\n",
       "      <td>0.94</td>\n",
       "      <td>0.122840</td>\n",
       "      <td>1.0</td>\n",
       "      <td>0.0</td>\n",
       "      <td>0.0</td>\n",
       "      <td>0.0</td>\n",
       "      <td>0.0</td>\n",
       "      <td>0.0</td>\n",
       "      <td>1.0</td>\n",
       "      <td>0.0</td>\n",
       "      <td>0.0</td>\n",
       "      <td>0.0</td>\n",
       "      <td>1.0</td>\n",
       "    </tr>\n",
       "    <tr>\n",
       "      <th>4</th>\n",
       "      <td>0.000000</td>\n",
       "      <td>0.530612</td>\n",
       "      <td>0.5152</td>\n",
       "      <td>0.68</td>\n",
       "      <td>0.105325</td>\n",
       "      <td>0.0</td>\n",
       "      <td>0.0</td>\n",
       "      <td>1.0</td>\n",
       "      <td>0.0</td>\n",
       "      <td>0.0</td>\n",
       "      <td>0.0</td>\n",
       "      <td>0.0</td>\n",
       "      <td>1.0</td>\n",
       "      <td>0.0</td>\n",
       "      <td>0.0</td>\n",
       "      <td>1.0</td>\n",
       "    </tr>\n",
       "  </tbody>\n",
       "</table>\n",
       "</div>"
      ],
      "text/plain": [
       "    weekday      temp   atemp   hum  windspeed  season_Fall  season_Spring  \\\n",
       "0  0.333333  0.367347  0.3939  0.94   0.263195          1.0            0.0   \n",
       "1  0.166667  0.673469  0.6364  0.74   0.193018          0.0            0.0   \n",
       "2  0.833333  0.591837  0.5909  0.73   0.228047          0.0            0.0   \n",
       "3  0.500000  0.530612  0.5152  0.94   0.122840          1.0            0.0   \n",
       "4  0.000000  0.530612  0.5152  0.68   0.105325          0.0            0.0   \n",
       "\n",
       "   season_Summer  season_Winter  weathersit_Clear  weathersit_Heavy Rain  \\\n",
       "0            0.0            0.0               0.0                    0.0   \n",
       "1            1.0            0.0               0.0                    0.0   \n",
       "2            1.0            0.0               1.0                    0.0   \n",
       "3            0.0            0.0               0.0                    0.0   \n",
       "4            1.0            0.0               0.0                    0.0   \n",
       "\n",
       "   weathersit_Light Rain  weathersit_Mist  time_of_day_Evening  \\\n",
       "0                    1.0              0.0                  0.0   \n",
       "1                    1.0              0.0                  0.0   \n",
       "2                    0.0              0.0                  0.0   \n",
       "3                    1.0              0.0                  0.0   \n",
       "4                    0.0              1.0                  0.0   \n",
       "\n",
       "   time_of_day_Morning  time_of_day_Night  \n",
       "0                  1.0                0.0  \n",
       "1                  1.0                0.0  \n",
       "2                  0.0                1.0  \n",
       "3                  0.0                1.0  \n",
       "4                  0.0                1.0  "
      ]
     },
     "execution_count": 20,
     "metadata": {},
     "output_type": "execute_result"
    }
   ],
   "source": [
    "x_train.head()"
   ]
  },
  {
   "cell_type": "code",
   "execution_count": 21,
   "metadata": {},
   "outputs": [],
   "source": [
    "x_test = scaler.transform(x_test)\n",
    "x_test = pd.DataFrame(x_test, columns=columns)"
   ]
  },
  {
   "cell_type": "code",
   "execution_count": 22,
   "metadata": {},
   "outputs": [
    {
     "data": {
      "text/html": [
       "<div>\n",
       "<style scoped>\n",
       "    .dataframe tbody tr th:only-of-type {\n",
       "        vertical-align: middle;\n",
       "    }\n",
       "\n",
       "    .dataframe tbody tr th {\n",
       "        vertical-align: top;\n",
       "    }\n",
       "\n",
       "    .dataframe thead th {\n",
       "        text-align: right;\n",
       "    }\n",
       "</style>\n",
       "<table border=\"1\" class=\"dataframe\">\n",
       "  <thead>\n",
       "    <tr style=\"text-align: right;\">\n",
       "      <th></th>\n",
       "      <th>weekday</th>\n",
       "      <th>temp</th>\n",
       "      <th>atemp</th>\n",
       "      <th>hum</th>\n",
       "      <th>windspeed</th>\n",
       "      <th>season_Fall</th>\n",
       "      <th>season_Spring</th>\n",
       "      <th>season_Summer</th>\n",
       "      <th>season_Winter</th>\n",
       "      <th>weathersit_Clear</th>\n",
       "      <th>weathersit_Heavy Rain</th>\n",
       "      <th>weathersit_Light Rain</th>\n",
       "      <th>weathersit_Mist</th>\n",
       "      <th>time_of_day_Evening</th>\n",
       "      <th>time_of_day_Morning</th>\n",
       "      <th>time_of_day_Night</th>\n",
       "    </tr>\n",
       "  </thead>\n",
       "  <tbody>\n",
       "    <tr>\n",
       "      <th>0</th>\n",
       "      <td>0.166667</td>\n",
       "      <td>0.367347</td>\n",
       "      <td>0.3939</td>\n",
       "      <td>0.76</td>\n",
       "      <td>0.333373</td>\n",
       "      <td>1.0</td>\n",
       "      <td>0.0</td>\n",
       "      <td>0.0</td>\n",
       "      <td>0.0</td>\n",
       "      <td>1.0</td>\n",
       "      <td>0.0</td>\n",
       "      <td>0.0</td>\n",
       "      <td>0.0</td>\n",
       "      <td>0.0</td>\n",
       "      <td>0.0</td>\n",
       "      <td>1.0</td>\n",
       "    </tr>\n",
       "    <tr>\n",
       "      <th>1</th>\n",
       "      <td>0.833333</td>\n",
       "      <td>0.408163</td>\n",
       "      <td>0.4242</td>\n",
       "      <td>0.77</td>\n",
       "      <td>0.228047</td>\n",
       "      <td>0.0</td>\n",
       "      <td>0.0</td>\n",
       "      <td>0.0</td>\n",
       "      <td>1.0</td>\n",
       "      <td>0.0</td>\n",
       "      <td>0.0</td>\n",
       "      <td>0.0</td>\n",
       "      <td>1.0</td>\n",
       "      <td>0.0</td>\n",
       "      <td>1.0</td>\n",
       "      <td>0.0</td>\n",
       "    </tr>\n",
       "    <tr>\n",
       "      <th>2</th>\n",
       "      <td>1.000000</td>\n",
       "      <td>0.693878</td>\n",
       "      <td>0.6515</td>\n",
       "      <td>0.65</td>\n",
       "      <td>0.350888</td>\n",
       "      <td>0.0</td>\n",
       "      <td>0.0</td>\n",
       "      <td>1.0</td>\n",
       "      <td>0.0</td>\n",
       "      <td>0.0</td>\n",
       "      <td>0.0</td>\n",
       "      <td>0.0</td>\n",
       "      <td>1.0</td>\n",
       "      <td>0.0</td>\n",
       "      <td>1.0</td>\n",
       "      <td>0.0</td>\n",
       "    </tr>\n",
       "    <tr>\n",
       "      <th>3</th>\n",
       "      <td>0.500000</td>\n",
       "      <td>0.775510</td>\n",
       "      <td>0.7727</td>\n",
       "      <td>0.70</td>\n",
       "      <td>0.228047</td>\n",
       "      <td>0.0</td>\n",
       "      <td>0.0</td>\n",
       "      <td>1.0</td>\n",
       "      <td>0.0</td>\n",
       "      <td>1.0</td>\n",
       "      <td>0.0</td>\n",
       "      <td>0.0</td>\n",
       "      <td>0.0</td>\n",
       "      <td>1.0</td>\n",
       "      <td>0.0</td>\n",
       "      <td>0.0</td>\n",
       "    </tr>\n",
       "    <tr>\n",
       "      <th>4</th>\n",
       "      <td>0.500000</td>\n",
       "      <td>0.387755</td>\n",
       "      <td>0.4091</td>\n",
       "      <td>0.40</td>\n",
       "      <td>0.421065</td>\n",
       "      <td>0.0</td>\n",
       "      <td>1.0</td>\n",
       "      <td>0.0</td>\n",
       "      <td>0.0</td>\n",
       "      <td>0.0</td>\n",
       "      <td>0.0</td>\n",
       "      <td>0.0</td>\n",
       "      <td>1.0</td>\n",
       "      <td>1.0</td>\n",
       "      <td>0.0</td>\n",
       "      <td>0.0</td>\n",
       "    </tr>\n",
       "  </tbody>\n",
       "</table>\n",
       "</div>"
      ],
      "text/plain": [
       "    weekday      temp   atemp   hum  windspeed  season_Fall  season_Spring  \\\n",
       "0  0.166667  0.367347  0.3939  0.76   0.333373          1.0            0.0   \n",
       "1  0.833333  0.408163  0.4242  0.77   0.228047          0.0            0.0   \n",
       "2  1.000000  0.693878  0.6515  0.65   0.350888          0.0            0.0   \n",
       "3  0.500000  0.775510  0.7727  0.70   0.228047          0.0            0.0   \n",
       "4  0.500000  0.387755  0.4091  0.40   0.421065          0.0            1.0   \n",
       "\n",
       "   season_Summer  season_Winter  weathersit_Clear  weathersit_Heavy Rain  \\\n",
       "0            0.0            0.0               1.0                    0.0   \n",
       "1            0.0            1.0               0.0                    0.0   \n",
       "2            1.0            0.0               0.0                    0.0   \n",
       "3            1.0            0.0               1.0                    0.0   \n",
       "4            0.0            0.0               0.0                    0.0   \n",
       "\n",
       "   weathersit_Light Rain  weathersit_Mist  time_of_day_Evening  \\\n",
       "0                    0.0              0.0                  0.0   \n",
       "1                    0.0              1.0                  0.0   \n",
       "2                    0.0              1.0                  0.0   \n",
       "3                    0.0              0.0                  1.0   \n",
       "4                    0.0              1.0                  1.0   \n",
       "\n",
       "   time_of_day_Morning  time_of_day_Night  \n",
       "0                  0.0                1.0  \n",
       "1                  1.0                0.0  \n",
       "2                  1.0                0.0  \n",
       "3                  0.0                0.0  \n",
       "4                  0.0                0.0  "
      ]
     },
     "execution_count": 22,
     "metadata": {},
     "output_type": "execute_result"
    }
   ],
   "source": [
    "x_test.head()"
   ]
  },
  {
   "cell_type": "markdown",
   "metadata": {},
   "source": [
    "### 5. Regresión lineal Simple"
   ]
  },
  {
   "cell_type": "markdown",
   "metadata": {},
   "source": [
    "**Entrenamiento de un modelo de referencia**\n",
    "- Con el conjunto de datos modificado, empezaremos con el entrenamiento de un modelo de referencia, que nos permitirá ver cómo es el desempeño de un modelo de regresión lineal simple sobre este conjunto de datos"
   ]
  },
  {
   "cell_type": "code",
   "execution_count": 23,
   "metadata": {},
   "outputs": [],
   "source": [
    "regresion = LinearRegression()"
   ]
  },
  {
   "cell_type": "code",
   "execution_count": 24,
   "metadata": {},
   "outputs": [
    {
     "data": {
      "text/plain": [
       "LinearRegression()"
      ]
     },
     "execution_count": 24,
     "metadata": {},
     "output_type": "execute_result"
    }
   ],
   "source": [
    "regresion.fit(x_train,y_train)"
   ]
  },
  {
   "cell_type": "code",
   "execution_count": 25,
   "metadata": {},
   "outputs": [
    {
     "data": {
      "text/plain": [
       "[('weekday', 12.816725501738333),\n",
       " ('temp', 225.6772130816975),\n",
       " ('atemp', 113.45289270976444),\n",
       " ('hum', -145.45922526098028),\n",
       " ('windspeed', -8.206862182863528),\n",
       " ('season_Fall', 39.912409951478615),\n",
       " ('season_Spring', 5.330225609480314),\n",
       " ('season_Summer', -25.506469980872406),\n",
       " ('season_Winter', -19.736165580086027),\n",
       " ('weathersit_Clear', 11.073613741749526),\n",
       " ('weathersit_Heavy Rain', 14.93623031449973),\n",
       " ('weathersit_Light Rain', -33.289752877014216),\n",
       " ('weathersit_Mist', 7.279908820764852),\n",
       " ('time_of_day_Evening', 92.34233678998645),\n",
       " ('time_of_day_Morning', 4.956676442785875),\n",
       " ('time_of_day_Night', -97.29901323277247)]"
      ]
     },
     "execution_count": 25,
     "metadata": {},
     "output_type": "execute_result"
    }
   ],
   "source": [
    "list(zip(x_train.columns, regresion.coef_))"
   ]
  },
  {
   "cell_type": "code",
   "execution_count": 26,
   "metadata": {},
   "outputs": [
    {
     "name": "stdout",
     "output_type": "stream",
     "text": [
      "------ Modelo de regresión Lineal----\n",
      "RMSE: 139.81\n",
      "MAE: 103.68\n",
      "R²: 0.42\n"
     ]
    }
   ],
   "source": [
    "y_pred_RL = regresion.predict(x_test)\n",
    "RMSE_RL = mean_squared_error(y_test, y_pred_RL, squared=False)\n",
    "MAEP_RL = mean_absolute_error(y_test, y_pred_RL)\n",
    "R2_RL =  r2_score(y_test, y_pred_RL)\n",
    "print('------ Modelo de regresión Lineal----')\n",
    "print(\"RMSE: %.2f\" % RMSE_RL)\n",
    "print(\"MAE: %.2f\" % MAEP_RL)\n",
    "print('R²: %.2f' % R2_RL)"
   ]
  },
  {
   "cell_type": "markdown",
   "metadata": {},
   "source": [
    "### 6. Regresión polinomial\n",
    "- Con el conjunto de datos preparado, vamos a entrenar un modelo de regresión polinomial multivariable.\n",
    "- **Búsqueda de hiperparámetros:** Como cambiar el valor de los hiperparámetros tiene un impacto directo sobre el desempeño del modelo resultante se va a realizar una busqueda sobre `[2,3]` queremos encontrar un valor que resulte en el mejor desempeño posible."
   ]
  },
  {
   "cell_type": "code",
   "execution_count": 27,
   "metadata": {},
   "outputs": [],
   "source": [
    "degrees = [2,3]"
   ]
  },
  {
   "cell_type": "code",
   "execution_count": 28,
   "metadata": {},
   "outputs": [],
   "source": [
    "def PolynomialRegression(degree = degrees, **kwargs):\n",
    "    return make_pipeline(PolynomialFeatures(degree), LinearRegression(**kwargs))"
   ]
  },
  {
   "cell_type": "code",
   "execution_count": 29,
   "metadata": {},
   "outputs": [],
   "source": [
    "param_grid = {'polynomialfeatures__degree':degrees}\n",
    "kfold = KFold(n_splits=10, shuffle=True, random_state = 0)"
   ]
  },
  {
   "cell_type": "code",
   "execution_count": 30,
   "metadata": {},
   "outputs": [
    {
     "data": {
      "text/plain": [
       "{'polynomialfeatures__degree': [2, 3]}"
      ]
     },
     "execution_count": 30,
     "metadata": {},
     "output_type": "execute_result"
    }
   ],
   "source": [
    "param_grid"
   ]
  },
  {
   "cell_type": "code",
   "execution_count": 31,
   "metadata": {},
   "outputs": [],
   "source": [
    "modelos_grid_p = GridSearchCV(PolynomialRegression(), param_grid, cv=kfold, n_jobs=-1, scoring = 'neg_root_mean_squared_error')"
   ]
  },
  {
   "cell_type": "code",
   "execution_count": 32,
   "metadata": {},
   "outputs": [
    {
     "data": {
      "text/plain": [
       "GridSearchCV(cv=KFold(n_splits=10, random_state=0, shuffle=True),\n",
       "             estimator=Pipeline(steps=[('polynomialfeatures',\n",
       "                                        PolynomialFeatures(degree=[2, 3])),\n",
       "                                       ('linearregression',\n",
       "                                        LinearRegression())]),\n",
       "             n_jobs=-1, param_grid={'polynomialfeatures__degree': [2, 3]},\n",
       "             scoring='neg_root_mean_squared_error')"
      ]
     },
     "execution_count": 32,
     "metadata": {},
     "output_type": "execute_result"
    }
   ],
   "source": [
    "modelos_grid_p.fit(x_train, y_train)"
   ]
  },
  {
   "cell_type": "code",
   "execution_count": 33,
   "metadata": {},
   "outputs": [
    {
     "name": "stdout",
     "output_type": "stream",
     "text": [
      "Mejor parámetro:  {'polynomialfeatures__degree': 2}\n"
     ]
    }
   ],
   "source": [
    "print(\"Mejor parámetro: \", modelos_grid_p.best_params_)"
   ]
  },
  {
   "cell_type": "code",
   "execution_count": 34,
   "metadata": {},
   "outputs": [],
   "source": [
    "mejor_modelo_p = modelos_grid_p.best_estimator_"
   ]
  },
  {
   "cell_type": "code",
   "execution_count": 35,
   "metadata": {},
   "outputs": [
    {
     "name": "stdout",
     "output_type": "stream",
     "text": [
      "------ Modelo de regresión polinomial múltiple (grado 2)----\n",
      "RMSE: 136.13\n",
      "MAE: 99.36\n",
      "R²: 0.45\n"
     ]
    }
   ],
   "source": [
    "y_pred_p = mejor_modelo_p.predict(x_test)\n",
    "RMSE_P = mean_squared_error(y_test, y_pred_p, squared=False)\n",
    "MAEP_P = mean_absolute_error(y_test, y_pred_p)\n",
    "R2_P =  r2_score(y_test, y_pred_p)\n",
    "print('------ Modelo de regresión polinomial múltiple (grado '+str(modelos_grid_p.best_params_.get(\"polynomialfeatures__degree\"))+')----')\n",
    "print(\"RMSE: %.2f\" % RMSE_P)\n",
    "print(\"MAE: %.2f\" % MAEP_P)\n",
    "print('R²: %.2f' % R2_P)"
   ]
  },
  {
   "cell_type": "markdown",
   "metadata": {},
   "source": [
    "### 7. Regularización LASSO\n",
    "La regularización Lasso consiste en añadir una penalización a la función de coste"
   ]
  },
  {
   "cell_type": "code",
   "execution_count": 36,
   "metadata": {},
   "outputs": [],
   "source": [
    "lasso = Lasso(max_iter=2000)"
   ]
  },
  {
   "cell_type": "code",
   "execution_count": 37,
   "metadata": {},
   "outputs": [
    {
     "data": {
      "text/plain": [
       "Lasso(max_iter=2000)"
      ]
     },
     "execution_count": 37,
     "metadata": {},
     "output_type": "execute_result"
    }
   ],
   "source": [
    "lasso"
   ]
  },
  {
   "cell_type": "code",
   "execution_count": 38,
   "metadata": {},
   "outputs": [],
   "source": [
    "param_grid = {'alpha': [1, 2, 3, 4, 5]}\n",
    "kfold = KFold(n_splits=10, shuffle=True, random_state = 0)"
   ]
  },
  {
   "cell_type": "code",
   "execution_count": 39,
   "metadata": {},
   "outputs": [],
   "source": [
    "modelos_grid_lasso = GridSearchCV(lasso, param_grid, cv=kfold, n_jobs=-1, scoring = 'neg_root_mean_squared_error')"
   ]
  },
  {
   "cell_type": "code",
   "execution_count": 40,
   "metadata": {},
   "outputs": [
    {
     "data": {
      "text/plain": [
       "GridSearchCV(cv=KFold(n_splits=10, random_state=0, shuffle=True),\n",
       "             estimator=Lasso(max_iter=2000), n_jobs=-1,\n",
       "             param_grid={'alpha': [1, 2, 3, 4, 5]},\n",
       "             scoring='neg_root_mean_squared_error')"
      ]
     },
     "execution_count": 40,
     "metadata": {},
     "output_type": "execute_result"
    }
   ],
   "source": [
    "modelos_grid_lasso.fit(x_train, y_train)"
   ]
  },
  {
   "cell_type": "code",
   "execution_count": 41,
   "metadata": {},
   "outputs": [
    {
     "name": "stdout",
     "output_type": "stream",
     "text": [
      "Mejor parámetro:  {'alpha': 1}\n"
     ]
    }
   ],
   "source": [
    "print(\"Mejor parámetro: \", modelos_grid_lasso.best_params_)"
   ]
  },
  {
   "cell_type": "code",
   "execution_count": 42,
   "metadata": {},
   "outputs": [
    {
     "data": {
      "text/plain": [
       "[('weekday', 3.7746469802889466),\n",
       " ('temp', 257.25615174828715),\n",
       " ('atemp', 0.0),\n",
       " ('hum', -119.82253579640862),\n",
       " ('windspeed', -0.0),\n",
       " ('season_Fall', 37.82845384505004),\n",
       " ('season_Spring', 11.82936694336835),\n",
       " ('season_Summer', -0.6131451032045586),\n",
       " ('season_Winter', -21.2390032774127),\n",
       " ('weathersit_Clear', 5.647151428345879),\n",
       " ('weathersit_Heavy Rain', -0.0),\n",
       " ('weathersit_Light Rain', -33.45759539354966),\n",
       " ('weathersit_Mist', 0.0),\n",
       " ('time_of_day_Evening', 92.17617722253503),\n",
       " ('time_of_day_Morning', -0.0),\n",
       " ('time_of_day_Night', -100.1944936466728)]"
      ]
     },
     "execution_count": 42,
     "metadata": {},
     "output_type": "execute_result"
    }
   ],
   "source": [
    "mejor_modelo_lasso = modelos_grid_lasso.best_estimator_\n",
    "list(zip(x_train.columns, mejor_modelo_lasso.coef_))"
   ]
  },
  {
   "cell_type": "code",
   "execution_count": 43,
   "metadata": {},
   "outputs": [
    {
     "name": "stdout",
     "output_type": "stream",
     "text": [
      "------ Modelo de regresión lasso -------\n",
      "RMSE: 139.97\n",
      "MAE: 103.66\n",
      "R²: 0.42\n"
     ]
    }
   ],
   "source": [
    "y_pred_lasso = mejor_modelo_lasso.predict(x_test)\n",
    "RMSE_L = mean_squared_error(y_test, y_pred_lasso, squared=False)\n",
    "MAEP_L = mean_absolute_error(y_test, y_pred_lasso)\n",
    "R2_L =  r2_score(y_test, y_pred_lasso)\n",
    "print('------ Modelo de regresión lasso -------')\n",
    "print(\"RMSE: %.2f\" % RMSE_L)\n",
    "print(\"MAE: %.2f\" % MAEP_L)\n",
    "print('R²: %.2f' % R2_L)"
   ]
  },
  {
   "cell_type": "markdown",
   "metadata": {},
   "source": [
    "### 8. Tabla comparativa"
   ]
  },
  {
   "cell_type": "code",
   "execution_count": 44,
   "metadata": {},
   "outputs": [],
   "source": [
    "tb_f = pd.DataFrame(np.array([[str(regresion),  round(RMSE_RL, 2), round(MAEP_RL, 2), round(R2_RL,2)],['Polinomio_grado = '+ str( modelos_grid_p.best_params_.get(\"polynomialfeatures__degree\")), round(RMSE_P,2), round(MAEP_P, 2),  round(R2_P,2)],[str(lasso), round(RMSE_L,2), round(MAEP_L,2), round(R2_L,2)]]),\n",
    "                   columns=['Model','RMSE','MAE','R2'])"
   ]
  },
  {
   "cell_type": "code",
   "execution_count": 45,
   "metadata": {},
   "outputs": [
    {
     "data": {
      "text/html": [
       "<div>\n",
       "<style scoped>\n",
       "    .dataframe tbody tr th:only-of-type {\n",
       "        vertical-align: middle;\n",
       "    }\n",
       "\n",
       "    .dataframe tbody tr th {\n",
       "        vertical-align: top;\n",
       "    }\n",
       "\n",
       "    .dataframe thead th {\n",
       "        text-align: right;\n",
       "    }\n",
       "</style>\n",
       "<table border=\"1\" class=\"dataframe\">\n",
       "  <thead>\n",
       "    <tr style=\"text-align: right;\">\n",
       "      <th></th>\n",
       "      <th>Model</th>\n",
       "      <th>RMSE</th>\n",
       "      <th>MAE</th>\n",
       "      <th>R2</th>\n",
       "    </tr>\n",
       "  </thead>\n",
       "  <tbody>\n",
       "    <tr>\n",
       "      <th>0</th>\n",
       "      <td>LinearRegression()</td>\n",
       "      <td>139.81</td>\n",
       "      <td>103.68</td>\n",
       "      <td>0.42</td>\n",
       "    </tr>\n",
       "    <tr>\n",
       "      <th>1</th>\n",
       "      <td>Polinomio_grado = 2</td>\n",
       "      <td>136.13</td>\n",
       "      <td>99.36</td>\n",
       "      <td>0.45</td>\n",
       "    </tr>\n",
       "    <tr>\n",
       "      <th>2</th>\n",
       "      <td>Lasso(max_iter=2000)</td>\n",
       "      <td>139.97</td>\n",
       "      <td>103.66</td>\n",
       "      <td>0.42</td>\n",
       "    </tr>\n",
       "  </tbody>\n",
       "</table>\n",
       "</div>"
      ],
      "text/plain": [
       "                  Model    RMSE     MAE    R2\n",
       "0    LinearRegression()  139.81  103.68  0.42\n",
       "1   Polinomio_grado = 2  136.13   99.36  0.45\n",
       "2  Lasso(max_iter=2000)  139.97  103.66  0.42"
      ]
     },
     "execution_count": 45,
     "metadata": {},
     "output_type": "execute_result"
    }
   ],
   "source": [
    "tb_f"
   ]
  },
  {
   "cell_type": "markdown",
   "metadata": {},
   "source": [
    "### 9. Preguntas\n",
    "- **¿Cuál es el grado de la transformación polinomial que fue seleccionado utilizando la técnica de validación?** Realizando una validación cruzada resulta una regresion polinomica de grado 2 con un RMSE: 132.35, MAE: 96.13, R²: 0.48\n",
    "\n",
    "- **¿Cuál fue el valor de α que fue seleccionado utilizando la técnica de validación para la regresión Lasso?** El mejor valor del hiperparámetro fue alpha es 1, el cual si fuere muy alto la regularización puede llegar a anular los coeficientes de algunas variables.\n",
    "\n",
    "- **A partir de la tabla comparativa, ¿cuál modelo ofrece el mejor rendimiento sobre el conjunto test? ¿Qué interpretación puedes darles a los valores obtenidos sobre las métricas de rendimiento?**  El mejor modelo es el Polinomio_grado = {2}, debido a que su R2 es el mayor, y el RMSE y el MAE es menor con respecto a la Regresion lineal y Regresion lasso.\n",
    "\n",
    "- **¿Cuáles variables fueron seleccionadas con el modelo Lasso? A partir de estas, ¿qué interpretación de cara al problema puedes dar? Reflexiona sobre cómo este nuevo conocimiento podría ayudar a tomar decisiones en el contexto del problema.**  En la regresión Lasso los coeficiente de alguna de las variables [atemp, windspeed, weathersit_Heavy Rain, weathersit_Mist, time_of_day_Morning] estan en cero, por lo que este modelo no tiene en cuenta estas variables para realizar predicciones. Una de las particularidades de la regresión Lasso es que, gracias al uso del término de penalización, es capaz de determinar variables que no son relevantes para la estimación de la variable objetivo. "
   ]
  },
  {
   "cell_type": "markdown",
   "metadata": {},
   "source": [
    "## Cierre\n",
    "---\n",
    "*Creado por: Alejandra Ossa Yepes*   \n",
    "*Versión de: Septiembre 04, 2022*  \n",
    "*Universidad de los Andes*  "
   ]
  },
  {
   "cell_type": "code",
   "execution_count": null,
   "metadata": {},
   "outputs": [],
   "source": []
  }
 ],
 "metadata": {
  "kernelspec": {
   "display_name": "Python 3 (ipykernel)",
   "language": "python",
   "name": "python3"
  },
  "language_info": {
   "codemirror_mode": {
    "name": "ipython",
    "version": 3
   },
   "file_extension": ".py",
   "mimetype": "text/x-python",
   "name": "python",
   "nbconvert_exporter": "python",
   "pygments_lexer": "ipython3",
   "version": "3.9.12"
  }
 },
 "nbformat": 4,
 "nbformat_minor": 4
}
