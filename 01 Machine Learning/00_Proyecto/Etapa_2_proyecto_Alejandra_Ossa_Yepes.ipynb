{
 "cells": [
  {
   "cell_type": "markdown",
   "metadata": {},
   "source": [
    "# Etapa 2 del proyecto. La tarea de clasificación: árboles de decisión y K-vecinos más cercanos\n",
    "**By: Alejandra Ossa Yepes**\n",
    "\n",
    "El conjunto de datos está relacionado con muestras de agua tomadas de diferentes fuentes, caracterizadas por variables fisicoquímicas y anotadas por los expertos, indicando cuáles son aptas para el consumo y cuáles no.\n",
    "\n",
    "1. Aplicar técnicas de clasificación basadas en árboles de decisión y K-vecinos más cercanos para construir modelos predictivos que permitan estimar la calidad del agua de una zona determinada.\n",
    "\n",
    "2. Determinar cuáles son los factores que más inciden en la contaminación de los cuerpos de agua con base en los datos."
   ]
  },
  {
   "cell_type": "code",
   "execution_count": 1,
   "metadata": {
    "tags": []
   },
   "outputs": [],
   "source": [
    "import pandas as pd\n",
    "import matplotlib.pyplot as plt\n",
    "import numpy as np\n",
    "import warnings\n",
    "warnings.filterwarnings('ignore')\n",
    "\n",
    "from sklearn.neighbors import KNeighborsClassifier\n",
    "from sklearn import neighbors\n",
    "from sklearn.tree import DecisionTreeClassifier, plot_tree\n",
    "from sklearn.pipeline import Pipeline\n",
    "from sklearn.compose import ColumnTransformer\n",
    "from sklearn.impute import SimpleImputer\n",
    "from sklearn.preprocessing import StandardScaler, MinMaxScaler, OneHotEncoder\n",
    "from sklearn.model_selection import train_test_split, validation_curve, KFold, GridSearchCV\n",
    "from sklearn.metrics import classification_report, confusion_matrix, ConfusionMatrixDisplay\n",
    "from sklearn.metrics import accuracy_score, precision_score, recall_score, f1_score"
   ]
  },
  {
   "cell_type": "markdown",
   "metadata": {},
   "source": [
    "### 1. Carga de datos"
   ]
  },
  {
   "cell_type": "code",
   "execution_count": 2,
   "metadata": {
    "tags": []
   },
   "outputs": [],
   "source": [
    "data_raw=pd.read_excel('Datos_Etapa-2.xlsx')"
   ]
  },
  {
   "cell_type": "code",
   "execution_count": 3,
   "metadata": {
    "scrolled": true,
    "tags": []
   },
   "outputs": [
    {
     "data": {
      "text/html": [
       "<div>\n",
       "<style scoped>\n",
       "    .dataframe tbody tr th:only-of-type {\n",
       "        vertical-align: middle;\n",
       "    }\n",
       "\n",
       "    .dataframe tbody tr th {\n",
       "        vertical-align: top;\n",
       "    }\n",
       "\n",
       "    .dataframe thead th {\n",
       "        text-align: right;\n",
       "    }\n",
       "</style>\n",
       "<table border=\"1\" class=\"dataframe\">\n",
       "  <thead>\n",
       "    <tr style=\"text-align: right;\">\n",
       "      <th></th>\n",
       "      <th>pH</th>\n",
       "      <th>Dureza</th>\n",
       "      <th>Sólidos</th>\n",
       "      <th>Cloraminas</th>\n",
       "      <th>Sulfatos</th>\n",
       "      <th>Conductividad</th>\n",
       "      <th>Carbono_orgánico</th>\n",
       "      <th>Trihalometanos</th>\n",
       "      <th>Turbidez</th>\n",
       "      <th>Potabilidad</th>\n",
       "    </tr>\n",
       "  </thead>\n",
       "  <tbody>\n",
       "    <tr>\n",
       "      <th>0</th>\n",
       "      <td>NaN</td>\n",
       "      <td>204.89</td>\n",
       "      <td>20791.32</td>\n",
       "      <td>7.30</td>\n",
       "      <td>368.52</td>\n",
       "      <td>564.31</td>\n",
       "      <td>10.38</td>\n",
       "      <td>86.99</td>\n",
       "      <td>2.96</td>\n",
       "      <td>NO</td>\n",
       "    </tr>\n",
       "    <tr>\n",
       "      <th>1</th>\n",
       "      <td>3.72</td>\n",
       "      <td>129.42</td>\n",
       "      <td>18630.06</td>\n",
       "      <td>6.64</td>\n",
       "      <td>NaN</td>\n",
       "      <td>592.89</td>\n",
       "      <td>15.18</td>\n",
       "      <td>56.33</td>\n",
       "      <td>4.50</td>\n",
       "      <td>NO</td>\n",
       "    </tr>\n",
       "    <tr>\n",
       "      <th>2</th>\n",
       "      <td>8.10</td>\n",
       "      <td>224.24</td>\n",
       "      <td>19909.54</td>\n",
       "      <td>9.28</td>\n",
       "      <td>NaN</td>\n",
       "      <td>418.61</td>\n",
       "      <td>16.87</td>\n",
       "      <td>66.42</td>\n",
       "      <td>3.06</td>\n",
       "      <td>NO</td>\n",
       "    </tr>\n",
       "    <tr>\n",
       "      <th>3</th>\n",
       "      <td>8.32</td>\n",
       "      <td>214.37</td>\n",
       "      <td>22018.42</td>\n",
       "      <td>8.06</td>\n",
       "      <td>356.89</td>\n",
       "      <td>363.27</td>\n",
       "      <td>18.44</td>\n",
       "      <td>100.34</td>\n",
       "      <td>4.63</td>\n",
       "      <td>NO</td>\n",
       "    </tr>\n",
       "    <tr>\n",
       "      <th>4</th>\n",
       "      <td>9.09</td>\n",
       "      <td>181.10</td>\n",
       "      <td>17978.99</td>\n",
       "      <td>6.55</td>\n",
       "      <td>310.14</td>\n",
       "      <td>398.41</td>\n",
       "      <td>11.56</td>\n",
       "      <td>32.00</td>\n",
       "      <td>4.08</td>\n",
       "      <td>NO</td>\n",
       "    </tr>\n",
       "  </tbody>\n",
       "</table>\n",
       "</div>"
      ],
      "text/plain": [
       "     pH  Dureza   Sólidos  Cloraminas  Sulfatos  Conductividad  \\\n",
       "0   NaN  204.89  20791.32        7.30    368.52         564.31   \n",
       "1  3.72  129.42  18630.06        6.64       NaN         592.89   \n",
       "2  8.10  224.24  19909.54        9.28       NaN         418.61   \n",
       "3  8.32  214.37  22018.42        8.06    356.89         363.27   \n",
       "4  9.09  181.10  17978.99        6.55    310.14         398.41   \n",
       "\n",
       "   Carbono_orgánico  Trihalometanos  Turbidez Potabilidad  \n",
       "0             10.38           86.99      2.96          NO  \n",
       "1             15.18           56.33      4.50          NO  \n",
       "2             16.87           66.42      3.06          NO  \n",
       "3             18.44          100.34      4.63          NO  \n",
       "4             11.56           32.00      4.08          NO  "
      ]
     },
     "execution_count": 3,
     "metadata": {},
     "output_type": "execute_result"
    }
   ],
   "source": [
    "data_raw.head()"
   ]
  },
  {
   "cell_type": "code",
   "execution_count": 4,
   "metadata": {
    "tags": []
   },
   "outputs": [
    {
     "data": {
      "text/html": [
       "<div>\n",
       "<style scoped>\n",
       "    .dataframe tbody tr th:only-of-type {\n",
       "        vertical-align: middle;\n",
       "    }\n",
       "\n",
       "    .dataframe tbody tr th {\n",
       "        vertical-align: top;\n",
       "    }\n",
       "\n",
       "    .dataframe thead th {\n",
       "        text-align: right;\n",
       "    }\n",
       "</style>\n",
       "<table border=\"1\" class=\"dataframe\">\n",
       "  <thead>\n",
       "    <tr style=\"text-align: right;\">\n",
       "      <th></th>\n",
       "      <th>pH</th>\n",
       "      <th>Dureza</th>\n",
       "      <th>Sólidos</th>\n",
       "      <th>Cloraminas</th>\n",
       "      <th>Sulfatos</th>\n",
       "      <th>Conductividad</th>\n",
       "      <th>Carbono_orgánico</th>\n",
       "      <th>Trihalometanos</th>\n",
       "      <th>Turbidez</th>\n",
       "    </tr>\n",
       "  </thead>\n",
       "  <tbody>\n",
       "    <tr>\n",
       "      <th>count</th>\n",
       "      <td>2785.000000</td>\n",
       "      <td>3276.000000</td>\n",
       "      <td>3276.000000</td>\n",
       "      <td>3276.000000</td>\n",
       "      <td>2495.000000</td>\n",
       "      <td>3276.000000</td>\n",
       "      <td>3276.000000</td>\n",
       "      <td>3114.000000</td>\n",
       "      <td>3276.000000</td>\n",
       "    </tr>\n",
       "    <tr>\n",
       "      <th>mean</th>\n",
       "      <td>7.080804</td>\n",
       "      <td>196.369481</td>\n",
       "      <td>22014.092415</td>\n",
       "      <td>7.122241</td>\n",
       "      <td>333.775784</td>\n",
       "      <td>426.205171</td>\n",
       "      <td>14.284921</td>\n",
       "      <td>66.396281</td>\n",
       "      <td>3.966731</td>\n",
       "    </tr>\n",
       "    <tr>\n",
       "      <th>std</th>\n",
       "      <td>1.594369</td>\n",
       "      <td>32.879680</td>\n",
       "      <td>8768.570852</td>\n",
       "      <td>1.583143</td>\n",
       "      <td>41.416864</td>\n",
       "      <td>80.824123</td>\n",
       "      <td>3.308232</td>\n",
       "      <td>16.174983</td>\n",
       "      <td>0.780354</td>\n",
       "    </tr>\n",
       "    <tr>\n",
       "      <th>min</th>\n",
       "      <td>0.000000</td>\n",
       "      <td>47.430000</td>\n",
       "      <td>320.940000</td>\n",
       "      <td>0.350000</td>\n",
       "      <td>129.000000</td>\n",
       "      <td>181.480000</td>\n",
       "      <td>2.200000</td>\n",
       "      <td>0.740000</td>\n",
       "      <td>1.450000</td>\n",
       "    </tr>\n",
       "    <tr>\n",
       "      <th>25%</th>\n",
       "      <td>6.090000</td>\n",
       "      <td>176.847500</td>\n",
       "      <td>15666.687500</td>\n",
       "      <td>6.130000</td>\n",
       "      <td>307.695000</td>\n",
       "      <td>365.735000</td>\n",
       "      <td>12.070000</td>\n",
       "      <td>55.847500</td>\n",
       "      <td>3.440000</td>\n",
       "    </tr>\n",
       "    <tr>\n",
       "      <th>50%</th>\n",
       "      <td>7.040000</td>\n",
       "      <td>196.965000</td>\n",
       "      <td>20927.830000</td>\n",
       "      <td>7.130000</td>\n",
       "      <td>333.070000</td>\n",
       "      <td>421.885000</td>\n",
       "      <td>14.220000</td>\n",
       "      <td>66.620000</td>\n",
       "      <td>3.955000</td>\n",
       "    </tr>\n",
       "    <tr>\n",
       "      <th>75%</th>\n",
       "      <td>8.060000</td>\n",
       "      <td>216.670000</td>\n",
       "      <td>27332.760000</td>\n",
       "      <td>8.112500</td>\n",
       "      <td>359.950000</td>\n",
       "      <td>481.790000</td>\n",
       "      <td>16.560000</td>\n",
       "      <td>77.337500</td>\n",
       "      <td>4.500000</td>\n",
       "    </tr>\n",
       "    <tr>\n",
       "      <th>max</th>\n",
       "      <td>14.000000</td>\n",
       "      <td>323.120000</td>\n",
       "      <td>61227.200000</td>\n",
       "      <td>13.130000</td>\n",
       "      <td>481.030000</td>\n",
       "      <td>753.340000</td>\n",
       "      <td>28.300000</td>\n",
       "      <td>124.000000</td>\n",
       "      <td>6.740000</td>\n",
       "    </tr>\n",
       "  </tbody>\n",
       "</table>\n",
       "</div>"
      ],
      "text/plain": [
       "                pH       Dureza       Sólidos   Cloraminas     Sulfatos  \\\n",
       "count  2785.000000  3276.000000   3276.000000  3276.000000  2495.000000   \n",
       "mean      7.080804   196.369481  22014.092415     7.122241   333.775784   \n",
       "std       1.594369    32.879680   8768.570852     1.583143    41.416864   \n",
       "min       0.000000    47.430000    320.940000     0.350000   129.000000   \n",
       "25%       6.090000   176.847500  15666.687500     6.130000   307.695000   \n",
       "50%       7.040000   196.965000  20927.830000     7.130000   333.070000   \n",
       "75%       8.060000   216.670000  27332.760000     8.112500   359.950000   \n",
       "max      14.000000   323.120000  61227.200000    13.130000   481.030000   \n",
       "\n",
       "       Conductividad  Carbono_orgánico  Trihalometanos     Turbidez  \n",
       "count    3276.000000       3276.000000     3114.000000  3276.000000  \n",
       "mean      426.205171         14.284921       66.396281     3.966731  \n",
       "std        80.824123          3.308232       16.174983     0.780354  \n",
       "min       181.480000          2.200000        0.740000     1.450000  \n",
       "25%       365.735000         12.070000       55.847500     3.440000  \n",
       "50%       421.885000         14.220000       66.620000     3.955000  \n",
       "75%       481.790000         16.560000       77.337500     4.500000  \n",
       "max       753.340000         28.300000      124.000000     6.740000  "
      ]
     },
     "execution_count": 4,
     "metadata": {},
     "output_type": "execute_result"
    }
   ],
   "source": [
    "data_raw.describe()"
   ]
  },
  {
   "cell_type": "code",
   "execution_count": 5,
   "metadata": {
    "tags": []
   },
   "outputs": [
    {
     "data": {
      "text/plain": [
       "NO    1998\n",
       "SI    1278\n",
       "Name: Potabilidad, dtype: int64"
      ]
     },
     "execution_count": 5,
     "metadata": {},
     "output_type": "execute_result"
    }
   ],
   "source": [
    "data_raw['Potabilidad'].value_counts()"
   ]
  },
  {
   "cell_type": "markdown",
   "metadata": {},
   "source": [
    "### 2. Preparación de los Datos"
   ]
  },
  {
   "cell_type": "code",
   "execution_count": 6,
   "metadata": {
    "tags": []
   },
   "outputs": [],
   "source": [
    "data = data_raw.copy()"
   ]
  },
  {
   "cell_type": "code",
   "execution_count": 7,
   "metadata": {
    "tags": []
   },
   "outputs": [
    {
     "data": {
      "text/plain": [
       "0"
      ]
     },
     "execution_count": 7,
     "metadata": {},
     "output_type": "execute_result"
    }
   ],
   "source": [
    "data.duplicated().sum()"
   ]
  },
  {
   "cell_type": "code",
   "execution_count": 8,
   "metadata": {
    "tags": []
   },
   "outputs": [
    {
     "data": {
      "text/plain": [
       "pH                  491\n",
       "Dureza                0\n",
       "Sólidos               0\n",
       "Cloraminas            0\n",
       "Sulfatos            781\n",
       "Conductividad         0\n",
       "Carbono_orgánico      0\n",
       "Trihalometanos      162\n",
       "Turbidez              0\n",
       "Potabilidad           0\n",
       "dtype: int64"
      ]
     },
     "execution_count": 8,
     "metadata": {},
     "output_type": "execute_result"
    }
   ],
   "source": [
    "data.isna().sum()"
   ]
  },
  {
   "cell_type": "markdown",
   "metadata": {},
   "source": [
    "### 3. División de datos\n",
    "\n",
    "Ahora dividiremos el conjunto de datos resultante en un conjunto de entrenamiento y uno de pruebas. Usaremos el 80% de los datos para el entrenamiento y el 20% restante para las pruebas"
   ]
  },
  {
   "cell_type": "code",
   "execution_count": 9,
   "metadata": {
    "tags": []
   },
   "outputs": [
    {
     "data": {
      "text/html": [
       "<div>\n",
       "<style scoped>\n",
       "    .dataframe tbody tr th:only-of-type {\n",
       "        vertical-align: middle;\n",
       "    }\n",
       "\n",
       "    .dataframe tbody tr th {\n",
       "        vertical-align: top;\n",
       "    }\n",
       "\n",
       "    .dataframe thead th {\n",
       "        text-align: right;\n",
       "    }\n",
       "</style>\n",
       "<table border=\"1\" class=\"dataframe\">\n",
       "  <thead>\n",
       "    <tr style=\"text-align: right;\">\n",
       "      <th></th>\n",
       "      <th>pH</th>\n",
       "      <th>Dureza</th>\n",
       "      <th>Sólidos</th>\n",
       "      <th>Cloraminas</th>\n",
       "      <th>Sulfatos</th>\n",
       "      <th>Conductividad</th>\n",
       "      <th>Carbono_orgánico</th>\n",
       "      <th>Trihalometanos</th>\n",
       "      <th>Turbidez</th>\n",
       "      <th>Potabilidad</th>\n",
       "    </tr>\n",
       "  </thead>\n",
       "  <tbody>\n",
       "    <tr>\n",
       "      <th>3126</th>\n",
       "      <td>6.67</td>\n",
       "      <td>155.71</td>\n",
       "      <td>30610.05</td>\n",
       "      <td>8.17</td>\n",
       "      <td>337.17</td>\n",
       "      <td>425.69</td>\n",
       "      <td>15.10</td>\n",
       "      <td>79.78</td>\n",
       "      <td>4.90</td>\n",
       "      <td>SI</td>\n",
       "    </tr>\n",
       "    <tr>\n",
       "      <th>3147</th>\n",
       "      <td>6.26</td>\n",
       "      <td>130.37</td>\n",
       "      <td>9734.68</td>\n",
       "      <td>10.28</td>\n",
       "      <td>320.36</td>\n",
       "      <td>399.35</td>\n",
       "      <td>10.85</td>\n",
       "      <td>43.42</td>\n",
       "      <td>3.93</td>\n",
       "      <td>SI</td>\n",
       "    </tr>\n",
       "    <tr>\n",
       "      <th>2844</th>\n",
       "      <td>6.66</td>\n",
       "      <td>182.39</td>\n",
       "      <td>16828.88</td>\n",
       "      <td>7.07</td>\n",
       "      <td>355.90</td>\n",
       "      <td>434.66</td>\n",
       "      <td>16.62</td>\n",
       "      <td>69.41</td>\n",
       "      <td>3.97</td>\n",
       "      <td>SI</td>\n",
       "    </tr>\n",
       "    <tr>\n",
       "      <th>1916</th>\n",
       "      <td>8.02</td>\n",
       "      <td>255.26</td>\n",
       "      <td>30854.83</td>\n",
       "      <td>8.76</td>\n",
       "      <td>NaN</td>\n",
       "      <td>442.50</td>\n",
       "      <td>11.09</td>\n",
       "      <td>93.27</td>\n",
       "      <td>5.32</td>\n",
       "      <td>SI</td>\n",
       "    </tr>\n",
       "    <tr>\n",
       "      <th>1053</th>\n",
       "      <td>8.92</td>\n",
       "      <td>207.52</td>\n",
       "      <td>13291.92</td>\n",
       "      <td>8.56</td>\n",
       "      <td>357.94</td>\n",
       "      <td>468.54</td>\n",
       "      <td>15.69</td>\n",
       "      <td>107.28</td>\n",
       "      <td>4.08</td>\n",
       "      <td>NO</td>\n",
       "    </tr>\n",
       "  </tbody>\n",
       "</table>\n",
       "</div>"
      ],
      "text/plain": [
       "        pH  Dureza   Sólidos  Cloraminas  Sulfatos  Conductividad  \\\n",
       "3126  6.67  155.71  30610.05        8.17    337.17         425.69   \n",
       "3147  6.26  130.37   9734.68       10.28    320.36         399.35   \n",
       "2844  6.66  182.39  16828.88        7.07    355.90         434.66   \n",
       "1916  8.02  255.26  30854.83        8.76       NaN         442.50   \n",
       "1053  8.92  207.52  13291.92        8.56    357.94         468.54   \n",
       "\n",
       "      Carbono_orgánico  Trihalometanos  Turbidez Potabilidad  \n",
       "3126             15.10           79.78      4.90          SI  \n",
       "3147             10.85           43.42      3.93          SI  \n",
       "2844             16.62           69.41      3.97          SI  \n",
       "1916             11.09           93.27      5.32          SI  \n",
       "1053             15.69          107.28      4.08          NO  "
      ]
     },
     "execution_count": 9,
     "metadata": {},
     "output_type": "execute_result"
    }
   ],
   "source": [
    "train, test = train_test_split(data, test_size=0.2, random_state=77)\n",
    "train.head()"
   ]
  },
  {
   "cell_type": "code",
   "execution_count": 10,
   "metadata": {
    "tags": []
   },
   "outputs": [],
   "source": [
    "x_train = train.drop(['Potabilidad'],axis=1)\n",
    "y_train = train['Potabilidad']"
   ]
  },
  {
   "cell_type": "markdown",
   "metadata": {},
   "source": [
    "### 4. Transformación"
   ]
  },
  {
   "cell_type": "markdown",
   "metadata": {},
   "source": [
    "Para especificar qué variables deben ser modificadas por cada uno de los objetos utilizaremos un objeto de la clase ColumnTransformer(), que recibe una lista de tuplas (nombre, objeto, columnas) especificando qué objeto se usará con qué conjunto de variables:"
   ]
  },
  {
   "cell_type": "code",
   "execution_count": 11,
   "metadata": {
    "tags": []
   },
   "outputs": [
    {
     "data": {
      "text/plain": [
       "array([0, 1, 2, 3, 4, 5, 6, 7, 8], dtype=int64)"
      ]
     },
     "execution_count": 11,
     "metadata": {},
     "output_type": "execute_result"
    }
   ],
   "source": [
    "data.columns.get_indexer(['pH', 'Dureza', 'Sólidos', 'Cloraminas', 'Sulfatos', 'Conductividad','Carbono_orgánico', 'Trihalometanos', 'Turbidez'])"
   ]
  },
  {
   "cell_type": "code",
   "execution_count": 12,
   "metadata": {
    "tags": []
   },
   "outputs": [],
   "source": [
    "scaler = StandardScaler()\n",
    "numeric_features = [0,1, 2,3 ,4, 5, 6, 7, 8]\n",
    "column_transformer = ColumnTransformer(\n",
    "    transformers=[\n",
    "        (\"num\", scaler, numeric_features)\n",
    "    ]\n",
    ")"
   ]
  },
  {
   "cell_type": "markdown",
   "metadata": {},
   "source": [
    "Se realiza una imputación de datos para reemplazar los valores nulos por valores como la media, mediana, entre otros. En ese sentido, definiremos un objeto de la clase `SimpleImputer()`, especificando que reemplazaremos los valores nulos por el valor más frecuente."
   ]
  },
  {
   "cell_type": "code",
   "execution_count": 13,
   "metadata": {
    "tags": []
   },
   "outputs": [],
   "source": [
    "simple_imputer = SimpleImputer(strategy='most_frequent')\n",
    "steps = [\n",
    "    (\"imputer\",simple_imputer),\n",
    "    (\"transformer\",column_transformer)\n",
    "]"
   ]
  },
  {
   "cell_type": "code",
   "execution_count": 14,
   "metadata": {
    "tags": []
   },
   "outputs": [],
   "source": [
    "pipeline = Pipeline(steps)"
   ]
  },
  {
   "cell_type": "markdown",
   "metadata": {},
   "source": [
    "Se utilizara el pipeline de preprocesamiento para transformar el conjunto de datos mediante la función fit_transform()"
   ]
  },
  {
   "cell_type": "code",
   "execution_count": 15,
   "metadata": {},
   "outputs": [],
   "source": [
    "columns = x_train.columns\n",
    "x_train_transformed = pipeline.fit_transform(x_train)\n",
    "x_train_transformed = pd.DataFrame(x_train_transformed, columns=columns)"
   ]
  },
  {
   "cell_type": "markdown",
   "metadata": {},
   "source": [
    "### 5. Decision TreeClassifier"
   ]
  },
  {
   "cell_type": "code",
   "execution_count": 16,
   "metadata": {
    "tags": []
   },
   "outputs": [],
   "source": [
    "decision_tree = DecisionTreeClassifier(random_state=0, class_weight='balanced')"
   ]
  },
  {
   "cell_type": "code",
   "execution_count": 17,
   "metadata": {
    "tags": []
   },
   "outputs": [],
   "source": [
    "param_grid = {\n",
    "    'criterion': ['entropy', 'gini'],\n",
    "    'max_depth': [4,6,8,10,12],\n",
    "    'min_samples_split': [3, 4, 5]\n",
    "}"
   ]
  },
  {
   "cell_type": "code",
   "execution_count": 18,
   "metadata": {
    "tags": []
   },
   "outputs": [],
   "source": [
    "kfold = KFold(n_splits=5, shuffle=True, random_state=0)"
   ]
  },
  {
   "cell_type": "code",
   "execution_count": 19,
   "metadata": {
    "tags": []
   },
   "outputs": [],
   "source": [
    "grid_dt = GridSearchCV(decision_tree, param_grid, cv=kfold, n_jobs=-1)"
   ]
  },
  {
   "cell_type": "code",
   "execution_count": 20,
   "metadata": {
    "tags": []
   },
   "outputs": [
    {
     "data": {
      "text/plain": [
       "GridSearchCV(cv=KFold(n_splits=5, random_state=0, shuffle=True),\n",
       "             estimator=DecisionTreeClassifier(class_weight='balanced',\n",
       "                                              random_state=0),\n",
       "             n_jobs=-1,\n",
       "             param_grid={'criterion': ['entropy', 'gini'],\n",
       "                         'max_depth': [4, 6, 8, 10, 12],\n",
       "                         'min_samples_split': [3, 4, 5]})"
      ]
     },
     "execution_count": 20,
     "metadata": {},
     "output_type": "execute_result"
    }
   ],
   "source": [
    "grid_dt.fit(x_train_transformed, y_train)"
   ]
  },
  {
   "cell_type": "code",
   "execution_count": 21,
   "metadata": {
    "tags": []
   },
   "outputs": [
    {
     "name": "stdout",
     "output_type": "stream",
     "text": [
      "Mejores parámetros: {'criterion': 'entropy', 'max_depth': 6, 'min_samples_split': 3}\n"
     ]
    }
   ],
   "source": [
    "print(\"Mejores parámetros: {}\".format(grid_dt.best_params_))"
   ]
  },
  {
   "cell_type": "code",
   "execution_count": 22,
   "metadata": {
    "tags": []
   },
   "outputs": [],
   "source": [
    "mejor_modelo_dt = grid_dt.best_estimator_"
   ]
  },
  {
   "cell_type": "code",
   "execution_count": 23,
   "metadata": {},
   "outputs": [
    {
     "data": {
      "text/html": [
       "<div>\n",
       "<style scoped>\n",
       "    .dataframe tbody tr th:only-of-type {\n",
       "        vertical-align: middle;\n",
       "    }\n",
       "\n",
       "    .dataframe tbody tr th {\n",
       "        vertical-align: top;\n",
       "    }\n",
       "\n",
       "    .dataframe thead th {\n",
       "        text-align: right;\n",
       "    }\n",
       "</style>\n",
       "<table border=\"1\" class=\"dataframe\">\n",
       "  <thead>\n",
       "    <tr style=\"text-align: right;\">\n",
       "      <th></th>\n",
       "      <th>Variable</th>\n",
       "      <th>Importancia</th>\n",
       "    </tr>\n",
       "  </thead>\n",
       "  <tbody>\n",
       "    <tr>\n",
       "      <th>0</th>\n",
       "      <td>pH</td>\n",
       "      <td>0.256573</td>\n",
       "    </tr>\n",
       "    <tr>\n",
       "      <th>4</th>\n",
       "      <td>Sulfatos</td>\n",
       "      <td>0.225758</td>\n",
       "    </tr>\n",
       "    <tr>\n",
       "      <th>1</th>\n",
       "      <td>Dureza</td>\n",
       "      <td>0.142441</td>\n",
       "    </tr>\n",
       "    <tr>\n",
       "      <th>2</th>\n",
       "      <td>Sólidos</td>\n",
       "      <td>0.097465</td>\n",
       "    </tr>\n",
       "    <tr>\n",
       "      <th>5</th>\n",
       "      <td>Conductividad</td>\n",
       "      <td>0.071704</td>\n",
       "    </tr>\n",
       "    <tr>\n",
       "      <th>6</th>\n",
       "      <td>Carbono_orgánico</td>\n",
       "      <td>0.061909</td>\n",
       "    </tr>\n",
       "    <tr>\n",
       "      <th>3</th>\n",
       "      <td>Cloraminas</td>\n",
       "      <td>0.055538</td>\n",
       "    </tr>\n",
       "    <tr>\n",
       "      <th>7</th>\n",
       "      <td>Trihalometanos</td>\n",
       "      <td>0.048052</td>\n",
       "    </tr>\n",
       "    <tr>\n",
       "      <th>8</th>\n",
       "      <td>Turbidez</td>\n",
       "      <td>0.040561</td>\n",
       "    </tr>\n",
       "  </tbody>\n",
       "</table>\n",
       "</div>"
      ],
      "text/plain": [
       "           Variable  Importancia\n",
       "0                pH     0.256573\n",
       "4          Sulfatos     0.225758\n",
       "1            Dureza     0.142441\n",
       "2           Sólidos     0.097465\n",
       "5     Conductividad     0.071704\n",
       "6  Carbono_orgánico     0.061909\n",
       "3        Cloraminas     0.055538\n",
       "7    Trihalometanos     0.048052\n",
       "8          Turbidez     0.040561"
      ]
     },
     "execution_count": 23,
     "metadata": {},
     "output_type": "execute_result"
    }
   ],
   "source": [
    "importancia_dt = mejor_modelo_dt.feature_importances_\n",
    "importancia_dt = pd.DataFrame(data={'Variable':x_train.columns, 'Importancia':importancia_dt})\n",
    "importancia_dt.sort_values('Importancia', ascending=False)"
   ]
  },
  {
   "cell_type": "code",
   "execution_count": 24,
   "metadata": {
    "tags": []
   },
   "outputs": [],
   "source": [
    "x_test = test.drop(['Potabilidad'],axis=1)\n",
    "y_test = test['Potabilidad']"
   ]
  },
  {
   "cell_type": "markdown",
   "metadata": {},
   "source": [
    "Con la información disponible del conjunto de entrenamiento, haremos uso de la función `transform()` del pipeline para transformar el conjunto de pruebas"
   ]
  },
  {
   "cell_type": "code",
   "execution_count": 25,
   "metadata": {
    "tags": []
   },
   "outputs": [],
   "source": [
    "columns = x_test.columns\n",
    "x_test_transformed = pipeline.transform(x_test)\n",
    "x_test_transformed = pd.DataFrame(x_test_transformed, columns=columns)"
   ]
  },
  {
   "cell_type": "code",
   "execution_count": 26,
   "metadata": {
    "tags": []
   },
   "outputs": [
    {
     "data": {
      "image/png": "[encoded data removed]",
      "text/plain": [
       "<Figure size 1800x720 with 1 Axes>"
      ]
     },
     "metadata": {
      "needs_background": "light"
     },
     "output_type": "display_data"
    }
   ],
   "source": [
    "deciscion_tree_prueba = DecisionTreeClassifier(criterion = 'entropy', max_depth = 3 ,class_weight = 'balanced', random_state = 0, min_samples_split = 3)\n",
    "deciscion_tree_prueba.fit(x_train_transformed, y_train)\n",
    "plt.figure(figsize=(25,10))\n",
    "tree = plot_tree(deciscion_tree_prueba, feature_names=list(columns), class_names=['No','Yes'], filled=True, fontsize=9)"
   ]
  },
  {
   "cell_type": "markdown",
   "metadata": {},
   "source": [
    "#### *Reglas de Decision*\n",
    "\n",
    "> El nodo raiz es el Sulfatos, el cual cuanta con una entropy =1 \n",
    "1. Cuando Sulfatos <=-1.95 y Sólidos <=-0.089 y PH <= 0.646 Entonces No_Potable\n",
    "2. Cuando Sulfatos <=-1.95 y Sólidos <=-0.089 y PH > 0.646 Entonces SI_Potable\n",
    "3. Cuando Sulfatos <=-1.95 y Sólidos >-0.089 y Sulfatos <= -2.319 Entonces SI_Potable\n",
    "4. Cuando Sulfatos <=-1.95 y Sólidos >-0.089 y Sulfatos > -2.319 Entonces SI_Potable\n",
    "5. -1.95 < Sulfatos <= -2.319 y Dureza <= -2.889 Entonces SI_Potable\n",
    "6. -1.95 < Sulfatos <= -2.319 <= -2.319 y Dureza > -2.889 Entonces NO_Potable\n",
    "7. -1.95 < Sulfatos <= -2.319 y PH <= 0.317 Entonces SI_Potable\n",
    "8. -1.95 < Sulfatos <= -2.319 y PH > 0.317 Entonces NO_Potable"
   ]
  },
  {
   "cell_type": "code",
   "execution_count": 28,
   "metadata": {},
   "outputs": [
    {
     "name": "stdout",
     "output_type": "stream",
     "text": [
      "------ Modelo de Decision Tree -------\n",
      "Exactitud:  0.4740853658536585\n",
      "Sensibilidad:  0.8181818181818182\n",
      "Precisión:  0.4090909090909091\n",
      "F1-Score:  0.5454545454545455\n"
     ]
    }
   ],
   "source": [
    "y_pred_dt = mejor_modelo_dt.predict(x_test_transformed)\n",
    "accuracy_dt = accuracy_score(y_test, y_pred_dt)\n",
    "recall_dt= recall_score(y_test, y_pred_dt, average=\"binary\", pos_label='SI')\n",
    "precision_dt = precision_score(y_test, y_pred_dt,  average=\"binary\", pos_label='SI')\n",
    "f1_score_dt = f1_score(y_test, y_pred_dt,  average=\"binary\", pos_label='SI')\n",
    "print('------ Modelo de Decision Tree -------')\n",
    "print(\"Exactitud: \", accuracy_dt)\n",
    "print(\"Sensibilidad: \", recall_dt)\n",
    "print('Precisión: ', precision_dt)\n",
    "print('F1-Score: ', f1_score_dt)"
   ]
  },
  {
   "cell_type": "code",
   "execution_count": 29,
   "metadata": {
    "tags": []
   },
   "outputs": [
    {
     "data": {
      "image/png": "[encoded data removed]",
      "text/plain": [
       "<Figure size 432x288 with 2 Axes>"
      ]
     },
     "metadata": {
      "needs_background": "light"
     },
     "output_type": "display_data"
    }
   ],
   "source": [
    "cm = confusion_matrix(y_test, y_pred_dt, labels=grid_dt.classes_)\n",
    "disp = ConfusionMatrixDisplay(confusion_matrix=cm, display_labels=grid_dt.classes_)\n",
    "disp.plot()\n",
    "plt.show()"
   ]
  },
  {
   "cell_type": "markdown",
   "metadata": {},
   "source": [
    "### 6. K-Nearest-Neighbor"
   ]
  },
  {
   "cell_type": "code",
   "execution_count": 30,
   "metadata": {
    "tags": []
   },
   "outputs": [],
   "source": [
    "KNN = KNeighborsClassifier()"
   ]
  },
  {
   "cell_type": "code",
   "execution_count": 31,
   "metadata": {
    "tags": []
   },
   "outputs": [],
   "source": [
    "kfold = KFold(n_splits=5, shuffle=True, random_state=0)"
   ]
  },
  {
   "cell_type": "code",
   "execution_count": 32,
   "metadata": {
    "tags": []
   },
   "outputs": [],
   "source": [
    "n_neighbors = [1, 2, 3, 4, 5]\n",
    "algorithm = [\"auto\",  \"ball_tree\", \"kd_tree\", \"brute\"]"
   ]
  },
  {
   "cell_type": "code",
   "execution_count": 33,
   "metadata": {
    "tags": []
   },
   "outputs": [],
   "source": [
    "parameters = {'n_neighbors': n_neighbors,\n",
    "              'algorithm': algorithm}"
   ]
  },
  {
   "cell_type": "markdown",
   "metadata": {
    "tags": []
   },
   "source": [
    "Se crea el mejor modelo utilizando los siguientes parametros, y se entrena sobre el conjunto de entrenamiento transformado por medio de pipeline, haciendo uso de la función `fit()`, almacenando el resultado en la variable mejor_modelo:"
   ]
  },
  {
   "cell_type": "code",
   "execution_count": 34,
   "metadata": {
    "tags": []
   },
   "outputs": [],
   "source": [
    "grid_knn = GridSearchCV(KNN, parameters,cv=kfold, n_jobs=-1)"
   ]
  },
  {
   "cell_type": "code",
   "execution_count": 35,
   "metadata": {
    "tags": []
   },
   "outputs": [
    {
     "data": {
      "text/plain": [
       "GridSearchCV(cv=KFold(n_splits=5, random_state=0, shuffle=True),\n",
       "             estimator=KNeighborsClassifier(), n_jobs=-1,\n",
       "             param_grid={'algorithm': ['auto', 'ball_tree', 'kd_tree', 'brute'],\n",
       "                         'n_neighbors': [1, 2, 3, 4, 5]})"
      ]
     },
     "execution_count": 35,
     "metadata": {},
     "output_type": "execute_result"
    }
   ],
   "source": [
    "grid_knn.fit(x_train_transformed.values, y_train)"
   ]
  },
  {
   "cell_type": "code",
   "execution_count": 36,
   "metadata": {
    "tags": []
   },
   "outputs": [
    {
     "name": "stdout",
     "output_type": "stream",
     "text": [
      "Mejores parámetros: {'algorithm': 'auto', 'n_neighbors': 4}\n"
     ]
    }
   ],
   "source": [
    "print(\"Mejores parámetros: {}\".format(grid_knn.best_params_))"
   ]
  },
  {
   "cell_type": "code",
   "execution_count": 37,
   "metadata": {
    "tags": []
   },
   "outputs": [],
   "source": [
    "mejor_modelo_knn = grid_knn.best_estimator_"
   ]
  },
  {
   "cell_type": "code",
   "execution_count": 38,
   "metadata": {},
   "outputs": [
    {
     "name": "stdout",
     "output_type": "stream",
     "text": [
      "------ Modelo de KNN -------\n",
      "Exactitud:  0.6432926829268293\n",
      "Sensibilidad:  0.24110671936758893\n",
      "Precisión:  0.5922330097087378\n",
      "F1-Score:  0.34269662921348315\n"
     ]
    }
   ],
   "source": [
    "y_pred_knn = mejor_modelo_knn.predict(x_test_transformed)\n",
    "accuracy_knn = accuracy_score(y_test, y_pred_knn)\n",
    "recall_knn = recall_score(y_test, y_pred_knn, average=\"binary\", pos_label='SI')\n",
    "precision_knn = precision_score(y_test, y_pred_knn,  average=\"binary\", pos_label='SI')\n",
    "f1_score_knn = f1_score(y_test, y_pred_knn,  average=\"binary\", pos_label='SI')\n",
    "print('------ Modelo de KNN -------')\n",
    "print(\"Exactitud: \", accuracy_knn)\n",
    "print(\"Sensibilidad: \", recall_knn)\n",
    "print('Precisión: ', precision_knn)\n",
    "print('F1-Score: ', f1_score_knn)"
   ]
  },
  {
   "cell_type": "code",
   "execution_count": 39,
   "metadata": {
    "tags": []
   },
   "outputs": [
    {
     "data": {
      "image/png": "[encoded data removed]",
      "text/plain": [
       "<Figure size 432x288 with 2 Axes>"
      ]
     },
     "metadata": {
      "needs_background": "light"
     },
     "output_type": "display_data"
    }
   ],
   "source": [
    "cm = confusion_matrix(y_test, y_pred_knn, labels=grid_knn.classes_)\n",
    "disp = ConfusionMatrixDisplay(confusion_matrix=cm, display_labels=grid_knn.classes_)\n",
    "disp.plot()\n",
    "plt.show()"
   ]
  },
  {
   "cell_type": "markdown",
   "metadata": {},
   "source": [
    "### 7. Tabla comparativa"
   ]
  },
  {
   "cell_type": "code",
   "execution_count": 40,
   "metadata": {},
   "outputs": [],
   "source": [
    "tb_f = pd.DataFrame(np.array([['DecisionTreeClassifier()',  round(accuracy_dt, 2), round(recall_dt, 2), round(precision_dt,2), round(f1_score_dt,2)],\n",
    "                              ['KNeighborsClassifier()', round(accuracy_knn,2), round(recall_knn, 2),  round(precision_knn,2), round(f1_score_knn,2)]]),\n",
    "                   columns=['Model','Exactitud','Sensibilidad','Precisión','F1-Score'])"
   ]
  },
  {
   "cell_type": "code",
   "execution_count": 41,
   "metadata": {},
   "outputs": [
    {
     "data": {
      "text/html": [
       "<div>\n",
       "<style scoped>\n",
       "    .dataframe tbody tr th:only-of-type {\n",
       "        vertical-align: middle;\n",
       "    }\n",
       "\n",
       "    .dataframe tbody tr th {\n",
       "        vertical-align: top;\n",
       "    }\n",
       "\n",
       "    .dataframe thead th {\n",
       "        text-align: right;\n",
       "    }\n",
       "</style>\n",
       "<table border=\"1\" class=\"dataframe\">\n",
       "  <thead>\n",
       "    <tr style=\"text-align: right;\">\n",
       "      <th></th>\n",
       "      <th>Model</th>\n",
       "      <th>Exactitud</th>\n",
       "      <th>Sensibilidad</th>\n",
       "      <th>Precisión</th>\n",
       "      <th>F1-Score</th>\n",
       "    </tr>\n",
       "  </thead>\n",
       "  <tbody>\n",
       "    <tr>\n",
       "      <th>0</th>\n",
       "      <td>DecisionTreeClassifier()</td>\n",
       "      <td>0.47</td>\n",
       "      <td>0.82</td>\n",
       "      <td>0.41</td>\n",
       "      <td>0.55</td>\n",
       "    </tr>\n",
       "    <tr>\n",
       "      <th>1</th>\n",
       "      <td>KNeighborsClassifier()</td>\n",
       "      <td>0.64</td>\n",
       "      <td>0.24</td>\n",
       "      <td>0.59</td>\n",
       "      <td>0.34</td>\n",
       "    </tr>\n",
       "  </tbody>\n",
       "</table>\n",
       "</div>"
      ],
      "text/plain": [
       "                      Model Exactitud Sensibilidad Precisión F1-Score\n",
       "0  DecisionTreeClassifier()      0.47         0.82      0.41     0.55\n",
       "1    KNeighborsClassifier()      0.64         0.24      0.59     0.34"
      ]
     },
     "execution_count": 41,
     "metadata": {},
     "output_type": "execute_result"
    }
   ],
   "source": [
    "tb_f"
   ]
  },
  {
   "cell_type": "markdown",
   "metadata": {},
   "source": [
    "### 8. Preguntas\n",
    "- **¿Qué puedes decir de los valores de las métricas recall y precisión para cada una de las clases en cada modelo? ¿Cuál de estás métricas consideras que es más importante con base en la descripción del problema?**  Debido a la cuasistica presentada seria mas apropiado tener encuenta una presicion alta, debido a que nos interesa que sea mayor la proporción de las predicciones positivas. Cuanto mayor sea la precisión, menos falsos positivos tiene el modelo ya que no queremos caracteristicas de aguas que no son apta sean potable.\n",
    "\n",
    "- **¿Consideras que el rendimiento de los modelos es adecuado? Si no es así, ¿cómo podrían mejorarse los resultados?** El rendimiento del modelo k-vecinos no tiene valores muy altos, esto podria mejorarse con un balanceo de clases ya que su proporción no se encuntra uniforme.\n",
    "\n",
    "- **¿Cuáles son las variables más significativas según el mejor modelo basado en árboles de decisión? Reflexiona sobre cómo este nuevo conocimiento podría ayudar a tomar decisiones en el contexto del problema**  las variables mas importantes son Sulfatos, pH, Dureza y Sólidos, las cuales hacen parte del arbol de desición  y las que mejor entropia tienen para la clasificacion. Ademas su importancia es la mas significante.\n",
    "| Variables | Importancia |\n",
    "|----------|-------------|\n",
    "| PH       | 0.256573    |\n",
    "| Sulfatos | 0.225758    |\n",
    "| Dureza   | 0.142441    |\n",
    "| Sólidos  | 0.097465    |\n",
    "\n",
    "- **Si los dos modelos proporcionan resultados similares en cuanto a las métricas de rendimiento ¿Cuál seleccionarías tomando en cuenta el contexto del problema?** Debido a las caracteristicas, elegiria el arbol de decision ya que es menos complejo y con mayor explicabilidad que el algoritmo de K-vecinos.\n",
    "|                    Model | Exactitud | Sensibilidad | Precisión | F1-Score |\n",
    "|-------------------------:|----------:|-------------:|----------:|---------:|\n",
    "| DecisionTreeClassifier() |      0.47 |         0.82 |      0.41 |     0.55 |\n",
    "|   KNeighborsClassifier() |      0.64 |         0.24 |      0.59 |     0.34 |"
   ]
  },
  {
   "cell_type": "markdown",
   "metadata": {},
   "source": [
    "## Cierre\n",
    "---\n",
    "*Creado por: Alejandra Ossa Yepes*   \n",
    "*Versión de: Septiembre 18, 2022*  \n",
    "*Universidad de los Andes*   "
   ]
  },
  {
   "cell_type": "code",
   "execution_count": null,
   "metadata": {},
   "outputs": [],
   "source": []
  }
 ],
 "metadata": {
  "kernelspec": {
   "display_name": "Python 3 (ipykernel)",
   "language": "python",
   "name": "python3"
  },
  "language_info": {
   "codemirror_mode": {
    "name": "ipython",
    "version": 3
   },
   "file_extension": ".py",
   "mimetype": "text/x-python",
   "name": "python",
   "nbconvert_exporter": "python",
   "pygments_lexer": "ipython3",
   "version": "3.11.4"
  }
 },
 "nbformat": 4,
 "nbformat_minor": 4
}
