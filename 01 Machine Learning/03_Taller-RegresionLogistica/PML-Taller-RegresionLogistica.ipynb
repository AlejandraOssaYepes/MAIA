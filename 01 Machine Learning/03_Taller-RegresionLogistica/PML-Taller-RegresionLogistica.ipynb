{
 "cells": [
  {
   "cell_type": "markdown",
   "metadata": {
    "deletable": false,
    "editable": false,
    "nbgrader": {
     "cell_type": "markdown",
     "checksum": "65c46c22e31b7341e2b331b25f4caa6a",
     "grade": false,
     "grade_id": "cell-9cfe80e88d706fa1",
     "locked": true,
     "schema_version": 3,
     "solution": false,
     "task": false
    }
   },
   "source": [
    "# Un problema de regresión logística\n",
    "\n",
    "En este taller estudiarás conceptos mostrados en el tutorial \"Solución de problemas con regresión logística\", utilizando un nuevo conjunto de datos correspondiente al desempeño y desgaste de empleados. Particularmente, realizarás los siguientes procesos:\n",
    "\n",
    "1. Cargar un conjunto de datos.\n",
    "2. Preparar los datos para el modelado.\n",
    "3. Realizar la búsqueda de hiperparámetros para la regresión logística.\n",
    "4. Evaluar el mejor modelo resultante.\n",
    "\n",
    "El problema a resolver es el siguiente: dadas algunas características en áreas como la educación, trabajos previos, salario, entre otras, queremos clasificar a un empleado como agotado (con bajo desempeño) o no. Antes de iniciar, vamos a importar las librerías necesarias:"
   ]
  },
  {
   "cell_type": "code",
   "execution_count": 1,
   "metadata": {
    "deletable": false,
    "editable": false,
    "nbgrader": {
     "cell_type": "code",
     "checksum": "f39cc08017a4d29c73b452812b86ffe2",
     "grade": false,
     "grade_id": "cell-bec99cb37feb1075",
     "locked": true,
     "schema_version": 3,
     "solution": false,
     "task": false
    }
   },
   "outputs": [],
   "source": [
    "import pandas as pd\n",
    "import matplotlib.pyplot as plt\n",
    "import numpy as np\n",
    "\n",
    "from sklearn.preprocessing import StandardScaler\n",
    "from sklearn.linear_model import LogisticRegression\n",
    "from sklearn.model_selection import train_test_split, KFold, GridSearchCV\n",
    "from sklearn.metrics import accuracy_score, precision_score, recall_score, f1_score\n",
    "from sklearn.metrics import confusion_matrix"
   ]
  },
  {
   "cell_type": "markdown",
   "metadata": {
    "deletable": false,
    "editable": false,
    "nbgrader": {
     "cell_type": "markdown",
     "checksum": "936e362809ecbff2cb7b27370af44fbb",
     "grade": false,
     "grade_id": "cell-f2a26065d652e609",
     "locked": true,
     "schema_version": 3,
     "solution": false,
     "task": false
    }
   },
   "source": [
    "## 1. Carga de datos\n",
    "\n",
    "Con las librerías importadas, realizaremos la carga del conjunto de datos:\n",
    "\n",
    "### Ejercicio 1.1.\n",
    "\n",
    "Utiliza Pandas para importar el archivo que contiene el conjunto de datos de desgaste de empleados.\n",
    "\n",
    "* La ruta del archivo .csv es: `./data/EmployeeAttrition.csv`, y ya se encuentra en el entorno de Coursera, solo debes importarlo.\n",
    "* La variable resultante debe tener el nombre `data_raw`, que representa el conjunto de datos sin modificar."
   ]
  },
  {
   "cell_type": "code",
   "execution_count": 2,
   "metadata": {
    "deletable": false,
    "nbgrader": {
     "cell_type": "code",
     "checksum": "27cbbc8f71555fc8e730e8eb6b02167e",
     "grade": false,
     "grade_id": "E11",
     "locked": false,
     "schema_version": 3,
     "solution": true,
     "task": false
    }
   },
   "outputs": [],
   "source": [
    "ruta = './data/Employee-Attrition.csv'\n",
    "# your code here\n",
    "data_raw = pd.read_csv(ruta)"
   ]
  },
  {
   "cell_type": "code",
   "execution_count": 3,
   "metadata": {},
   "outputs": [
    {
     "data": {
      "text/html": [
       "<div>\n",
       "<style scoped>\n",
       "    .dataframe tbody tr th:only-of-type {\n",
       "        vertical-align: middle;\n",
       "    }\n",
       "\n",
       "    .dataframe tbody tr th {\n",
       "        vertical-align: top;\n",
       "    }\n",
       "\n",
       "    .dataframe thead th {\n",
       "        text-align: right;\n",
       "    }\n",
       "</style>\n",
       "<table border=\"1\" class=\"dataframe\">\n",
       "  <thead>\n",
       "    <tr style=\"text-align: right;\">\n",
       "      <th></th>\n",
       "      <th>Age</th>\n",
       "      <th>Attrition</th>\n",
       "      <th>BusinessTravel</th>\n",
       "      <th>DailyRate</th>\n",
       "      <th>Department</th>\n",
       "      <th>DistanceFromHome</th>\n",
       "      <th>Education</th>\n",
       "      <th>EducationField</th>\n",
       "      <th>EmployeeNumber</th>\n",
       "      <th>EnvironmentSatisfaction</th>\n",
       "      <th>...</th>\n",
       "      <th>PerformanceRating</th>\n",
       "      <th>RelationshipSatisfaction</th>\n",
       "      <th>StockOptionLevel</th>\n",
       "      <th>TotalWorkingYears</th>\n",
       "      <th>TrainingTimesLastYear</th>\n",
       "      <th>WorkLifeBalance</th>\n",
       "      <th>YearsAtCompany</th>\n",
       "      <th>YearsInCurrentRole</th>\n",
       "      <th>YearsSinceLastPromotion</th>\n",
       "      <th>YearsWithCurrManager</th>\n",
       "    </tr>\n",
       "  </thead>\n",
       "  <tbody>\n",
       "    <tr>\n",
       "      <th>0</th>\n",
       "      <td>41</td>\n",
       "      <td>1</td>\n",
       "      <td>Travel_Rarely</td>\n",
       "      <td>1102</td>\n",
       "      <td>Sales</td>\n",
       "      <td>1</td>\n",
       "      <td>2</td>\n",
       "      <td>Life Sciences</td>\n",
       "      <td>1</td>\n",
       "      <td>2</td>\n",
       "      <td>...</td>\n",
       "      <td>3</td>\n",
       "      <td>1</td>\n",
       "      <td>0</td>\n",
       "      <td>8</td>\n",
       "      <td>0</td>\n",
       "      <td>1</td>\n",
       "      <td>6</td>\n",
       "      <td>4</td>\n",
       "      <td>0</td>\n",
       "      <td>5</td>\n",
       "    </tr>\n",
       "    <tr>\n",
       "      <th>1</th>\n",
       "      <td>49</td>\n",
       "      <td>0</td>\n",
       "      <td>Travel_Frequently</td>\n",
       "      <td>279</td>\n",
       "      <td>Research &amp; Development</td>\n",
       "      <td>8</td>\n",
       "      <td>1</td>\n",
       "      <td>Life Sciences</td>\n",
       "      <td>2</td>\n",
       "      <td>3</td>\n",
       "      <td>...</td>\n",
       "      <td>4</td>\n",
       "      <td>4</td>\n",
       "      <td>1</td>\n",
       "      <td>10</td>\n",
       "      <td>3</td>\n",
       "      <td>3</td>\n",
       "      <td>10</td>\n",
       "      <td>7</td>\n",
       "      <td>1</td>\n",
       "      <td>7</td>\n",
       "    </tr>\n",
       "    <tr>\n",
       "      <th>2</th>\n",
       "      <td>37</td>\n",
       "      <td>1</td>\n",
       "      <td>Travel_Rarely</td>\n",
       "      <td>1373</td>\n",
       "      <td>Research &amp; Development</td>\n",
       "      <td>2</td>\n",
       "      <td>2</td>\n",
       "      <td>Other</td>\n",
       "      <td>4</td>\n",
       "      <td>4</td>\n",
       "      <td>...</td>\n",
       "      <td>3</td>\n",
       "      <td>2</td>\n",
       "      <td>0</td>\n",
       "      <td>7</td>\n",
       "      <td>3</td>\n",
       "      <td>3</td>\n",
       "      <td>0</td>\n",
       "      <td>0</td>\n",
       "      <td>0</td>\n",
       "      <td>0</td>\n",
       "    </tr>\n",
       "    <tr>\n",
       "      <th>3</th>\n",
       "      <td>33</td>\n",
       "      <td>0</td>\n",
       "      <td>Travel_Frequently</td>\n",
       "      <td>1392</td>\n",
       "      <td>Research &amp; Development</td>\n",
       "      <td>3</td>\n",
       "      <td>4</td>\n",
       "      <td>Life Sciences</td>\n",
       "      <td>5</td>\n",
       "      <td>4</td>\n",
       "      <td>...</td>\n",
       "      <td>3</td>\n",
       "      <td>3</td>\n",
       "      <td>0</td>\n",
       "      <td>8</td>\n",
       "      <td>3</td>\n",
       "      <td>3</td>\n",
       "      <td>8</td>\n",
       "      <td>7</td>\n",
       "      <td>3</td>\n",
       "      <td>0</td>\n",
       "    </tr>\n",
       "    <tr>\n",
       "      <th>4</th>\n",
       "      <td>27</td>\n",
       "      <td>0</td>\n",
       "      <td>Travel_Rarely</td>\n",
       "      <td>591</td>\n",
       "      <td>Research &amp; Development</td>\n",
       "      <td>2</td>\n",
       "      <td>1</td>\n",
       "      <td>Medical</td>\n",
       "      <td>7</td>\n",
       "      <td>1</td>\n",
       "      <td>...</td>\n",
       "      <td>3</td>\n",
       "      <td>4</td>\n",
       "      <td>1</td>\n",
       "      <td>6</td>\n",
       "      <td>3</td>\n",
       "      <td>3</td>\n",
       "      <td>2</td>\n",
       "      <td>2</td>\n",
       "      <td>2</td>\n",
       "      <td>2</td>\n",
       "    </tr>\n",
       "  </tbody>\n",
       "</table>\n",
       "<p>5 rows × 32 columns</p>\n",
       "</div>"
      ],
      "text/plain": [
       "   Age  Attrition     BusinessTravel  DailyRate              Department  \\\n",
       "0   41          1      Travel_Rarely       1102                   Sales   \n",
       "1   49          0  Travel_Frequently        279  Research & Development   \n",
       "2   37          1      Travel_Rarely       1373  Research & Development   \n",
       "3   33          0  Travel_Frequently       1392  Research & Development   \n",
       "4   27          0      Travel_Rarely        591  Research & Development   \n",
       "\n",
       "   DistanceFromHome  Education EducationField  EmployeeNumber  \\\n",
       "0                 1          2  Life Sciences               1   \n",
       "1                 8          1  Life Sciences               2   \n",
       "2                 2          2          Other               4   \n",
       "3                 3          4  Life Sciences               5   \n",
       "4                 2          1        Medical               7   \n",
       "\n",
       "   EnvironmentSatisfaction  ... PerformanceRating  RelationshipSatisfaction  \\\n",
       "0                        2  ...                 3                         1   \n",
       "1                        3  ...                 4                         4   \n",
       "2                        4  ...                 3                         2   \n",
       "3                        4  ...                 3                         3   \n",
       "4                        1  ...                 3                         4   \n",
       "\n",
       "   StockOptionLevel  TotalWorkingYears TrainingTimesLastYear  WorkLifeBalance  \\\n",
       "0                 0                  8                     0                1   \n",
       "1                 1                 10                     3                3   \n",
       "2                 0                  7                     3                3   \n",
       "3                 0                  8                     3                3   \n",
       "4                 1                  6                     3                3   \n",
       "\n",
       "  YearsAtCompany  YearsInCurrentRole  YearsSinceLastPromotion  \\\n",
       "0              6                   4                        0   \n",
       "1             10                   7                        1   \n",
       "2              0                   0                        0   \n",
       "3              8                   7                        3   \n",
       "4              2                   2                        2   \n",
       "\n",
       "   YearsWithCurrManager  \n",
       "0                     5  \n",
       "1                     7  \n",
       "2                     0  \n",
       "3                     0  \n",
       "4                     2  \n",
       "\n",
       "[5 rows x 32 columns]"
      ]
     },
     "execution_count": 3,
     "metadata": {},
     "output_type": "execute_result"
    }
   ],
   "source": [
    "data_raw.head()"
   ]
  },
  {
   "cell_type": "code",
   "execution_count": 4,
   "metadata": {
    "deletable": false,
    "editable": false,
    "nbgrader": {
     "cell_type": "code",
     "checksum": "64bad93ae8f3b14d4f403544badf8a00",
     "grade": true,
     "grade_id": "E11-tests",
     "locked": true,
     "points": 1,
     "schema_version": 3,
     "solution": false,
     "task": false
    }
   },
   "outputs": [
    {
     "name": "stdout",
     "output_type": "stream",
     "text": [
      "¡Los datos tienen las dimensiones correctas!\n"
     ]
    }
   ],
   "source": [
    "#---------- Celda de Pruebas ----------\n",
    "# El resultado existe\n",
    "# El resultado es un DataFrame\n",
    "# El resultado tiene las dimensiones correctas\n",
    "#--------------------------------------\n",
    "\n",
    "# Se verifica que la variable exista\n",
    "assert data_raw is not None, \"Asegúrate de definir la variable /`data_raw/` igualándola a una función de Pandas para leer el archivo.\"\n",
    "\n",
    "# Se verifica que sea un DataFrame\n",
    "assert isinstance(data_raw, pd.DataFrame), \"El resultado debe ser un DataFrame.\"\n",
    "\n",
    "# Se evalúan las dimensiones de la variable\n",
    "assert data_raw.shape == (1470,32), \"¿Verificaste que la ruta del archivo CSV y el nombre de la variable son correctos?\"\n",
    "print(\"¡Los datos tienen las dimensiones correctas!\")"
   ]
  },
  {
   "cell_type": "code",
   "execution_count": 5,
   "metadata": {},
   "outputs": [
    {
     "data": {
      "text/plain": [
       "Index(['Age', 'Attrition', 'BusinessTravel', 'DailyRate', 'Department',\n",
       "       'DistanceFromHome', 'Education', 'EducationField', 'EmployeeNumber',\n",
       "       'EnvironmentSatisfaction', 'Gender', 'HourlyRate', 'JobInvolvement',\n",
       "       'JobLevel', 'JobRole', 'JobSatisfaction', 'MaritalStatus',\n",
       "       'MonthlyIncome', 'MonthlyRate', 'NumCompaniesWorked', 'OverTime',\n",
       "       'PercentSalaryHike', 'PerformanceRating', 'RelationshipSatisfaction',\n",
       "       'StockOptionLevel', 'TotalWorkingYears', 'TrainingTimesLastYear',\n",
       "       'WorkLifeBalance', 'YearsAtCompany', 'YearsInCurrentRole',\n",
       "       'YearsSinceLastPromotion', 'YearsWithCurrManager'],\n",
       "      dtype='object')"
      ]
     },
     "execution_count": 5,
     "metadata": {},
     "output_type": "execute_result"
    }
   ],
   "source": [
    "data_raw.columns"
   ]
  },
  {
   "cell_type": "markdown",
   "metadata": {
    "deletable": false,
    "editable": false,
    "nbgrader": {
     "cell_type": "markdown",
     "checksum": "cc0a14b19ee44243252ac191a2eed063",
     "grade": false,
     "grade_id": "cell-e72c563baeb63d19",
     "locked": true,
     "schema_version": 3,
     "solution": false,
     "task": false
    }
   },
   "source": [
    "En este punto es conveniente observar la estructura de los datos. ¿Cuántas variables categóricas tiene este conjunto de datos?"
   ]
  },
  {
   "cell_type": "code",
   "execution_count": 6,
   "metadata": {},
   "outputs": [
    {
     "data": {
      "text/plain": [
       "Travel_Rarely        1043\n",
       "Travel_Frequently     277\n",
       "Non-Travel            150\n",
       "Name: BusinessTravel, dtype: int64"
      ]
     },
     "execution_count": 6,
     "metadata": {},
     "output_type": "execute_result"
    }
   ],
   "source": [
    "pd.value_counts(data_raw['BusinessTravel'])"
   ]
  },
  {
   "cell_type": "markdown",
   "metadata": {
    "deletable": false,
    "editable": false,
    "nbgrader": {
     "cell_type": "markdown",
     "checksum": "76155595011e98de4c99b85b74a51a7d",
     "grade": false,
     "grade_id": "cell-e6347dd4ddd9c277",
     "locked": true,
     "schema_version": 3,
     "solution": false,
     "task": false
    }
   },
   "source": [
    "## 2. Preparación de datos\n",
    "\n",
    "Primero vamos a definir la variable `data` para almacenar un conjunto de datos modificado:"
   ]
  },
  {
   "cell_type": "code",
   "execution_count": 7,
   "metadata": {
    "deletable": false,
    "editable": false,
    "nbgrader": {
     "cell_type": "code",
     "checksum": "313d608d65b96767040517da8efd3f3d",
     "grade": false,
     "grade_id": "cell-b6c610db507f43de",
     "locked": true,
     "schema_version": 3,
     "solution": false,
     "task": false
    }
   },
   "outputs": [],
   "source": [
    "data = data_raw.copy()"
   ]
  },
  {
   "cell_type": "markdown",
   "metadata": {
    "deletable": false,
    "editable": false,
    "nbgrader": {
     "cell_type": "markdown",
     "checksum": "db469e1cc34b7a0d041a9ed069a94d03",
     "grade": false,
     "grade_id": "cell-193ad7987e04fb96",
     "locked": true,
     "schema_version": 3,
     "solution": false,
     "task": false
    }
   },
   "source": [
    "A continuación, verificaremos si hay valores faltantes:"
   ]
  },
  {
   "cell_type": "code",
   "execution_count": 8,
   "metadata": {
    "deletable": false,
    "editable": false,
    "nbgrader": {
     "cell_type": "code",
     "checksum": "128fb8662eb372991ec7c0488cda8fa9",
     "grade": false,
     "grade_id": "cell-442549b6ce6ef16a",
     "locked": true,
     "schema_version": 3,
     "solution": false,
     "task": false
    }
   },
   "outputs": [
    {
     "data": {
      "text/plain": [
       "Age                         0\n",
       "Attrition                   0\n",
       "BusinessTravel              0\n",
       "DailyRate                   0\n",
       "Department                  0\n",
       "DistanceFromHome            0\n",
       "Education                   0\n",
       "EducationField              0\n",
       "EmployeeNumber              0\n",
       "EnvironmentSatisfaction     0\n",
       "Gender                      0\n",
       "HourlyRate                  0\n",
       "JobInvolvement              0\n",
       "JobLevel                    0\n",
       "JobRole                     0\n",
       "JobSatisfaction             0\n",
       "MaritalStatus               0\n",
       "MonthlyIncome               0\n",
       "MonthlyRate                 0\n",
       "NumCompaniesWorked          0\n",
       "OverTime                    0\n",
       "PercentSalaryHike           0\n",
       "PerformanceRating           0\n",
       "RelationshipSatisfaction    0\n",
       "StockOptionLevel            0\n",
       "TotalWorkingYears           0\n",
       "TrainingTimesLastYear       0\n",
       "WorkLifeBalance             0\n",
       "YearsAtCompany              0\n",
       "YearsInCurrentRole          0\n",
       "YearsSinceLastPromotion     0\n",
       "YearsWithCurrManager        0\n",
       "dtype: int64"
      ]
     },
     "execution_count": 8,
     "metadata": {},
     "output_type": "execute_result"
    }
   ],
   "source": [
    "data.isna().sum()"
   ]
  },
  {
   "cell_type": "markdown",
   "metadata": {
    "deletable": false,
    "editable": false,
    "nbgrader": {
     "cell_type": "markdown",
     "checksum": "3ef104a774406017696b06358da43cc1",
     "grade": false,
     "grade_id": "cell-49644a4d206f0865",
     "locked": true,
     "schema_version": 3,
     "solution": false,
     "task": false
    }
   },
   "source": [
    "Y verificaremos si hay filas duplicadas:"
   ]
  },
  {
   "cell_type": "code",
   "execution_count": 9,
   "metadata": {
    "deletable": false,
    "editable": false,
    "nbgrader": {
     "cell_type": "code",
     "checksum": "212449d3ee0f514c33f91d37caadcc1d",
     "grade": false,
     "grade_id": "cell-73d02336246ff2a5",
     "locked": true,
     "schema_version": 3,
     "solution": false,
     "task": false
    }
   },
   "outputs": [
    {
     "data": {
      "text/plain": [
       "0"
      ]
     },
     "execution_count": 9,
     "metadata": {},
     "output_type": "execute_result"
    }
   ],
   "source": [
    "data.duplicated().sum()"
   ]
  },
  {
   "cell_type": "markdown",
   "metadata": {
    "deletable": false,
    "editable": false,
    "nbgrader": {
     "cell_type": "markdown",
     "checksum": "defbe5730f9a3d25aedab4f4cdad1155",
     "grade": false,
     "grade_id": "cell-0920540c4c64789d",
     "locked": true,
     "schema_version": 3,
     "solution": false,
     "task": false
    }
   },
   "source": [
    "Como puedes observar, no tenemos que hacer una limpieza previa, por lo que seguiremos con la preparación de los datos."
   ]
  },
  {
   "cell_type": "markdown",
   "metadata": {
    "deletable": false,
    "editable": false,
    "nbgrader": {
     "cell_type": "markdown",
     "checksum": "e04a3e6b99dcb260dc460ec60555de48",
     "grade": false,
     "grade_id": "cell-bc8b2b03448a32f2",
     "locked": true,
     "schema_version": 3,
     "solution": false,
     "task": false
    }
   },
   "source": [
    "### Ejercicio 2.1.\n",
    "\n",
    "Primero vas a realizar la transformación de las variables categóricas. Utiliza Pandas para transformar todas las variables categóricas en variables numéricas que puedan ser interpretadas por nuestro modelo.\n",
    "\n",
    "* Utiliza una función de Pandas y asigna tu respuesta a la misma variable `data`. (**Ejemplo: `data = pd.<<Función>>`**)\n",
    "* Encontrarás la línea `data.head()` al final de la celda. Esta línea se usa para que puedas visualizar el resultado de la transformación, por lo que debes dejarla al final y no debes modificarla."
   ]
  },
  {
   "cell_type": "code",
   "execution_count": 10,
   "metadata": {},
   "outputs": [
    {
     "data": {
      "text/plain": [
       "(1470, 32)"
      ]
     },
     "execution_count": 10,
     "metadata": {},
     "output_type": "execute_result"
    }
   ],
   "source": [
    "data_raw.shape"
   ]
  },
  {
   "cell_type": "code",
   "execution_count": 11,
   "metadata": {
    "deletable": false,
    "nbgrader": {
     "cell_type": "code",
     "checksum": "6b55a5a5688cbd1a7291171ef166bfb9",
     "grade": false,
     "grade_id": "E21",
     "locked": false,
     "schema_version": 3,
     "solution": true,
     "task": false
    }
   },
   "outputs": [
    {
     "data": {
      "text/html": [
       "<div>\n",
       "<style scoped>\n",
       "    .dataframe tbody tr th:only-of-type {\n",
       "        vertical-align: middle;\n",
       "    }\n",
       "\n",
       "    .dataframe tbody tr th {\n",
       "        vertical-align: top;\n",
       "    }\n",
       "\n",
       "    .dataframe thead th {\n",
       "        text-align: right;\n",
       "    }\n",
       "</style>\n",
       "<table border=\"1\" class=\"dataframe\">\n",
       "  <thead>\n",
       "    <tr style=\"text-align: right;\">\n",
       "      <th></th>\n",
       "      <th>Age</th>\n",
       "      <th>Attrition</th>\n",
       "      <th>DailyRate</th>\n",
       "      <th>DistanceFromHome</th>\n",
       "      <th>Education</th>\n",
       "      <th>EmployeeNumber</th>\n",
       "      <th>EnvironmentSatisfaction</th>\n",
       "      <th>HourlyRate</th>\n",
       "      <th>JobInvolvement</th>\n",
       "      <th>JobLevel</th>\n",
       "      <th>...</th>\n",
       "      <th>JobRole_Manufacturing Director</th>\n",
       "      <th>JobRole_Research Director</th>\n",
       "      <th>JobRole_Research Scientist</th>\n",
       "      <th>JobRole_Sales Executive</th>\n",
       "      <th>JobRole_Sales Representative</th>\n",
       "      <th>MaritalStatus_Divorced</th>\n",
       "      <th>MaritalStatus_Married</th>\n",
       "      <th>MaritalStatus_Single</th>\n",
       "      <th>OverTime_No</th>\n",
       "      <th>OverTime_Yes</th>\n",
       "    </tr>\n",
       "  </thead>\n",
       "  <tbody>\n",
       "    <tr>\n",
       "      <th>0</th>\n",
       "      <td>41</td>\n",
       "      <td>1</td>\n",
       "      <td>1102</td>\n",
       "      <td>1</td>\n",
       "      <td>2</td>\n",
       "      <td>1</td>\n",
       "      <td>2</td>\n",
       "      <td>94</td>\n",
       "      <td>3</td>\n",
       "      <td>2</td>\n",
       "      <td>...</td>\n",
       "      <td>0</td>\n",
       "      <td>0</td>\n",
       "      <td>0</td>\n",
       "      <td>1</td>\n",
       "      <td>0</td>\n",
       "      <td>0</td>\n",
       "      <td>0</td>\n",
       "      <td>1</td>\n",
       "      <td>0</td>\n",
       "      <td>1</td>\n",
       "    </tr>\n",
       "    <tr>\n",
       "      <th>1</th>\n",
       "      <td>49</td>\n",
       "      <td>0</td>\n",
       "      <td>279</td>\n",
       "      <td>8</td>\n",
       "      <td>1</td>\n",
       "      <td>2</td>\n",
       "      <td>3</td>\n",
       "      <td>61</td>\n",
       "      <td>2</td>\n",
       "      <td>2</td>\n",
       "      <td>...</td>\n",
       "      <td>0</td>\n",
       "      <td>0</td>\n",
       "      <td>1</td>\n",
       "      <td>0</td>\n",
       "      <td>0</td>\n",
       "      <td>0</td>\n",
       "      <td>1</td>\n",
       "      <td>0</td>\n",
       "      <td>1</td>\n",
       "      <td>0</td>\n",
       "    </tr>\n",
       "    <tr>\n",
       "      <th>2</th>\n",
       "      <td>37</td>\n",
       "      <td>1</td>\n",
       "      <td>1373</td>\n",
       "      <td>2</td>\n",
       "      <td>2</td>\n",
       "      <td>4</td>\n",
       "      <td>4</td>\n",
       "      <td>92</td>\n",
       "      <td>2</td>\n",
       "      <td>1</td>\n",
       "      <td>...</td>\n",
       "      <td>0</td>\n",
       "      <td>0</td>\n",
       "      <td>0</td>\n",
       "      <td>0</td>\n",
       "      <td>0</td>\n",
       "      <td>0</td>\n",
       "      <td>0</td>\n",
       "      <td>1</td>\n",
       "      <td>0</td>\n",
       "      <td>1</td>\n",
       "    </tr>\n",
       "    <tr>\n",
       "      <th>3</th>\n",
       "      <td>33</td>\n",
       "      <td>0</td>\n",
       "      <td>1392</td>\n",
       "      <td>3</td>\n",
       "      <td>4</td>\n",
       "      <td>5</td>\n",
       "      <td>4</td>\n",
       "      <td>56</td>\n",
       "      <td>3</td>\n",
       "      <td>1</td>\n",
       "      <td>...</td>\n",
       "      <td>0</td>\n",
       "      <td>0</td>\n",
       "      <td>1</td>\n",
       "      <td>0</td>\n",
       "      <td>0</td>\n",
       "      <td>0</td>\n",
       "      <td>1</td>\n",
       "      <td>0</td>\n",
       "      <td>0</td>\n",
       "      <td>1</td>\n",
       "    </tr>\n",
       "    <tr>\n",
       "      <th>4</th>\n",
       "      <td>27</td>\n",
       "      <td>0</td>\n",
       "      <td>591</td>\n",
       "      <td>2</td>\n",
       "      <td>1</td>\n",
       "      <td>7</td>\n",
       "      <td>1</td>\n",
       "      <td>40</td>\n",
       "      <td>3</td>\n",
       "      <td>1</td>\n",
       "      <td>...</td>\n",
       "      <td>0</td>\n",
       "      <td>0</td>\n",
       "      <td>0</td>\n",
       "      <td>0</td>\n",
       "      <td>0</td>\n",
       "      <td>0</td>\n",
       "      <td>1</td>\n",
       "      <td>0</td>\n",
       "      <td>1</td>\n",
       "      <td>0</td>\n",
       "    </tr>\n",
       "  </tbody>\n",
       "</table>\n",
       "<p>5 rows × 53 columns</p>\n",
       "</div>"
      ],
      "text/plain": [
       "   Age  Attrition  DailyRate  DistanceFromHome  Education  EmployeeNumber  \\\n",
       "0   41          1       1102                 1          2               1   \n",
       "1   49          0        279                 8          1               2   \n",
       "2   37          1       1373                 2          2               4   \n",
       "3   33          0       1392                 3          4               5   \n",
       "4   27          0        591                 2          1               7   \n",
       "\n",
       "   EnvironmentSatisfaction  HourlyRate  JobInvolvement  JobLevel  ...  \\\n",
       "0                        2          94               3         2  ...   \n",
       "1                        3          61               2         2  ...   \n",
       "2                        4          92               2         1  ...   \n",
       "3                        4          56               3         1  ...   \n",
       "4                        1          40               3         1  ...   \n",
       "\n",
       "   JobRole_Manufacturing Director  JobRole_Research Director  \\\n",
       "0                               0                          0   \n",
       "1                               0                          0   \n",
       "2                               0                          0   \n",
       "3                               0                          0   \n",
       "4                               0                          0   \n",
       "\n",
       "   JobRole_Research Scientist  JobRole_Sales Executive  \\\n",
       "0                           0                        1   \n",
       "1                           1                        0   \n",
       "2                           0                        0   \n",
       "3                           1                        0   \n",
       "4                           0                        0   \n",
       "\n",
       "   JobRole_Sales Representative  MaritalStatus_Divorced  \\\n",
       "0                             0                       0   \n",
       "1                             0                       0   \n",
       "2                             0                       0   \n",
       "3                             0                       0   \n",
       "4                             0                       0   \n",
       "\n",
       "   MaritalStatus_Married  MaritalStatus_Single  OverTime_No  OverTime_Yes  \n",
       "0                      0                     1            0             1  \n",
       "1                      1                     0            1             0  \n",
       "2                      0                     1            0             1  \n",
       "3                      1                     0            0             1  \n",
       "4                      1                     0            1             0  \n",
       "\n",
       "[5 rows x 53 columns]"
      ]
     },
     "execution_count": 11,
     "metadata": {},
     "output_type": "execute_result"
    }
   ],
   "source": [
    "# your code here\n",
    "data = pd.get_dummies(data)\n",
    "data.head()"
   ]
  },
  {
   "cell_type": "code",
   "execution_count": 12,
   "metadata": {
    "deletable": false,
    "editable": false,
    "nbgrader": {
     "cell_type": "code",
     "checksum": "4ed9532bf15a949a9b55871877903cd6",
     "grade": true,
     "grade_id": "E21-tests",
     "locked": true,
     "points": 1,
     "schema_version": 3,
     "solution": false,
     "task": false
    }
   },
   "outputs": [
    {
     "name": "stdout",
     "output_type": "stream",
     "text": [
      "¡Los datos tienen las dimensiones correctas!\n"
     ]
    }
   ],
   "source": [
    "#---------- Celda de Pruebas ----------\n",
    "# La variable 'data' existe\n",
    "# La variable 'data' es un DataFrame\n",
    "# La variable 'data' ha aumentado su número de columnas\n",
    "#--------------------------------------\n",
    "\n",
    "# Se verifica que la variable exista\n",
    "assert data is not None, \"Asegúrate de definir la variable /`data/` igualándola a una función de Pandas.\"\n",
    "\n",
    "# Se verifica que sea un DataFrame\n",
    "assert isinstance(data, pd.DataFrame), \"El resultado debe ser un DataFrame.\"\n",
    "\n",
    "# Se evalúan las dimensiones de la variable data\n",
    "assert data.shape == (1470,53), \"Recuerda que la codificación de variables categóricas resulta en un aumento del número de columnas.\"\n",
    "print(\"¡Los datos tienen las dimensiones correctas!\")"
   ]
  },
  {
   "cell_type": "markdown",
   "metadata": {
    "deletable": false,
    "editable": false,
    "nbgrader": {
     "cell_type": "markdown",
     "checksum": "9f8cc0abd8fc8cf6d6cfea31ffc5625e",
     "grade": false,
     "grade_id": "cell-fafaf0b4b3fb51e9",
     "locked": true,
     "schema_version": 3,
     "solution": false,
     "task": false
    }
   },
   "source": [
    "### Ejercicio 2.2.\n",
    "\n",
    "Ahora debes dividir el conjunto de datos en entrenamiento y pruebas. Usando el 80% de los datos para entrenar el modelo y el 20% restante para probarlo, utiliza `scikit-learn` para separar el conjunto de datos en dos.\n",
    "\n",
    "* Guarda tu respuesta en dos variables: `train` y `test`. (**Ejemplo: `train, test = <<Función>>`**)\n",
    "* Utiliza el parámetro `random_state=0`. Esto hará que la partición sea siempre la misma.\n",
    "* Encontrarás la línea `train.head()`. Esta línea se usa para que puedas visualizar el resultado del conjunto de entrenamiento. Déjala al final de la celda y no la modifiques."
   ]
  },
  {
   "cell_type": "code",
   "execution_count": 13,
   "metadata": {
    "deletable": false,
    "nbgrader": {
     "cell_type": "code",
     "checksum": "322f0ee77f149e61b96a4f12146390ad",
     "grade": false,
     "grade_id": "E22",
     "locked": false,
     "schema_version": 3,
     "solution": true,
     "task": false
    }
   },
   "outputs": [
    {
     "data": {
      "text/html": [
       "<div>\n",
       "<style scoped>\n",
       "    .dataframe tbody tr th:only-of-type {\n",
       "        vertical-align: middle;\n",
       "    }\n",
       "\n",
       "    .dataframe tbody tr th {\n",
       "        vertical-align: top;\n",
       "    }\n",
       "\n",
       "    .dataframe thead th {\n",
       "        text-align: right;\n",
       "    }\n",
       "</style>\n",
       "<table border=\"1\" class=\"dataframe\">\n",
       "  <thead>\n",
       "    <tr style=\"text-align: right;\">\n",
       "      <th></th>\n",
       "      <th>Age</th>\n",
       "      <th>Attrition</th>\n",
       "      <th>DailyRate</th>\n",
       "      <th>DistanceFromHome</th>\n",
       "      <th>Education</th>\n",
       "      <th>EmployeeNumber</th>\n",
       "      <th>EnvironmentSatisfaction</th>\n",
       "      <th>HourlyRate</th>\n",
       "      <th>JobInvolvement</th>\n",
       "      <th>JobLevel</th>\n",
       "      <th>...</th>\n",
       "      <th>JobRole_Manufacturing Director</th>\n",
       "      <th>JobRole_Research Director</th>\n",
       "      <th>JobRole_Research Scientist</th>\n",
       "      <th>JobRole_Sales Executive</th>\n",
       "      <th>JobRole_Sales Representative</th>\n",
       "      <th>MaritalStatus_Divorced</th>\n",
       "      <th>MaritalStatus_Married</th>\n",
       "      <th>MaritalStatus_Single</th>\n",
       "      <th>OverTime_No</th>\n",
       "      <th>OverTime_Yes</th>\n",
       "    </tr>\n",
       "  </thead>\n",
       "  <tbody>\n",
       "    <tr>\n",
       "      <th>1374</th>\n",
       "      <td>58</td>\n",
       "      <td>0</td>\n",
       "      <td>605</td>\n",
       "      <td>21</td>\n",
       "      <td>3</td>\n",
       "      <td>1938</td>\n",
       "      <td>4</td>\n",
       "      <td>72</td>\n",
       "      <td>3</td>\n",
       "      <td>4</td>\n",
       "      <td>...</td>\n",
       "      <td>0</td>\n",
       "      <td>0</td>\n",
       "      <td>0</td>\n",
       "      <td>0</td>\n",
       "      <td>0</td>\n",
       "      <td>0</td>\n",
       "      <td>1</td>\n",
       "      <td>0</td>\n",
       "      <td>0</td>\n",
       "      <td>1</td>\n",
       "    </tr>\n",
       "    <tr>\n",
       "      <th>1092</th>\n",
       "      <td>45</td>\n",
       "      <td>0</td>\n",
       "      <td>950</td>\n",
       "      <td>28</td>\n",
       "      <td>3</td>\n",
       "      <td>1546</td>\n",
       "      <td>4</td>\n",
       "      <td>97</td>\n",
       "      <td>3</td>\n",
       "      <td>1</td>\n",
       "      <td>...</td>\n",
       "      <td>0</td>\n",
       "      <td>0</td>\n",
       "      <td>1</td>\n",
       "      <td>0</td>\n",
       "      <td>0</td>\n",
       "      <td>0</td>\n",
       "      <td>1</td>\n",
       "      <td>0</td>\n",
       "      <td>1</td>\n",
       "      <td>0</td>\n",
       "    </tr>\n",
       "    <tr>\n",
       "      <th>768</th>\n",
       "      <td>40</td>\n",
       "      <td>0</td>\n",
       "      <td>300</td>\n",
       "      <td>26</td>\n",
       "      <td>3</td>\n",
       "      <td>1066</td>\n",
       "      <td>3</td>\n",
       "      <td>74</td>\n",
       "      <td>3</td>\n",
       "      <td>2</td>\n",
       "      <td>...</td>\n",
       "      <td>0</td>\n",
       "      <td>0</td>\n",
       "      <td>0</td>\n",
       "      <td>1</td>\n",
       "      <td>0</td>\n",
       "      <td>0</td>\n",
       "      <td>1</td>\n",
       "      <td>0</td>\n",
       "      <td>1</td>\n",
       "      <td>0</td>\n",
       "    </tr>\n",
       "    <tr>\n",
       "      <th>569</th>\n",
       "      <td>36</td>\n",
       "      <td>0</td>\n",
       "      <td>1434</td>\n",
       "      <td>8</td>\n",
       "      <td>4</td>\n",
       "      <td>789</td>\n",
       "      <td>1</td>\n",
       "      <td>76</td>\n",
       "      <td>2</td>\n",
       "      <td>3</td>\n",
       "      <td>...</td>\n",
       "      <td>0</td>\n",
       "      <td>0</td>\n",
       "      <td>0</td>\n",
       "      <td>1</td>\n",
       "      <td>0</td>\n",
       "      <td>0</td>\n",
       "      <td>0</td>\n",
       "      <td>1</td>\n",
       "      <td>1</td>\n",
       "      <td>0</td>\n",
       "    </tr>\n",
       "    <tr>\n",
       "      <th>911</th>\n",
       "      <td>25</td>\n",
       "      <td>1</td>\n",
       "      <td>599</td>\n",
       "      <td>24</td>\n",
       "      <td>1</td>\n",
       "      <td>1273</td>\n",
       "      <td>3</td>\n",
       "      <td>73</td>\n",
       "      <td>1</td>\n",
       "      <td>1</td>\n",
       "      <td>...</td>\n",
       "      <td>0</td>\n",
       "      <td>0</td>\n",
       "      <td>0</td>\n",
       "      <td>0</td>\n",
       "      <td>1</td>\n",
       "      <td>0</td>\n",
       "      <td>0</td>\n",
       "      <td>1</td>\n",
       "      <td>0</td>\n",
       "      <td>1</td>\n",
       "    </tr>\n",
       "  </tbody>\n",
       "</table>\n",
       "<p>5 rows × 53 columns</p>\n",
       "</div>"
      ],
      "text/plain": [
       "      Age  Attrition  DailyRate  DistanceFromHome  Education  EmployeeNumber  \\\n",
       "1374   58          0        605                21          3            1938   \n",
       "1092   45          0        950                28          3            1546   \n",
       "768    40          0        300                26          3            1066   \n",
       "569    36          0       1434                 8          4             789   \n",
       "911    25          1        599                24          1            1273   \n",
       "\n",
       "      EnvironmentSatisfaction  HourlyRate  JobInvolvement  JobLevel  ...  \\\n",
       "1374                        4          72               3         4  ...   \n",
       "1092                        4          97               3         1  ...   \n",
       "768                         3          74               3         2  ...   \n",
       "569                         1          76               2         3  ...   \n",
       "911                         3          73               1         1  ...   \n",
       "\n",
       "      JobRole_Manufacturing Director  JobRole_Research Director  \\\n",
       "1374                               0                          0   \n",
       "1092                               0                          0   \n",
       "768                                0                          0   \n",
       "569                                0                          0   \n",
       "911                                0                          0   \n",
       "\n",
       "      JobRole_Research Scientist  JobRole_Sales Executive  \\\n",
       "1374                           0                        0   \n",
       "1092                           1                        0   \n",
       "768                            0                        1   \n",
       "569                            0                        1   \n",
       "911                            0                        0   \n",
       "\n",
       "      JobRole_Sales Representative  MaritalStatus_Divorced  \\\n",
       "1374                             0                       0   \n",
       "1092                             0                       0   \n",
       "768                              0                       0   \n",
       "569                              0                       0   \n",
       "911                              1                       0   \n",
       "\n",
       "      MaritalStatus_Married  MaritalStatus_Single  OverTime_No  OverTime_Yes  \n",
       "1374                      1                     0            0             1  \n",
       "1092                      1                     0            1             0  \n",
       "768                       1                     0            1             0  \n",
       "569                       0                     1            1             0  \n",
       "911                       0                     1            0             1  \n",
       "\n",
       "[5 rows x 53 columns]"
      ]
     },
     "execution_count": 13,
     "metadata": {},
     "output_type": "execute_result"
    }
   ],
   "source": [
    "# your code here\n",
    "train, test = train_test_split(data, test_size=0.2, random_state=0)\n",
    "train.head()"
   ]
  },
  {
   "cell_type": "code",
   "execution_count": 14,
   "metadata": {
    "deletable": false,
    "editable": false,
    "nbgrader": {
     "cell_type": "code",
     "checksum": "a69b8177cb364e5a99622304c82f48b1",
     "grade": true,
     "grade_id": "E22-tests",
     "locked": true,
     "points": 1,
     "schema_version": 3,
     "solution": false,
     "task": false
    }
   },
   "outputs": [
    {
     "name": "stdout",
     "output_type": "stream",
     "text": [
      "¡Los conjuntos de entrenamiento y pruebas tienen las dimensiones correctas!\n"
     ]
    }
   ],
   "source": [
    "#---------- Celda de Pruebas ----------\n",
    "# Las variables \"train\" y \"test\" existen\n",
    "# Las variables \"train\" y \"test\" son un DataFrame\n",
    "# Las variables tienen las dimensiones correctas\n",
    "#--------------------------------------\n",
    "\n",
    "# Se verifica que \"train\" y \"test\" están definidas\n",
    "assert train is not None, \"Asegúrate de definir la variable \\'train\\' con el nombre correcto.\"\n",
    "assert test is not None, \"Asegúrate de definir la variable \\'test\\' con el nombre correcto.\"\n",
    "\n",
    "# Se verifica que \"train\" y \"test\" sean un DataFrame\n",
    "assert isinstance(train, pd.DataFrame), \"La variable \\'train\\' debe ser un DataFrame.\"\n",
    "assert isinstance(test, pd.DataFrame), \"La variable \\'test\\' debe ser un DataFrame.\"\n",
    "\n",
    "# Se evalúan las dimensiones de las variables\n",
    "assert train.shape == (1176,53), \"Verifica que estés utilizando el 80% de los datos para el conjunto de entrenamiento.\"\n",
    "assert test.shape == (294,53), \"Verifica que estés utilizando el 20% de los datos para el conjunto de pruebas.\"\n",
    "print(\"¡Los conjuntos de entrenamiento y pruebas tienen las dimensiones correctas!\")"
   ]
  },
  {
   "cell_type": "markdown",
   "metadata": {
    "deletable": false,
    "editable": false,
    "nbgrader": {
     "cell_type": "markdown",
     "checksum": "d07373aa02ce26ff66206352190496f2",
     "grade": false,
     "grade_id": "cell-93f7ebd91bb50f30",
     "locked": true,
     "schema_version": 3,
     "solution": false,
     "task": false
    }
   },
   "source": [
    "### Ejercicio 2.3.\n",
    "\n",
    "Ahora debes aislar la variable objetivo, `Attrition`, de las variables independientes. Utiliza Pandas para crear dos variables, `x_train` y `y_train`, que almacenarán las variables independientes y la variable objetivo, respectivamente.\n",
    "\n",
    "* Crea una variable con nombre `x_train` y asígnale la operación necesaria para almacenar solo las variables independientes del conjunto de entrenamiento. (**Ejemplo: `x_train = train.<<Función>>`**)\n",
    "* Crea una variable con nombre `y_train` y asígnale la operación necesaria para almacenar la variable objetivo del conjunto de entrenamiento. (**Ejemplo: `y_train = <<Consulta>>`**)"
   ]
  },
  {
   "cell_type": "code",
   "execution_count": 15,
   "metadata": {
    "deletable": false,
    "nbgrader": {
     "cell_type": "code",
     "checksum": "2fd7c527c0a623f9661f326fc257c041",
     "grade": false,
     "grade_id": "E23",
     "locked": false,
     "schema_version": 3,
     "solution": true,
     "task": false
    }
   },
   "outputs": [],
   "source": [
    "# Tu respuesta deben ser dos líneas consecutivas:\n",
    "#    x_train = train.<<Función>>\n",
    "#    y_train = <<Consulta>>\n",
    "# your code here\n",
    "x_train = train.drop(['Attrition'],axis=1)\n",
    "y_train = train['Attrition']"
   ]
  },
  {
   "cell_type": "code",
   "execution_count": 16,
   "metadata": {
    "deletable": false,
    "editable": false,
    "nbgrader": {
     "cell_type": "code",
     "checksum": "1071c6b423e2d6e51fa00af62a8fe4bc",
     "grade": true,
     "grade_id": "E23-tests",
     "locked": true,
     "points": 1,
     "schema_version": 3,
     "solution": false,
     "task": false
    }
   },
   "outputs": [
    {
     "name": "stdout",
     "output_type": "stream",
     "text": [
      "¡Los conjuntos 'x_train' y 'y_train' tienen las dimensiones correctas!\n"
     ]
    }
   ],
   "source": [
    "#---------- Celda de Pruebas ----------\n",
    "# Las variables \"x_train\" y \"y_train\" existen\n",
    "# La variable \"x_train\" es un DataFrame\n",
    "# La variable \"y_train\" es una Serie de Pandas\n",
    "# Las variables tienen las dimensiones correctas\n",
    "#--------------------------------------\n",
    "\n",
    "# Se verifica que las variables están definidas\n",
    "assert x_train is not None, \"Asegúrate de definir la variable \\'x_train\\' correctamente.\"\n",
    "assert y_train is not None, \"Asegúrate de definir la variable \\'y_train\\' correctamente.\"\n",
    "\n",
    "# Se verifica que \"x_train\" sea un DataFrame\n",
    "assert isinstance(x_train, pd.DataFrame), \"El resultado debe ser un DataFrame.\"\n",
    "\n",
    "# Se verifica que \"y_train\" sea una Serie\n",
    "assert isinstance(y_train, pd.Series), \"El resultado debe ser una Serie de Pandas.\"\n",
    "\n",
    "# Se evalúan las dimensiones de las variables\n",
    "assert x_train.shape == (1176,52), \"\\'x_train\\' debe tener el mismo número de filas pero una columna menos que \\'train\\'.\"\n",
    "assert y_train.shape == (1176,), \"\\'y_train\\' solamente contiene una columna.\"\n",
    "print(\"¡Los conjuntos \\'x_train\\' y \\'y_train\\' tienen las dimensiones correctas!\")"
   ]
  },
  {
   "cell_type": "markdown",
   "metadata": {
    "deletable": false,
    "editable": false,
    "nbgrader": {
     "cell_type": "markdown",
     "checksum": "2629ee8057e11481da333c1991092d1c",
     "grade": false,
     "grade_id": "cell-5e1b6a7a03d4a7ab",
     "locked": true,
     "schema_version": 3,
     "solution": false,
     "task": false
    }
   },
   "source": [
    "### Ejercicio 2.4.\n",
    "\n",
    "El siguiente paso es realizar la estandarización de nuestros datos. Inicialmente, vamos a almacenar los nombres de las columnas del conjunto de entrenamiento en la variable `columns`:"
   ]
  },
  {
   "cell_type": "code",
   "execution_count": 17,
   "metadata": {
    "deletable": false,
    "editable": false,
    "nbgrader": {
     "cell_type": "code",
     "checksum": "879a8468da0c934da224bf4801cc670d",
     "grade": false,
     "grade_id": "cell-8a1cba81fc92aa6f",
     "locked": true,
     "schema_version": 3,
     "solution": false,
     "task": false
    }
   },
   "outputs": [],
   "source": [
    "columns = x_train.columns"
   ]
  },
  {
   "cell_type": "markdown",
   "metadata": {
    "deletable": false,
    "editable": false,
    "nbgrader": {
     "cell_type": "markdown",
     "checksum": "454f29432f549ed3be624468c8539f31",
     "grade": false,
     "grade_id": "cell-2554ff55146244af",
     "locked": true,
     "schema_version": 3,
     "solution": false,
     "task": false
    }
   },
   "source": [
    "Adicionalmente, definiremos un objeto de la clase `StandardScaler()`, que utilizarás para realizar la estandarización:"
   ]
  },
  {
   "cell_type": "code",
   "execution_count": 18,
   "metadata": {
    "deletable": false,
    "editable": false,
    "nbgrader": {
     "cell_type": "code",
     "checksum": "4a8c1a7f4b109fcfe8ff970f7b4396ee",
     "grade": false,
     "grade_id": "cell-a33055edb7298f61",
     "locked": true,
     "schema_version": 3,
     "solution": false,
     "task": false
    }
   },
   "outputs": [],
   "source": [
    "scaler = StandardScaler()"
   ]
  },
  {
   "cell_type": "markdown",
   "metadata": {
    "deletable": false,
    "editable": false,
    "nbgrader": {
     "cell_type": "markdown",
     "checksum": "835db33a0eb95cadbdf29f6e0ab2b691",
     "grade": false,
     "grade_id": "cell-f27480bae283c05e",
     "locked": true,
     "schema_version": 3,
     "solution": false,
     "task": false
    }
   },
   "source": [
    "Con las variables definidas, realiza la estandarización de los datos. Modifica el conjunto de variables independientes, `x_train`, con las operaciones necesarias para estandarizarlo. Particularmente, deberás seguir estos pasos:\n",
    "\n",
    "* Utiliza la variable `scaler` para transformar los datos de `x_train`. Asigna el resultado a la misma variable sobreescribiendo su contenido. (**Ejemplo: `x_train = scaler.<<Función>>`**)\n",
    "* Reconstruye el DataFrame de variables independientes utilizando la información almacenada en `columns`. Asigna el resultado a `x_train`. (**Ejemplo: `x_train = <<Función>>`**)"
   ]
  },
  {
   "cell_type": "code",
   "execution_count": 19,
   "metadata": {
    "deletable": false,
    "nbgrader": {
     "cell_type": "code",
     "checksum": "88e14945fcbd1a2810603fb1e360cdb1",
     "grade": false,
     "grade_id": "E24",
     "locked": false,
     "schema_version": 3,
     "solution": true,
     "task": false
    }
   },
   "outputs": [],
   "source": [
    "# your code here\n",
    "x_train = scaler.fit_transform(x_train)\n",
    "x_train = pd.DataFrame(x_train, columns=columns)"
   ]
  },
  {
   "cell_type": "code",
   "execution_count": 20,
   "metadata": {
    "deletable": false,
    "editable": false,
    "nbgrader": {
     "cell_type": "code",
     "checksum": "105c36a34a390cf374a15d98d8b60ec3",
     "grade": true,
     "grade_id": "E24-tests",
     "locked": true,
     "points": 1,
     "schema_version": 3,
     "solution": false,
     "task": false
    }
   },
   "outputs": [
    {
     "name": "stdout",
     "output_type": "stream",
     "text": [
      "¡'x_train' es un DataFrame con las dimensiones correctas!\n"
     ]
    }
   ],
   "source": [
    "#---------- Celda de Pruebas ----------\n",
    "# La variable \"x_train\" es un DataFrame\n",
    "# La variable tiene las dimensiones correctas\n",
    "#--------------------------------------\n",
    "\n",
    "# Se verifica que \"x_train\" sea un DataFrame\n",
    "assert isinstance(x_train, pd.DataFrame), \"El resultado debe ser un DataFrame.\"\n",
    "\n",
    "# Se evalúan las dimensiones de la variable\n",
    "assert x_train.shape == (1176,52), \"\\'x_train\\' debe mantener las mismas dimensiones, solo se modifican sus valores.\"\n",
    "print(\"¡\\'x_train\\' es un DataFrame con las dimensiones correctas!\")"
   ]
  },
  {
   "cell_type": "markdown",
   "metadata": {
    "deletable": false,
    "editable": false,
    "nbgrader": {
     "cell_type": "markdown",
     "checksum": "1d6d569b02899196a53ee3f0b0a7f250",
     "grade": false,
     "grade_id": "cell-7a4d48b066f5b6c1",
     "locked": true,
     "schema_version": 3,
     "solution": false,
     "task": false
    }
   },
   "source": [
    "## 3. Búsqueda de hiperparámetros\n",
    "\n",
    "Con el conjunto de entrenamiento preparado, realizaremos una búsqueda de los hiperparámetros `C`, `penalty` y `solver`. Para esto utilizaremos un objeto de la clase `KFold`, con el que definiremos 10 subconjuntos sobre el conjunto de entrenamiento:"
   ]
  },
  {
   "cell_type": "code",
   "execution_count": 21,
   "metadata": {
    "deletable": false,
    "editable": false,
    "nbgrader": {
     "cell_type": "code",
     "checksum": "193227f16c6c2cd606e348982b902ae3",
     "grade": false,
     "grade_id": "cell-61cc2901652ca5cf",
     "locked": true,
     "schema_version": 3,
     "solution": false,
     "task": false
    }
   },
   "outputs": [],
   "source": [
    "kfold = KFold(n_splits=10, shuffle=True, random_state=0)"
   ]
  },
  {
   "cell_type": "markdown",
   "metadata": {
    "deletable": false,
    "editable": false,
    "nbgrader": {
     "cell_type": "markdown",
     "checksum": "268636778118a33b2910f6c7328afd17",
     "grade": false,
     "grade_id": "cell-3810cd54e2e9491d",
     "locked": true,
     "schema_version": 3,
     "solution": false,
     "task": false
    }
   },
   "source": [
    "Además, definiremos el objeto de la clase `LogisticRegression` para realizar el entrenamiento con regresión logística:"
   ]
  },
  {
   "cell_type": "code",
   "execution_count": 22,
   "metadata": {
    "deletable": false,
    "editable": false,
    "nbgrader": {
     "cell_type": "code",
     "checksum": "d802550d34b001c960bfc2f2b0178655",
     "grade": false,
     "grade_id": "cell-f80d4d09ec74da69",
     "locked": true,
     "schema_version": 3,
     "solution": false,
     "task": false
    }
   },
   "outputs": [],
   "source": [
    "reglog = LogisticRegression()"
   ]
  },
  {
   "cell_type": "markdown",
   "metadata": {
    "deletable": false,
    "editable": false,
    "nbgrader": {
     "cell_type": "markdown",
     "checksum": "b6adc2b20dd306b206136e163b187232",
     "grade": false,
     "grade_id": "cell-2597cad5c3a8863c",
     "locked": true,
     "schema_version": 3,
     "solution": false,
     "task": false
    }
   },
   "source": [
    "### Ejercicio 3.1.\n",
    "\n",
    "El siguiente paso es definir el espacio de búsqueda de los hiperparámetros.\n",
    "\n",
    "* Define una variable con el nombre `param_grid` y asígnale la expresión necesaria para crear un diccionario con tres tuplas (**Ejemplo: `param_grid = <<Expresión>>`**):\n",
    "    * Llave `C` y valor `valores_C`.\n",
    "    * Llave `penalty` y valor `valores_penalty`.\n",
    "    * Llave `solver` y valor `valores_solver`."
   ]
  },
  {
   "cell_type": "code",
   "execution_count": 23,
   "metadata": {
    "deletable": false,
    "nbgrader": {
     "cell_type": "code",
     "checksum": "00f264e989e87050a2d9868740a7aec5",
     "grade": false,
     "grade_id": "E31",
     "locked": false,
     "schema_version": 3,
     "solution": true,
     "task": false
    }
   },
   "outputs": [],
   "source": [
    "valores_C = [0.1, 0.2, 0.5, 0.8, 1]\n",
    "valores_penalty = ['l1', 'l2']\n",
    "valores_solver = ['newton-cg', 'lbfgs', 'liblinear']\n",
    "# your code here\n",
    "param_grid = {'C': valores_C,\n",
    "              'penalty': valores_penalty,\n",
    "              'solver': valores_solver}"
   ]
  },
  {
   "cell_type": "code",
   "execution_count": 24,
   "metadata": {
    "deletable": false,
    "editable": false,
    "nbgrader": {
     "cell_type": "code",
     "checksum": "b0abe6d0ec188c1e653a1eeeefd016f3",
     "grade": true,
     "grade_id": "E31-tests",
     "locked": true,
     "points": 1,
     "schema_version": 3,
     "solution": false,
     "task": false
    }
   },
   "outputs": [
    {
     "name": "stdout",
     "output_type": "stream",
     "text": [
      "¡'param_grid' está definida correctamente!\n"
     ]
    }
   ],
   "source": [
    "#---------- Celda de Pruebas ----------\n",
    "# La variable \"param_grid\" existe\n",
    "# La variable \"param_grid\" es un diccionario\n",
    "# La variable tiene la longitud correcta\n",
    "#--------------------------------------\n",
    "\n",
    "# Se verifica que \"param_grid\" está definida\n",
    "assert param_grid is not None, \"Asegúrate de definir la variable \\'param_grid\\' correctamente.\"\n",
    "\n",
    "# Se verifica que \"param_grid\" sea un diccionario\n",
    "assert isinstance(param_grid, dict), \"El resultado debe ser un diccionario de Python, es decir, no necesitas ninguna función específica de ninguna librería para definir la variable.\"\n",
    "\n",
    "# Se evalúa la longitud de la variable\n",
    "assert len(param_grid) == 3, \"\\'param_grid\\' debe contener tres tuplas.\"\n",
    "print(\"¡\\'param_grid\\' está definida correctamente!\")"
   ]
  },
  {
   "cell_type": "markdown",
   "metadata": {
    "deletable": false,
    "editable": false,
    "nbgrader": {
     "cell_type": "markdown",
     "checksum": "22fa01cc4ad1f48f9759fc3261208723",
     "grade": false,
     "grade_id": "cell-f21ea21a73b9a66d",
     "locked": true,
     "schema_version": 3,
     "solution": false,
     "task": false
    }
   },
   "source": [
    "### Ejercicio 3.2.\n",
    "\n",
    "Finalmente, el último paso antes de realizar la búsqueda de hiperparámetros es crear el objeto de tipo `GridSearchCV`. Utiliza las variables `reglog`, `param_grid` y `kfold` para definirlo:\n",
    "\n",
    "* Define una variable con el nombre `grid` y asígnale la función necesaria para crear un objeto de la clase `GridSearchCV`. (**Ejemplo: `grid = <<Función>>`**)\n",
    "* Utiliza el parámetro `scoring='accuracy'` para que se seleccione el mejor modelo de acuerdo con los valores de exactitud."
   ]
  },
  {
   "cell_type": "code",
   "execution_count": 25,
   "metadata": {
    "deletable": false,
    "nbgrader": {
     "cell_type": "code",
     "checksum": "334c5e0067a5868725b22e9953edf1ec",
     "grade": false,
     "grade_id": "E32",
     "locked": false,
     "schema_version": 3,
     "solution": true,
     "task": false
    }
   },
   "outputs": [],
   "source": [
    "# your code here\n",
    "grid = GridSearchCV(reglog, param_grid, cv=kfold, scoring='accuracy', n_jobs=-1)"
   ]
  },
  {
   "cell_type": "code",
   "execution_count": 26,
   "metadata": {
    "deletable": false,
    "editable": false,
    "nbgrader": {
     "cell_type": "code",
     "checksum": "88d38eb7951aa261b848e707dd6e93e9",
     "grade": true,
     "grade_id": "E32-tests",
     "locked": true,
     "points": 1,
     "schema_version": 3,
     "solution": false,
     "task": false
    }
   },
   "outputs": [
    {
     "name": "stdout",
     "output_type": "stream",
     "text": [
      "¡'grid' está definida correctamente!\n"
     ]
    }
   ],
   "source": [
    "#---------- Celda de Pruebas ----------\n",
    "# La variable \"grid\" existe\n",
    "# La variable \"grid\" es un objeto de la clase GridSearchCV\n",
    "# La variable \"grid\" usa la exactitud como método de selección\n",
    "#--------------------------------------\n",
    "\n",
    "# Se verifica que \"grid\" está definida\n",
    "assert grid is not None, \"Asegúrate de definir la variable \\'grid\\' correctamente.\"\n",
    "\n",
    "# Se verifica que \"grid\" es un objeto de la clase GridSearchCV\n",
    "assert type(grid) == GridSearchCV, \"La variable \\'grid\\' debe ser un objeto de la clase GridSearchCV.\"\n",
    "\n",
    "# Se verifica que \"grid\" tiene un atributo \"scoring\" igual a \"accuracy\"\n",
    "assert grid.scoring == 'accuracy', \"La variable \\'grid\\' debe usar la exactitud como método de selección.\"\n",
    "print(\"¡\\'grid\\' está definida correctamente!\")"
   ]
  },
  {
   "cell_type": "markdown",
   "metadata": {
    "deletable": false,
    "editable": false,
    "nbgrader": {
     "cell_type": "markdown",
     "checksum": "29ef49de95d88ab5be1c7d32062d44ed",
     "grade": false,
     "grade_id": "cell-550dd079ef0c8079",
     "locked": true,
     "schema_version": 3,
     "solution": false,
     "task": false
    }
   },
   "source": [
    "### Ejercicio 3.3.\n",
    "\n",
    "A continuación, realiza la búsqueda de hiperparámetros utilizando el conjunto de entrenamiento, compuesto por las variables `x_train` y `y_train`.\n",
    "\n",
    "* Para este ejercicio no debes asignar tu resultado a ninguna variable. Es decir, solo debes ejecutar una función sobre la variable `grid`, utilizando las variables `x_train` y `y_train` como parámetros. (**Ejemplo: `grid.<<Función>>`**)"
   ]
  },
  {
   "cell_type": "code",
   "execution_count": 27,
   "metadata": {
    "deletable": false,
    "nbgrader": {
     "cell_type": "code",
     "checksum": "432e6bbc6e7be336f7583ec401a5d012",
     "grade": false,
     "grade_id": "E33",
     "locked": false,
     "schema_version": 3,
     "solution": true,
     "task": false
    }
   },
   "outputs": [
    {
     "data": {
      "text/plain": [
       "GridSearchCV(cv=KFold(n_splits=10, random_state=0, shuffle=True),\n",
       "             error_score=nan,\n",
       "             estimator=LogisticRegression(C=1.0, class_weight=None, dual=False,\n",
       "                                          fit_intercept=True,\n",
       "                                          intercept_scaling=1, l1_ratio=None,\n",
       "                                          max_iter=100, multi_class='auto',\n",
       "                                          n_jobs=None, penalty='l2',\n",
       "                                          random_state=None, solver='lbfgs',\n",
       "                                          tol=0.0001, verbose=0,\n",
       "                                          warm_start=False),\n",
       "             iid='deprecated', n_jobs=-1,\n",
       "             param_grid={'C': [0.1, 0.2, 0.5, 0.8, 1], 'penalty': ['l1', 'l2'],\n",
       "                         'solver': ['newton-cg', 'lbfgs', 'liblinear']},\n",
       "             pre_dispatch='2*n_jobs', refit=True, return_train_score=False,\n",
       "             scoring='accuracy', verbose=0)"
      ]
     },
     "execution_count": 27,
     "metadata": {},
     "output_type": "execute_result"
    }
   ],
   "source": [
    "# your code here\n",
    "grid.fit(x_train, y_train)"
   ]
  },
  {
   "cell_type": "code",
   "execution_count": 28,
   "metadata": {
    "deletable": false,
    "editable": false,
    "nbgrader": {
     "cell_type": "code",
     "checksum": "38070b8f94884f590bd23d11919690bc",
     "grade": true,
     "grade_id": "E33-tests",
     "locked": true,
     "points": 1,
     "schema_version": 3,
     "solution": false,
     "task": false
    }
   },
   "outputs": [
    {
     "name": "stdout",
     "output_type": "stream",
     "text": [
      "¡Se ha realizado la búsqueda de hiperparámetros correctamente!\n"
     ]
    }
   ],
   "source": [
    "#---------- Celda de Pruebas ----------\n",
    "# El atributo \"best_params_\" de la variable \"grid\" existe\n",
    "# El atributo \"best_estimator_\" de la variable \"grid\" existe\n",
    "#--------------------------------------\n",
    "\n",
    "# El atributo \"best_params_\" está definido\n",
    "assert grid.best_params_ is not None, \"Asegúrate de ejecutar la función de entrenamiento para generar un diccionario con los mejores hiperparámetros.\"\n",
    "\n",
    "# El atributo \"best_estimator_\" está definido\n",
    "assert grid.best_estimator_ is not None, \"Asegúrate de ejecutar la función de entrenamiento para generar un modelo de regresión logística.\"\n",
    "\n",
    "# Se verifica que \"grid\" haya generado tres mejores hiperparámetros\n",
    "assert len(grid.best_params_) == 3, \"Al ejecutar una función usando el objeto \\'grid\\', se deben generar tres tuplas con los hiperparámetros.\"\n",
    "\n",
    "# Se verifica que \"grid\" haya generado un modelo de regresión logística\n",
    "assert isinstance(grid.best_estimator_, LogisticRegression), \"Al ejecutar una función usando el objeto \\'grid\\', se debe generar un modelo de regresión logística.\"\n",
    "print(\"¡Se ha realizado la búsqueda de hiperparámetros correctamente!\")"
   ]
  },
  {
   "cell_type": "markdown",
   "metadata": {
    "deletable": false,
    "editable": false,
    "nbgrader": {
     "cell_type": "markdown",
     "checksum": "996dc55ef5300fc5d5583474559ca91a",
     "grade": false,
     "grade_id": "cell-02e6b2754d618ee0",
     "locked": true,
     "schema_version": 3,
     "solution": false,
     "task": false
    }
   },
   "source": [
    "Ahora obtendremos los mejores valores de los hiperparámetros usando `grid.best_params_`:"
   ]
  },
  {
   "cell_type": "code",
   "execution_count": 29,
   "metadata": {
    "deletable": false,
    "editable": false,
    "nbgrader": {
     "cell_type": "code",
     "checksum": "e3c83142a55c010e91d3e97d0028d559",
     "grade": false,
     "grade_id": "cell-3a16ef9bdc02a4a2",
     "locked": true,
     "schema_version": 3,
     "solution": false,
     "task": false
    }
   },
   "outputs": [
    {
     "name": "stdout",
     "output_type": "stream",
     "text": [
      "Mejores parámetros: {'C': 0.1, 'penalty': 'l2', 'solver': 'newton-cg'}\n"
     ]
    }
   ],
   "source": [
    "print(\"Mejores parámetros: {}\".format(grid.best_params_)) "
   ]
  },
  {
   "cell_type": "markdown",
   "metadata": {
    "deletable": false,
    "editable": false,
    "nbgrader": {
     "cell_type": "markdown",
     "checksum": "6b1bc3702d9a01a5f7418451c4fa1a07",
     "grade": false,
     "grade_id": "cell-ba44edc6cb47676b",
     "locked": true,
     "schema_version": 3,
     "solution": false,
     "task": false
    }
   },
   "source": [
    "Además, almacenaremos el mejor modelo utilizando `grid.best_estimator_`:"
   ]
  },
  {
   "cell_type": "code",
   "execution_count": 30,
   "metadata": {
    "deletable": false,
    "editable": false,
    "nbgrader": {
     "cell_type": "code",
     "checksum": "8f501173a6990eb375871d62933941ff",
     "grade": false,
     "grade_id": "cell-3707874de77d0c36",
     "locked": true,
     "schema_version": 3,
     "solution": false,
     "task": false
    }
   },
   "outputs": [],
   "source": [
    "mejor_modelo = grid.best_estimator_"
   ]
  },
  {
   "cell_type": "markdown",
   "metadata": {
    "deletable": false,
    "editable": false,
    "nbgrader": {
     "cell_type": "markdown",
     "checksum": "05421f262c7a2ada7c0c7296c3c550b8",
     "grade": false,
     "grade_id": "cell-1be6b52a44455d15",
     "locked": true,
     "schema_version": 3,
     "solution": false,
     "task": false
    }
   },
   "source": [
    "## 4. Evaluación del modelo\n",
    "\n",
    "Por último, evaluarás el modelo entrenado utilizando el conjunto de pruebas.\n",
    "\n",
    "### Ejercicio 4.1.\n",
    "\n",
    "Separa las variables independientes y la variable objetivo en el conjunto de pruebas. Para ello, utiliza Pandas para crear dos variables, `x_test` y `y_test`, que almacenarán las variables independientes y la variable objetivo, respectivamente.\n",
    "\n",
    "* Crea una variable con nombre `x_test` y asígnale la operación necesaria para almacenar solo las variables independientes del conjunto de pruebas. (**Ejemplo: `x_test = test.<<Función>>`**)\n",
    "* Crea una variable con nombre `y_test` y asígnale la operación necesaria para almacenar la variable objetivo del conjunto de pruebas. (**Ejemplo: `y_test = <<Consulta>>`**)"
   ]
  },
  {
   "cell_type": "code",
   "execution_count": 31,
   "metadata": {
    "deletable": false,
    "nbgrader": {
     "cell_type": "code",
     "checksum": "0e7fcda78ad34849ea4cfd21c22c043f",
     "grade": false,
     "grade_id": "E41",
     "locked": false,
     "schema_version": 3,
     "solution": true,
     "task": false
    }
   },
   "outputs": [],
   "source": [
    "# Tu respuesta deben ser dos líneas consecutivas:\n",
    "#    x_test = test.<<Función>>\n",
    "#    y_test = <<Consulta>>\n",
    "# your code here\n",
    "x_test = test.drop(['Attrition'],axis=1)\n",
    "y_test = test['Attrition']"
   ]
  },
  {
   "cell_type": "code",
   "execution_count": 32,
   "metadata": {
    "deletable": false,
    "editable": false,
    "nbgrader": {
     "cell_type": "code",
     "checksum": "16ca8a94c3ed9b47457159c22eafd941",
     "grade": true,
     "grade_id": "E41-tests",
     "locked": true,
     "points": 1,
     "schema_version": 3,
     "solution": false,
     "task": false
    }
   },
   "outputs": [
    {
     "name": "stdout",
     "output_type": "stream",
     "text": [
      "¡Los conjuntos 'x_test' y 'y_test' tienen las dimensiones correctas!\n"
     ]
    }
   ],
   "source": [
    "#---------- Celda de Pruebas ----------\n",
    "# Las variables existen\n",
    "# La variable \"x_test\" es un DataFrame\n",
    "# La variable \"y_test\" es una Serie de Pandas\n",
    "# Las variables tienen las dimensiones correctas\n",
    "#--------------------------------------\n",
    "\n",
    "# Se verifica que las variables están definidas\n",
    "assert x_test is not None, \"Asegúrate de definir la variable con el nombre correcto.\"\n",
    "assert y_test is not None, \"Asegúrate de definir la variable con el nombre correcto.\"\n",
    "\n",
    "# Se verifica que \"x_test\" sea un DataFrame\n",
    "assert isinstance(x_test, pd.DataFrame), \"El resultado debe ser un DataFrame.\"\n",
    "\n",
    "# Se verifica que \"y_test\" sea una Serie\n",
    "assert isinstance(y_test, pd.Series), \"El resultado debe ser una Serie de Pandas.\"\n",
    "\n",
    "# Se evalúan las dimensiones de las variables\n",
    "assert x_test.shape == (294,52), \"\\'x_test\\' debe tener el mismo número de filas pero una columna menos que \\'test\\'.\"\n",
    "assert y_test.shape == (294,), \"\\'y_test\\' solamente contiene una columna.\"\n",
    "print(\"¡Los conjuntos \\'x_test\\' y \\'y_test\\' tienen las dimensiones correctas!\")"
   ]
  },
  {
   "cell_type": "markdown",
   "metadata": {
    "deletable": false,
    "editable": false,
    "nbgrader": {
     "cell_type": "markdown",
     "checksum": "1110679be1d3a7273dea5094ef9ed7de",
     "grade": false,
     "grade_id": "cell-1049dc61a5e5b121",
     "locked": true,
     "schema_version": 3,
     "solution": false,
     "task": false
    }
   },
   "source": [
    "### Ejercicio 4.2.\n",
    "\n",
    "Realiza la estandarización de los datos del conjunto de pruebas. Modifica el conjunto de variables independientes, `x_test`, con las operaciones necesarias para estandarizarlo. Particularmente, deberás seguir estos pasos:\n",
    "\n",
    "* Utiliza la variable `scaler` para transformar los datos de `x_test` utilizando **solamente la información del conjunto de entrenamiento**. Asigna el resultado a la misma variable, sobreescribiendo su contenido. (**Ejemplo: `x_test = scaler.<<Función>>`**)\n",
    "* Reconstruye el DataFrame de variables independientes utilizando la información almacenada en `columns`. Asigna el resultado a `x_test`. (**Ejemplo: `x_test = <<Función>>`**)"
   ]
  },
  {
   "cell_type": "code",
   "execution_count": 33,
   "metadata": {
    "deletable": false,
    "nbgrader": {
     "cell_type": "code",
     "checksum": "8207d8c364c4c9c4112412066124625b",
     "grade": false,
     "grade_id": "E42",
     "locked": false,
     "schema_version": 3,
     "solution": true,
     "task": false
    }
   },
   "outputs": [],
   "source": [
    "# your code here\n",
    "x_test = scaler.transform(x_test) #?solamente la información del conjunto de entrenamiento.?\n",
    "x_test = pd.DataFrame(x_test, columns=columns)"
   ]
  },
  {
   "cell_type": "code",
   "execution_count": 34,
   "metadata": {
    "deletable": false,
    "editable": false,
    "nbgrader": {
     "cell_type": "code",
     "checksum": "64d141e0af4130a2cb66a241620dd365",
     "grade": true,
     "grade_id": "E42-tests",
     "locked": true,
     "points": 1,
     "schema_version": 3,
     "solution": false,
     "task": false
    }
   },
   "outputs": [
    {
     "name": "stdout",
     "output_type": "stream",
     "text": [
      "¡'x_test' es un DataFrame con las dimensiones correctas!\n"
     ]
    }
   ],
   "source": [
    "#---------- Celda de Pruebas ----------\n",
    "# La variable \"x_test\" es un DataFrame\n",
    "# La variable tiene las dimensiones correctas\n",
    "#--------------------------------------\n",
    "\n",
    "# Se verifica que \"x_test\" sea un DataFrame\n",
    "assert isinstance(x_test, pd.DataFrame), \"El resultado debe ser un DataFrame.\"\n",
    "\n",
    "# Se evalúan las dimensiones de la variable\n",
    "assert x_test.shape == (294,52), \"\\'x_test\\' debe mantener las mismas dimensiones, solo se modifican sus valores.\"\n",
    "print(\"¡\\'x_test\\' es un DataFrame con las dimensiones correctas!\")"
   ]
  },
  {
   "cell_type": "markdown",
   "metadata": {
    "deletable": false,
    "editable": false,
    "nbgrader": {
     "cell_type": "markdown",
     "checksum": "c7563a5d84cb81cc630895d1b1657bc1",
     "grade": false,
     "grade_id": "cell-44c22b5df843dcae",
     "locked": true,
     "schema_version": 3,
     "solution": false,
     "task": false
    }
   },
   "source": [
    "### Ejercicio 4.3.\n",
    "\n",
    "Con el conjunto de pruebas preparado, realiza predicciones con el fin de compararlas con los valores reales almacenados en `y_test`.\n",
    "\n",
    "* Utiliza la variable `mejor_modelo` para realizar las predicciones sobre el mejor modelo. Asigna el resultado a una variable con nombre `y_pred` (**Ejemplo: `y_pred = mejor_modelo.<<Función>>`**)."
   ]
  },
  {
   "cell_type": "code",
   "execution_count": 35,
   "metadata": {
    "deletable": false,
    "nbgrader": {
     "cell_type": "code",
     "checksum": "5016521a46eb504f3b97ab980501d1f4",
     "grade": false,
     "grade_id": "E43",
     "locked": false,
     "schema_version": 3,
     "solution": true,
     "task": false
    }
   },
   "outputs": [],
   "source": [
    "# your code here\n",
    "y_pred = mejor_modelo.predict(x_test)"
   ]
  },
  {
   "cell_type": "code",
   "execution_count": 36,
   "metadata": {
    "deletable": false,
    "editable": false,
    "nbgrader": {
     "cell_type": "code",
     "checksum": "ad3aff396260930bc65ae636a66b930c",
     "grade": true,
     "grade_id": "E43-tests",
     "locked": true,
     "points": 1,
     "schema_version": 3,
     "solution": false,
     "task": false
    }
   },
   "outputs": [
    {
     "name": "stdout",
     "output_type": "stream",
     "text": [
      "¡'y_pred' es un arreglo con las dimensiones correctas!\n"
     ]
    }
   ],
   "source": [
    "#---------- Celda de Pruebas ----------\n",
    "# La variable \"y_pred\" existe\n",
    "# La variable \"y_pred\" es un arreglo\n",
    "# La variable \"y_pred\" tiene las dimensiones correctas\n",
    "#--------------------------------------\n",
    "\n",
    "# Se verifica que \"y_pred\" está definida\n",
    "assert y_pred is not None, \"Asegúrate de definir la variable con el nombre correcto.\"\n",
    "\n",
    "# Se verifica que \"y_pred\" sea un arreglo\n",
    "assert isinstance(y_pred, np.ndarray), \"El resultado debe ser un arreglo de Numpy.\"\n",
    "\n",
    "# Se evalúan las dimensiones de \"y_pred\"\n",
    "assert y_pred.shape == (294,), \"\\'y_pred\\' debe tener el mismo número de filas (predicciones) que \\'x_test\\' y \\'y_test\\'.\"\n",
    "print(\"¡\\'y_pred\\' es un arreglo con las dimensiones correctas!\")"
   ]
  },
  {
   "cell_type": "markdown",
   "metadata": {
    "deletable": false,
    "editable": false,
    "nbgrader": {
     "cell_type": "markdown",
     "checksum": "4e976dd5a6749732bea19f5a3f2f7acb",
     "grade": false,
     "grade_id": "cell-3f9824e3ca81ec7e",
     "locked": true,
     "schema_version": 3,
     "solution": false,
     "task": false
    }
   },
   "source": [
    "### Ejercicio 4.4.\n",
    "\n",
    "Utiliza el conjunto de predicciones `y_pred` y el conjunto de valores reales `y_test` para obtener la matriz de confusión del mejor modelo.\n",
    "\n",
    "* Haz un llamado a la función que retorna la matriz de confusión como un arreglo. Asigna el resultado a una nueva variable con el nombre `p44` (**Ejemplo: `p44 = <<Función>>`**).\n",
    "* Encontrarás la línea `p44` al final de la celda. Esta línea se usa para que puedas visualizar la matriz resultante, por lo que no la debes modificar."
   ]
  },
  {
   "cell_type": "code",
   "execution_count": 37,
   "metadata": {
    "deletable": false,
    "nbgrader": {
     "cell_type": "code",
     "checksum": "cc2c9c3ab0289fc4bf42fb8b1332f647",
     "grade": false,
     "grade_id": "E44",
     "locked": false,
     "schema_version": 3,
     "solution": true,
     "task": false
    }
   },
   "outputs": [
    {
     "data": {
      "text/plain": [
       "array([[241,   4],\n",
       "       [ 29,  20]])"
      ]
     },
     "execution_count": 37,
     "metadata": {},
     "output_type": "execute_result"
    }
   ],
   "source": [
    "# your code here\n",
    "p44 = confusion_matrix(y_test, y_pred)\n",
    "p44"
   ]
  },
  {
   "cell_type": "code",
   "execution_count": 38,
   "metadata": {},
   "outputs": [
    {
     "data": {
      "image/png": "[encoded data removed]",
      "text/plain": [
       "<Figure size 432x288 with 2 Axes>"
      ]
     },
     "metadata": {
      "needs_background": "light"
     },
     "output_type": "display_data"
    }
   ],
   "source": [
    "import matplotlib.pyplot as plt\n",
    "from sklearn.metrics import plot_confusion_matrix\n",
    "plot_confusion_matrix(mejor_modelo, x_test, y_test)  \n",
    "plt.show()"
   ]
  },
  {
   "cell_type": "code",
   "execution_count": 39,
   "metadata": {
    "deletable": false,
    "editable": false,
    "nbgrader": {
     "cell_type": "code",
     "checksum": "e8b12de1e66cb0a9f29d93535b85d90d",
     "grade": true,
     "grade_id": "E44-tests",
     "locked": true,
     "points": 1,
     "schema_version": 3,
     "solution": false,
     "task": false
    }
   },
   "outputs": [
    {
     "name": "stdout",
     "output_type": "stream",
     "text": [
      "¡'p44' es un arreglo con las dimensiones correctas!\n"
     ]
    }
   ],
   "source": [
    "#---------- Celda de Pruebas ----------\n",
    "# La variable \"p44\" existe\n",
    "# La variable \"p44\" es un arreglo de numpy\n",
    "# La variable \"p44\" tiene las dimensiones correctas\n",
    "#--------------------------------------\n",
    "\n",
    "# Se verifica que \"p44\" está definida\n",
    "assert p44 is not None, \"Asegúrate de definir la variable con el nombre correcto.\"\n",
    "\n",
    "# Se verifica que \"p44\" sea un arreglo de numpy\n",
    "assert isinstance(p44, np.ndarray), \"El resultado debe ser un arreglo de Numpy.\"\n",
    "\n",
    "# Se evalúan las dimensiones de \"p44\"\n",
    "assert p44.shape == (2,2), \"\\'p44\\' debe tener dos filas y dos columnas, equivalente al número de clases del problema.\"\n",
    "print(\"¡\\'p44\\' es un arreglo con las dimensiones correctas!\")"
   ]
  },
  {
   "cell_type": "markdown",
   "metadata": {
    "deletable": false,
    "editable": false,
    "nbgrader": {
     "cell_type": "markdown",
     "checksum": "dd156d7b5ba9560f0dd0b00a2f363c51",
     "grade": false,
     "grade_id": "cell-be22f39fdda45b38",
     "locked": true,
     "schema_version": 3,
     "solution": false,
     "task": false
    }
   },
   "source": [
    "### Ejercicio 4.5.\n",
    "\n",
    "Finalmente, obtén cuatro métricas de rendimiento utilizando las predicciones del modelo.\n",
    "\n",
    "#### Ejercicio 4.5.1.\n",
    "\n",
    "Utiliza `scikit-learn` para obtener la exactitud (accuracy).\n",
    "\n",
    "* Define una variable con el nombre `accuracy` y asígnale la función necesaria para obtener la exactitud (`accuracy = <<Función>>`).\n",
    "* Encontrarás una línea que mostrará tu resultado. Esta línea debe ir al final y no la debes modificar."
   ]
  },
  {
   "cell_type": "code",
   "execution_count": 40,
   "metadata": {
    "deletable": false,
    "nbgrader": {
     "cell_type": "code",
     "checksum": "542ef82ba50c9639ecf0cbf39b6e1aa7",
     "grade": false,
     "grade_id": "E451",
     "locked": false,
     "schema_version": 3,
     "solution": true,
     "task": false
    }
   },
   "outputs": [
    {
     "name": "stdout",
     "output_type": "stream",
     "text": [
      "Exactitud:  0.8877551020408163\n"
     ]
    }
   ],
   "source": [
    "# your code here\n",
    "accuracy = accuracy_score(y_test, y_pred)\n",
    "print(\"Exactitud: \", accuracy)"
   ]
  },
  {
   "cell_type": "code",
   "execution_count": 41,
   "metadata": {
    "deletable": false,
    "editable": false,
    "nbgrader": {
     "cell_type": "code",
     "checksum": "4d00e3ac8c963b71975740af31907643",
     "grade": true,
     "grade_id": "E451-tests",
     "locked": true,
     "points": 1,
     "schema_version": 3,
     "solution": false,
     "task": false
    }
   },
   "outputs": [
    {
     "name": "stdout",
     "output_type": "stream",
     "text": [
      "¡'accuracy' es un número válido!\n"
     ]
    }
   ],
   "source": [
    "#---------- Celda de Pruebas ----------\n",
    "# La variable \"accuracy\" existe\n",
    "# La variable \"accuracy\" es un número\n",
    "# La variable \"accuracy\" tiene un valor válido\n",
    "#--------------------------------------\n",
    "\n",
    "# Se verifica que \"accuracy\" está definida\n",
    "assert accuracy is not None, \"Asegúrate de definir la variable con el nombre correcto.\"\n",
    "\n",
    "# Se verifica que \"accuracy\" sea un número\n",
    "assert isinstance(accuracy, np.float64) or isinstance(accuracy, float), \"El resultado debe ser un número decimal.\"\n",
    "\n",
    "# Se verifica que \"accuracy\" tiene un valor válido\n",
    "assert accuracy >= 0 and accuracy <= 1, \"\\'accuracy\\' debe tener un valor entre 0 y 1.\"\n",
    "print(\"¡\\'accuracy\\' es un número válido!\")"
   ]
  },
  {
   "cell_type": "markdown",
   "metadata": {
    "deletable": false,
    "editable": false,
    "nbgrader": {
     "cell_type": "markdown",
     "checksum": "2fecfe6768309613aa6fd23a59ea0d9d",
     "grade": false,
     "grade_id": "cell-85e60ea8e7d1c58b",
     "locked": true,
     "schema_version": 3,
     "solution": false,
     "task": false
    }
   },
   "source": [
    "#### Ejercicio 4.5.2.\n",
    "\n",
    "Utiliza `scikit-learn` para obtener la sensibilidad (recall).\n",
    "\n",
    "* Define una variable con el nombre `recall` y asígnale la función necesaria para obtener la sensibilidad (`recall = <<Función>>`).\n",
    "* Encontrarás una línea que mostrará tu resultado. Esta línea debe ir al final y no la debes modificar."
   ]
  },
  {
   "cell_type": "code",
   "execution_count": 42,
   "metadata": {
    "deletable": false,
    "nbgrader": {
     "cell_type": "code",
     "checksum": "a6c79ea9b7811a7730701cd70bf185cd",
     "grade": false,
     "grade_id": "E452",
     "locked": false,
     "schema_version": 3,
     "solution": true,
     "task": false
    }
   },
   "outputs": [
    {
     "name": "stdout",
     "output_type": "stream",
     "text": [
      "Sensibilidad:  0.40816326530612246\n"
     ]
    }
   ],
   "source": [
    "# your code here\n",
    "recall = recall_score(y_test,y_pred)\n",
    "print(\"Sensibilidad: \", recall)"
   ]
  },
  {
   "cell_type": "code",
   "execution_count": 43,
   "metadata": {
    "deletable": false,
    "editable": false,
    "nbgrader": {
     "cell_type": "code",
     "checksum": "d8d94e9b369c4ff6999f70df525ed17e",
     "grade": true,
     "grade_id": "E452-tests",
     "locked": true,
     "points": 1,
     "schema_version": 3,
     "solution": false,
     "task": false
    }
   },
   "outputs": [
    {
     "name": "stdout",
     "output_type": "stream",
     "text": [
      "¡'recall' es un número válido!\n"
     ]
    }
   ],
   "source": [
    "#---------- Celda de Pruebas ----------\n",
    "# La variable \"recall\" existe\n",
    "# La variable \"recall\" es un número\n",
    "# La variable \"recall\" tiene un valor válido\n",
    "#--------------------------------------\n",
    "\n",
    "# Se verifica que \"recall\" está definida\n",
    "assert recall is not None, \"Asegúrate de definir la variable con el nombre correcto.\"\n",
    "\n",
    "# Se verifica que \"recall\" sea un número\n",
    "assert isinstance(recall, np.float64) or isinstance(recall, float), \"El resultado debe ser un número decimal.\"\n",
    "\n",
    "# Se verifica que \"recall\" tiene un valor válido\n",
    "assert recall >= 0 and recall <= 1, \"\\'recall\\' debe tener un valor entre 0 y 1.\"\n",
    "print(\"¡\\'recall\\' es un número válido!\")"
   ]
  },
  {
   "cell_type": "markdown",
   "metadata": {
    "deletable": false,
    "editable": false,
    "nbgrader": {
     "cell_type": "markdown",
     "checksum": "b954144e20c2a181aeab0953df6ec584",
     "grade": false,
     "grade_id": "cell-2a6dde53730f5194",
     "locked": true,
     "schema_version": 3,
     "solution": false,
     "task": false
    }
   },
   "source": [
    "#### Ejercicio 4.5.3.\n",
    "\n",
    "Utiliza `scikit-learn` para obtener la precisión.\n",
    "\n",
    "* Define una variable con el nombre `precision` y asígnale la función necesaria para obtener la precisión (`precision = <<Función>>`).\n",
    "* Encontrarás una línea que mostrará tu resultado. Esta línea debe ir al final y no la debes modificar."
   ]
  },
  {
   "cell_type": "code",
   "execution_count": 44,
   "metadata": {
    "deletable": false,
    "nbgrader": {
     "cell_type": "code",
     "checksum": "ed254ec8d5d88b33af3f9c886e00ef07",
     "grade": false,
     "grade_id": "E453",
     "locked": false,
     "schema_version": 3,
     "solution": true,
     "task": false
    }
   },
   "outputs": [
    {
     "name": "stdout",
     "output_type": "stream",
     "text": [
      "Precisión:  0.8333333333333334\n"
     ]
    }
   ],
   "source": [
    "# your code here\n",
    "precision = precision_score(y_test,y_pred)\n",
    "print('Precisión: ', precision)"
   ]
  },
  {
   "cell_type": "code",
   "execution_count": 45,
   "metadata": {
    "deletable": false,
    "editable": false,
    "nbgrader": {
     "cell_type": "code",
     "checksum": "6229d0e793d71b84964fb594d53f1ede",
     "grade": true,
     "grade_id": "E453-tests",
     "locked": true,
     "points": 1,
     "schema_version": 3,
     "solution": false,
     "task": false
    }
   },
   "outputs": [
    {
     "name": "stdout",
     "output_type": "stream",
     "text": [
      "¡'precision' es un número válido!\n"
     ]
    }
   ],
   "source": [
    "#---------- Celda de Pruebas ----------\n",
    "# La variable \"precision\" existe\n",
    "# La variable \"precision\" es un número\n",
    "# La variable \"precision\" tiene un valor válido\n",
    "#--------------------------------------\n",
    "\n",
    "# Se verifica que \"precision\" está definida\n",
    "assert precision is not None, \"Asegúrate de definir la variable con el nombre correcto.\"\n",
    "\n",
    "# Se verifica que \"precision\" sea un número\n",
    "assert isinstance(precision, np.float64) or isinstance(precision, float), \"El resultado debe ser un número decimal.\"\n",
    "\n",
    "# Se verifica que \"precision\" tiene un valor válido\n",
    "assert precision >= 0 and precision <= 1, \"\\'precision\\' debe tener un valor entre 0 y 1.\"\n",
    "print(\"¡\\'precision\\' es un número válido!\")"
   ]
  },
  {
   "cell_type": "markdown",
   "metadata": {
    "deletable": false,
    "editable": false,
    "nbgrader": {
     "cell_type": "markdown",
     "checksum": "39e9248903c7197a5428b029e0d0547c",
     "grade": false,
     "grade_id": "cell-ee340cc10c18fb5b",
     "locked": true,
     "schema_version": 3,
     "solution": false,
     "task": false
    }
   },
   "source": [
    "#### Ejercicio 4.5.4.\n",
    "\n",
    "Utiliza `scikit-learn` para obtener el F1-Score.\n",
    "\n",
    "* Define una variable con el nombre `f1_score` y asígnale la función necesaria para obtener el F1-Score (`f1_score = <<Función>>`).\n",
    "* Encontrarás una línea que mostrará tu resultado. Esta línea debe ir al final y no la debes modificar."
   ]
  },
  {
   "cell_type": "code",
   "execution_count": 46,
   "metadata": {
    "deletable": false,
    "nbgrader": {
     "cell_type": "code",
     "checksum": "4b5dc0f6950ed43ec61c1f93c07a762f",
     "grade": false,
     "grade_id": "E454",
     "locked": false,
     "schema_version": 3,
     "solution": true,
     "task": false
    }
   },
   "outputs": [
    {
     "name": "stdout",
     "output_type": "stream",
     "text": [
      "F1-Score:  0.547945205479452\n"
     ]
    }
   ],
   "source": [
    "# your code here\n",
    "f1_score = f1_score(y_test,y_pred)\n",
    "print('F1-Score: ', f1_score)"
   ]
  },
  {
   "cell_type": "code",
   "execution_count": 47,
   "metadata": {
    "deletable": false,
    "editable": false,
    "nbgrader": {
     "cell_type": "code",
     "checksum": "af1126e6abcb11a8ac96133766e7fe6b",
     "grade": true,
     "grade_id": "E454-tests",
     "locked": true,
     "points": 1,
     "schema_version": 3,
     "solution": false,
     "task": false
    }
   },
   "outputs": [
    {
     "name": "stdout",
     "output_type": "stream",
     "text": [
      "¡'f1_score' es un número válido!\n"
     ]
    }
   ],
   "source": [
    "#---------- Celda de Pruebas ----------\n",
    "# La variable \"f1_score\" existe\n",
    "# La variable \"f1_score\" es un número\n",
    "# La variable \"f1_score\" tiene un valor válido\n",
    "#--------------------------------------\n",
    "\n",
    "# Se verifica que \"f1_score\" está definida\n",
    "assert f1_score is not None, \"Asegúrate de definir la variable con el nombre correcto.\"\n",
    "\n",
    "# Se verifica que \"f1_score\" sea un número\n",
    "assert isinstance(f1_score, np.float64) or isinstance(f1_score, float), \"El resultado debe ser un número decimal.\"\n",
    "\n",
    "# Se verifica que \"f1_score\" tiene un valor válido\n",
    "assert f1_score >= 0 and f1_score <= 1, \"\\'f1_score\\' debe tener un valor entre 0 y 1.\"\n",
    "print(\"¡\\'f1_score\\' es un número válido!\")"
   ]
  },
  {
   "cell_type": "code",
   "execution_count": 48,
   "metadata": {},
   "outputs": [],
   "source": [
    "from sklearn.metrics import confusion_matrix, classification_report"
   ]
  },
  {
   "cell_type": "code",
   "execution_count": 49,
   "metadata": {},
   "outputs": [
    {
     "name": "stdout",
     "output_type": "stream",
     "text": [
      "              precision    recall  f1-score   support\n",
      "\n",
      "           0       0.89      0.98      0.94       245\n",
      "           1       0.83      0.41      0.55        49\n",
      "\n",
      "    accuracy                           0.89       294\n",
      "   macro avg       0.86      0.70      0.74       294\n",
      "weighted avg       0.88      0.89      0.87       294\n",
      "\n"
     ]
    }
   ],
   "source": [
    "print(classification_report(y_test, y_pred))"
   ]
  },
  {
   "cell_type": "markdown",
   "metadata": {
    "deletable": false,
    "editable": false,
    "nbgrader": {
     "cell_type": "markdown",
     "checksum": "7af174a7659951bd730bdebe235d803e",
     "grade": false,
     "grade_id": "cell-b62ac1ed4880ac7e",
     "locked": true,
     "schema_version": 3,
     "solution": false,
     "task": false
    }
   },
   "source": [
    "## Cierre\n",
    "\n",
    "Al realizar los ejercicios de este taller, has reforzado tus capacidades para codificar variables categóricas usando la codificación One Hot, realizar una búsqueda exhaustiva de hiperparámetros y evaluar el mejor modelo de regresión logística resultante utilizando la matriz de confusión y cuatro métricas de rendimiento. \n",
    "\n",
    "---\n",
    "*Creado por: Nicolás Díaz*  \n",
    "*Revisado por: Haydemar Nuñez*  \n",
    "*Versión de: Agosto 30, 2023*  \n",
    "*Universidad de los Andes*   "
   ]
  }
 ],
 "metadata": {
  "kernelspec": {
   "display_name": "Python 3",
   "language": "python",
   "name": "python3"
  },
  "language_info": {
   "codemirror_mode": {
    "name": "ipython",
    "version": 3
   },
   "file_extension": ".py",
   "mimetype": "text/x-python",
   "name": "python",
   "nbconvert_exporter": "python",
   "pygments_lexer": "ipython3",
   "version": "3.7.6"
  }
 },
 "nbformat": 4,
 "nbformat_minor": 4
}
