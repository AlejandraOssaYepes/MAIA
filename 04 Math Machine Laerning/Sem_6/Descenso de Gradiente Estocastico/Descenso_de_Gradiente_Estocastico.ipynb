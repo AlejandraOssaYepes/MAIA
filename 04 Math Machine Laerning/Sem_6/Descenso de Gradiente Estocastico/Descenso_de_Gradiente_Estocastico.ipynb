{
 "cells": [
  {
   "cell_type": "markdown",
   "metadata": {},
   "source": [
    "![Banner](img/banner.png)"
   ]
  },
  {
   "cell_type": "markdown",
   "metadata": {},
   "source": [
    "# **Actividad No.3:** Descenso de Gradiente Estocástico\n",
    "\n",
    "***Matemáticas para Machine Learning***.\n",
    "\n",
    "**Semana 6 - Lección 3:** Mínimos locales y globales de una función.\n",
    "\n",
    "**Profesor:** *Fernando Lozano* - **Autor Notebook:** *Sergio David Salazar Isairias*"
   ]
  },
  {
   "cell_type": "markdown",
   "metadata": {},
   "source": [
    "# Introducción"
   ]
  },
  {
   "cell_type": "markdown",
   "metadata": {},
   "source": [
    "## Descripción"
   ]
  },
  {
   "cell_type": "markdown",
   "metadata": {},
   "source": [
    "El presente *jupyter notebook* contine todo el material para el desarrollo de la actividad 3 de la semana 6 del curso ***Matemáticas para Machine Learning***, correspondiente a la lección 3: Descenso de gradiente estocástico. En este se utilizará el conocimiento adquirido para implementar el algoritmo de descenso de gradiente estocástico.\n",
    "\n",
    "**Objetivos de Aprendizaje:**\n",
    "\n",
    "*   Implementar el algoritmo de descenso de gradiente estocástico."
   ]
  },
  {
   "cell_type": "markdown",
   "metadata": {},
   "source": [
    "## Metodología"
   ]
  },
  {
   "cell_type": "markdown",
   "metadata": {},
   "source": [
    "Para desarrollar el taller usted deberá editar las celdas de código dispuestas para esto. Estas estarán marcadas con el siguiente comentario:\n",
    "\n",
    "```python\n",
    "# =====================================================\n",
    "# COMPLETAR ===========================================\n",
    "# \n",
    "\n",
    "# =====================================================\n",
    "```\n",
    "\n",
    "Edite o complete el códgio dentro de estas lineas de comentarios. Dentro de estos comentarios encontrará indicaciónes de lo que debe hacer, así como algunas de las variables que debe utilizar o calcular (puede que estas tengan ya una estructura para llenar o esten solo igualadas a None, complete la asignación)."
   ]
  },
  {
   "cell_type": "markdown",
   "metadata": {},
   "source": [
    "# Teoría"
   ]
  },
  {
   "cell_type": "markdown",
   "metadata": {},
   "source": [
    "Recordemos el concepto de regresión lineal en multiples variables, introducido la semana pasada. Este modelo matemático busca aproximar la relación entre una variable independiente ($x$) y una dependiente ($y$) a partir de unos parámetros ($W$).\n",
    "\n",
    "\\begin{equation}\n",
    "\\hat{y} = w_1 x_1 + w_2 x_2 + ... + w_n x_n + b = W^TX + b\n",
    "\\end{equation}\n",
    "\n",
    "Donde $\\hat{y}$ corresponde a la estimación de la variable dependiente, a partir de los datos $x$ y los parámetros $W$.\n",
    "\n",
    "Es común definir $x_0 = 1$ y $w_0 = b$, con esta convención la fórmula de regresión se simplifica a:\n",
    "\n",
    "\\begin{equation}\n",
    "\\hat{y} = W^TX\n",
    "\\end{equation}\n",
    "\n",
    "En este taller usted estimará los parámetros $W$, que produzcan la mejor estimación de $y$ a partir de los datos $x$. No obstante, y a diferencia de la semana pasada, está vez lo hará utilizando una aproximación diferente: Decenso de gradiente estocástico."
   ]
  },
  {
   "cell_type": "markdown",
   "metadata": {},
   "source": [
    "## Gradiente Estocástico"
   ]
  },
  {
   "cell_type": "markdown",
   "metadata": {},
   "source": [
    "Igual que en el taller de la Semana 5, se desea estimar los parámetros $\\hat{W}$ que mejor ajusten la relación entre $x$ y $y$. Para esto, usted va a querer minimizar el la diferencia entre el dato ($y$) y la estimación del dato ($\\hat{y}$). De forma más especifica usted va a querer minimizar la diferencia cuadrada, es decir:\n",
    "\n",
    "\\begin{align}\n",
    "E(W) &= (Y - \\hat{Y})^2 \\\\\n",
    "&= (Y - W^T X)^2 \n",
    "\\end{align}\n",
    "\n",
    "Note que esta función de error cuadrático únicamente depende de $W$, pues los $X$ y los $Y$ son los datos que se van a utlizar para ajustar la regresión. Ahora bien, en esta ocación usted va a iniciar con un valor inicial aleatorio para $\\hat{W}$ e irá actualizando dicho valor, tal que se minimice este error. \n",
    "\n",
    "-----------------------------\n",
    "__¿Cómo?__\n",
    "\n",
    "Actualizando $\\hat{W}$ en la dirección en la que minimice el error, es decir, en la diricción contraria al gradiente de $E(W)$. Así las cosas, lo que se desea es implementar el algoritmo de Descenso de Gradiente (GD):\n",
    "\n",
    "-----------------------------\n",
    "-----------------------------\n",
    "Inicialice $w_0$\n",
    "\n",
    "repeat\n",
    "\n",
    "$w_{k+1} = w_k - \\alpha \\bigtriangledown E(w)$\n",
    "    \n",
    "until Condición de terminación.\n",
    "\n",
    "-----------------------------\n",
    "\n",
    "Donde,\n",
    "\n",
    "*   $\\alpha$ será el tamaño del paso (también conocido como tasa de aprendizaje).\n",
    "*   $\\bigtriangledown E(w)$ será el gradiente del error, el cual en el caso estocástico será estimado a partir de una pequeña muestra de los datos o incluso a partir de un único dato en el caso extremo:\n",
    "\n",
    "\\begin{equation}\n",
    "\\bigtriangledown E(w) \\approx (W^T x_i - y_i)x_i\n",
    "\\end{equation}\n",
    "\n",
    "De esta manera, usted buscará implementar este algoritmo, de manera estocástica (utilizando un muestra o _mini-batch_ de los datos) a lo largo de este taller."
   ]
  },
  {
   "cell_type": "markdown",
   "metadata": {},
   "source": [
    "# Inicialización"
   ]
  },
  {
   "cell_type": "code",
   "execution_count": 1,
   "metadata": {},
   "outputs": [],
   "source": [
    "from sklearn.metrics import mean_squared_error\n",
    "from sklearn.preprocessing import OrdinalEncoder, MinMaxScaler, RobustScaler\n",
    "from sklearn.linear_model import LinearRegression\n",
    "from sklearn.model_selection import train_test_split\n",
    "from sklearn.metrics import mean_squared_error, r2_score\n",
    "\n",
    "import numpy as np\n",
    "import pandas as pd\n",
    "import matplotlib.pyplot as plt\n",
    "import sklearn"
   ]
  },
  {
   "cell_type": "markdown",
   "metadata": {},
   "source": [
    "# Ejemplo de Regresión Lineal"
   ]
  },
  {
   "cell_type": "markdown",
   "metadata": {},
   "source": [
    "## Datos"
   ]
  },
  {
   "cell_type": "code",
   "execution_count": 2,
   "metadata": {},
   "outputs": [
    {
     "data": {
      "text/html": [
       "<div>\n",
       "<style scoped>\n",
       "    .dataframe tbody tr th:only-of-type {\n",
       "        vertical-align: middle;\n",
       "    }\n",
       "\n",
       "    .dataframe tbody tr th {\n",
       "        vertical-align: top;\n",
       "    }\n",
       "\n",
       "    .dataframe thead th {\n",
       "        text-align: right;\n",
       "    }\n",
       "</style>\n",
       "<table border=\"1\" class=\"dataframe\">\n",
       "  <thead>\n",
       "    <tr style=\"text-align: right;\">\n",
       "      <th></th>\n",
       "      <th>model</th>\n",
       "      <th>year</th>\n",
       "      <th>price</th>\n",
       "      <th>transmission</th>\n",
       "      <th>mileage</th>\n",
       "      <th>fuelType</th>\n",
       "      <th>tax</th>\n",
       "      <th>mpg</th>\n",
       "      <th>engineSize</th>\n",
       "    </tr>\n",
       "  </thead>\n",
       "  <tbody>\n",
       "    <tr>\n",
       "      <th>0</th>\n",
       "      <td>GT86</td>\n",
       "      <td>2016</td>\n",
       "      <td>16000</td>\n",
       "      <td>Manual</td>\n",
       "      <td>24089</td>\n",
       "      <td>Petrol</td>\n",
       "      <td>265</td>\n",
       "      <td>36.2</td>\n",
       "      <td>2.0</td>\n",
       "    </tr>\n",
       "    <tr>\n",
       "      <th>1</th>\n",
       "      <td>GT86</td>\n",
       "      <td>2017</td>\n",
       "      <td>15995</td>\n",
       "      <td>Manual</td>\n",
       "      <td>18615</td>\n",
       "      <td>Petrol</td>\n",
       "      <td>145</td>\n",
       "      <td>36.2</td>\n",
       "      <td>2.0</td>\n",
       "    </tr>\n",
       "    <tr>\n",
       "      <th>2</th>\n",
       "      <td>GT86</td>\n",
       "      <td>2015</td>\n",
       "      <td>13998</td>\n",
       "      <td>Manual</td>\n",
       "      <td>27469</td>\n",
       "      <td>Petrol</td>\n",
       "      <td>265</td>\n",
       "      <td>36.2</td>\n",
       "      <td>2.0</td>\n",
       "    </tr>\n",
       "    <tr>\n",
       "      <th>3</th>\n",
       "      <td>GT86</td>\n",
       "      <td>2017</td>\n",
       "      <td>18998</td>\n",
       "      <td>Manual</td>\n",
       "      <td>14736</td>\n",
       "      <td>Petrol</td>\n",
       "      <td>150</td>\n",
       "      <td>36.2</td>\n",
       "      <td>2.0</td>\n",
       "    </tr>\n",
       "    <tr>\n",
       "      <th>4</th>\n",
       "      <td>GT86</td>\n",
       "      <td>2017</td>\n",
       "      <td>17498</td>\n",
       "      <td>Manual</td>\n",
       "      <td>36284</td>\n",
       "      <td>Petrol</td>\n",
       "      <td>145</td>\n",
       "      <td>36.2</td>\n",
       "      <td>2.0</td>\n",
       "    </tr>\n",
       "  </tbody>\n",
       "</table>\n",
       "</div>"
      ],
      "text/plain": [
       "   model  year  price transmission  mileage fuelType  tax   mpg  engineSize\n",
       "0   GT86  2016  16000       Manual    24089   Petrol  265  36.2         2.0\n",
       "1   GT86  2017  15995       Manual    18615   Petrol  145  36.2         2.0\n",
       "2   GT86  2015  13998       Manual    27469   Petrol  265  36.2         2.0\n",
       "3   GT86  2017  18998       Manual    14736   Petrol  150  36.2         2.0\n",
       "4   GT86  2017  17498       Manual    36284   Petrol  145  36.2         2.0"
      ]
     },
     "execution_count": 2,
     "metadata": {},
     "output_type": "execute_result"
    }
   ],
   "source": [
    "# Cargar datos de los carros\n",
    "df = pd.read_csv('carDataset/toyota.csv')\n",
    "df.head()"
   ]
  },
  {
   "cell_type": "markdown",
   "metadata": {},
   "source": [
    "Podemos observar algunas categorías numéricas, y otras de tipo _object_ (string)."
   ]
  },
  {
   "cell_type": "code",
   "execution_count": 3,
   "metadata": {},
   "outputs": [],
   "source": [
    "categ = ['model','year','transmission','fuelType','engineSize']\n",
    "str_categ = ['model','transmission','fuelType']\n",
    "numer = ['price','mileage','tax','mpg']"
   ]
  },
  {
   "cell_type": "markdown",
   "metadata": {},
   "source": [
    "A continuación se realizó el ajuste de los datos para un modelo de regresión lineal definido mediante la librería SciKit-Learn. Se observan dos métricas de precisión, en este caso Error Cuadrático Medio (RMSE) y $R^2$ (puede leer más sobre esta métrica en [ScikitLearn: r2_score](https://scikit-learn.org/stable/modules/generated/sklearn.metrics.r2_score.html)). Se le entregarán los dos primeros casos como ejemplo, usted debe implementar los demás a partir de estos primeros."
   ]
  },
  {
   "cell_type": "markdown",
   "metadata": {},
   "source": [
    "## Codificación de los datos"
   ]
  },
  {
   "cell_type": "markdown",
   "metadata": {},
   "source": [
    "Las variables no númericas que permiten discriminar la información del *data_Set* se conocen como variables categoricas. Dada su naturaleza es necesario realizar una codificación de estas, es decir, atribuirles valores numericos. Una técnica de codificación es _one-hot encoding_, en donde se crea una columna para cada valor distinto que exista en la característica que estamos codificando y, para cada registro, marcar con un 1 la columna a la que pertenezca dicho registro y dejar las demás con 0."
   ]
  },
  {
   "cell_type": "code",
   "execution_count": 4,
   "metadata": {},
   "outputs": [
    {
     "data": {
      "text/html": [
       "<div>\n",
       "<style scoped>\n",
       "    .dataframe tbody tr th:only-of-type {\n",
       "        vertical-align: middle;\n",
       "    }\n",
       "\n",
       "    .dataframe tbody tr th {\n",
       "        vertical-align: top;\n",
       "    }\n",
       "\n",
       "    .dataframe thead th {\n",
       "        text-align: right;\n",
       "    }\n",
       "</style>\n",
       "<table border=\"1\" class=\"dataframe\">\n",
       "  <thead>\n",
       "    <tr style=\"text-align: right;\">\n",
       "      <th></th>\n",
       "      <th>year</th>\n",
       "      <th>price</th>\n",
       "      <th>mileage</th>\n",
       "      <th>tax</th>\n",
       "      <th>mpg</th>\n",
       "      <th>engineSize</th>\n",
       "      <th>model_ Auris</th>\n",
       "      <th>model_ Avensis</th>\n",
       "      <th>model_ Aygo</th>\n",
       "      <th>model_ C-HR</th>\n",
       "      <th>...</th>\n",
       "      <th>model_ Verso-S</th>\n",
       "      <th>model_ Yaris</th>\n",
       "      <th>transmission_Automatic</th>\n",
       "      <th>transmission_Manual</th>\n",
       "      <th>transmission_Other</th>\n",
       "      <th>transmission_Semi-Auto</th>\n",
       "      <th>fuelType_Diesel</th>\n",
       "      <th>fuelType_Hybrid</th>\n",
       "      <th>fuelType_Other</th>\n",
       "      <th>fuelType_Petrol</th>\n",
       "    </tr>\n",
       "  </thead>\n",
       "  <tbody>\n",
       "    <tr>\n",
       "      <th>0</th>\n",
       "      <td>0.818182</td>\n",
       "      <td>0.256150</td>\n",
       "      <td>0.138100</td>\n",
       "      <td>0.469027</td>\n",
       "      <td>0.143842</td>\n",
       "      <td>0.444444</td>\n",
       "      <td>0.0</td>\n",
       "      <td>0.0</td>\n",
       "      <td>0.0</td>\n",
       "      <td>0.0</td>\n",
       "      <td>...</td>\n",
       "      <td>0.0</td>\n",
       "      <td>0.0</td>\n",
       "      <td>0.0</td>\n",
       "      <td>1.0</td>\n",
       "      <td>0.0</td>\n",
       "      <td>0.0</td>\n",
       "      <td>0.0</td>\n",
       "      <td>0.0</td>\n",
       "      <td>0.0</td>\n",
       "      <td>1.0</td>\n",
       "    </tr>\n",
       "    <tr>\n",
       "      <th>1</th>\n",
       "      <td>0.863636</td>\n",
       "      <td>0.256066</td>\n",
       "      <td>0.106716</td>\n",
       "      <td>0.256637</td>\n",
       "      <td>0.143842</td>\n",
       "      <td>0.444444</td>\n",
       "      <td>0.0</td>\n",
       "      <td>0.0</td>\n",
       "      <td>0.0</td>\n",
       "      <td>0.0</td>\n",
       "      <td>...</td>\n",
       "      <td>0.0</td>\n",
       "      <td>0.0</td>\n",
       "      <td>0.0</td>\n",
       "      <td>1.0</td>\n",
       "      <td>0.0</td>\n",
       "      <td>0.0</td>\n",
       "      <td>0.0</td>\n",
       "      <td>0.0</td>\n",
       "      <td>0.0</td>\n",
       "      <td>1.0</td>\n",
       "    </tr>\n",
       "    <tr>\n",
       "      <th>2</th>\n",
       "      <td>0.772727</td>\n",
       "      <td>0.222301</td>\n",
       "      <td>0.157479</td>\n",
       "      <td>0.469027</td>\n",
       "      <td>0.143842</td>\n",
       "      <td>0.444444</td>\n",
       "      <td>0.0</td>\n",
       "      <td>0.0</td>\n",
       "      <td>0.0</td>\n",
       "      <td>0.0</td>\n",
       "      <td>...</td>\n",
       "      <td>0.0</td>\n",
       "      <td>0.0</td>\n",
       "      <td>0.0</td>\n",
       "      <td>1.0</td>\n",
       "      <td>0.0</td>\n",
       "      <td>0.0</td>\n",
       "      <td>0.0</td>\n",
       "      <td>0.0</td>\n",
       "      <td>0.0</td>\n",
       "      <td>1.0</td>\n",
       "    </tr>\n",
       "    <tr>\n",
       "      <th>3</th>\n",
       "      <td>0.863636</td>\n",
       "      <td>0.306839</td>\n",
       "      <td>0.084476</td>\n",
       "      <td>0.265487</td>\n",
       "      <td>0.143842</td>\n",
       "      <td>0.444444</td>\n",
       "      <td>0.0</td>\n",
       "      <td>0.0</td>\n",
       "      <td>0.0</td>\n",
       "      <td>0.0</td>\n",
       "      <td>...</td>\n",
       "      <td>0.0</td>\n",
       "      <td>0.0</td>\n",
       "      <td>0.0</td>\n",
       "      <td>1.0</td>\n",
       "      <td>0.0</td>\n",
       "      <td>0.0</td>\n",
       "      <td>0.0</td>\n",
       "      <td>0.0</td>\n",
       "      <td>0.0</td>\n",
       "      <td>1.0</td>\n",
       "    </tr>\n",
       "    <tr>\n",
       "      <th>4</th>\n",
       "      <td>0.863636</td>\n",
       "      <td>0.281478</td>\n",
       "      <td>0.208019</td>\n",
       "      <td>0.256637</td>\n",
       "      <td>0.143842</td>\n",
       "      <td>0.444444</td>\n",
       "      <td>0.0</td>\n",
       "      <td>0.0</td>\n",
       "      <td>0.0</td>\n",
       "      <td>0.0</td>\n",
       "      <td>...</td>\n",
       "      <td>0.0</td>\n",
       "      <td>0.0</td>\n",
       "      <td>0.0</td>\n",
       "      <td>1.0</td>\n",
       "      <td>0.0</td>\n",
       "      <td>0.0</td>\n",
       "      <td>0.0</td>\n",
       "      <td>0.0</td>\n",
       "      <td>0.0</td>\n",
       "      <td>1.0</td>\n",
       "    </tr>\n",
       "  </tbody>\n",
       "</table>\n",
       "<p>5 rows × 32 columns</p>\n",
       "</div>"
      ],
      "text/plain": [
       "       year     price   mileage       tax       mpg  engineSize  model_ Auris  \\\n",
       "0  0.818182  0.256150  0.138100  0.469027  0.143842    0.444444           0.0   \n",
       "1  0.863636  0.256066  0.106716  0.256637  0.143842    0.444444           0.0   \n",
       "2  0.772727  0.222301  0.157479  0.469027  0.143842    0.444444           0.0   \n",
       "3  0.863636  0.306839  0.084476  0.265487  0.143842    0.444444           0.0   \n",
       "4  0.863636  0.281478  0.208019  0.256637  0.143842    0.444444           0.0   \n",
       "\n",
       "   model_ Avensis  model_ Aygo  model_ C-HR  ...  model_ Verso-S  \\\n",
       "0             0.0          0.0          0.0  ...             0.0   \n",
       "1             0.0          0.0          0.0  ...             0.0   \n",
       "2             0.0          0.0          0.0  ...             0.0   \n",
       "3             0.0          0.0          0.0  ...             0.0   \n",
       "4             0.0          0.0          0.0  ...             0.0   \n",
       "\n",
       "   model_ Yaris  transmission_Automatic  transmission_Manual  \\\n",
       "0           0.0                     0.0                  1.0   \n",
       "1           0.0                     0.0                  1.0   \n",
       "2           0.0                     0.0                  1.0   \n",
       "3           0.0                     0.0                  1.0   \n",
       "4           0.0                     0.0                  1.0   \n",
       "\n",
       "   transmission_Other  transmission_Semi-Auto  fuelType_Diesel  \\\n",
       "0                 0.0                     0.0              0.0   \n",
       "1                 0.0                     0.0              0.0   \n",
       "2                 0.0                     0.0              0.0   \n",
       "3                 0.0                     0.0              0.0   \n",
       "4                 0.0                     0.0              0.0   \n",
       "\n",
       "   fuelType_Hybrid  fuelType_Other  fuelType_Petrol  \n",
       "0              0.0             0.0              1.0  \n",
       "1              0.0             0.0              1.0  \n",
       "2              0.0             0.0              1.0  \n",
       "3              0.0             0.0              1.0  \n",
       "4              0.0             0.0              1.0  \n",
       "\n",
       "[5 rows x 32 columns]"
      ]
     },
     "execution_count": 4,
     "metadata": {},
     "output_type": "execute_result"
    }
   ],
   "source": [
    "df_ohe = pd.get_dummies(df)\n",
    "scaler = MinMaxScaler()\n",
    "df_scl_ohe = scaler.fit_transform(df_ohe)\n",
    "df_scl_ohe = pd.DataFrame(df_scl_ohe, columns = df_ohe.columns)\n",
    "df_scl_ohe.head()"
   ]
  },
  {
   "cell_type": "markdown",
   "metadata": {},
   "source": [
    "Observe que el nuevo *data_Set* tiene más columnas que el *data_Set* original, esto se debe a que el método de codificación genera una variable binaria para cada modelo de automóvil."
   ]
  },
  {
   "cell_type": "markdown",
   "metadata": {},
   "source": [
    "## Separación de datos"
   ]
  },
  {
   "cell_type": "markdown",
   "metadata": {},
   "source": [
    "Separar los datos para el entrenamiento del modelo y para su comprobación. Se utiliza el $80\\%$ de los datos para estimar los parámetros."
   ]
  },
  {
   "cell_type": "code",
   "execution_count": 5,
   "metadata": {},
   "outputs": [],
   "source": [
    "X = df_scl_ohe.drop(['price'], axis=1)\n",
    "y = df_scl_ohe['price']\n",
    "X_train, X_test, y_train, y_test = train_test_split(X, y, test_size=0.2, random_state=22)"
   ]
  },
  {
   "cell_type": "markdown",
   "metadata": {},
   "source": [
    "## Modelo y medidas de desempeño"
   ]
  },
  {
   "cell_type": "code",
   "execution_count": 6,
   "metadata": {},
   "outputs": [
    {
     "name": "stdout",
     "output_type": "stream",
     "text": [
      "RMSE: 0.031\n",
      "R^2: 0.917\n",
      "\n"
     ]
    }
   ],
   "source": [
    "# Definir el modelo de regresión lineal\n",
    "model_1 = LinearRegression()\n",
    "\n",
    "# Estimación de parámetros\n",
    "model_1.fit(X_train, y_train)\n",
    "\n",
    "# Predecir los valores de la variable dependiente (Y)\n",
    "preds = model_1.predict(X_test)\n",
    "\n",
    "# Medidas de desempeño\n",
    "rmse = np.sqrt(mean_squared_error(y_test, preds))\n",
    "rs = model_1.score(X_test, y_test)\n",
    "\n",
    "print(f'RMSE: {round(rmse,3)}')\n",
    "print(f'R^2: {round(rs,3)}\\n')"
   ]
  },
  {
   "cell_type": "markdown",
   "metadata": {},
   "source": [
    "A partir de las métricas obtenidas se concluye que el modelo tuvo un buen desempeño. Respecto al RMSE, su valor es cercano a cero, lo cual se relaciona con una diferencia baja entre los valores reales y los estimados. Además, el $R^2$ es cercano a 1, es decir, el modelo tiene un buen ajuste a los datos."
   ]
  },
  {
   "cell_type": "markdown",
   "metadata": {},
   "source": [
    "# Regresión Lineal Estocástica"
   ]
  },
  {
   "cell_type": "markdown",
   "metadata": {},
   "source": [
    "## Codificación de los datos"
   ]
  },
  {
   "cell_type": "code",
   "execution_count": 7,
   "metadata": {},
   "outputs": [],
   "source": [
    "df_ohe = pd.get_dummies(df)\n",
    "scaler = RobustScaler()\n",
    "df_scl_ohe = scaler.fit_transform(df_ohe)\n",
    "df_scl_ohe = pd.DataFrame(df_scl_ohe, columns = df_ohe.columns)"
   ]
  },
  {
   "cell_type": "markdown",
   "metadata": {},
   "source": [
    "## Separación de datos"
   ]
  },
  {
   "cell_type": "code",
   "execution_count": 8,
   "metadata": {},
   "outputs": [],
   "source": [
    "X = df_scl_ohe.drop(['price'], axis=1)\n",
    "y = df_scl_ohe['price']\n",
    "X_train, X_test, y_train, y_test = train_test_split(X, y, test_size=0.2, random_state=22)"
   ]
  },
  {
   "cell_type": "code",
   "execution_count": 9,
   "metadata": {},
   "outputs": [],
   "source": [
    "X_train_array = np.c_[np.ones(X_train.values.shape[0]), X_train.values]\n",
    "y_train_array = y_train.values\n",
    "X_test_array = np.c_[np.ones(X_test.values.shape[0]), X_test.values]\n",
    "y_test_array = y_test.values"
   ]
  },
  {
   "cell_type": "markdown",
   "metadata": {},
   "source": [
    "## Estimación de Parámetros"
   ]
  },
  {
   "cell_type": "code",
   "execution_count": 10,
   "metadata": {},
   "outputs": [],
   "source": [
    "# CICLO ENTRENAMIENTO\n",
    "def estimar_parametros(X,Y,n_muestra=10,alpha=0.00001, max_iter=1000, epsilon=0.0001):\n",
    "    W = np.random.random_sample((X.shape[1],))\n",
    "    e_historial = []\n",
    "    for i in range(max_iter):\n",
    "        # Seleccionar una muestra aleatoria\n",
    "        indices = np.random.choice(len(X), size=n_muestra)\n",
    "        X_muestra = X[indices,:]\n",
    "\n",
    "        # Calculo de gradiente para la muestra\n",
    "        gradiente = np.zeros((X.shape[1],))\n",
    "        for x, i in zip(X_muestra, indices):\n",
    "            g = (np.dot(x, W) - y[i])*x\n",
    "            gradiente += g\n",
    "\n",
    "        # Actualizar parametros\n",
    "        prev_w = W.copy()\n",
    "        W = prev_w - alpha*gradiente/n_muestra\n",
    "\n",
    "        # Calculo de error\n",
    "        y_pred = np.dot(X,W)\n",
    "        error = mean_squared_error(Y, y_pred)\n",
    "        e_historial.append(error)\n",
    "\n",
    "        # Condición de parada\n",
    "        if np.linalg.norm(W - prev_w) < epsilon:\n",
    "                break\n",
    "    return [e_historial,W]"
   ]
  },
  {
   "cell_type": "code",
   "execution_count": 11,
   "metadata": {},
   "outputs": [],
   "source": [
    "def plot_errores_alpha(ts:list):\n",
    "    plt.figure(figsize=(15,5))\n",
    "    ws = []\n",
    "    for i in ts:\n",
    "        modelo = estimar_parametros(X_train_array,y_train_array,alpha=i)\n",
    "        errores = modelo[0]\n",
    "        ws.append(modelo[1])\n",
    "        plt.plot(errores,label=f'{i}')\n",
    "\n",
    "    plt.legend(title=\"Variación de $alpha$\",loc='upper center',bbox_to_anchor=(0.5, -0.05), fancybox=True, shadow=True,ncol=4)\n",
    "    plt.title('Evolución del error de entrenamiento')\n",
    "    plt.xlabel('Iteraciones')\n",
    "    plt.ylabel('Error medio cuadrático (MSE)')\n",
    "    plt.grid(True)\n",
    "    plt.show()\n",
    "    return ws"
   ]
  },
  {
   "cell_type": "code",
   "execution_count": 12,
   "metadata": {},
   "outputs": [
    {
     "data": {
      "image/png": "[encoded data removed]",
      "text/plain": [
       "<Figure size 1080x360 with 1 Axes>"
      ]
     },
     "metadata": {
      "needs_background": "light"
     },
     "output_type": "display_data"
    }
   ],
   "source": [
    "ts = [1e-1,1e-2,1e-3,1e-4]\n",
    "ws =plot_errores_alpha(ts)"
   ]
  },
  {
   "cell_type": "markdown",
   "metadata": {},
   "source": [
    "## Predicción del modelo"
   ]
  },
  {
   "cell_type": "code",
   "execution_count": 13,
   "metadata": {},
   "outputs": [
    {
     "name": "stdout",
     "output_type": "stream",
     "text": [
      "Iteración,R^2\n",
      "     1  -0.2033\n",
      "     2  -0.1208\n",
      "     3  0.0619\n",
      "     4  -1.33\n"
     ]
    }
   ],
   "source": [
    "y_test_preds = np.zeros(y_test_array.shape)\n",
    "print(f'Iteración,R^2')\n",
    "for j in range(len(ts)):\n",
    "    for i in range(X_test_array.shape[0]):\n",
    "        y_test_preds[i] = np.dot(ws[j],X_test_array[i])\n",
    "    r2 = r2_score(y_test_array, y_test_preds)\n",
    "    print(f'     {j+1}  {round(r2,4)}')"
   ]
  },
  {
   "cell_type": "markdown",
   "metadata": {},
   "source": [
    "# Análisis de Resultados"
   ]
  },
  {
   "cell_type": "markdown",
   "metadata": {},
   "source": [
    "Realice variaciones en la lista *ts* y en el número máximo de iteraciones, obtenga la gráfica de evolución del error. ¿Hay alguna relación entre la tasa de aprendizaje $\\alpha$ y la convergencia del algoritmo de *Descenso de Gradiente*? Explique su respuesta."
   ]
  },
  {
   "cell_type": "code",
   "execution_count": 14,
   "metadata": {},
   "outputs": [
    {
     "data": {
      "image/png": "[encoded data removed]",
      "text/plain": [
       "<Figure size 1080x360 with 1 Axes>"
      ]
     },
     "metadata": {
      "needs_background": "light"
     },
     "output_type": "display_data"
    },
    {
     "data": {
      "text/plain": [
       "[array([-0.18954919,  0.10922474,  0.05726954,  0.11392018,  0.04229224,\n",
       "         0.07986405,  0.46028586,  0.59286149,  0.33228983,  0.29267566,\n",
       "         0.33188393,  0.39535085,  0.35139094,  0.20065074,  0.42102499,\n",
       "         0.5883251 ,  0.63779841,  0.43314838,  0.3691773 ,  0.29163571,\n",
       "         0.43523957,  0.63880212,  0.25885287,  0.42019597,  0.73187842,\n",
       "         0.84321812,  0.25016693,  0.65339012,  0.40890797,  0.49647641,\n",
       "         0.47414982,  0.65651187]),\n",
       " array([-0.33226311,  0.02482478,  0.06572461,  0.10411476,  0.053311  ,\n",
       "         0.13973319,  0.58987229,  0.67425711,  0.51956485,  0.39771091,\n",
       "         0.92757938,  0.66526302,  0.92124613,  0.59997013,  0.63485273,\n",
       "         0.1680482 ,  0.63976215,  0.33156769,  0.50931214,  0.04759447,\n",
       "         0.46680391,  0.22897125,  0.34545781,  0.504313  ,  0.41716234,\n",
       "         0.57832692,  0.85605477,  0.19492762,  0.16325201,  0.58666818,\n",
       "         0.89679427,  0.58459987]),\n",
       " array([0.37768208, 0.46912336, 0.52031869, 0.61995751, 0.4804226 ,\n",
       "        0.54452927, 0.22626706, 0.67909878, 0.07997165, 0.01883081,\n",
       "        0.50715793, 0.5377929 , 0.92013061, 0.49205558, 0.92939174,\n",
       "        0.48157647, 0.64833748, 0.5762339 , 0.76519767, 0.4750521 ,\n",
       "        0.46292226, 0.86691279, 0.98073624, 0.16021184, 0.20617589,\n",
       "        0.87561216, 0.03302775, 0.72184742, 0.4082338 , 0.63205575,\n",
       "        0.95885887, 0.64829486]),\n",
       " array([0.61017321, 0.86324088, 0.53093285, 0.80928445, 0.46509872,\n",
       "        0.17959249, 0.02204065, 0.48678898, 0.98344514, 0.56536776,\n",
       "        0.10066316, 0.79649882, 0.15930276, 0.26758194, 0.9382704 ,\n",
       "        0.39278669, 0.00348385, 0.85349996, 0.63587798, 0.6851113 ,\n",
       "        0.42093404, 0.12444744, 0.46843643, 0.65013299, 0.10346814,\n",
       "        0.82887983, 0.4316111 , 0.45992974, 0.12614457, 0.08439181,\n",
       "        0.96558828, 0.58242057])]"
      ]
     },
     "execution_count": 14,
     "metadata": {},
     "output_type": "execute_result"
    }
   ],
   "source": [
    "ts = ts\n",
    "plot_errores_alpha(ts)"
   ]
  },
  {
   "cell_type": "markdown",
   "metadata": {},
   "source": [
    "**Respuesta:**"
   ]
  },
  {
   "cell_type": "markdown",
   "metadata": {},
   "source": [
    "Para garantizar la convergencia del algoritmo la tasa de aprendizaje $\\alpha$ debe tener un valor considerablemente alto ¿Verdadero o Falso? Explique su respuesta."
   ]
  },
  {
   "cell_type": "markdown",
   "metadata": {},
   "source": [
    "**Respuesta:**"
   ]
  },
  {
   "cell_type": "markdown",
   "metadata": {},
   "source": [
    "Explique aspectos positivos y negativos del algoritmo de *Descenso de Gradiente Estocástico*."
   ]
  },
  {
   "cell_type": "markdown",
   "metadata": {},
   "source": [
    "**Respuesta:**"
   ]
  },
  {
   "cell_type": "code",
   "execution_count": null,
   "metadata": {},
   "outputs": [],
   "source": []
  }
 ],
 "metadata": {
  "kernelspec": {
   "display_name": "Python 3",
   "language": "python",
   "name": "python3"
  },
  "language_info": {
   "codemirror_mode": {
    "name": "ipython",
    "version": 3
   },
   "file_extension": ".py",
   "mimetype": "text/x-python",
   "name": "python",
   "nbconvert_exporter": "python",
   "pygments_lexer": "ipython3",
   "version": "3.7.6"
  },
  "toc": {
   "base_numbering": 1,
   "nav_menu": {},
   "number_sections": true,
   "sideBar": true,
   "skip_h1_title": false,
   "title_cell": "Table of Contents",
   "title_sidebar": "Contents",
   "toc_cell": false,
   "toc_position": {},
   "toc_section_display": true,
   "toc_window_display": false
  }
 },
 "nbformat": 4,
 "nbformat_minor": 4
}
