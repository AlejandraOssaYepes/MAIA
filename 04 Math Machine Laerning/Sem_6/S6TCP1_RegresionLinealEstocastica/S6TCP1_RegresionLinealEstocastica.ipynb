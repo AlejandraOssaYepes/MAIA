{
 "cells": [
  {
   "cell_type": "markdown",
   "metadata": {},
   "source": [
    "![Banner](img/banner.png)"
   ]
  },
  {
   "cell_type": "markdown",
   "metadata": {
    "id": "Kkyatxn7AwO4"
   },
   "source": [
    "# **Taller:** Regresión Lineal Estocástica\n",
    "\n",
    "***Matemáticas para Machine Learning***.\n",
    "\n",
    "**Semana 6 - Práctica Calificada -** Minimización de Funciones\n",
    "\n",
    "**Profesor:** *Fernando Lozano* - **Autor Notebook:** *César Garrido Urbano*"
   ]
  },
  {
   "cell_type": "markdown",
   "metadata": {
    "id": "0aN1XJzvA6fr"
   },
   "source": [
    "## Introducción"
   ]
  },
  {
   "cell_type": "markdown",
   "metadata": {
    "id": "MMDi7E0HA8fG"
   },
   "source": [
    "## Descripción"
   ]
  },
  {
   "cell_type": "markdown",
   "metadata": {
    "id": "Fqr5-6XIA_MW"
   },
   "source": [
    "El presente *jupyter notebook* contiene todo el material para el desarrollo del Taller de la Semana 6 del curso ***Matemáticas para Machine Learning***. En este Taller usted pondrá en práctica algunos de los conceptos de minimización de funciones y descenso de gradiente. Esto con el fin de implementar, con un enfoque distinto, el ya conocido método de regresión lineal sobre el problema de regresión práctico trabajado  en el taller de la semana 5.\n",
    "\n",
    "**Objetivos de Aprendizaje:**\n",
    "\n",
    "*   Implementar descenso de gradiente estocástico en un problema de minimización de una función de error sobre datos. \n",
    "*   Ajustar experimentalmente el tamaño del paso en descenso de gradiente estocástico. \n",
    "*   Enumerar las ventajas de descenso de gradiente estocástico con respecto a descenso de gradiente. \n"
   ]
  },
  {
   "cell_type": "markdown",
   "metadata": {
    "id": "ynM1aQF4BDRa"
   },
   "source": [
    "## Teoría"
   ]
  },
  {
   "cell_type": "markdown",
   "metadata": {
    "id": "QI13P67pBG8a"
   },
   "source": [
    "Recordemos el concepto de regresión lineal en multiples variables, introducido la semana pasada. Este modelo matemático busca aproximar la relación entre una variable independiente ($x$) y una dependiente ($y$) a partir de unos parámetros ($W$).\n",
    "\n",
    "\\begin{equation}\n",
    "\\hat{y} = w_1 x_1 + w_2 x_2 + ... + w_n x_n + b = W^TX + b\n",
    "\\end{equation}\n",
    "\n",
    "Donde $\\hat{y}$ corresponde a la estimación de la variable dependiente, a partir de los datos $x$ y los parámetros $W$.\n",
    "\n",
    "Es común definir $x_0 = 1$ y $w_0 = b$, con esta convención la fórmula de regresión se simplifica a:\n",
    "\n",
    "\\begin{equation}\n",
    "\\hat{y} = W^TX\n",
    "\\end{equation}\n",
    "\n",
    "En este taller usted estimará los parámetros $W$, que produzcan la mejor estimación de $y$ a partir de los datos $x$. No obstante, y a diferencia de la semana pasada, está vez lo hará utilizando una aproximación diferente: Decenso de gradiente estocástico."
   ]
  },
  {
   "cell_type": "markdown",
   "metadata": {
    "id": "kzNlbLWXb5Mf"
   },
   "source": [
    "## Metodología"
   ]
  },
  {
   "cell_type": "markdown",
   "metadata": {
    "id": "aSevgCv_b715"
   },
   "source": [
    "Para desarrollar el taller usted deberá editar las celdas de código dispuestas para esto. Estas estarán marcadas con el siguiente comentario:\n",
    "\n",
    "```python\n",
    "# =====================================================\n",
    "# COMPLETAR ===========================================\n",
    "# \n",
    "\n",
    "# =====================================================\n",
    "```\n",
    "\n",
    "Edite o complete el códgio dentro de estas lineas de comentarios. Dentro de estos comentarios encontrará indicaciónes de lo que debe hacer, así como algunas de las variables que debe utilizar o calcular (puede que estas tengan ya una estructura para llenar o no, revise y complete la asignación).\n",
    "\n",
    "Adicionalmente, se encontrará con preguntas a las que deberá responder a partir del trabajo que realice durante el Taller. Utilice las celdas de Markdown dispuestas para esto, estas estarán marcadas de la siguiente manera:\n",
    "\n",
    "**Respuesta:**"
   ]
  },
  {
   "cell_type": "markdown",
   "metadata": {
    "id": "MBbgX-vBeNTk"
   },
   "source": [
    "# Regresión Lineal Estocástica"
   ]
  },
  {
   "cell_type": "markdown",
   "metadata": {
    "id": "e0M5fb8ufuqC"
   },
   "source": [
    "Igual que en el taller de la Semana 5, se desea estimar los parámetros $\\hat{W}$ que mejor ajusten la relación entre $x$ y $y$. Para esto, usted va a querer minimizar el la diferencia entre el dato ($y$) y la estimación del dato ($\\hat{y}$). De forma más especifica usted va a querer minimizar la diferencia cuadrada, es decir:\n",
    "\n",
    "\\begin{align}\n",
    "E(W) &= (Y - \\hat{Y})^2 \\\\\n",
    "&= (Y - W^T X)^2 \n",
    "\\end{align}\n",
    "\n",
    "Note que esta función de error cuadrático únicamente depende de $W$, pues los $X$ y los $Y$ son los datos que se van a utlizar para ajustar la regresión. Ahora bien, en esta ocación usted va a iniciar con un valor inicial aleatorio para $\\hat{W}$ e irá actualizando dicho valor, tal que se minimice este error. \n",
    "\n",
    "-----------------------------\n",
    "__¿Cómo?__\n",
    "\n",
    "Actualizando $\\hat{W}$ en la dirección en la que minimice el error, es decir, en la diricción contraria al gradiente de $E(W)$. Así las cosas, lo que se desea es implementar el algoritmo de Descenso de Gradiente (GD):\n",
    "\n",
    "-----------------------------\n",
    "-----------------------------\n",
    "Inicialice $w_0$\n",
    "\n",
    "repeat\n",
    "\n",
    "$w_{k+1} = w_k - \\alpha \\bigtriangledown E(w)$\n",
    "    \n",
    "until Condición de terminación.\n",
    "\n",
    "-----------------------------\n",
    "\n",
    "Donde,\n",
    "\n",
    "*   $\\alpha$ será el tamaño del paso (también conocido como tasa de aprendizaje).\n",
    "*   $\\bigtriangledown E(w)$ será el gradiente del error, el cual en el caso estocástico será estimado a partir de una pequeña muestra de los datos o incluso a partir de un único dato en el caso extremo:\n",
    "\n",
    "\\begin{equation}\n",
    "\\bigtriangledown E(w) \\approx (W^T x_i - y_i)x_i\n",
    "\\end{equation}\n",
    "\n",
    "De esta manera, usted buscará implementar este algoritmo, de manera estocástica (utilizando un muestra o _mini-batch_ de los datos) a lo largo de este taller."
   ]
  },
  {
   "cell_type": "markdown",
   "metadata": {
    "id": "sqIM4_gLfwWr"
   },
   "source": [
    "## Inicialización"
   ]
  },
  {
   "cell_type": "code",
   "execution_count": 1,
   "metadata": {
    "id": "gJLlpJtTg-y1"
   },
   "outputs": [],
   "source": [
    "# Librerias principales\n",
    "import sys\n",
    "import numpy as np\n",
    "import pandas as pd\n",
    "from sklearn.metrics import mean_squared_error\n",
    "\n",
    "# Visualización\n",
    "import plotly.express as px\n",
    "import plotly.graph_objects as go\n",
    "import matplotlib.pyplot as plt"
   ]
  },
  {
   "cell_type": "markdown",
   "metadata": {
    "id": "LAvLq6FIhB1M"
   },
   "source": [
    "## Datos\n",
    "\n",
    "Considere la base de datos\\* trabajada durante la Semana 5. Esta contiene 11 distintas caracteristicas fisicoquímicas ($X$) del vino tinto para más de 1500 presentaciones y su calidad ($y$) en la última columna. De forma similar a como lo hizo en el anterior taller, su objetivo será tratar de estimar la calidad de cada vino, pero esta vez utilizando el algoritmo de descenso de gradiente.\n",
    "\n",
    "\\* P. Cortez, A. Cerdeira, F. Almeida, T. Matos and J. Reis. _Modeling wine preferences by data mining from physicochemical properties._ In Decision Support Systems, Elsevier, 47(4):547-553, 2009.\n"
   ]
  },
  {
   "cell_type": "code",
   "execution_count": 2,
   "metadata": {
    "colab": {
     "base_uri": "https://localhost:8080/",
     "height": 427
    },
    "id": "HFQap5lIhI_0",
    "outputId": "043899dd-a750-4eea-e788-717970a19985"
   },
   "outputs": [
    {
     "data": {
      "text/html": [
       "<div>\n",
       "<style scoped>\n",
       "    .dataframe tbody tr th:only-of-type {\n",
       "        vertical-align: middle;\n",
       "    }\n",
       "\n",
       "    .dataframe tbody tr th {\n",
       "        vertical-align: top;\n",
       "    }\n",
       "\n",
       "    .dataframe thead th {\n",
       "        text-align: right;\n",
       "    }\n",
       "</style>\n",
       "<table border=\"1\" class=\"dataframe\">\n",
       "  <thead>\n",
       "    <tr style=\"text-align: right;\">\n",
       "      <th></th>\n",
       "      <th>acidez_fija</th>\n",
       "      <th>acidez_volatil</th>\n",
       "      <th>acido_citrico</th>\n",
       "      <th>azucar_residual</th>\n",
       "      <th>cloruros</th>\n",
       "      <th>dioxido_azufre_libre</th>\n",
       "      <th>dioxido_azufre_total</th>\n",
       "      <th>densidad</th>\n",
       "      <th>pH</th>\n",
       "      <th>sulfatos</th>\n",
       "      <th>alcohol</th>\n",
       "      <th>calidad</th>\n",
       "    </tr>\n",
       "  </thead>\n",
       "  <tbody>\n",
       "    <tr>\n",
       "      <th>0</th>\n",
       "      <td>7.4</td>\n",
       "      <td>0.70</td>\n",
       "      <td>0.00</td>\n",
       "      <td>1.9</td>\n",
       "      <td>0.076</td>\n",
       "      <td>11.0</td>\n",
       "      <td>34.0</td>\n",
       "      <td>0.9978</td>\n",
       "      <td>3.51</td>\n",
       "      <td>0.56</td>\n",
       "      <td>9.4</td>\n",
       "      <td>5</td>\n",
       "    </tr>\n",
       "    <tr>\n",
       "      <th>1</th>\n",
       "      <td>7.8</td>\n",
       "      <td>0.88</td>\n",
       "      <td>0.00</td>\n",
       "      <td>2.6</td>\n",
       "      <td>0.098</td>\n",
       "      <td>25.0</td>\n",
       "      <td>67.0</td>\n",
       "      <td>0.9968</td>\n",
       "      <td>3.20</td>\n",
       "      <td>0.68</td>\n",
       "      <td>9.8</td>\n",
       "      <td>5</td>\n",
       "    </tr>\n",
       "    <tr>\n",
       "      <th>2</th>\n",
       "      <td>7.8</td>\n",
       "      <td>0.76</td>\n",
       "      <td>0.04</td>\n",
       "      <td>2.3</td>\n",
       "      <td>0.092</td>\n",
       "      <td>15.0</td>\n",
       "      <td>54.0</td>\n",
       "      <td>0.9970</td>\n",
       "      <td>3.26</td>\n",
       "      <td>0.65</td>\n",
       "      <td>9.8</td>\n",
       "      <td>5</td>\n",
       "    </tr>\n",
       "    <tr>\n",
       "      <th>3</th>\n",
       "      <td>11.2</td>\n",
       "      <td>0.28</td>\n",
       "      <td>0.56</td>\n",
       "      <td>1.9</td>\n",
       "      <td>0.075</td>\n",
       "      <td>17.0</td>\n",
       "      <td>60.0</td>\n",
       "      <td>0.9980</td>\n",
       "      <td>3.16</td>\n",
       "      <td>0.58</td>\n",
       "      <td>9.8</td>\n",
       "      <td>6</td>\n",
       "    </tr>\n",
       "    <tr>\n",
       "      <th>4</th>\n",
       "      <td>7.4</td>\n",
       "      <td>0.70</td>\n",
       "      <td>0.00</td>\n",
       "      <td>1.9</td>\n",
       "      <td>0.076</td>\n",
       "      <td>11.0</td>\n",
       "      <td>34.0</td>\n",
       "      <td>0.9978</td>\n",
       "      <td>3.51</td>\n",
       "      <td>0.56</td>\n",
       "      <td>9.4</td>\n",
       "      <td>5</td>\n",
       "    </tr>\n",
       "    <tr>\n",
       "      <th>5</th>\n",
       "      <td>7.4</td>\n",
       "      <td>0.66</td>\n",
       "      <td>0.00</td>\n",
       "      <td>1.8</td>\n",
       "      <td>0.075</td>\n",
       "      <td>13.0</td>\n",
       "      <td>40.0</td>\n",
       "      <td>0.9978</td>\n",
       "      <td>3.51</td>\n",
       "      <td>0.56</td>\n",
       "      <td>9.4</td>\n",
       "      <td>5</td>\n",
       "    </tr>\n",
       "    <tr>\n",
       "      <th>6</th>\n",
       "      <td>7.9</td>\n",
       "      <td>0.60</td>\n",
       "      <td>0.06</td>\n",
       "      <td>1.6</td>\n",
       "      <td>0.069</td>\n",
       "      <td>15.0</td>\n",
       "      <td>59.0</td>\n",
       "      <td>0.9964</td>\n",
       "      <td>3.30</td>\n",
       "      <td>0.46</td>\n",
       "      <td>9.4</td>\n",
       "      <td>5</td>\n",
       "    </tr>\n",
       "    <tr>\n",
       "      <th>7</th>\n",
       "      <td>7.3</td>\n",
       "      <td>0.65</td>\n",
       "      <td>0.00</td>\n",
       "      <td>1.2</td>\n",
       "      <td>0.065</td>\n",
       "      <td>15.0</td>\n",
       "      <td>21.0</td>\n",
       "      <td>0.9946</td>\n",
       "      <td>3.39</td>\n",
       "      <td>0.47</td>\n",
       "      <td>10.0</td>\n",
       "      <td>7</td>\n",
       "    </tr>\n",
       "    <tr>\n",
       "      <th>8</th>\n",
       "      <td>7.8</td>\n",
       "      <td>0.58</td>\n",
       "      <td>0.02</td>\n",
       "      <td>2.0</td>\n",
       "      <td>0.073</td>\n",
       "      <td>9.0</td>\n",
       "      <td>18.0</td>\n",
       "      <td>0.9968</td>\n",
       "      <td>3.36</td>\n",
       "      <td>0.57</td>\n",
       "      <td>9.5</td>\n",
       "      <td>7</td>\n",
       "    </tr>\n",
       "    <tr>\n",
       "      <th>9</th>\n",
       "      <td>7.5</td>\n",
       "      <td>0.50</td>\n",
       "      <td>0.36</td>\n",
       "      <td>6.1</td>\n",
       "      <td>0.071</td>\n",
       "      <td>17.0</td>\n",
       "      <td>102.0</td>\n",
       "      <td>0.9978</td>\n",
       "      <td>3.35</td>\n",
       "      <td>0.80</td>\n",
       "      <td>10.5</td>\n",
       "      <td>5</td>\n",
       "    </tr>\n",
       "  </tbody>\n",
       "</table>\n",
       "</div>"
      ],
      "text/plain": [
       "   acidez_fija  acidez_volatil  acido_citrico  azucar_residual  cloruros  \\\n",
       "0          7.4            0.70           0.00              1.9     0.076   \n",
       "1          7.8            0.88           0.00              2.6     0.098   \n",
       "2          7.8            0.76           0.04              2.3     0.092   \n",
       "3         11.2            0.28           0.56              1.9     0.075   \n",
       "4          7.4            0.70           0.00              1.9     0.076   \n",
       "5          7.4            0.66           0.00              1.8     0.075   \n",
       "6          7.9            0.60           0.06              1.6     0.069   \n",
       "7          7.3            0.65           0.00              1.2     0.065   \n",
       "8          7.8            0.58           0.02              2.0     0.073   \n",
       "9          7.5            0.50           0.36              6.1     0.071   \n",
       "\n",
       "   dioxido_azufre_libre  dioxido_azufre_total  densidad    pH  sulfatos  \\\n",
       "0                  11.0                  34.0    0.9978  3.51      0.56   \n",
       "1                  25.0                  67.0    0.9968  3.20      0.68   \n",
       "2                  15.0                  54.0    0.9970  3.26      0.65   \n",
       "3                  17.0                  60.0    0.9980  3.16      0.58   \n",
       "4                  11.0                  34.0    0.9978  3.51      0.56   \n",
       "5                  13.0                  40.0    0.9978  3.51      0.56   \n",
       "6                  15.0                  59.0    0.9964  3.30      0.46   \n",
       "7                  15.0                  21.0    0.9946  3.39      0.47   \n",
       "8                   9.0                  18.0    0.9968  3.36      0.57   \n",
       "9                  17.0                 102.0    0.9978  3.35      0.80   \n",
       "\n",
       "   alcohol  calidad  \n",
       "0      9.4        5  \n",
       "1      9.8        5  \n",
       "2      9.8        5  \n",
       "3      9.8        6  \n",
       "4      9.4        5  \n",
       "5      9.4        5  \n",
       "6      9.4        5  \n",
       "7     10.0        7  \n",
       "8      9.5        7  \n",
       "9     10.5        5  "
      ]
     },
     "execution_count": 2,
     "metadata": {},
     "output_type": "execute_result"
    }
   ],
   "source": [
    "# Cargar data de calidad de vinos\n",
    "data = pd.read_csv(\"CalidadVinoTinto.csv\", delimiter=\";\")\n",
    "data.head(10)"
   ]
  },
  {
   "cell_type": "markdown",
   "metadata": {
    "id": "4XyPVC3WodYl"
   },
   "source": [
    "## Implementación"
   ]
  },
  {
   "cell_type": "markdown",
   "metadata": {
    "id": "dRg8mBWfofo4"
   },
   "source": [
    "Considere la clase $\\texttt{RegresionLinearEstocastica}$, similar a la implementada en el Taller de la Semana 5. Complete la función de estimar parámetros con el algoritmo de Descenso de Gradiente explicado anteriormente."
   ]
  },
  {
   "cell_type": "code",
   "execution_count": 3,
   "metadata": {
    "id": "qmOroL74pU-I"
   },
   "outputs": [],
   "source": [
    "class RegresionLinearEstocastica:\n",
    "    \"\"\"\n",
    "    Clase que implementa un modelo de regresión lineal de forma estocástica.\n",
    "    ___________________________________\n",
    "    Parámetros:\n",
    "    w          [numpy.ndarray] Matriz con los parámetros estimados.\n",
    "    n_muestra  [int] Tamaño de muestra. Número de datos con los que se estima el gradiente.\n",
    "    alpha      [float] Factor con le que se escala la actualización de los parámetros.\n",
    "    epsilon    [float] Error mínimo para activar la condición de parada.\n",
    "    max_iter   [int] Número máximo de iteraciones que se ejecuta el algoritmo.\n",
    "    \"\"\"\n",
    "    def __init__(self, n_muestra=10, alpha=0.00001, max_iter=1000, epsilon=0.00001):\n",
    "\n",
    "        # Parámetros de entrenamiento\n",
    "        self.n_muestra = n_muestra\n",
    "        self.alpha = alpha\n",
    "        # Condicion de parada\n",
    "        self.max_iter = max_iter\n",
    "        self.epsilon = epsilon\n",
    "        # Vector de parámetros a estimar\n",
    "        self.W = None\n",
    "        self.e_historial = []\n",
    "\n",
    "    def estimar_parametros(self, X, y):\n",
    "        \"\"\"\n",
    "        Estima la matriz W a partir de datos de entrada X (observación) y (salida)\n",
    "        con el algoritmo de descenso de gradiente estocástico.\n",
    "        ___________________________________\n",
    "        Entrada:\n",
    "        X        [numpy.ndarray] Variables de entrada indepentdientes.\n",
    "        y        [numpy.ndarray] Variable de salida que se desea estimar.\n",
    "        \"\"\"\n",
    "\n",
    "        # =====================================================\n",
    "        # COMPLETAR ===========================================\n",
    "        #\n",
    "        # AYUDA: Implemente el pseudocódigo de descenso de gradiente.\n",
    "        # Guíese por el código base ya preparado y los comentarios.\n",
    "        # Agregar vector de 1s a los datos\n",
    "        x0 = np.ones((len(X),1))\n",
    "        X = np.append(x0, X, axis=1)\n",
    "        \n",
    "        # Inicializar Vector de parámetros de forma aleatoria\n",
    "        self.W = np.random.random_sample((X.shape[1],1))\n",
    "        # Reiniciar historial de error\n",
    "        self.e_historial = []\n",
    "\n",
    "        # CICLO ENTRENAMIENTO\n",
    "        for i in range(self.max_iter):\n",
    "\n",
    "            # Seleccionar una muestra aleatoria\n",
    "            indices = np.random.choice(len(X), size=self.n_muestra)\n",
    "            X_muestra = X[indices]\n",
    "            \n",
    "            gradiente = np.zeros((X.shape[1],1))\n",
    "            # Calculo de gradiente para la muestra\n",
    "            for xi, i  in zip(X_muestra,indices):\n",
    "                xi = np.reshape(xi, (len(xi), 1))\n",
    "                gradiente = gradiente + (np.transpose(self.W)@xi - y[i])*xi\n",
    "            \n",
    "            # Actualizar parametros\n",
    "            prev_w = self.W.copy()\n",
    "            self.W = prev_w - (self.alpha/self.n_muestra)*gradiente\n",
    "\n",
    "            # Calculo de error\n",
    "            y_pred = np.dot(X, self.W)\n",
    "            error = mean_squared_error(y, y_pred)\n",
    "            self.e_historial.append(error)\n",
    "\n",
    "            # Condición de parada\n",
    "            if np.linalg.norm(self.W - prev_w) < self.epsilon:\n",
    "                break\n",
    "            \n",
    "        # =====================================================\n",
    "\n",
    "    def graficar_historial_error(self):\n",
    "        \"\"\"\n",
    "        Grafica la evolución del error a lo largo del entrenamiento.\n",
    "\n",
    "        \"\"\"\n",
    "        # Verificar historial existe\n",
    "        if self.e_historial != []:\n",
    "            plt.figure(figsize=(12,7))\n",
    "            plt.plot(self.e_historial)\n",
    "            plt.title('Evolución del error de entrenamiento')\n",
    "            plt.xlabel('Iteraciones')\n",
    "            plt.ylabel('Error medio cuadrático (MSE)')\n",
    "            plt.grid(True)\n",
    "        else:\n",
    "            raise Exception(\"No se han estimado los parametros todavía!\")\n",
    "\n",
    "    def estimar_datos(self, X):\n",
    "        \"\"\"\n",
    "        Estima la variable de salida de una nueva observación (X) y los parámetros estimados apra el modelo (W).\n",
    "        ___________________________________\n",
    "        Entrada:\n",
    "        X        [numpy.ndarray] Nueva observación - variables de entrada indepentdiente.\n",
    "        ___________________________________\n",
    "        Salida:\n",
    "        y        [numpy.ndarray] Variable de salida estimada.\n",
    "        \"\"\"\n",
    "        # Verificar parámetros estimados\n",
    "        if self.W is not None:\n",
    "            # Agregar vector de 1s\n",
    "            x0 = np.ones((len(X),1))\n",
    "            X = np.append(x0, X, axis=1)\n",
    "\n",
    "            # Realizar predicción\n",
    "            y_pred = np.dot(X, self.W)\n",
    "\n",
    "            return y_pred\n",
    "        \n",
    "        # En caso de no haber estimado parámetros se lanza excepción\n",
    "        else:\n",
    "            raise Exception(\"No se han estimado los parametros todavía!\")"
   ]
  },
  {
   "cell_type": "code",
   "execution_count": 4,
   "metadata": {
    "id": "LN2cM20G7sdg"
   },
   "outputs": [],
   "source": [
    "# Matriz de datos\n",
    "X = data.drop(columns=['calidad']).values\n",
    "# Vector con etoquetas\n",
    "y = data['calidad'].values\n",
    "\n",
    "# Regresión lineal\n",
    "lr = RegresionLinearEstocastica()\n",
    "lr.estimar_parametros(X, y)"
   ]
  },
  {
   "cell_type": "code",
   "execution_count": 5,
   "metadata": {
    "colab": {
     "base_uri": "https://localhost:8080/",
     "height": 458
    },
    "id": "9FYSxR-p9IrB",
    "outputId": "7b22e447-af6d-4d3b-c4f9-60054ce62626"
   },
   "outputs": [
    {
     "data": {
      "image/png": "[encoded data removed]",
      "text/plain": [
       "<Figure size 864x504 with 1 Axes>"
      ]
     },
     "metadata": {
      "needs_background": "light"
     },
     "output_type": "display_data"
    }
   ],
   "source": [
    "# Gráfica del error\n",
    "lr.graficar_historial_error()"
   ]
  },
  {
   "cell_type": "code",
   "execution_count": 6,
   "metadata": {
    "colab": {
     "base_uri": "https://localhost:8080/"
    },
    "id": "7nMWDFru-vRJ",
    "outputId": "e24b9153-1f76-4303-ad81-3036d406c4b2"
   },
   "outputs": [
    {
     "name": "stdout",
     "output_type": "stream",
     "text": [
      "1.5227283310839403\n"
     ]
    }
   ],
   "source": [
    "# Estimar datos de entrenamiento\n",
    "y_pred = lr.estimar_datos(X)\n",
    "\n",
    "# Calcular error sobre datos de entrenamiento\n",
    "error = mean_squared_error(y, y_pred, squared=False)\n",
    "print(error)"
   ]
  },
  {
   "cell_type": "code",
   "execution_count": 7,
   "metadata": {
    "id": "0Z0lwe3N-bqv"
   },
   "outputs": [],
   "source": [
    "# Agregar predicciones al DataFrame\n",
    "data['regresion'] = y_pred"
   ]
  },
  {
   "cell_type": "code",
   "execution_count": 8,
   "metadata": {
    "colab": {
     "base_uri": "https://localhost:8080/",
     "height": 424
    },
    "id": "CzsL_0B--5Av",
    "outputId": "d6b144ae-140c-47ce-d432-b24ca9555e20"
   },
   "outputs": [
    {
     "data": {
      "text/html": [
       "<div>\n",
       "<style scoped>\n",
       "    .dataframe tbody tr th:only-of-type {\n",
       "        vertical-align: middle;\n",
       "    }\n",
       "\n",
       "    .dataframe tbody tr th {\n",
       "        vertical-align: top;\n",
       "    }\n",
       "\n",
       "    .dataframe thead th {\n",
       "        text-align: right;\n",
       "    }\n",
       "</style>\n",
       "<table border=\"1\" class=\"dataframe\">\n",
       "  <thead>\n",
       "    <tr style=\"text-align: right;\">\n",
       "      <th></th>\n",
       "      <th>calidad</th>\n",
       "      <th>regresion</th>\n",
       "    </tr>\n",
       "  </thead>\n",
       "  <tbody>\n",
       "    <tr>\n",
       "      <th>0</th>\n",
       "      <td>5</td>\n",
       "      <td>6.130593</td>\n",
       "    </tr>\n",
       "    <tr>\n",
       "      <th>1</th>\n",
       "      <td>5</td>\n",
       "      <td>4.783023</td>\n",
       "    </tr>\n",
       "    <tr>\n",
       "      <th>2</th>\n",
       "      <td>5</td>\n",
       "      <td>5.675060</td>\n",
       "    </tr>\n",
       "    <tr>\n",
       "      <th>3</th>\n",
       "      <td>6</td>\n",
       "      <td>5.779628</td>\n",
       "    </tr>\n",
       "    <tr>\n",
       "      <th>4</th>\n",
       "      <td>5</td>\n",
       "      <td>6.130593</td>\n",
       "    </tr>\n",
       "    <tr>\n",
       "      <th>...</th>\n",
       "      <td>...</td>\n",
       "      <td>...</td>\n",
       "    </tr>\n",
       "    <tr>\n",
       "      <th>1594</th>\n",
       "      <td>5</td>\n",
       "      <td>4.773942</td>\n",
       "    </tr>\n",
       "    <tr>\n",
       "      <th>1595</th>\n",
       "      <td>6</td>\n",
       "      <td>4.484143</td>\n",
       "    </tr>\n",
       "    <tr>\n",
       "      <th>1596</th>\n",
       "      <td>6</td>\n",
       "      <td>5.355080</td>\n",
       "    </tr>\n",
       "    <tr>\n",
       "      <th>1597</th>\n",
       "      <td>5</td>\n",
       "      <td>4.788506</td>\n",
       "    </tr>\n",
       "    <tr>\n",
       "      <th>1598</th>\n",
       "      <td>6</td>\n",
       "      <td>6.788504</td>\n",
       "    </tr>\n",
       "  </tbody>\n",
       "</table>\n",
       "<p>1599 rows × 2 columns</p>\n",
       "</div>"
      ],
      "text/plain": [
       "      calidad  regresion\n",
       "0           5   6.130593\n",
       "1           5   4.783023\n",
       "2           5   5.675060\n",
       "3           6   5.779628\n",
       "4           5   6.130593\n",
       "...       ...        ...\n",
       "1594        5   4.773942\n",
       "1595        6   4.484143\n",
       "1596        6   5.355080\n",
       "1597        5   4.788506\n",
       "1598        6   6.788504\n",
       "\n",
       "[1599 rows x 2 columns]"
      ]
     },
     "execution_count": 8,
     "metadata": {},
     "output_type": "execute_result"
    }
   ],
   "source": [
    "# Visualización algunos datos de la regresión en comparación con sus valores reales\n",
    "data[['calidad', 'regresion']]"
   ]
  },
  {
   "cell_type": "code",
   "execution_count": 9,
   "metadata": {
    "colab": {
     "base_uri": "https://localhost:8080/",
     "height": 424
    },
    "id": "f4pn2GHq-7Un",
    "outputId": "cf842ef1-fbca-4d40-b3ef-d2d1d549720f"
   },
   "outputs": [
    {
     "data": {
      "text/html": [
       "<div>\n",
       "<style scoped>\n",
       "    .dataframe tbody tr th:only-of-type {\n",
       "        vertical-align: middle;\n",
       "    }\n",
       "\n",
       "    .dataframe tbody tr th {\n",
       "        vertical-align: top;\n",
       "    }\n",
       "\n",
       "    .dataframe thead th {\n",
       "        text-align: right;\n",
       "    }\n",
       "</style>\n",
       "<table border=\"1\" class=\"dataframe\">\n",
       "  <thead>\n",
       "    <tr style=\"text-align: right;\">\n",
       "      <th></th>\n",
       "      <th>calidad</th>\n",
       "      <th>regresion</th>\n",
       "    </tr>\n",
       "  </thead>\n",
       "  <tbody>\n",
       "    <tr>\n",
       "      <th>832</th>\n",
       "      <td>3</td>\n",
       "      <td>4.731656</td>\n",
       "    </tr>\n",
       "    <tr>\n",
       "      <th>1469</th>\n",
       "      <td>3</td>\n",
       "      <td>5.305987</td>\n",
       "    </tr>\n",
       "    <tr>\n",
       "      <th>1374</th>\n",
       "      <td>3</td>\n",
       "      <td>5.679666</td>\n",
       "    </tr>\n",
       "    <tr>\n",
       "      <th>459</th>\n",
       "      <td>3</td>\n",
       "      <td>6.573889</td>\n",
       "    </tr>\n",
       "    <tr>\n",
       "      <th>1505</th>\n",
       "      <td>3</td>\n",
       "      <td>7.028968</td>\n",
       "    </tr>\n",
       "    <tr>\n",
       "      <th>...</th>\n",
       "      <td>...</td>\n",
       "      <td>...</td>\n",
       "    </tr>\n",
       "    <tr>\n",
       "      <th>498</th>\n",
       "      <td>8</td>\n",
       "      <td>7.998535</td>\n",
       "    </tr>\n",
       "    <tr>\n",
       "      <th>1120</th>\n",
       "      <td>8</td>\n",
       "      <td>8.119426</td>\n",
       "    </tr>\n",
       "    <tr>\n",
       "      <th>481</th>\n",
       "      <td>8</td>\n",
       "      <td>8.176955</td>\n",
       "    </tr>\n",
       "    <tr>\n",
       "      <th>455</th>\n",
       "      <td>8</td>\n",
       "      <td>9.818271</td>\n",
       "    </tr>\n",
       "    <tr>\n",
       "      <th>278</th>\n",
       "      <td>8</td>\n",
       "      <td>9.920091</td>\n",
       "    </tr>\n",
       "  </tbody>\n",
       "</table>\n",
       "<p>1599 rows × 2 columns</p>\n",
       "</div>"
      ],
      "text/plain": [
       "      calidad  regresion\n",
       "832         3   4.731656\n",
       "1469        3   5.305987\n",
       "1374        3   5.679666\n",
       "459         3   6.573889\n",
       "1505        3   7.028968\n",
       "...       ...        ...\n",
       "498         8   7.998535\n",
       "1120        8   8.119426\n",
       "481         8   8.176955\n",
       "455         8   9.818271\n",
       "278         8   9.920091\n",
       "\n",
       "[1599 rows x 2 columns]"
      ]
     },
     "execution_count": 9,
     "metadata": {},
     "output_type": "execute_result"
    }
   ],
   "source": [
    "# Visualización de casos frontera\n",
    "data[['calidad', 'regresion']].sort_values(by=['calidad', 'regresion'])"
   ]
  },
  {
   "cell_type": "markdown",
   "metadata": {
    "id": "-IIjpF7lpbu9"
   },
   "source": [
    "## Variación de parámetros"
   ]
  },
  {
   "cell_type": "markdown",
   "metadata": {
    "id": "oiRpx44qqM4a"
   },
   "source": [
    "A continuación, varíe los parámetros $\\alpha$ y $\\texttt{n_muestras}$, tal que obtenga un mejor entrenamiento. Consideré los efectos que estos parámetros pueden tener en el entrenamiento y visualice la evolución del error. \n",
    "\n",
    "Puede también variar los parámetros de condición de parada a su discreción."
   ]
  },
  {
   "cell_type": "code",
   "execution_count": 17,
   "metadata": {
    "colab": {
     "base_uri": "https://localhost:8080/",
     "height": 458
    },
    "id": "jftw0h0spbOy",
    "outputId": "b576fd9d-99f0-445d-b56a-8d70b6b54c8b"
   },
   "outputs": [
    {
     "data": {
      "image/png": "[encoded data removed]",
      "text/plain": [
       "<Figure size 864x504 with 1 Axes>"
      ]
     },
     "metadata": {
      "needs_background": "light"
     },
     "output_type": "display_data"
    }
   ],
   "source": [
    "# Variación del tamaño del paso (alpha)\n",
    "\n",
    "# Test regresión lineal\n",
    "lr_0 = RegresionLinearEstocastica(alpha=0.0001)\n",
    "lr_0.estimar_parametros(X, y)\n",
    "\n",
    "lr_1 = RegresionLinearEstocastica(alpha=0.00001)\n",
    "lr_1.estimar_parametros(X, y)\n",
    "\n",
    "lr_2 = RegresionLinearEstocastica(alpha=0.000001)\n",
    "lr_2.estimar_parametros(X, y)\n",
    "\n",
    "lr_3 = RegresionLinearEstocastica(alpha=0.0000001)\n",
    "lr_3.estimar_parametros(X, y)\n",
    "\n",
    "# Gráfica del error\n",
    "plt.figure(figsize=(12,7))\n",
    "plt.plot(lr_0.e_historial)\n",
    "plt.plot(lr_1.e_historial)\n",
    "plt.plot(lr_2.e_historial)\n",
    "plt.plot(lr_3.e_historial)\n",
    "plt.legend(['alpha 0','alpha 1', 'alpha 2', 'alpha 3'])\n",
    "plt.title('Evolución del error de entrenamiento')\n",
    "plt.xlabel('Iteraciones')\n",
    "plt.ylabel('Error medio cuadrático (MSE)')\n",
    "plt.grid(True)\n",
    "plt.show()"
   ]
  },
  {
   "cell_type": "code",
   "execution_count": 15,
   "metadata": {
    "colab": {
     "base_uri": "https://localhost:8080/",
     "height": 458
    },
    "id": "-nsB573CqOwm",
    "outputId": "1e109a3c-4bb7-4384-b900-fddca26896a5"
   },
   "outputs": [
    {
     "data": {
      "image/png": "[encoded data removed]",
      "text/plain": [
       "<Figure size 864x504 with 1 Axes>"
      ]
     },
     "metadata": {
      "needs_background": "light"
     },
     "output_type": "display_data"
    }
   ],
   "source": [
    "# Variación del tamaño del número de muestras\n",
    "\n",
    "# Test regresión lineal\n",
    "lr_1 = RegresionLinearEstocastica(n_muestra=10)\n",
    "lr_1.estimar_parametros(X, y)\n",
    "\n",
    "lr_2 = RegresionLinearEstocastica(n_muestra=20)\n",
    "lr_2.estimar_parametros(X, y)\n",
    "\n",
    "lr_3 = RegresionLinearEstocastica(n_muestra=40)\n",
    "lr_3.estimar_parametros(X, y)\n",
    "\n",
    "lr_4 = RegresionLinearEstocastica(n_muestra=50)\n",
    "lr_4.estimar_parametros(X, y)\n",
    "\n",
    "# Gráfica del error\n",
    "plt.figure(figsize=(12,7))\n",
    "plt.plot(lr_1.e_historial)\n",
    "plt.plot(lr_2.e_historial)\n",
    "plt.plot(lr_3.e_historial)\n",
    "plt.plot(lr_4.e_historial)\n",
    "plt.legend(['n_muestras 1', 'n_muestras 2', 'n_muestras 3', 'n_muestras 4'])\n",
    "plt.title('Evolución del error de entrenamiento')\n",
    "plt.xlabel('Iteraciones')\n",
    "plt.ylabel('Error medio cuadrático (MSE)')\n",
    "plt.grid(True)\n",
    "plt.show()"
   ]
  },
  {
   "cell_type": "markdown",
   "metadata": {},
   "source": [
    "A partir de sus experimentos, establezca un set de parámetros que considere adecuado y evalue el error que obtiene. Contraste estos resultados con los del Taller 5."
   ]
  },
  {
   "cell_type": "code",
   "execution_count": 18,
   "metadata": {
    "id": "HaWsGjbpqO47"
   },
   "outputs": [
    {
     "data": {
      "image/png": "[encoded data removed]",
      "text/plain": [
       "<Figure size 864x504 with 1 Axes>"
      ]
     },
     "metadata": {
      "needs_background": "light"
     },
     "output_type": "display_data"
    }
   ],
   "source": [
    "# Mejores parámetros\n",
    "\n",
    "# Regresión lineal\n",
    "lr = RegresionLinearEstocastica(n_muestra=40, alpha=0.0001)\n",
    "lr.estimar_parametros(X, y)\n",
    "\n",
    "# Gráfica del error\n",
    "lr.graficar_historial_error()"
   ]
  },
  {
   "cell_type": "code",
   "execution_count": 19,
   "metadata": {
    "id": "bjwXNZBmlG8E"
   },
   "outputs": [
    {
     "name": "stdout",
     "output_type": "stream",
     "text": [
      "1.5227283310839403\n"
     ]
    }
   ],
   "source": [
    "# Calcular error sobre datos de entrenamiento\n",
    "error = mean_squared_error(y, y_pred, squared=False)\n",
    "print(error)"
   ]
  },
  {
   "cell_type": "markdown",
   "metadata": {
    "id": "1nw-3nX-qN9y"
   },
   "source": [
    "# Análisis de Resultados"
   ]
  },
  {
   "cell_type": "markdown",
   "metadata": {
    "id": "a_QI6uieqWxB"
   },
   "source": [
    "¿Qué efecto tiene el parámetro $\\alpha$ en el entrenamiento? Considere los experimentos realizados y explique su respuesta."
   ]
  },
  {
   "cell_type": "markdown",
   "metadata": {},
   "source": [
    "**Respuesta:**\n",
    "> El parámetro $α$ en el contexto de una Regresión Lineal Estocástica se refiere a la tasa de aprendizaje. La tasa de aprendizaje es un hiperparámetro crítico en algoritmos de optimización, como el descenso de gradiente estocástico.<br>\n",
    "La tasa de aprendizaje controla el tamaño de los pasos que toma el algoritmo durante la optimización para ajustar los pesos del modelo. Si la tasa de aprendizaje es demasiado pequeña, el modelo puede converger lentamente y quedar atrapado en mínimos locales. Si es demasiado grande, el modelo puede oscilar y no converger, o incluso divergir.\n",
    "\n",
    "> Específicamente en el caso de la Regresión Lineal Estocástica, que utiliza un enfoque estocástico para la optimización, el impacto del parámetro $α$ se manifiesta en la variabilidad de los pasos de actualización de los pesos, ya que se actualizan en función de un solo ejemplo de entrenamiento en cada iteración. Por lo tanto, la tasa de aprendizaje afectará la velocidad y la estabilidad de la convergencia del modelo."
   ]
  },
  {
   "cell_type": "markdown",
   "metadata": {
    "id": "LbAyISTFqWzY"
   },
   "source": [
    "¿Qué efecto tiene el parámetro $\\texttt{n_muestras}$ en el entrenamiento? Considere los experimentos realizados y explique su respuesta."
   ]
  },
  {
   "cell_type": "markdown",
   "metadata": {},
   "source": [
    "**Respuesta:**\n",
    "> El parámetro n_muestras controla el número de muestras que se utilizan para estimar los parámetros del modelo donde un valor más alto de n_muestras conduce a una estimación más precisa de los parámetros, pero también requiere más tiempo de entrenamiento. <br>\n",
    "En la etapa de entrenamiento, el modelo de regresión lineal estocástica se actualiza repetidamente utilizando muestras aleatorias de los datos de entrenamiento, por lo que a medida que aumenta el número de muestras el modelo se adapta mejor a los datos y se vuelve más preciso. Sin embargo si el número de muestras es demasiado grande, el modelo puede tardar demasiado en entrenarse y puede ser propenso al sobreajuste. Se puede notar el tiempo que demora la ejecucion del modelo con el parametro de max_iter=1000."
   ]
  },
  {
   "cell_type": "markdown",
   "metadata": {
    "id": "J28qk4RLqW1q"
   },
   "source": [
    "¿Cómo obtuvo los mejores paramétros para este entrenamiento? Explique el proceso.\n",
    "\n",
    "¿Cómo se comparan estos resultados con los del Taller 5?\n",
    "Explique las diferencias y cuales cree que son las ventajas y desventajas de cada una de las aproximaciones a resolver el problema de regresión lineal"
   ]
  },
  {
   "cell_type": "markdown",
   "metadata": {},
   "source": [
    "**Respuesta:**\n",
    "> Se llevaron a cabo diversas variaciones de los parámetros, por lo que para n-muestras se usaron valores de (10, 20, 40 y 50) por lo que considerando el rendimeinto del modelo para estas variaciones el mejor parametro para n-muestras es de 40; asi mimso se realizo para el hiperparametro alpha el cual podia obtener valores de (0.0001, 0.00001, 0.000001, 0.0000001) y se eligio con el valor de 0.0001 que genera un menor error cuadratico medio.<br>\n",
    "Al realizar una comparacion entre el taller 5 y este se nota que estos valores son peores, debido a que este modelo genera una solucion aproximada, mientras que las del taller  5 es la solucio exacta.\n",
    "\n",
    "> Una de las mayores diferencias son que en la regresión lineal tradicional se actualizan los parámetros utilizando el gradiente de la función de pérdida calculado sobre todo el conjunto de datos (Gradiente Descendente), miestras que en SGD, se actualizan los parámetros utilizando el gradiente calculado sobre un único ejemplo de entrenamiento seleccionado aleatoriamente en cada paso. SGD es particularmente eficiente cuando se trabaja con grandes conjuntos de datos, ya que no requiere cargar todo el conjunto de datos en la memoria en cada iteración."
   ]
  },
  {
   "cell_type": "code",
   "execution_count": null,
   "metadata": {},
   "outputs": [],
   "source": []
  }
 ],
 "metadata": {
  "colab": {
   "collapsed_sections": [],
   "provenance": []
  },
  "kernelspec": {
   "display_name": "Python 3",
   "language": "python",
   "name": "python3"
  },
  "language_info": {
   "codemirror_mode": {
    "name": "ipython",
    "version": 3
   },
   "file_extension": ".py",
   "mimetype": "text/x-python",
   "name": "python",
   "nbconvert_exporter": "python",
   "pygments_lexer": "ipython3",
   "version": "3.7.12"
  },
  "toc": {
   "base_numbering": 1,
   "nav_menu": {},
   "number_sections": true,
   "sideBar": true,
   "skip_h1_title": false,
   "title_cell": "Table of Contents",
   "title_sidebar": "Contents",
   "toc_cell": false,
   "toc_position": {},
   "toc_section_display": true,
   "toc_window_display": false
  }
 },
 "nbformat": 4,
 "nbformat_minor": 1
}
