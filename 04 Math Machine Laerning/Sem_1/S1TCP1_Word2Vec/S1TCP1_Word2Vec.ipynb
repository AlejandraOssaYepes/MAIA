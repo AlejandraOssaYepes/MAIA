{
 "cells": [
  {
   "cell_type": "markdown",
   "metadata": {},
   "source": [
    "![Banner](img/banner.png)"
   ]
  },
  {
   "cell_type": "markdown",
   "metadata": {
    "deletable": false,
    "editable": false,
    "id": "cQi5lLCUpuuN",
    "nbgrader": {
     "cell_type": "markdown",
     "checksum": "ff2607388ce43b98f6f7ab50e89c562e",
     "grade": false,
     "grade_id": "cell-b65db757fd0dd3b1",
     "locked": true,
     "schema_version": 3,
     "solution": false,
     "task": false
    }
   },
   "source": [
    "# **Taller:** Word2Vec\n",
    "\n",
    "***Matemáticas para Machine Learning***.\n",
    "\n",
    "**Semana 7 - Práctica Calificada -** Matrices, vectores y espacios vectoriales\n",
    "\n",
    "**Profesor:** *Fernando Enrique Lozano Martinez* - **Autores Notebook:** *Nicolas Orlando López Cuéllar* y *César Daniel Garrido*\n"
   ]
  },
  {
   "cell_type": "markdown",
   "metadata": {
    "deletable": false,
    "editable": false,
    "id": "oqa-FB5W0AO5",
    "nbgrader": {
     "cell_type": "markdown",
     "checksum": "09bfd3f0fc58c425ba12cd720bbab878",
     "grade": false,
     "grade_id": "cell-65ff7ef83b4593df",
     "locked": true,
     "schema_version": 3,
     "solution": false,
     "task": false
    }
   },
   "source": [
    "# Introducción"
   ]
  },
  {
   "cell_type": "markdown",
   "metadata": {
    "deletable": false,
    "editable": false,
    "id": "BriMVOMWzKXF",
    "nbgrader": {
     "cell_type": "markdown",
     "checksum": "7c77bd56cb5d37ec0ace84658a4444cb",
     "grade": false,
     "grade_id": "cell-4742c03dd7a0935d",
     "locked": true,
     "schema_version": 3,
     "solution": false,
     "task": false
    }
   },
   "source": [
    "## Descripción\n",
    "\n",
    "Uno de las áreas de estudio más recientes y relevantes en la inteligencia artificial es el llamado campo del **Procesamiento de Lenguaje Natural** o NLP por sus siglas en inglés. Para esto, uno de los pasos mas importantes consiste en poder representar las palabras de manera númerica o vectorial. En general, sabemos que la representación númerica de un objeto nos permite su análisis mediante la cuantificación de cierta propiedad. Por ejemplo, podemos representar númericamente la palabra \"Juan\" o la palabra \"Maria\" a partir de alguna propiedad númerica relevante como su peso o altura.\n",
    "\n",
    "En el Procesamiento de lenguaje natural la carácteristica que queremos cuantificar es la **Semántica** de las palabras. Queremos representar las palabras de tal manera que se capture su significado en un modo similar al de los seres humanos. Esto no implica conocer su significado exacto, sino está mas enfocado a entender su significado contextual.\n",
    "\n",
    "**Objetivos de Aprendizaje:**\n",
    "\n",
    "*   Evaluar algunos de los conceptos vistos durante la semana 1 dentro de un contexto práctico.\n",
    "*   Implementar funciones que permiten calcular distintos tipos de distancias entre vectores.\n",
    "*   Introducir conceptos básicos y generalidades del Procesamiento de Lenguaje Natural (NLP) para la representación de palabras como vectores.\n",
    "*   Analizar las relaciones entre palabras representadas como vectores.\n",
    "\n"
   ]
  },
  {
   "cell_type": "markdown",
   "metadata": {},
   "source": [
    "## Metodologia\n",
    "\n",
    "Para desarrollar el taller usted deberá editar las celdas de código dispuestas para esto. Estas estarán marcadas con el siguiente comentario:\n",
    "\n",
    "```python\n",
    "# =====================================================\n",
    "# COMPLETAR ===========================================\n",
    "# \n",
    "\n",
    "# =====================================================\n",
    "```\n",
    "\n",
    "Edite o complete el códgio dentro de estas lineas de comentarios. Dentro de estos comentarios encontrará ayudas del trabajo a realizar, así como algunas de las variables que debe utilizar o calcular. Adiionalmente, Cada punto tendrá una sección de pruebas, esta sección será calificada y se encuentra oculta de los estudiantes.\n",
    "\n",
    "En este taller también existén preguntas abiertas que no serán calificadas automáticamente al final del laboratorio. Realice las instrucciones que se le dan lo mejor que pueda. Cuando la pregunta o instrucción sea abierta escriba su respuesta completa en la celda que se indica."
   ]
  },
  {
   "cell_type": "markdown",
   "metadata": {
    "deletable": false,
    "editable": false,
    "id": "fBUP6QGU7nSc",
    "nbgrader": {
     "cell_type": "markdown",
     "checksum": "2454dbf397ef1bf5ce47e1301f78d079",
     "grade": false,
     "grade_id": "cell-de231a0a8e7ec436",
     "locked": true,
     "schema_version": 3,
     "solution": false,
     "task": false
    }
   },
   "source": [
    "# Teoría"
   ]
  },
  {
   "cell_type": "markdown",
   "metadata": {
    "deletable": false,
    "editable": false,
    "id": "wkAzwE8i7gUK",
    "nbgrader": {
     "cell_type": "markdown",
     "checksum": "f72766bd595537cbf7b78a7cd9cc9eb6",
     "grade": false,
     "grade_id": "cell-be833875d40163fc",
     "locked": true,
     "schema_version": 3,
     "solution": false,
     "task": false
    }
   },
   "source": [
    "## One-Hot Encoder\n",
    "\n",
    "Un método estándar, y una de las aproximaciones mas sencillas para cuantificar objetos cualitativos consiste en utilizar **codificación one-hot** (One Hot encoding en ingles) Como se muestra en el siguiente ejemplo:\n",
    "\n",
    "---\n",
    "\n",
    "Suponga que todo el **vocabulario** al que tenemos acceso para nuestro proceso \n",
    "de representación númerica consiste en 4 palabras:\n",
    "\n",
    "<center> Amarillo , Azul , Rojo , Naranja </center>\n",
    "\n",
    "Entonces podemos representarlas vectorialmente de la siguiente manera:\n",
    "\n",
    "$$\\begin{split} \n",
    "\\textrm{Amarillo} \\quad \\longrightarrow \\quad & [ 1, 0 ,0,0] \\\\\n",
    "\\textrm{Azul} \\quad \\longrightarrow \\quad & [ 0, 1 ,0,0] \\\\\n",
    "\\textrm{Rojo} \\quad \\longrightarrow \\quad & [ 0, 0 , 1,0] \\\\\n",
    "\\textrm{Naranja} \\quad \\longrightarrow \\quad & [ 0, 0 ,0, 1] \n",
    "\\end{split}$$\n",
    "\n",
    "---\n",
    "\n",
    "Esta representación tiene varios inconvenientes. El tamaño de los vectores depende del tamaño del vocabulario, el cual puede crecer indefinidamente. Además, utilizar el modelo generado con esta codificación sobre otro vocabulario, quitar o adicionar palabras al vocabulario se convierte en un trabajo poco práctico. Finalmente, esta codificación no captura el significado contextual de las palabras el cual es el objetivo original."
   ]
  },
  {
   "cell_type": "markdown",
   "metadata": {
    "deletable": false,
    "editable": false,
    "id": "T6cmoD6V32aO",
    "nbgrader": {
     "cell_type": "markdown",
     "checksum": "7b5bef922b73eab7fa772ccd4293baf3",
     "grade": false,
     "grade_id": "cell-003ebd8cc645d70d",
     "locked": true,
     "schema_version": 3,
     "solution": false,
     "task": false
    }
   },
   "source": [
    "## Word2Vec\n",
    "\n",
    "Word2Vec es un conjunto de tecnicas creadas, patentadas y publicadas en el 2013 por investigadores de Google. Estas están expuestas en [Efficient Estimation of Word Representations in Vector Space](https://arxiv.org/abs/1301.3781) y en [Distributed Representations of Words and Phrases and their Compositionality](https://arxiv.org/abs/1310.4546). \n",
    "\n",
    "Word2Vec tiene 2 arquitecturas de uso diferentes: EL modelo CBOW, por sus siglas en ingles (Continuous Bag of Words Model) o el modelo Skip-Gram. Ambos modelos utilizan el entrenamiento de redes neuranles para generar las asociaciones de texto. En el modelo Skip-Gram el entraniento se realiza generando una predicción para las palabras en una ventana a partir de una palabra central. El modelo CBOW realiza el entrenamiento prediciendo una palabra central a partir de las palabras en una ventana alrededor de esta.\n",
    "\n",
    "El modelo Skip-Gram funciona bien para un conjunto de datos pequeño, representando apropiadamente incluso palabras extrañas. El modelo CBOW es mucho más eficiente de entrenar que el Skip-Gram, particularmente para conjuntos de datos grandes. Tiene mejor precisión sobre palabras frecuentes."
   ]
  },
  {
   "cell_type": "markdown",
   "metadata": {
    "deletable": false,
    "editable": false,
    "id": "R8LzepZbkelL",
    "nbgrader": {
     "cell_type": "markdown",
     "checksum": "298786e4f4c0ee0ebf8efa646c0c509d",
     "grade": false,
     "grade_id": "cell-6ed44b9cdcd1c5c7",
     "locked": true,
     "schema_version": 3,
     "solution": false,
     "task": false
    }
   },
   "source": [
    "# Modelos de *Word2Vec*\n",
    "\n",
    "A continuación se presenta una pequeña muestra de como utilizar esta libreria para generar modelos de procesamiento de lenguaje natural a partir de fragmentos de 100 años de Soledad. Primero empezamos importando las librerias necesarias para el laboratorio."
   ]
  },
  {
   "cell_type": "code",
   "execution_count": 1,
   "metadata": {
    "deletable": false,
    "editable": false,
    "id": "rJPe9JmokOu1",
    "nbgrader": {
     "cell_type": "code",
     "checksum": "a4f9f6ea8ce85c61e399b7b628b7b2f5",
     "grade": false,
     "grade_id": "cell-918e4bc0088de942",
     "locked": true,
     "schema_version": 3,
     "solution": false,
     "task": false
    }
   },
   "outputs": [
    {
     "name": "stderr",
     "output_type": "stream",
     "text": [
      "[nltk_data] Downloading package punkt to /home/jovyan/nltk_data...\n",
      "[nltk_data]   Package punkt is already up-to-date!\n"
     ]
    }
   ],
   "source": [
    "# Librerias Básicas\n",
    "import numpy as np                # Matemáticas\n",
    "import itertools                  # Manipulación iterables\n",
    "import pandas as pd\n",
    "import matplotlib.pyplot as plt   # Visualización\n",
    "\n",
    "# Word2Vec\n",
    "import nltk\n",
    "from nltk.tokenize import sent_tokenize, word_tokenize\n",
    "nltk.download('punkt')\n",
    "\n",
    "import gensim\n",
    "from gensim.models import KeyedVectors\n",
    "from gensim.models import Word2Vec\n",
    "\n",
    "# Visualización\n",
    "from IPython.display import display, HTML\n",
    "from tqdm.notebook import tqdm\n",
    "\n",
    "import warnings\n",
    "warnings.filterwarnings(\"ignore\")"
   ]
  },
  {
   "cell_type": "code",
   "execution_count": 2,
   "metadata": {
    "deletable": false,
    "editable": false,
    "nbgrader": {
     "cell_type": "code",
     "checksum": "c4f18d56d2261a85afcf6446a2a93071",
     "grade": false,
     "grade_id": "cell-09deb9c1918bedd7",
     "locked": true,
     "schema_version": 3,
     "solution": false,
     "task": false
    }
   },
   "outputs": [],
   "source": [
    "# UTILIDADES =================================\n",
    "# Correr una única vez por sesión ============\n",
    "from maiautils import MaiaUtils\n",
    "ipython = get_ipython()\n",
    "mutils = MaiaUtils(ipython) \n",
    "# ============================================"
   ]
  },
  {
   "cell_type": "code",
   "execution_count": 3,
   "metadata": {},
   "outputs": [],
   "source": [
    "# Cambiar configuración de informe de errores\n",
    "mutils.toggle_traceback()"
   ]
  },
  {
   "cell_type": "markdown",
   "metadata": {
    "deletable": false,
    "editable": false,
    "id": "EvMtvKVELYHj",
    "nbgrader": {
     "cell_type": "markdown",
     "checksum": "5949a8fab01ce90cd3b6150e6092bccd",
     "grade": false,
     "grade_id": "cell-64127a40a255f593",
     "locked": true,
     "schema_version": 3,
     "solution": false,
     "task": false
    }
   },
   "source": [
    "## Función Crear Modelos\n",
    "\n",
    "La siguiente función genera ambos modelos CBOW y Skip-Gram a partir de un texto de entrada."
   ]
  },
  {
   "cell_type": "code",
   "execution_count": 4,
   "metadata": {
    "deletable": false,
    "editable": false,
    "id": "HO2MOTVTte4D",
    "nbgrader": {
     "cell_type": "code",
     "checksum": "c909332b6984fcc7e4bd9d938f419927",
     "grade": false,
     "grade_id": "cell-8af3844f454ba2e5",
     "locked": true,
     "schema_version": 3,
     "solution": false,
     "task": false
    }
   },
   "outputs": [],
   "source": [
    "def crear_modelo_texto(path:str, size=100, window=5): \n",
    "    \"\"\"\n",
    "    Crea modelos a partir de un archivo de texto \n",
    "    ___________________________________\n",
    "    Entrada:\n",
    "    path:   [str] dirección de archivo\n",
    "    size:   [int] Tamaño de vectores\n",
    "    window: [int] Tamaño de ventana\n",
    "    ___________________________________\n",
    "    Salida:\n",
    "    cbow:  [gensim.Word2Vec] Continuous Bag of Words Model\n",
    "    sgram: [gensim.Word2Vec] Skip Gram Model  \n",
    "    \"\"\"\n",
    "\n",
    "    # Lee archivo ‘.txt’ \n",
    "    sample = open(path, \"r\")\n",
    "    s = sample.read()\n",
    "\n",
    "    # Reemplaza fin de linea con espacio.\n",
    "    f = s.replace(\"\\n\", \" \")\n",
    "\n",
    "    data = []\n",
    "\n",
    "    # Itera sobre cada oración\n",
    "    for i in sent_tokenize(f):\n",
    "        temp = []\n",
    "\n",
    "        # Itera sobre cada palabra\n",
    "        for j in word_tokenize(i):\n",
    "            temp.append(j.lower())\n",
    "\n",
    "        data.append(temp)\n",
    "\n",
    "    # Modelo CBOW \n",
    "    cbow = gensim.models.Word2Vec(data, min_count = 1, vector_size = size, window = window) \n",
    "\n",
    "    # Modelo Skip Gram\n",
    "    sgram = gensim.models.Word2Vec(data, min_count = 1, vector_size = size, window = window, sg = 1)\n",
    "\n",
    "    return cbow, sgram"
   ]
  },
  {
   "cell_type": "markdown",
   "metadata": {
    "deletable": false,
    "editable": false,
    "id": "S7NlSgTVLbIA",
    "nbgrader": {
     "cell_type": "markdown",
     "checksum": "95f60ac932d488529d7d5c2af75b3484",
     "grade": false,
     "grade_id": "cell-e78f00d20e37e1fb",
     "locked": true,
     "schema_version": 3,
     "solution": false,
     "task": false
    }
   },
   "source": [
    "## Modelos - Gabriel García Marquez\n",
    "\n",
    "A continuación se leen dos fragmentosdel libro **100 años de soledad** de Gabriel García Marquez , y a partir de cada uno se generan distintos modelos."
   ]
  },
  {
   "cell_type": "code",
   "execution_count": 5,
   "metadata": {},
   "outputs": [],
   "source": [
    "# Tamaño de la ventana de palabras\n",
    "window = 5\n",
    "# Dimensión de los vectores de representación\n",
    "size = 10"
   ]
  },
  {
   "cell_type": "code",
   "execution_count": 6,
   "metadata": {
    "colab": {
     "base_uri": "https://localhost:8080/",
     "height": 356
    },
    "deletable": false,
    "editable": false,
    "id": "Zlp2vhoPzya8",
    "nbgrader": {
     "cell_type": "code",
     "checksum": "35fbc3224433afee514e078aded8627b",
     "grade": false,
     "grade_id": "cell-83b508a1409d14b1",
     "locked": true,
     "schema_version": 3,
     "solution": false,
     "task": false
    },
    "outputId": "51a630b0-ce7d-4394-b208-664cf695a84f"
   },
   "outputs": [],
   "source": [
    "# Crear Modelos\n",
    "cbow1, gram1 = crear_modelo_texto('100_años_soledad_corto.txt', size=size, window=window)\n",
    "cbow2, gram2 = crear_modelo_texto('100_años_soledad_full.txt', size=size, window=window)\n",
    "\n",
    "# Modelos \n",
    "modelos = {\n",
    "    'CBOW 1': cbow1,\n",
    "    'Skip-Gram 1': gram1,\n",
    "    'CBOW 2': cbow2,\n",
    "    'Skip-Gram 2': gram2,\n",
    "}"
   ]
  },
  {
   "cell_type": "markdown",
   "metadata": {
    "deletable": false,
    "editable": false,
    "id": "pqBAvjKtCJWW",
    "nbgrader": {
     "cell_type": "markdown",
     "checksum": "3faad48e164c40ef55986931b0087779",
     "grade": false,
     "grade_id": "cell-3df33e21836c2b84",
     "locked": true,
     "schema_version": 3,
     "solution": false,
     "task": false
    }
   },
   "source": [
    "## Vocabulario - Vectores\n",
    "\n",
    "Cada modelo tiene su correspondiente vocabulario, que incluye todas las palabras y simbolos que se encuentren en el texto de entrenamiento:"
   ]
  },
  {
   "cell_type": "code",
   "execution_count": 7,
   "metadata": {
    "id": "P-K88e7AeaGx"
   },
   "outputs": [
    {
     "name": "stdout",
     "output_type": "stream",
     "text": [
      "['de', ',', 'la', '.', 'y', 'que', 'el', 'en', 'a', 'los']\n"
     ]
    }
   ],
   "source": [
    "# Obtener vocabulario\n",
    "vocab = modelos['CBOW 1'].wv.index_to_key \n",
    "# Mostrar primeros 10 elementos\n",
    "print(vocab[:10])"
   ]
  },
  {
   "cell_type": "markdown",
   "metadata": {
    "deletable": false,
    "editable": false,
    "id": "ld-HOFnLStCy",
    "nbgrader": {
     "cell_type": "markdown",
     "checksum": "7435dc52039ca3a3d2f91766cced1b5d",
     "grade": false,
     "grade_id": "cell-cc3a649a4d0d2b53",
     "locked": true,
     "schema_version": 3,
     "solution": false,
     "task": false
    }
   },
   "source": [
    "Podemos tomar alguna palabra que se encuentre en ambos textos y observar su representación vectorial bajo los distintos modelos. En la siguiente tabla vemos como cada uno de los 4 modelos representa la palabra $p$ con un vector de 10 coordenadas. Observe que cuando se usa el texto corto, las representaciones son muy similares, sin embargo, cuando el texto que se usa de entrenamiento aumenta, estas representaciones se vuelven más y más distintas."
   ]
  },
  {
   "cell_type": "code",
   "execution_count": 8,
   "metadata": {
    "id": "x06F46uCKRIW"
   },
   "outputs": [],
   "source": [
    "# Palabras\n",
    "p = 'aldea'"
   ]
  },
  {
   "cell_type": "code",
   "execution_count": 9,
   "metadata": {
    "deletable": false,
    "editable": false,
    "id": "S0B0kaFKSspW",
    "nbgrader": {
     "cell_type": "code",
     "checksum": "bdb74a5406df1df2f3d172af3676b3e3",
     "grade": false,
     "grade_id": "cell-61b47535d005e503",
     "locked": true,
     "schema_version": 3,
     "solution": false,
     "task": false
    }
   },
   "outputs": [
    {
     "name": "stdout",
     "output_type": "stream",
     "text": [
      "Representación de palabra Aldea:\n"
     ]
    },
    {
     "data": {
      "text/html": [
       "<table border=\"1\" class=\"dataframe\">\n",
       "  <thead>\n",
       "    <tr style=\"text-align: right;\">\n",
       "      <th></th>\n",
       "      <th>0</th>\n",
       "      <th>1</th>\n",
       "      <th>2</th>\n",
       "      <th>3</th>\n",
       "      <th>4</th>\n",
       "      <th>5</th>\n",
       "      <th>6</th>\n",
       "      <th>7</th>\n",
       "      <th>8</th>\n",
       "      <th>9</th>\n",
       "    </tr>\n",
       "  </thead>\n",
       "  <tbody>\n",
       "    <tr>\n",
       "      <th>CBOW 1</th>\n",
       "      <td>0.008446</td>\n",
       "      <td>-0.112672</td>\n",
       "      <td>0.453235</td>\n",
       "      <td>-0.153687</td>\n",
       "      <td>0.192162</td>\n",
       "      <td>0.320091</td>\n",
       "      <td>0.483150</td>\n",
       "      <td>0.512073</td>\n",
       "      <td>-0.720139</td>\n",
       "      <td>-0.120212</td>\n",
       "    </tr>\n",
       "    <tr>\n",
       "      <th>Skip-Gram 1</th>\n",
       "      <td>0.039262</td>\n",
       "      <td>-0.037001</td>\n",
       "      <td>0.489713</td>\n",
       "      <td>-0.137031</td>\n",
       "      <td>0.280926</td>\n",
       "      <td>0.376610</td>\n",
       "      <td>0.856717</td>\n",
       "      <td>1.002464</td>\n",
       "      <td>-0.976564</td>\n",
       "      <td>-0.122268</td>\n",
       "    </tr>\n",
       "    <tr>\n",
       "      <th>CBOW 2</th>\n",
       "      <td>0.047794</td>\n",
       "      <td>-0.406718</td>\n",
       "      <td>0.106915</td>\n",
       "      <td>-0.157092</td>\n",
       "      <td>-0.035810</td>\n",
       "      <td>-0.067248</td>\n",
       "      <td>0.967877</td>\n",
       "      <td>0.588041</td>\n",
       "      <td>-0.910058</td>\n",
       "      <td>-0.200354</td>\n",
       "    </tr>\n",
       "    <tr>\n",
       "      <th>Skip-Gram 2</th>\n",
       "      <td>0.099922</td>\n",
       "      <td>0.283160</td>\n",
       "      <td>-0.321249</td>\n",
       "      <td>-0.143898</td>\n",
       "      <td>0.196543</td>\n",
       "      <td>-0.022601</td>\n",
       "      <td>1.414843</td>\n",
       "      <td>0.543181</td>\n",
       "      <td>-1.320193</td>\n",
       "      <td>0.112501</td>\n",
       "    </tr>\n",
       "  </tbody>\n",
       "</table>"
      ],
      "text/plain": [
       "<IPython.core.display.HTML object>"
      ]
     },
     "metadata": {},
     "output_type": "display_data"
    }
   ],
   "source": [
    "# Genera vector para cada modelo\n",
    "p_vec = {}\n",
    "for name, model in modelos.items():\n",
    "    p_vec[name] = model.wv[p]\n",
    "\n",
    "# Muestra\n",
    "print(\"Representación de palabra Aldea:\")\n",
    "mutils.mostrar_tabla(p_vec)"
   ]
  },
  {
   "cell_type": "markdown",
   "metadata": {
    "deletable": false,
    "editable": false,
    "id": "_NaTXMlnNova",
    "nbgrader": {
     "cell_type": "markdown",
     "checksum": "ac7fc483299e92a8afd10ac8464336eb",
     "grade": false,
     "grade_id": "cell-1a27db8dd32912cf",
     "locked": true,
     "schema_version": 3,
     "solution": false,
     "task": false
    }
   },
   "source": [
    "# Similitud de coseno\n",
    "\n",
    "Una vez las palabras son representadas con vectores podemos hablar de una distancia entre ellas. Word2Vec incorpora una función de similaridad que permite medir que tan \"cercanas\" son dos palabras, esta es la similaridad de coseno, la cual es 0 cuando los vectores son perpendiculares, y se acerca a 1 a medida que los vectores son mas cercanos en angulo y en magnitud. De manera analoga, se acerca a -1 cuando los vectores son similares en magnitud, pero su angulo es opuesto el uno del otro.\n",
    "\n",
    "\n",
    "$$ S_C(\\mathbf{v}, \\mathbf{u} ) = \\frac{\\mathbf{v} \\cdot \\mathbf{u}}{\\| \\mathbf{v} \\| \\| \\mathbf{u} \\|} $$\n",
    "\n",
    "En donde $\\| \\mathbf{v} \\|$ es la norma euclidiana del vector $\\mathbf{v} \\in \\mathbb{R}^n$ dada por:\n",
    "\n",
    "$$ \\| \\mathbf{v} \\| = \\sqrt{v_1^2 + v_2^2 + \\ldots + v_n^2}$$\n",
    "\n",
    "Y el numerador es el producto punto de $\\mathbf{v}$ y $\\mathbf{u}$:\n",
    "\n",
    "$$ \\mathbf{v} \\cdot \\mathbf{u} = v_1 u_1 + \\> \\ldots \\> + v_n u_n $$\n",
    "\n",
    "Entonces si tomamos 2 palabras, es posible obtener su similaridad de coseno:"
   ]
  },
  {
   "cell_type": "code",
   "execution_count": 10,
   "metadata": {
    "id": "L0I4K679S8nI"
   },
   "outputs": [],
   "source": [
    "# Palabras\n",
    "p1 = 'aldea'\n",
    "p2 = 'frente'"
   ]
  },
  {
   "cell_type": "code",
   "execution_count": 11,
   "metadata": {
    "deletable": false,
    "editable": false,
    "id": "b3EgG7uGLQcR",
    "nbgrader": {
     "cell_type": "code",
     "checksum": "5435346fa61dd065d906713a2c4bf527",
     "grade": false,
     "grade_id": "cell-30cc26a5b8871b65",
     "locked": true,
     "schema_version": 3,
     "solution": false,
     "task": false
    }
   },
   "outputs": [
    {
     "name": "stdout",
     "output_type": "stream",
     "text": [
      "CBOW 1      : 0.9730207920074463\n",
      "Skip-Gram 1 : 0.9817833304405212\n",
      "CBOW 2      : 0.9906709790229797\n",
      "Skip-Gram 2 : 0.9609376192092896\n"
     ]
    }
   ],
   "source": [
    "# Similaridad\n",
    "print(f'CBOW 1      : {cbow1.wv.similarity(p1, p2)}')\n",
    "print(f'Skip-Gram 1 : {gram1.wv.similarity(p1, p2)}')\n",
    "print(f'CBOW 2      : {cbow2.wv.similarity(p1, p2)}')\n",
    "print(f'Skip-Gram 2 : {gram2.wv.similarity(p1, p2)}')"
   ]
  },
  {
   "cell_type": "markdown",
   "metadata": {
    "deletable": false,
    "editable": false,
    "id": "zqqGW7-JCE1u",
    "nbgrader": {
     "cell_type": "markdown",
     "checksum": "6653f7fac93617a1281b0bccc302cd66",
     "grade": false,
     "grade_id": "cell-d55943d61071b7f3",
     "locked": true,
     "schema_version": 3,
     "solution": false,
     "task": false
    }
   },
   "source": [
    "# Problemas"
   ]
  },
  {
   "cell_type": "markdown",
   "metadata": {
    "deletable": false,
    "editable": false,
    "id": "sYBoFqYvSH8-",
    "nbgrader": {
     "cell_type": "markdown",
     "checksum": "45c09903a8c606737f78c93d9716feb6",
     "grade": false,
     "grade_id": "cell-113a87b7e1893650",
     "locked": true,
     "schema_version": 3,
     "solution": false,
     "task": false
    }
   },
   "source": [
    "## Similitud coseno\n",
    "\n",
    "Escriba una función que reciba dos vectores $\\mathbf{v}_1, \\mathbf{v}_2 \\in \\mathbb{R}^n$  y encuentre su similaridad de coseno. **IMPORTANTE:**Recuerde que la función interna de Word2Vec que calcula la similaridad de coseno entre dos palabras tiene un extra procesamiento que no es tenido en cuenta en nuestro planteamiento; esto implica que sus resultados pueden variar un poco de los resultados obtenidos por la función $\\texttt{wv.similarity()}$, sin embargo pouede utilizar esta función como una guía."
   ]
  },
  {
   "cell_type": "code",
   "execution_count": 12,
   "metadata": {
    "id": "HSo6NzpfSS0L"
   },
   "outputs": [],
   "source": [
    "# Función de similitud\n",
    "def cos_sim(p1, p2, model) -> float:\n",
    "    \"\"\"\n",
    "    Obtiene la similitud de coseno entre 2 vectores\n",
    "    ___________________________________\n",
    "    Entrada:\n",
    "    p1, p2:   [str] palabras a comparar\n",
    "    model:    [gensim.Word2Vec] Modelo bajo el cual se compararan las palabras\n",
    "    ___________________________________\n",
    "    Salida:\n",
    "    csim: [float] Similaridad entre los vectores de las palabras bajo el modelo\n",
    "    \"\"\"\n",
    "\n",
    "    # =====================================================\n",
    "    # COMPLETAR ===========================================\n",
    "    v_p1 = model.wv[p1]\n",
    "    v_p2 = model.wv[p2]\n",
    "    dot_p = np.dot(v_p1,v_p2)\n",
    "    p1_n = np.linalg.norm(v_p1)\n",
    "    p2_n = np.linalg.norm(v_p2)\n",
    "    csim = (dot_p/(p1_n * p2_n))\n",
    "    # AYUDA:\n",
    "    # Estructura esperada\n",
    "    #csim = 0 \n",
    "    # =====================================================\n",
    "    \n",
    "    return csim"
   ]
  },
  {
   "cell_type": "markdown",
   "metadata": {
    "id": "d5cRlIpoFwB1"
   },
   "source": [
    "### Prueba"
   ]
  },
  {
   "cell_type": "code",
   "execution_count": 13,
   "metadata": {},
   "outputs": [],
   "source": [
    "# Seleccionar Modelo\n",
    "name, model = list(modelos.items())[0]\n",
    "\n",
    "# Seleccionar Palabras\n",
    "p1 = 'aldea'\n",
    "p2 = 'frente'"
   ]
  },
  {
   "cell_type": "code",
   "execution_count": 14,
   "metadata": {
    "deletable": false,
    "editable": false,
    "nbgrader": {
     "cell_type": "code",
     "checksum": "5a855f543baba98828764cad56351b98",
     "grade": true,
     "grade_id": "cell-ec6618652a09c099",
     "locked": true,
     "points": 10,
     "schema_version": 3,
     "solution": false,
     "task": false
    }
   },
   "outputs": [
    {
     "name": "stdout",
     "output_type": "stream",
     "text": [
      "          Modelo: CBOW 1\n",
      "\n",
      "Función Propia : 0.9730207920074463\n",
      "Función Word2Vec : 0.9730207920074463\n"
     ]
    }
   ],
   "source": [
    "# Mostrar resultados\n",
    "print(f\"          Modelo: {name}\\n\")\n",
    "print(f'Función Propia : {cos_sim(p1, p2, model)}')\n",
    "print(f'Función Word2Vec : {model.wv.similarity(p1, p2)}')\n"
   ]
  },
  {
   "cell_type": "markdown",
   "metadata": {
    "deletable": false,
    "editable": false,
    "id": "IU-38PceNCT9",
    "nbgrader": {
     "cell_type": "markdown",
     "checksum": "43550296eebb7f45fec35395a4d73059",
     "grade": false,
     "grade_id": "cell-6404c7bb99f2a491",
     "locked": true,
     "schema_version": 3,
     "solution": false,
     "task": false
    }
   },
   "source": [
    "##  Palabras cercanas\n",
    "\n",
    "Escriba una función que reciba una palabra y un modelo Word2vec y a partir del modelo la función encuentra las $n$ palabras del vocabulario mas cercanas a la palabra inicial."
   ]
  },
  {
   "cell_type": "code",
   "execution_count": 15,
   "metadata": {
    "id": "-fL-uJfLX66n"
   },
   "outputs": [],
   "source": [
    "def palabras_cercanas(p:str, model, n=5) -> list:\n",
    "    \"\"\"\n",
    "    Obtiene las n palabras más cercanas a la palabra p segun el modelo model.\n",
    "    La primer palabra cercana siempre debe ser si misma.\n",
    "    ___________________________________\n",
    "    Entrada:\n",
    "    p:        [str] palabra a comparar\n",
    "    model:    [gensim.Word2Vec] Modelo bajo el cual se compararan las palabras\n",
    "    n:        [int] número de palabras más cercanas a retornar\n",
    "    ___________________________________\n",
    "    Salida:\n",
    "    out:      [list(str)] Lista de n palabras más cercanas a p.\n",
    "    \"\"\"\n",
    "    # =====================================================\n",
    "    # COMPLETAR ===========================================\n",
    "    vocab = model.wv.index_to_key\n",
    "    l_val = []\n",
    "    for word in vocab:\n",
    "        p_sim = cos_sim(p, word, model)\n",
    "        l_val.append(p_sim)\n",
    "    \n",
    "    l_val = np.array(l_val)\n",
    "    l_val_sort = np.argsort(l_val)\n",
    "    #print(l_val_sort)\n",
    "    n_val = l_val_sort[-n:]\n",
    "    \n",
    "    # AYUDA:\n",
    "    # Estructura esperada\n",
    "    # out = [f'p{i}' for i in range(n)]\n",
    "    out = [vocab[x] for x in n_val][::-1]\n",
    "    # =====================================================\n",
    "    \n",
    "    return out"
   ]
  },
  {
   "cell_type": "markdown",
   "metadata": {
    "deletable": false,
    "editable": false,
    "nbgrader": {
     "cell_type": "markdown",
     "checksum": "76422812516fee29fb84b790161e9357",
     "grade": false,
     "grade_id": "cell-2c89d81d43e30e35",
     "locked": true,
     "schema_version": 3,
     "solution": false,
     "task": false
    }
   },
   "source": [
    "### Prueba"
   ]
  },
  {
   "cell_type": "code",
   "execution_count": 16,
   "metadata": {},
   "outputs": [],
   "source": [
    "# Seleccionar Modelo\n",
    "name, model = list(modelos.items())[0]\n",
    "\n",
    "# Seleccionar Palabras\n",
    "p1 = 'aldea'\n",
    "p2 = 'frente'"
   ]
  },
  {
   "cell_type": "code",
   "execution_count": 17,
   "metadata": {
    "deletable": false,
    "editable": false,
    "nbgrader": {
     "cell_type": "code",
     "checksum": "5c286ab72651d5ecfb5aa627c20da95f",
     "grade": true,
     "grade_id": "cell-8190391c4e714bf4",
     "locked": true,
     "points": 10,
     "schema_version": 3,
     "solution": false,
     "task": false
    }
   },
   "outputs": [
    {
     "name": "stdout",
     "output_type": "stream",
     "text": [
      "          Modelo: CBOW 1\n",
      "\n",
      "aldea\n",
      "['aldea', 'gente', 'nadie', 'cama', 'unos']\n",
      "___________________________________\n",
      "frente\n",
      "['frente', 'puso', 'día', 'fue', 'buendía']\n"
     ]
    }
   ],
   "source": [
    "# Mostrar resultados\n",
    "print(f\"          Modelo: {name}\\n\")\n",
    "print(p1, palabras_cercanas(p1, model, n=5), sep='\\n')\n",
    "print(\"___________________________________\")\n",
    "print(p2, palabras_cercanas(p2, model, n=5), sep='\\n')\n",
    "\n"
   ]
  },
  {
   "cell_type": "markdown",
   "metadata": {
    "deletable": false,
    "editable": false,
    "id": "tR9aqKVPYpXK",
    "nbgrader": {
     "cell_type": "markdown",
     "checksum": "ec104a6273f9d1435cd4c9f7320f3b8c",
     "grade": false,
     "grade_id": "cell-7d3c4049c0938de3",
     "locked": true,
     "schema_version": 3,
     "solution": false,
     "task": false
    }
   },
   "source": [
    "## Palabras Lejanas\n",
    "\n",
    "De forma análoga, escriba una función que reciba una palabra y un modelo Word2vec y a partir del modelo la función encyuentre las $n$ palabras del vocabulario mas lejanas a la palabra inicial."
   ]
  },
  {
   "cell_type": "code",
   "execution_count": 18,
   "metadata": {
    "id": "D8J5nvXRyFRb"
   },
   "outputs": [],
   "source": [
    "def palabras_lejanas(p:str, model, n=5) -> list:\n",
    "    \"\"\"\n",
    "    Obtiene las n palabras más lejanas a la palabra p según el modelo model\n",
    "    ___________________________________\n",
    "    Entrada:\n",
    "    p:        [str] palabra a comparar\n",
    "    model:    [gensim.Word2Vec] Modelo bajo el cual se compararan las palabras\n",
    "    n:        [int] número de palabras más lejanas a retornar\n",
    "    ___________________________________\n",
    "    Salida:\n",
    "    out:      [list(str)] Lista de n palabras más lejanas a p.\n",
    "    \"\"\"\n",
    "    # =====================================================\n",
    "    # COMPLETAR ===========================================\n",
    "    vocab = model.wv.index_to_key\n",
    "    l_val = []\n",
    "    for word in vocab:\n",
    "        p_sim = cos_sim(p, word, model)\n",
    "        l_val.append(p_sim)\n",
    "    \n",
    "    l_val = np.array(l_val)\n",
    "    l_val_sort = np.argsort(l_val)\n",
    "    n_val = l_val_sort[:n]\n",
    "\n",
    "    # AYUDA:\n",
    "    # Estructura esperada\n",
    "    # out = [f'p{i}' for i in range(n)]\n",
    "    out = [vocab[x] for x in n_val][::-1]\n",
    "    \n",
    "    \n",
    "    # AYUDA:\n",
    "    # Estructura esperada\n",
    "    # =====================================================\n",
    "    \n",
    "    return out"
   ]
  },
  {
   "cell_type": "markdown",
   "metadata": {
    "deletable": false,
    "editable": false,
    "nbgrader": {
     "cell_type": "markdown",
     "checksum": "0d9b633b62cd71285b62d1bad549eee0",
     "grade": false,
     "grade_id": "cell-ffa1d404ec515c19",
     "locked": true,
     "schema_version": 3,
     "solution": false,
     "task": false
    }
   },
   "source": [
    "### Prueba"
   ]
  },
  {
   "cell_type": "code",
   "execution_count": 19,
   "metadata": {},
   "outputs": [],
   "source": [
    "# Seleccionar Modelo\n",
    "name, model = list(modelos.items())[0]\n",
    "\n",
    "# Seleccionar Palabras\n",
    "p1 = 'aldea'\n",
    "p2 = 'frente'"
   ]
  },
  {
   "cell_type": "code",
   "execution_count": 20,
   "metadata": {
    "deletable": false,
    "editable": false,
    "nbgrader": {
     "cell_type": "code",
     "checksum": "2a25d4c9570e984b8028151763b933d2",
     "grade": true,
     "grade_id": "cell-6c80ea66824bc1e8",
     "locked": true,
     "points": 10,
     "schema_version": 3,
     "solution": false,
     "task": false
    }
   },
   "outputs": [
    {
     "name": "stdout",
     "output_type": "stream",
     "text": [
      "          Modelo: CBOW 1\n",
      "\n",
      "aldea\n",
      "['engendro', 'ar-', 'intempestivo', 'serie', 'hundían']\n",
      "___________________________________\n",
      "frente\n",
      "['serie', 'llegada', 'ar-', 'intempestivo', 'hundían']\n"
     ]
    }
   ],
   "source": [
    "# Mostrar resultados\n",
    "print(f\"          Modelo: {name}\\n\")\n",
    "print(p1, palabras_lejanas(p1, model, n=5), sep='\\n')\n",
    "print(\"___________________________________\")\n",
    "print(p2, palabras_lejanas(p2, model, n=5), sep='\\n')\n",
    "\n"
   ]
  },
  {
   "cell_type": "markdown",
   "metadata": {
    "deletable": false,
    "editable": false,
    "id": "IU-38PceNCT9",
    "nbgrader": {
     "cell_type": "markdown",
     "checksum": "999f90c7042521dec3d6d058e33e093e",
     "grade": false,
     "grade_id": "cell-0facc70bb7264978",
     "locked": true,
     "schema_version": 3,
     "solution": false,
     "task": false
    }
   },
   "source": [
    "## Mas cercanas\n",
    "\n",
    "Escriba una función que a partir de un modelo Word2Vec entrenado encuentre las 2 palabras mas similares entre si de todo el vocabulario."
   ]
  },
  {
   "cell_type": "code",
   "execution_count": 21,
   "metadata": {
    "id": "CDp3HktcYTWQ"
   },
   "outputs": [],
   "source": [
    "def mas_cercanas_en_vocabulario(model) -> list:\n",
    "    \"\"\"\n",
    "    Obtiene las 2 palabras más cercanas entre sí en todo el vocabulario.\n",
    "    ___________________________________\n",
    "    Entrada:\n",
    "    model:    [gensim.Word2Vec] Modelo bajo el cual se compararan las palabras\n",
    "    ___________________________________\n",
    "    Salida:\n",
    "    cercanas, dist: [2-Tuple], [float] Par de palabras mas cercanas y su distancia correspondiente\n",
    "    \"\"\"\n",
    "    \n",
    "    # =====================================================\n",
    "    # COMPLETAR ===========================================\n",
    "    vocab = model.wv.index_to_key\n",
    "    n = len(vocab)\n",
    "    matrix_simi = np.zeros([n,n])\n",
    "    for i  in range(n):\n",
    "        for j in range(n):\n",
    "            if i > j:\n",
    "                matrix_simi[i][j] = cos_sim(vocab[i], vocab[j], model)\n",
    "    print(np.argmax(matrix_simi))\n",
    "    max_row, max_column = np.unravel_index(np.argmax(matrix_simi), matrix_simi.shape)\n",
    "    dist = matrix_simi[max_row][max_column]\n",
    "\n",
    "    # AYUDA:\n",
    "    # Estructura esperada\n",
    "    cercanas = [vocab[max_row],vocab[max_column]]\n",
    "    # =====================================================\n",
    "    \n",
    "    return cercanas, dist"
   ]
  },
  {
   "cell_type": "markdown",
   "metadata": {
    "deletable": false,
    "editable": false,
    "id": "qn8sygcFXkIr",
    "nbgrader": {
     "cell_type": "markdown",
     "checksum": "dbb4ee7268af51fa78c9226e91674ddc",
     "grade": false,
     "grade_id": "cell-c7bd12a56c48e97d",
     "locked": true,
     "schema_version": 3,
     "solution": false,
     "task": false
    }
   },
   "source": [
    "### Prueba"
   ]
  },
  {
   "cell_type": "code",
   "execution_count": 22,
   "metadata": {
    "deletable": false,
    "editable": false,
    "id": "Su4sAOBxYYE9",
    "nbgrader": {
     "cell_type": "code",
     "checksum": "676462e2699fa415a4a9c2202a768986",
     "grade": true,
     "grade_id": "cell-e457716cdb4f9a72",
     "locked": true,
     "points": 10,
     "schema_version": 3,
     "solution": false,
     "task": false
    }
   },
   "outputs": [
    {
     "name": "stdout",
     "output_type": "stream",
     "text": [
      "          Modelo: CBOW 1\n",
      "\n",
      "95133\n",
      "del / .\n",
      "Distancia = 0.9998140931129456\n"
     ]
    }
   ],
   "source": [
    "name, model = list(modelos.items())[0]\n",
    "\n",
    "print(f\"          Modelo: {name}\\n\")\n",
    "[pc1, pc2], dist = mas_cercanas_en_vocabulario(model)\n",
    "print(f'{pc1} / {pc2}', f'Distancia = {dist}', sep=\"\\n\")\n"
   ]
  },
  {
   "cell_type": "markdown",
   "metadata": {
    "deletable": false,
    "editable": false,
    "nbgrader": {
     "cell_type": "markdown",
     "checksum": "d85f1f81160a18750d81557ad6071b87",
     "grade": false,
     "grade_id": "cell-7e581654bbb454c8",
     "locked": true,
     "schema_version": 3,
     "solution": false,
     "task": false
    }
   },
   "source": [
    "## Visualización\n",
    "\n",
    "Para poder visualizar los datos en un plano 2D (tal como se hizo durante el taller práctico 1: KNN) se va a utilizar una técnica de reducción de dimensionalidad. En escencia, está técnica proyecta los vectores de las palabras (de N dimensiones) en 2 dimensiones preservando la mayor cantidad de información. \n",
    "\n",
    "Esto se verá en detalle durante la siguiente Semana! Por ahora solo es necesario que utilice la siguiente función para poder representar palabras en un plano 2D."
   ]
  },
  {
   "cell_type": "code",
   "execution_count": 23,
   "metadata": {
    "deletable": false,
    "editable": false,
    "id": "3NS6blf011Zz",
    "nbgrader": {
     "cell_type": "code",
     "checksum": "399da84d798a8c6d24b7f437dbe915a8",
     "grade": false,
     "grade_id": "cell-02c73288ba21994d",
     "locked": true,
     "schema_version": 3,
     "solution": false,
     "task": false
    }
   },
   "outputs": [
    {
     "name": "stdout",
     "output_type": "stream",
     "text": [
      "Help on function reduccion_dimensionalidad in module visualizacion:\n",
      "\n",
      "reduccion_dimensionalidad(palabra, modelo, new_dim=2)\n",
      "    Reduce la dimensionalidad de una palabra palabra en 2D.\n",
      "    ___________________________________\n",
      "    Entrada:\n",
      "    palabra: [1D-array] Palabra en forma de vector\n",
      "    modelo:  [gensim.Word2Vec] Modelo utilizado\n",
      "    new_dim: [int] nueva dimensión de la palabra\n",
      "    ____________________________________\n",
      "    Salida:\n",
      "    palabra_red: [1D-array] Nueva representación vectorial de la palabra.\n",
      "\n"
     ]
    }
   ],
   "source": [
    "# Funcion de reducción de dimensionalidad (PCA)\n",
    "help(mutils.reduccion_dimensionalidad)"
   ]
  },
  {
   "cell_type": "code",
   "execution_count": 24,
   "metadata": {
    "id": "nUXN_xNjcyd5"
   },
   "outputs": [
    {
     "name": "stdout",
     "output_type": "stream",
     "text": [
      "Representación de palabra Aldea:\n"
     ]
    },
    {
     "data": {
      "text/html": [
       "<table border=\"1\" class=\"dataframe\">\n",
       "  <thead>\n",
       "    <tr style=\"text-align: right;\">\n",
       "      <th></th>\n",
       "      <th>0</th>\n",
       "      <th>1</th>\n",
       "      <th>2</th>\n",
       "      <th>3</th>\n",
       "      <th>4</th>\n",
       "      <th>5</th>\n",
       "      <th>6</th>\n",
       "      <th>7</th>\n",
       "      <th>8</th>\n",
       "      <th>9</th>\n",
       "    </tr>\n",
       "  </thead>\n",
       "  <tbody>\n",
       "    <tr>\n",
       "      <th>CBOW 1</th>\n",
       "      <td>0.008446</td>\n",
       "      <td>-0.112672</td>\n",
       "      <td>0.453235</td>\n",
       "      <td>-0.153687</td>\n",
       "      <td>0.192162</td>\n",
       "      <td>0.320091</td>\n",
       "      <td>0.483150</td>\n",
       "      <td>0.512073</td>\n",
       "      <td>-0.720139</td>\n",
       "      <td>-0.120212</td>\n",
       "    </tr>\n",
       "    <tr>\n",
       "      <th>Skip-Gram 1</th>\n",
       "      <td>0.039262</td>\n",
       "      <td>-0.037001</td>\n",
       "      <td>0.489713</td>\n",
       "      <td>-0.137031</td>\n",
       "      <td>0.280926</td>\n",
       "      <td>0.376610</td>\n",
       "      <td>0.856717</td>\n",
       "      <td>1.002464</td>\n",
       "      <td>-0.976564</td>\n",
       "      <td>-0.122268</td>\n",
       "    </tr>\n",
       "    <tr>\n",
       "      <th>CBOW 2</th>\n",
       "      <td>0.047794</td>\n",
       "      <td>-0.406718</td>\n",
       "      <td>0.106915</td>\n",
       "      <td>-0.157092</td>\n",
       "      <td>-0.035810</td>\n",
       "      <td>-0.067248</td>\n",
       "      <td>0.967877</td>\n",
       "      <td>0.588041</td>\n",
       "      <td>-0.910058</td>\n",
       "      <td>-0.200354</td>\n",
       "    </tr>\n",
       "    <tr>\n",
       "      <th>Skip-Gram 2</th>\n",
       "      <td>0.099922</td>\n",
       "      <td>0.283160</td>\n",
       "      <td>-0.321249</td>\n",
       "      <td>-0.143898</td>\n",
       "      <td>0.196543</td>\n",
       "      <td>-0.022601</td>\n",
       "      <td>1.414843</td>\n",
       "      <td>0.543181</td>\n",
       "      <td>-1.320193</td>\n",
       "      <td>0.112501</td>\n",
       "    </tr>\n",
       "  </tbody>\n",
       "</table>"
      ],
      "text/plain": [
       "<IPython.core.display.HTML object>"
      ]
     },
     "metadata": {},
     "output_type": "display_data"
    },
    {
     "name": "stdout",
     "output_type": "stream",
     "text": [
      "Representación reducida de la palabra Aldea:\n"
     ]
    },
    {
     "data": {
      "text/html": [
       "<table border=\"1\" class=\"dataframe\">\n",
       "  <thead>\n",
       "    <tr style=\"text-align: right;\">\n",
       "      <th></th>\n",
       "      <th>0</th>\n",
       "      <th>1</th>\n",
       "    </tr>\n",
       "  </thead>\n",
       "  <tbody>\n",
       "    <tr>\n",
       "      <th>CBOW 1</th>\n",
       "      <td>0.965004</td>\n",
       "      <td>0.024529</td>\n",
       "    </tr>\n",
       "    <tr>\n",
       "      <th>Skip-Gram 1</th>\n",
       "      <td>1.213109</td>\n",
       "      <td>-0.208049</td>\n",
       "    </tr>\n",
       "    <tr>\n",
       "      <th>CBOW 2</th>\n",
       "      <td>1.255177</td>\n",
       "      <td>-0.014058</td>\n",
       "    </tr>\n",
       "    <tr>\n",
       "      <th>Skip-Gram 2</th>\n",
       "      <td>1.380289</td>\n",
       "      <td>-0.108319</td>\n",
       "    </tr>\n",
       "  </tbody>\n",
       "</table>"
      ],
      "text/plain": [
       "<IPython.core.display.HTML object>"
      ]
     },
     "metadata": {},
     "output_type": "display_data"
    }
   ],
   "source": [
    "# Reducción de dimensionalidad\n",
    "\n",
    "# Palabra\n",
    "p = 'aldea'\n",
    "\n",
    "# Representación tamaño 10\n",
    "for name, model in modelos.items():\n",
    "    p_vec[name] = model.wv[p]\n",
    "\n",
    "print(\"Representación de palabra Aldea:\")\n",
    "mutils.mostrar_tabla(p_vec)\n",
    "\n",
    "# Representación reducida\n",
    "p_vec_red = {}\n",
    "for name, model in modelos.items():\n",
    "    p_vec_red[name] = mutils.reduccion_dimensionalidad(model.wv[p], model)\n",
    "\n",
    "print(\"Representación reducida de la palabra Aldea:\")\n",
    "mutils.mostrar_tabla(p_vec_red)\n"
   ]
  },
  {
   "cell_type": "code",
   "execution_count": 25,
   "metadata": {
    "id": "HeHMFPFOyeZY"
   },
   "outputs": [],
   "source": [
    "# Esqueleto de la función de plot\n",
    "def graficar_palabras_cercanas_lejanas(palabra, modelo, n=5):\n",
    "    \"\"\"\n",
    "    Gráfica los vectores reducidos de las palabras en un plano 2D\n",
    "    ___________________________________\n",
    "    Entrada:\n",
    "    palabra:  [str] Palabra que se desea gráficar junto sus palabras más cercanas y más lejanas.\n",
    "    model:    [gensim.Word2Vec] Modelo bajo el cual se compararan las palabras\n",
    "    n:        [int] número de palabras más cercanas y más lejanas a gráficar\n",
    "    ___________________________________\n",
    "    Salida:\n",
    "    fig:        [plt.fig] gráfica con palabras más cercanas y más lejanas.\n",
    "    \"\"\"\n",
    "    l_val = pd.DataFrame()\n",
    "    # =====================================================\n",
    "    # COMPLETAR ===========================================\n",
    "    p_leja = palabras_lejanas(palabra, model, n)\n",
    "    p_cerc = palabras_cercanas(palabra, model, n)\n",
    "    for i in p_leja + p_cerc:\n",
    "        redc = mutils.reduccion_dimensionalidad(model.wv[i], model).tolist()\n",
    "        redc.append(i)\n",
    "        l_val = pd.concat([l_val,pd.DataFrame([redc], columns=['X', 'Y', 'Word'])],ignore_index = True)\n",
    "        l_val['Clas_word'] = l_val.apply(lambda x: 'Words_lejanas' if str(x.Word) in p_leja else 'Word' if str(x.Word) == palabra else 'Word_cercanas' ,axis=1)\n",
    "    # AYUDA:\n",
    "    # Estructura de Salida\n",
    "    #fig = plt.figure(figsize=(8, 6))\n",
    "    #plt.scatter(l_val.X, l_val.Y, label=l_val.Word)\n",
    "    import seaborn as sns\n",
    "    sns.scatterplot(l_val[\"X\"], l_val[\"Y\"], hue=l_val[\"Clas_word\"])\n",
    "    plt.legend()\n",
    "    plt.show()\n",
    "    # =====================================================\n",
    "    return l_val\n"
   ]
  },
  {
   "cell_type": "markdown",
   "metadata": {
    "deletable": false,
    "editable": false,
    "id": "luC2Mip4yjvK",
    "nbgrader": {
     "cell_type": "markdown",
     "checksum": "866a39662ce5bbbde59faa9031093c9a",
     "grade": false,
     "grade_id": "cell-fe352a272b3ef93b",
     "locked": true,
     "schema_version": 3,
     "solution": false,
     "task": false
    }
   },
   "source": [
    "### Prueba"
   ]
  },
  {
   "cell_type": "code",
   "execution_count": 26,
   "metadata": {
    "deletable": false,
    "id": "Uxlo52G5yeb5",
    "nbgrader": {
     "cell_type": "code",
     "checksum": "e613e04077707a35486ab6c2ba9ad7c0",
     "grade": true,
     "grade_id": "cell-835a1d5317f263e7",
     "locked": false,
     "points": 20,
     "schema_version": 3,
     "solution": true,
     "task": false
    }
   },
   "outputs": [
    {
     "data": {
      "image/png": "[encoded data removed]",
      "text/plain": [
       "<Figure size 432x288 with 1 Axes>"
      ]
     },
     "metadata": {
      "needs_background": "light"
     },
     "output_type": "display_data"
    },
    {
     "data": {
      "text/html": [
       "<div>\n",
       "<style scoped>\n",
       "    .dataframe tbody tr th:only-of-type {\n",
       "        vertical-align: middle;\n",
       "    }\n",
       "\n",
       "    .dataframe tbody tr th {\n",
       "        vertical-align: top;\n",
       "    }\n",
       "\n",
       "    .dataframe thead th {\n",
       "        text-align: right;\n",
       "    }\n",
       "</style>\n",
       "<table border=\"1\" class=\"dataframe\">\n",
       "  <thead>\n",
       "    <tr style=\"text-align: right;\">\n",
       "      <th></th>\n",
       "      <th>X</th>\n",
       "      <th>Y</th>\n",
       "      <th>Word</th>\n",
       "      <th>Clas_word</th>\n",
       "    </tr>\n",
       "  </thead>\n",
       "  <tbody>\n",
       "    <tr>\n",
       "      <th>0</th>\n",
       "      <td>-0.350247</td>\n",
       "      <td>-0.058596</td>\n",
       "      <td>serie</td>\n",
       "      <td>Words_lejanas</td>\n",
       "    </tr>\n",
       "    <tr>\n",
       "      <th>1</th>\n",
       "      <td>-0.323424</td>\n",
       "      <td>-0.021121</td>\n",
       "      <td>llegada</td>\n",
       "      <td>Words_lejanas</td>\n",
       "    </tr>\n",
       "    <tr>\n",
       "      <th>2</th>\n",
       "      <td>-0.333659</td>\n",
       "      <td>-0.015593</td>\n",
       "      <td>ar-</td>\n",
       "      <td>Words_lejanas</td>\n",
       "    </tr>\n",
       "    <tr>\n",
       "      <th>3</th>\n",
       "      <td>-0.337580</td>\n",
       "      <td>0.077007</td>\n",
       "      <td>intempestivo</td>\n",
       "      <td>Words_lejanas</td>\n",
       "    </tr>\n",
       "    <tr>\n",
       "      <th>4</th>\n",
       "      <td>-0.309681</td>\n",
       "      <td>0.069554</td>\n",
       "      <td>hundían</td>\n",
       "      <td>Words_lejanas</td>\n",
       "    </tr>\n",
       "    <tr>\n",
       "      <th>5</th>\n",
       "      <td>0.792156</td>\n",
       "      <td>-0.059486</td>\n",
       "      <td>frente</td>\n",
       "      <td>Word</td>\n",
       "    </tr>\n",
       "    <tr>\n",
       "      <th>6</th>\n",
       "      <td>0.879195</td>\n",
       "      <td>0.023465</td>\n",
       "      <td>puso</td>\n",
       "      <td>Word_cercanas</td>\n",
       "    </tr>\n",
       "    <tr>\n",
       "      <th>7</th>\n",
       "      <td>1.119086</td>\n",
       "      <td>0.013935</td>\n",
       "      <td>día</td>\n",
       "      <td>Word_cercanas</td>\n",
       "    </tr>\n",
       "    <tr>\n",
       "      <th>8</th>\n",
       "      <td>2.705979</td>\n",
       "      <td>-0.069650</td>\n",
       "      <td>fue</td>\n",
       "      <td>Word_cercanas</td>\n",
       "    </tr>\n",
       "    <tr>\n",
       "      <th>9</th>\n",
       "      <td>2.508708</td>\n",
       "      <td>0.100028</td>\n",
       "      <td>buendía</td>\n",
       "      <td>Word_cercanas</td>\n",
       "    </tr>\n",
       "  </tbody>\n",
       "</table>\n",
       "</div>"
      ],
      "text/plain": [
       "          X         Y          Word      Clas_word\n",
       "0 -0.350247 -0.058596         serie  Words_lejanas\n",
       "1 -0.323424 -0.021121       llegada  Words_lejanas\n",
       "2 -0.333659 -0.015593           ar-  Words_lejanas\n",
       "3 -0.337580  0.077007  intempestivo  Words_lejanas\n",
       "4 -0.309681  0.069554       hundían  Words_lejanas\n",
       "5  0.792156 -0.059486        frente           Word\n",
       "6  0.879195  0.023465          puso  Word_cercanas\n",
       "7  1.119086  0.013935           día  Word_cercanas\n",
       "8  2.705979 -0.069650           fue  Word_cercanas\n",
       "9  2.508708  0.100028       buendía  Word_cercanas"
      ]
     },
     "execution_count": 26,
     "metadata": {},
     "output_type": "execute_result"
    }
   ],
   "source": [
    "# your code here\n",
    "# Seleccionar Modelo\n",
    "name, model = list(modelos.items())[0]\n",
    "p1 = 'frente'\n",
    "graficar_palabras_cercanas_lejanas(p1, model, n=5)"
   ]
  },
  {
   "cell_type": "markdown",
   "metadata": {
    "deletable": false,
    "editable": false,
    "id": "CHZQfux1ylqn",
    "nbgrader": {
     "cell_type": "markdown",
     "checksum": "14984a0e4c8f4c160b8d229df567bd90",
     "grade": false,
     "grade_id": "cell-df3f9b5581c2cddf",
     "locked": true,
     "schema_version": 3,
     "solution": false,
     "task": false
    }
   },
   "source": [
    "## Relaciónes Interesantes\n",
    "\n",
    "Utilizando las funciones anteriormente implementadas, tome los tres personajes principales del libro de Cien Años de Soledad:\n",
    "\n",
    "*   Aureliano\n",
    "*   Úrsula\n",
    "*   José\n",
    "\n",
    "Y gráfique las 5 palabras más cercanas y más lejanas del vocabulario para cada una de estas palabras. En total debe presentar como mínimo tres gráficas *(plots)*, una por cada personaje. Pruebe utilizando los diferentes modelos entrenados y varie los distintos parámetros (size, window, etc.) con los que estos se construyen. Usted es libre de organizar los resultados que desea presentar para argumentar sus conclusiones."
   ]
  },
  {
   "cell_type": "markdown",
   "metadata": {},
   "source": [
    "### Aureliano"
   ]
  },
  {
   "cell_type": "code",
   "execution_count": 27,
   "metadata": {
    "deletable": false,
    "id": "d40GXtN8yo1L",
    "nbgrader": {
     "cell_type": "code",
     "checksum": "edbd956dd11032b7e4433950090418ce",
     "grade": true,
     "grade_id": "cell-ba73895ccbd49020",
     "locked": false,
     "points": 8,
     "schema_version": 3,
     "solution": true,
     "task": false
    }
   },
   "outputs": [
    {
     "name": "stdout",
     "output_type": "stream",
     "text": [
      "CBOW 1\n"
     ]
    },
    {
     "data": {
      "image/png": "[encoded data removed]",
      "text/plain": [
       "<Figure size 432x288 with 1 Axes>"
      ]
     },
     "metadata": {
      "needs_background": "light"
     },
     "output_type": "display_data"
    },
    {
     "name": "stdout",
     "output_type": "stream",
     "text": [
      "Skip-Gram 1\n"
     ]
    },
    {
     "data": {
      "image/png": "[encoded data removed]",
      "text/plain": [
       "<Figure size 432x288 with 1 Axes>"
      ]
     },
     "metadata": {
      "needs_background": "light"
     },
     "output_type": "display_data"
    },
    {
     "name": "stdout",
     "output_type": "stream",
     "text": [
      "CBOW 2\n"
     ]
    },
    {
     "data": {
      "image/png": "[encoded data removed]",
      "text/plain": [
       "<Figure size 432x288 with 1 Axes>"
      ]
     },
     "metadata": {
      "needs_background": "light"
     },
     "output_type": "display_data"
    },
    {
     "name": "stdout",
     "output_type": "stream",
     "text": [
      "Skip-Gram 2\n"
     ]
    },
    {
     "data": {
      "image/png": "[encoded data removed]",
      "text/plain": [
       "<Figure size 432x288 with 1 Axes>"
      ]
     },
     "metadata": {
      "needs_background": "light"
     },
     "output_type": "display_data"
    }
   ],
   "source": [
    "# your code here\n",
    "df = pd.DataFrame()\n",
    "for i in range(0,len(list(modelos.items()))):\n",
    "    name, model = list(modelos.items())[i]\n",
    "    print(name)\n",
    "    p1 = 'aureliano'\n",
    "    df_aux = graficar_palabras_cercanas_lejanas(p1, model, n=5)\n",
    "    df_aux['Modelo'] = name\n",
    "    df = pd.concat([df, df_aux])"
   ]
  },
  {
   "cell_type": "code",
   "execution_count": 28,
   "metadata": {},
   "outputs": [
    {
     "data": {
      "text/html": [
       "<div>\n",
       "<style scoped>\n",
       "    .dataframe tbody tr th:only-of-type {\n",
       "        vertical-align: middle;\n",
       "    }\n",
       "\n",
       "    .dataframe tbody tr th {\n",
       "        vertical-align: top;\n",
       "    }\n",
       "\n",
       "    .dataframe thead th {\n",
       "        text-align: right;\n",
       "    }\n",
       "</style>\n",
       "<table border=\"1\" class=\"dataframe\">\n",
       "  <thead>\n",
       "    <tr style=\"text-align: right;\">\n",
       "      <th></th>\n",
       "      <th>X</th>\n",
       "      <th>Y</th>\n",
       "      <th>Word</th>\n",
       "      <th>Clas_word</th>\n",
       "      <th>Modelo</th>\n",
       "    </tr>\n",
       "  </thead>\n",
       "  <tbody>\n",
       "    <tr>\n",
       "      <th>0</th>\n",
       "      <td>-0.334662</td>\n",
       "      <td>-0.093948</td>\n",
       "      <td>engendro</td>\n",
       "      <td>Words_lejanas</td>\n",
       "      <td>CBOW 1</td>\n",
       "    </tr>\n",
       "    <tr>\n",
       "      <th>1</th>\n",
       "      <td>-0.337580</td>\n",
       "      <td>0.077007</td>\n",
       "      <td>intempestivo</td>\n",
       "      <td>Words_lejanas</td>\n",
       "      <td>CBOW 1</td>\n",
       "    </tr>\n",
       "    <tr>\n",
       "      <th>2</th>\n",
       "      <td>-0.374798</td>\n",
       "      <td>-0.059772</td>\n",
       "      <td>fiebres</td>\n",
       "      <td>Words_lejanas</td>\n",
       "      <td>CBOW 1</td>\n",
       "    </tr>\n",
       "    <tr>\n",
       "      <th>3</th>\n",
       "      <td>-0.350247</td>\n",
       "      <td>-0.058596</td>\n",
       "      <td>serie</td>\n",
       "      <td>Words_lejanas</td>\n",
       "      <td>CBOW 1</td>\n",
       "    </tr>\n",
       "    <tr>\n",
       "      <th>4</th>\n",
       "      <td>-0.309681</td>\n",
       "      <td>0.069554</td>\n",
       "      <td>hundían</td>\n",
       "      <td>Words_lejanas</td>\n",
       "      <td>CBOW 1</td>\n",
       "    </tr>\n",
       "    <tr>\n",
       "      <th>5</th>\n",
       "      <td>2.511974</td>\n",
       "      <td>0.103852</td>\n",
       "      <td>aureliano</td>\n",
       "      <td>Word</td>\n",
       "      <td>CBOW 1</td>\n",
       "    </tr>\n",
       "    <tr>\n",
       "      <th>6</th>\n",
       "      <td>3.076907</td>\n",
       "      <td>0.077545</td>\n",
       "      <td>»</td>\n",
       "      <td>Word_cercanas</td>\n",
       "      <td>CBOW 1</td>\n",
       "    </tr>\n",
       "    <tr>\n",
       "      <th>7</th>\n",
       "      <td>6.436191</td>\n",
       "      <td>0.054841</td>\n",
       "      <td>,</td>\n",
       "      <td>Word_cercanas</td>\n",
       "      <td>CBOW 1</td>\n",
       "    </tr>\n",
       "    <tr>\n",
       "      <th>8</th>\n",
       "      <td>7.253285</td>\n",
       "      <td>0.026866</td>\n",
       "      <td>de</td>\n",
       "      <td>Word_cercanas</td>\n",
       "      <td>CBOW 1</td>\n",
       "    </tr>\n",
       "    <tr>\n",
       "      <th>9</th>\n",
       "      <td>5.856029</td>\n",
       "      <td>0.019747</td>\n",
       "      <td>la</td>\n",
       "      <td>Word_cercanas</td>\n",
       "      <td>CBOW 1</td>\n",
       "    </tr>\n",
       "    <tr>\n",
       "      <th>0</th>\n",
       "      <td>-0.502320</td>\n",
       "      <td>-0.029885</td>\n",
       "      <td>rechazó</td>\n",
       "      <td>Words_lejanas</td>\n",
       "      <td>Skip-Gram 1</td>\n",
       "    </tr>\n",
       "    <tr>\n",
       "      <th>1</th>\n",
       "      <td>-0.514425</td>\n",
       "      <td>0.011278</td>\n",
       "      <td>-icarajo</td>\n",
       "      <td>Words_lejanas</td>\n",
       "      <td>Skip-Gram 1</td>\n",
       "    </tr>\n",
       "    <tr>\n",
       "      <th>2</th>\n",
       "      <td>-0.504364</td>\n",
       "      <td>0.050184</td>\n",
       "      <td>faltaran</td>\n",
       "      <td>Words_lejanas</td>\n",
       "      <td>Skip-Gram 1</td>\n",
       "    </tr>\n",
       "    <tr>\n",
       "      <th>3</th>\n",
       "      <td>-0.528649</td>\n",
       "      <td>-0.076827</td>\n",
       "      <td>-preguntó</td>\n",
       "      <td>Words_lejanas</td>\n",
       "      <td>Skip-Gram 1</td>\n",
       "    </tr>\n",
       "    <tr>\n",
       "      <th>4</th>\n",
       "      <td>-0.541976</td>\n",
       "      <td>-0.021154</td>\n",
       "      <td>cumplió</td>\n",
       "      <td>Words_lejanas</td>\n",
       "      <td>Skip-Gram 1</td>\n",
       "    </tr>\n",
       "    <tr>\n",
       "      <th>5</th>\n",
       "      <td>1.449076</td>\n",
       "      <td>-0.342173</td>\n",
       "      <td>aureliano</td>\n",
       "      <td>Word</td>\n",
       "      <td>Skip-Gram 1</td>\n",
       "    </tr>\n",
       "    <tr>\n",
       "      <th>6</th>\n",
       "      <td>1.346136</td>\n",
       "      <td>-0.286977</td>\n",
       "      <td>melquíades</td>\n",
       "      <td>Word_cercanas</td>\n",
       "      <td>Skip-Gram 1</td>\n",
       "    </tr>\n",
       "    <tr>\n",
       "      <th>7</th>\n",
       "      <td>1.386995</td>\n",
       "      <td>-0.346155</td>\n",
       "      <td>mujer</td>\n",
       "      <td>Word_cercanas</td>\n",
       "      <td>Skip-Gram 1</td>\n",
       "    </tr>\n",
       "    <tr>\n",
       "      <th>8</th>\n",
       "      <td>1.487233</td>\n",
       "      <td>-0.355635</td>\n",
       "      <td>una</td>\n",
       "      <td>Word_cercanas</td>\n",
       "      <td>Skip-Gram 1</td>\n",
       "    </tr>\n",
       "    <tr>\n",
       "      <th>9</th>\n",
       "      <td>1.569529</td>\n",
       "      <td>-0.462640</td>\n",
       "      <td>los</td>\n",
       "      <td>Word_cercanas</td>\n",
       "      <td>Skip-Gram 1</td>\n",
       "    </tr>\n",
       "    <tr>\n",
       "      <th>0</th>\n",
       "      <td>-0.401018</td>\n",
       "      <td>-0.020276</td>\n",
       "      <td>anticiparle</td>\n",
       "      <td>Words_lejanas</td>\n",
       "      <td>CBOW 2</td>\n",
       "    </tr>\n",
       "    <tr>\n",
       "      <th>1</th>\n",
       "      <td>-0.357075</td>\n",
       "      <td>-0.036684</td>\n",
       "      <td>paseaban</td>\n",
       "      <td>Words_lejanas</td>\n",
       "      <td>CBOW 2</td>\n",
       "    </tr>\n",
       "    <tr>\n",
       "      <th>2</th>\n",
       "      <td>-0.371853</td>\n",
       "      <td>-0.046412</td>\n",
       "      <td>cuidarse</td>\n",
       "      <td>Words_lejanas</td>\n",
       "      <td>CBOW 2</td>\n",
       "    </tr>\n",
       "    <tr>\n",
       "      <th>3</th>\n",
       "      <td>-0.421611</td>\n",
       "      <td>-0.046679</td>\n",
       "      <td>-concluía</td>\n",
       "      <td>Words_lejanas</td>\n",
       "      <td>CBOW 2</td>\n",
       "    </tr>\n",
       "    <tr>\n",
       "      <th>4</th>\n",
       "      <td>-0.413351</td>\n",
       "      <td>-0.092946</td>\n",
       "      <td>civilización</td>\n",
       "      <td>Words_lejanas</td>\n",
       "      <td>CBOW 2</td>\n",
       "    </tr>\n",
       "    <tr>\n",
       "      <th>5</th>\n",
       "      <td>8.724905</td>\n",
       "      <td>3.095259</td>\n",
       "      <td>aureliano</td>\n",
       "      <td>Word</td>\n",
       "      <td>CBOW 2</td>\n",
       "    </tr>\n",
       "    <tr>\n",
       "      <th>6</th>\n",
       "      <td>0.093938</td>\n",
       "      <td>0.078406</td>\n",
       "      <td>extravagante</td>\n",
       "      <td>Word_cercanas</td>\n",
       "      <td>CBOW 2</td>\n",
       "    </tr>\n",
       "    <tr>\n",
       "      <th>7</th>\n",
       "      <td>0.140224</td>\n",
       "      <td>0.127722</td>\n",
       "      <td>bisabuelo</td>\n",
       "      <td>Word_cercanas</td>\n",
       "      <td>CBOW 2</td>\n",
       "    </tr>\n",
       "    <tr>\n",
       "      <th>8</th>\n",
       "      <td>0.012135</td>\n",
       "      <td>0.046731</td>\n",
       "      <td>exigía</td>\n",
       "      <td>Word_cercanas</td>\n",
       "      <td>CBOW 2</td>\n",
       "    </tr>\n",
       "    <tr>\n",
       "      <th>9</th>\n",
       "      <td>0.008048</td>\n",
       "      <td>0.034588</td>\n",
       "      <td>vasto</td>\n",
       "      <td>Word_cercanas</td>\n",
       "      <td>CBOW 2</td>\n",
       "    </tr>\n",
       "    <tr>\n",
       "      <th>0</th>\n",
       "      <td>-0.701057</td>\n",
       "      <td>-0.200580</td>\n",
       "      <td>ofuscó</td>\n",
       "      <td>Words_lejanas</td>\n",
       "      <td>Skip-Gram 2</td>\n",
       "    </tr>\n",
       "    <tr>\n",
       "      <th>1</th>\n",
       "      <td>-0.662232</td>\n",
       "      <td>-0.277073</td>\n",
       "      <td>-¡bruto</td>\n",
       "      <td>Words_lejanas</td>\n",
       "      <td>Skip-Gram 2</td>\n",
       "    </tr>\n",
       "    <tr>\n",
       "      <th>2</th>\n",
       "      <td>-0.635503</td>\n",
       "      <td>-0.155258</td>\n",
       "      <td>-negó</td>\n",
       "      <td>Words_lejanas</td>\n",
       "      <td>Skip-Gram 2</td>\n",
       "    </tr>\n",
       "    <tr>\n",
       "      <th>3</th>\n",
       "      <td>-0.647009</td>\n",
       "      <td>-0.054727</td>\n",
       "      <td>-mejor</td>\n",
       "      <td>Words_lejanas</td>\n",
       "      <td>Skip-Gram 2</td>\n",
       "    </tr>\n",
       "    <tr>\n",
       "      <th>4</th>\n",
       "      <td>-0.640667</td>\n",
       "      <td>-0.141659</td>\n",
       "      <td>64</td>\n",
       "      <td>Words_lejanas</td>\n",
       "      <td>Skip-Gram 2</td>\n",
       "    </tr>\n",
       "    <tr>\n",
       "      <th>5</th>\n",
       "      <td>2.042530</td>\n",
       "      <td>-0.647167</td>\n",
       "      <td>aureliano</td>\n",
       "      <td>Word</td>\n",
       "      <td>Skip-Gram 2</td>\n",
       "    </tr>\n",
       "    <tr>\n",
       "      <th>6</th>\n",
       "      <td>2.216002</td>\n",
       "      <td>-0.718655</td>\n",
       "      <td>buendía</td>\n",
       "      <td>Word_cercanas</td>\n",
       "      <td>Skip-Gram 2</td>\n",
       "    </tr>\n",
       "    <tr>\n",
       "      <th>7</th>\n",
       "      <td>2.133657</td>\n",
       "      <td>-0.574884</td>\n",
       "      <td>arcadio</td>\n",
       "      <td>Word_cercanas</td>\n",
       "      <td>Skip-Gram 2</td>\n",
       "    </tr>\n",
       "    <tr>\n",
       "      <th>8</th>\n",
       "      <td>1.978752</td>\n",
       "      <td>-0.706517</td>\n",
       "      <td>hijo</td>\n",
       "      <td>Word_cercanas</td>\n",
       "      <td>Skip-Gram 2</td>\n",
       "    </tr>\n",
       "    <tr>\n",
       "      <th>9</th>\n",
       "      <td>1.287101</td>\n",
       "      <td>-0.344620</td>\n",
       "      <td>buendia</td>\n",
       "      <td>Word_cercanas</td>\n",
       "      <td>Skip-Gram 2</td>\n",
       "    </tr>\n",
       "  </tbody>\n",
       "</table>\n",
       "</div>"
      ],
      "text/plain": [
       "          X         Y          Word      Clas_word       Modelo\n",
       "0 -0.334662 -0.093948      engendro  Words_lejanas       CBOW 1\n",
       "1 -0.337580  0.077007  intempestivo  Words_lejanas       CBOW 1\n",
       "2 -0.374798 -0.059772       fiebres  Words_lejanas       CBOW 1\n",
       "3 -0.350247 -0.058596         serie  Words_lejanas       CBOW 1\n",
       "4 -0.309681  0.069554       hundían  Words_lejanas       CBOW 1\n",
       "5  2.511974  0.103852     aureliano           Word       CBOW 1\n",
       "6  3.076907  0.077545             »  Word_cercanas       CBOW 1\n",
       "7  6.436191  0.054841             ,  Word_cercanas       CBOW 1\n",
       "8  7.253285  0.026866            de  Word_cercanas       CBOW 1\n",
       "9  5.856029  0.019747            la  Word_cercanas       CBOW 1\n",
       "0 -0.502320 -0.029885       rechazó  Words_lejanas  Skip-Gram 1\n",
       "1 -0.514425  0.011278      -icarajo  Words_lejanas  Skip-Gram 1\n",
       "2 -0.504364  0.050184      faltaran  Words_lejanas  Skip-Gram 1\n",
       "3 -0.528649 -0.076827     -preguntó  Words_lejanas  Skip-Gram 1\n",
       "4 -0.541976 -0.021154       cumplió  Words_lejanas  Skip-Gram 1\n",
       "5  1.449076 -0.342173     aureliano           Word  Skip-Gram 1\n",
       "6  1.346136 -0.286977    melquíades  Word_cercanas  Skip-Gram 1\n",
       "7  1.386995 -0.346155         mujer  Word_cercanas  Skip-Gram 1\n",
       "8  1.487233 -0.355635           una  Word_cercanas  Skip-Gram 1\n",
       "9  1.569529 -0.462640           los  Word_cercanas  Skip-Gram 1\n",
       "0 -0.401018 -0.020276   anticiparle  Words_lejanas       CBOW 2\n",
       "1 -0.357075 -0.036684      paseaban  Words_lejanas       CBOW 2\n",
       "2 -0.371853 -0.046412      cuidarse  Words_lejanas       CBOW 2\n",
       "3 -0.421611 -0.046679     -concluía  Words_lejanas       CBOW 2\n",
       "4 -0.413351 -0.092946  civilización  Words_lejanas       CBOW 2\n",
       "5  8.724905  3.095259     aureliano           Word       CBOW 2\n",
       "6  0.093938  0.078406  extravagante  Word_cercanas       CBOW 2\n",
       "7  0.140224  0.127722     bisabuelo  Word_cercanas       CBOW 2\n",
       "8  0.012135  0.046731        exigía  Word_cercanas       CBOW 2\n",
       "9  0.008048  0.034588         vasto  Word_cercanas       CBOW 2\n",
       "0 -0.701057 -0.200580        ofuscó  Words_lejanas  Skip-Gram 2\n",
       "1 -0.662232 -0.277073       -¡bruto  Words_lejanas  Skip-Gram 2\n",
       "2 -0.635503 -0.155258         -negó  Words_lejanas  Skip-Gram 2\n",
       "3 -0.647009 -0.054727        -mejor  Words_lejanas  Skip-Gram 2\n",
       "4 -0.640667 -0.141659            64  Words_lejanas  Skip-Gram 2\n",
       "5  2.042530 -0.647167     aureliano           Word  Skip-Gram 2\n",
       "6  2.216002 -0.718655       buendía  Word_cercanas  Skip-Gram 2\n",
       "7  2.133657 -0.574884       arcadio  Word_cercanas  Skip-Gram 2\n",
       "8  1.978752 -0.706517          hijo  Word_cercanas  Skip-Gram 2\n",
       "9  1.287101 -0.344620       buendia  Word_cercanas  Skip-Gram 2"
      ]
     },
     "execution_count": 28,
     "metadata": {},
     "output_type": "execute_result"
    }
   ],
   "source": [
    "df"
   ]
  },
  {
   "cell_type": "markdown",
   "metadata": {},
   "source": [
    "### Ursula"
   ]
  },
  {
   "cell_type": "code",
   "execution_count": 29,
   "metadata": {
    "deletable": false,
    "id": "Tlkli8l3yo31",
    "nbgrader": {
     "cell_type": "code",
     "checksum": "118309b5afa88ca2bb56bdb14c9d490a",
     "grade": true,
     "grade_id": "cell-2faaebb980fe2406",
     "locked": false,
     "points": 8,
     "schema_version": 3,
     "solution": true,
     "task": false
    }
   },
   "outputs": [
    {
     "name": "stdout",
     "output_type": "stream",
     "text": [
      "CBOW 1\n"
     ]
    },
    {
     "data": {
      "image/png": "[encoded data removed]",
      "text/plain": [
       "<Figure size 432x288 with 1 Axes>"
      ]
     },
     "metadata": {
      "needs_background": "light"
     },
     "output_type": "display_data"
    },
    {
     "name": "stdout",
     "output_type": "stream",
     "text": [
      "Skip-Gram 1\n"
     ]
    },
    {
     "data": {
      "image/png": "[encoded data removed]",
      "text/plain": [
       "<Figure size 432x288 with 1 Axes>"
      ]
     },
     "metadata": {
      "needs_background": "light"
     },
     "output_type": "display_data"
    },
    {
     "name": "stdout",
     "output_type": "stream",
     "text": [
      "CBOW 2\n"
     ]
    },
    {
     "data": {
      "image/png": "[encoded data removed]",
      "text/plain": [
       "<Figure size 432x288 with 1 Axes>"
      ]
     },
     "metadata": {
      "needs_background": "light"
     },
     "output_type": "display_data"
    },
    {
     "name": "stdout",
     "output_type": "stream",
     "text": [
      "Skip-Gram 2\n"
     ]
    },
    {
     "data": {
      "image/png": "[encoded data removed]",
      "text/plain": [
       "<Figure size 432x288 with 1 Axes>"
      ]
     },
     "metadata": {
      "needs_background": "light"
     },
     "output_type": "display_data"
    }
   ],
   "source": [
    "# your code here\n",
    "df = pd.DataFrame()\n",
    "for i in range(0,len(list(modelos.items()))):\n",
    "    name, model = list(modelos.items())[i]\n",
    "    print(name)\n",
    "    p1 = 'úrsula'\n",
    "    df_aux = graficar_palabras_cercanas_lejanas(p1, model, n=5)\n",
    "    df_aux['Modelo'] = name\n",
    "    df = pd.concat([df, df_aux])"
   ]
  },
  {
   "cell_type": "code",
   "execution_count": 30,
   "metadata": {},
   "outputs": [
    {
     "data": {
      "text/html": [
       "<div>\n",
       "<style scoped>\n",
       "    .dataframe tbody tr th:only-of-type {\n",
       "        vertical-align: middle;\n",
       "    }\n",
       "\n",
       "    .dataframe tbody tr th {\n",
       "        vertical-align: top;\n",
       "    }\n",
       "\n",
       "    .dataframe thead th {\n",
       "        text-align: right;\n",
       "    }\n",
       "</style>\n",
       "<table border=\"1\" class=\"dataframe\">\n",
       "  <thead>\n",
       "    <tr style=\"text-align: right;\">\n",
       "      <th></th>\n",
       "      <th>X</th>\n",
       "      <th>Y</th>\n",
       "      <th>Word</th>\n",
       "      <th>Clas_word</th>\n",
       "      <th>Modelo</th>\n",
       "    </tr>\n",
       "  </thead>\n",
       "  <tbody>\n",
       "    <tr>\n",
       "      <th>0</th>\n",
       "      <td>-0.307985</td>\n",
       "      <td>0.011413</td>\n",
       "      <td>20</td>\n",
       "      <td>Words_lejanas</td>\n",
       "      <td>CBOW 1</td>\n",
       "    </tr>\n",
       "    <tr>\n",
       "      <th>1</th>\n",
       "      <td>-0.323424</td>\n",
       "      <td>-0.021121</td>\n",
       "      <td>llegada</td>\n",
       "      <td>Words_lejanas</td>\n",
       "      <td>CBOW 1</td>\n",
       "    </tr>\n",
       "    <tr>\n",
       "      <th>2</th>\n",
       "      <td>-0.350247</td>\n",
       "      <td>-0.058596</td>\n",
       "      <td>serie</td>\n",
       "      <td>Words_lejanas</td>\n",
       "      <td>CBOW 1</td>\n",
       "    </tr>\n",
       "    <tr>\n",
       "      <th>3</th>\n",
       "      <td>-0.337580</td>\n",
       "      <td>0.077007</td>\n",
       "      <td>intempestivo</td>\n",
       "      <td>Words_lejanas</td>\n",
       "      <td>CBOW 1</td>\n",
       "    </tr>\n",
       "    <tr>\n",
       "      <th>4</th>\n",
       "      <td>-0.309681</td>\n",
       "      <td>0.069554</td>\n",
       "      <td>hundían</td>\n",
       "      <td>Words_lejanas</td>\n",
       "      <td>CBOW 1</td>\n",
       "    </tr>\n",
       "    <tr>\n",
       "      <th>5</th>\n",
       "      <td>2.987737</td>\n",
       "      <td>-0.109068</td>\n",
       "      <td>úrsula</td>\n",
       "      <td>Word</td>\n",
       "      <td>CBOW 1</td>\n",
       "    </tr>\n",
       "    <tr>\n",
       "      <th>6</th>\n",
       "      <td>2.409266</td>\n",
       "      <td>-0.023185</td>\n",
       "      <td>casa</td>\n",
       "      <td>Word_cercanas</td>\n",
       "      <td>CBOW 1</td>\n",
       "    </tr>\n",
       "    <tr>\n",
       "      <th>7</th>\n",
       "      <td>3.605079</td>\n",
       "      <td>-0.087677</td>\n",
       "      <td>más</td>\n",
       "      <td>Word_cercanas</td>\n",
       "      <td>CBOW 1</td>\n",
       "    </tr>\n",
       "    <tr>\n",
       "      <th>8</th>\n",
       "      <td>5.231381</td>\n",
       "      <td>-0.085512</td>\n",
       "      <td>del</td>\n",
       "      <td>Word_cercanas</td>\n",
       "      <td>CBOW 1</td>\n",
       "    </tr>\n",
       "    <tr>\n",
       "      <th>9</th>\n",
       "      <td>5.414195</td>\n",
       "      <td>-0.096148</td>\n",
       "      <td>en</td>\n",
       "      <td>Word_cercanas</td>\n",
       "      <td>CBOW 1</td>\n",
       "    </tr>\n",
       "    <tr>\n",
       "      <th>0</th>\n",
       "      <td>-0.512372</td>\n",
       "      <td>-0.061490</td>\n",
       "      <td>odió</td>\n",
       "      <td>Words_lejanas</td>\n",
       "      <td>Skip-Gram 1</td>\n",
       "    </tr>\n",
       "    <tr>\n",
       "      <th>1</th>\n",
       "      <td>-0.504364</td>\n",
       "      <td>0.050184</td>\n",
       "      <td>faltaran</td>\n",
       "      <td>Words_lejanas</td>\n",
       "      <td>Skip-Gram 1</td>\n",
       "    </tr>\n",
       "    <tr>\n",
       "      <th>2</th>\n",
       "      <td>-0.525146</td>\n",
       "      <td>-0.071192</td>\n",
       "      <td>dedicado</td>\n",
       "      <td>Words_lejanas</td>\n",
       "      <td>Skip-Gram 1</td>\n",
       "    </tr>\n",
       "    <tr>\n",
       "      <th>3</th>\n",
       "      <td>-0.514425</td>\n",
       "      <td>0.011278</td>\n",
       "      <td>-icarajo</td>\n",
       "      <td>Words_lejanas</td>\n",
       "      <td>Skip-Gram 1</td>\n",
       "    </tr>\n",
       "    <tr>\n",
       "      <th>4</th>\n",
       "      <td>-0.541976</td>\n",
       "      <td>-0.021154</td>\n",
       "      <td>cumplió</td>\n",
       "      <td>Words_lejanas</td>\n",
       "      <td>Skip-Gram 1</td>\n",
       "    </tr>\n",
       "    <tr>\n",
       "      <th>5</th>\n",
       "      <td>1.505699</td>\n",
       "      <td>-0.430171</td>\n",
       "      <td>úrsula</td>\n",
       "      <td>Word</td>\n",
       "      <td>Skip-Gram 1</td>\n",
       "    </tr>\n",
       "    <tr>\n",
       "      <th>6</th>\n",
       "      <td>1.471990</td>\n",
       "      <td>-0.495874</td>\n",
       "      <td>casa</td>\n",
       "      <td>Word_cercanas</td>\n",
       "      <td>Skip-Gram 1</td>\n",
       "    </tr>\n",
       "    <tr>\n",
       "      <th>7</th>\n",
       "      <td>1.586367</td>\n",
       "      <td>-0.627651</td>\n",
       "      <td>con</td>\n",
       "      <td>Word_cercanas</td>\n",
       "      <td>Skip-Gram 1</td>\n",
       "    </tr>\n",
       "    <tr>\n",
       "      <th>8</th>\n",
       "      <td>1.591532</td>\n",
       "      <td>-0.649656</td>\n",
       "      <td>en</td>\n",
       "      <td>Word_cercanas</td>\n",
       "      <td>Skip-Gram 1</td>\n",
       "    </tr>\n",
       "    <tr>\n",
       "      <th>9</th>\n",
       "      <td>1.502816</td>\n",
       "      <td>-0.271254</td>\n",
       "      <td>más</td>\n",
       "      <td>Word_cercanas</td>\n",
       "      <td>Skip-Gram 1</td>\n",
       "    </tr>\n",
       "    <tr>\n",
       "      <th>0</th>\n",
       "      <td>-0.377713</td>\n",
       "      <td>0.065936</td>\n",
       "      <td>lujuria</td>\n",
       "      <td>Words_lejanas</td>\n",
       "      <td>CBOW 2</td>\n",
       "    </tr>\n",
       "    <tr>\n",
       "      <th>1</th>\n",
       "      <td>-0.431482</td>\n",
       "      <td>-0.029434</td>\n",
       "      <td>hospedó</td>\n",
       "      <td>Words_lejanas</td>\n",
       "      <td>CBOW 2</td>\n",
       "    </tr>\n",
       "    <tr>\n",
       "      <th>2</th>\n",
       "      <td>-0.370148</td>\n",
       "      <td>0.101238</td>\n",
       "      <td>78</td>\n",
       "      <td>Words_lejanas</td>\n",
       "      <td>CBOW 2</td>\n",
       "    </tr>\n",
       "    <tr>\n",
       "      <th>3</th>\n",
       "      <td>-0.381422</td>\n",
       "      <td>0.068163</td>\n",
       "      <td>fiel</td>\n",
       "      <td>Words_lejanas</td>\n",
       "      <td>CBOW 2</td>\n",
       "    </tr>\n",
       "    <tr>\n",
       "      <th>4</th>\n",
       "      <td>-0.444994</td>\n",
       "      <td>-0.025759</td>\n",
       "      <td>impulsivos</td>\n",
       "      <td>Words_lejanas</td>\n",
       "      <td>CBOW 2</td>\n",
       "    </tr>\n",
       "    <tr>\n",
       "      <th>5</th>\n",
       "      <td>7.646658</td>\n",
       "      <td>-1.177394</td>\n",
       "      <td>úrsula</td>\n",
       "      <td>Word</td>\n",
       "      <td>CBOW 2</td>\n",
       "    </tr>\n",
       "    <tr>\n",
       "      <th>6</th>\n",
       "      <td>2.985130</td>\n",
       "      <td>-0.282101</td>\n",
       "      <td>cuenta</td>\n",
       "      <td>Word_cercanas</td>\n",
       "      <td>CBOW 2</td>\n",
       "    </tr>\n",
       "    <tr>\n",
       "      <th>7</th>\n",
       "      <td>9.355379</td>\n",
       "      <td>-0.875698</td>\n",
       "      <td>le</td>\n",
       "      <td>Word_cercanas</td>\n",
       "      <td>CBOW 2</td>\n",
       "    </tr>\n",
       "    <tr>\n",
       "      <th>8</th>\n",
       "      <td>3.362345</td>\n",
       "      <td>-0.292572</td>\n",
       "      <td>fuera</td>\n",
       "      <td>Word_cercanas</td>\n",
       "      <td>CBOW 2</td>\n",
       "    </tr>\n",
       "    <tr>\n",
       "      <th>9</th>\n",
       "      <td>9.820527</td>\n",
       "      <td>-1.841328</td>\n",
       "      <td>que</td>\n",
       "      <td>Word_cercanas</td>\n",
       "      <td>CBOW 2</td>\n",
       "    </tr>\n",
       "    <tr>\n",
       "      <th>0</th>\n",
       "      <td>-0.618363</td>\n",
       "      <td>-0.130665</td>\n",
       "      <td>-¿te</td>\n",
       "      <td>Words_lejanas</td>\n",
       "      <td>Skip-Gram 2</td>\n",
       "    </tr>\n",
       "    <tr>\n",
       "      <th>1</th>\n",
       "      <td>-0.668369</td>\n",
       "      <td>-0.264366</td>\n",
       "      <td>-laureliano</td>\n",
       "      <td>Words_lejanas</td>\n",
       "      <td>Skip-Gram 2</td>\n",
       "    </tr>\n",
       "    <tr>\n",
       "      <th>2</th>\n",
       "      <td>-0.640667</td>\n",
       "      <td>-0.141659</td>\n",
       "      <td>64</td>\n",
       "      <td>Words_lejanas</td>\n",
       "      <td>Skip-Gram 2</td>\n",
       "    </tr>\n",
       "    <tr>\n",
       "      <th>3</th>\n",
       "      <td>-0.647009</td>\n",
       "      <td>-0.054727</td>\n",
       "      <td>-mejor</td>\n",
       "      <td>Words_lejanas</td>\n",
       "      <td>Skip-Gram 2</td>\n",
       "    </tr>\n",
       "    <tr>\n",
       "      <th>4</th>\n",
       "      <td>-0.701057</td>\n",
       "      <td>-0.200580</td>\n",
       "      <td>ofuscó</td>\n",
       "      <td>Words_lejanas</td>\n",
       "      <td>Skip-Gram 2</td>\n",
       "    </tr>\n",
       "    <tr>\n",
       "      <th>5</th>\n",
       "      <td>1.772755</td>\n",
       "      <td>-0.579259</td>\n",
       "      <td>úrsula</td>\n",
       "      <td>Word</td>\n",
       "      <td>Skip-Gram 2</td>\n",
       "    </tr>\n",
       "    <tr>\n",
       "      <th>6</th>\n",
       "      <td>1.908089</td>\n",
       "      <td>-0.649042</td>\n",
       "      <td>rebeca</td>\n",
       "      <td>Word_cercanas</td>\n",
       "      <td>Skip-Gram 2</td>\n",
       "    </tr>\n",
       "    <tr>\n",
       "      <th>7</th>\n",
       "      <td>1.615694</td>\n",
       "      <td>-0.494483</td>\n",
       "      <td>atrevió</td>\n",
       "      <td>Word_cercanas</td>\n",
       "      <td>Skip-Gram 2</td>\n",
       "    </tr>\n",
       "    <tr>\n",
       "      <th>8</th>\n",
       "      <td>1.831166</td>\n",
       "      <td>-0.627227</td>\n",
       "      <td>éste</td>\n",
       "      <td>Word_cercanas</td>\n",
       "      <td>Skip-Gram 2</td>\n",
       "    </tr>\n",
       "    <tr>\n",
       "      <th>9</th>\n",
       "      <td>1.616534</td>\n",
       "      <td>-0.450655</td>\n",
       "      <td>buscando</td>\n",
       "      <td>Word_cercanas</td>\n",
       "      <td>Skip-Gram 2</td>\n",
       "    </tr>\n",
       "  </tbody>\n",
       "</table>\n",
       "</div>"
      ],
      "text/plain": [
       "          X         Y          Word      Clas_word       Modelo\n",
       "0 -0.307985  0.011413            20  Words_lejanas       CBOW 1\n",
       "1 -0.323424 -0.021121       llegada  Words_lejanas       CBOW 1\n",
       "2 -0.350247 -0.058596         serie  Words_lejanas       CBOW 1\n",
       "3 -0.337580  0.077007  intempestivo  Words_lejanas       CBOW 1\n",
       "4 -0.309681  0.069554       hundían  Words_lejanas       CBOW 1\n",
       "5  2.987737 -0.109068        úrsula           Word       CBOW 1\n",
       "6  2.409266 -0.023185          casa  Word_cercanas       CBOW 1\n",
       "7  3.605079 -0.087677           más  Word_cercanas       CBOW 1\n",
       "8  5.231381 -0.085512           del  Word_cercanas       CBOW 1\n",
       "9  5.414195 -0.096148            en  Word_cercanas       CBOW 1\n",
       "0 -0.512372 -0.061490          odió  Words_lejanas  Skip-Gram 1\n",
       "1 -0.504364  0.050184      faltaran  Words_lejanas  Skip-Gram 1\n",
       "2 -0.525146 -0.071192      dedicado  Words_lejanas  Skip-Gram 1\n",
       "3 -0.514425  0.011278      -icarajo  Words_lejanas  Skip-Gram 1\n",
       "4 -0.541976 -0.021154       cumplió  Words_lejanas  Skip-Gram 1\n",
       "5  1.505699 -0.430171        úrsula           Word  Skip-Gram 1\n",
       "6  1.471990 -0.495874          casa  Word_cercanas  Skip-Gram 1\n",
       "7  1.586367 -0.627651           con  Word_cercanas  Skip-Gram 1\n",
       "8  1.591532 -0.649656            en  Word_cercanas  Skip-Gram 1\n",
       "9  1.502816 -0.271254           más  Word_cercanas  Skip-Gram 1\n",
       "0 -0.377713  0.065936       lujuria  Words_lejanas       CBOW 2\n",
       "1 -0.431482 -0.029434       hospedó  Words_lejanas       CBOW 2\n",
       "2 -0.370148  0.101238            78  Words_lejanas       CBOW 2\n",
       "3 -0.381422  0.068163          fiel  Words_lejanas       CBOW 2\n",
       "4 -0.444994 -0.025759    impulsivos  Words_lejanas       CBOW 2\n",
       "5  7.646658 -1.177394        úrsula           Word       CBOW 2\n",
       "6  2.985130 -0.282101        cuenta  Word_cercanas       CBOW 2\n",
       "7  9.355379 -0.875698            le  Word_cercanas       CBOW 2\n",
       "8  3.362345 -0.292572         fuera  Word_cercanas       CBOW 2\n",
       "9  9.820527 -1.841328           que  Word_cercanas       CBOW 2\n",
       "0 -0.618363 -0.130665          -¿te  Words_lejanas  Skip-Gram 2\n",
       "1 -0.668369 -0.264366   -laureliano  Words_lejanas  Skip-Gram 2\n",
       "2 -0.640667 -0.141659            64  Words_lejanas  Skip-Gram 2\n",
       "3 -0.647009 -0.054727        -mejor  Words_lejanas  Skip-Gram 2\n",
       "4 -0.701057 -0.200580        ofuscó  Words_lejanas  Skip-Gram 2\n",
       "5  1.772755 -0.579259        úrsula           Word  Skip-Gram 2\n",
       "6  1.908089 -0.649042        rebeca  Word_cercanas  Skip-Gram 2\n",
       "7  1.615694 -0.494483       atrevió  Word_cercanas  Skip-Gram 2\n",
       "8  1.831166 -0.627227          éste  Word_cercanas  Skip-Gram 2\n",
       "9  1.616534 -0.450655      buscando  Word_cercanas  Skip-Gram 2"
      ]
     },
     "execution_count": 30,
     "metadata": {},
     "output_type": "execute_result"
    }
   ],
   "source": [
    "df"
   ]
  },
  {
   "cell_type": "markdown",
   "metadata": {},
   "source": [
    "### Jose"
   ]
  },
  {
   "cell_type": "code",
   "execution_count": 31,
   "metadata": {
    "deletable": false,
    "id": "82ZYWm68yo-h",
    "nbgrader": {
     "cell_type": "code",
     "checksum": "8658304a000616e7f24ac974bc282e58",
     "grade": true,
     "grade_id": "cell-18d5111deed8e040",
     "locked": false,
     "points": 8,
     "schema_version": 3,
     "solution": true,
     "task": false
    }
   },
   "outputs": [
    {
     "name": "stdout",
     "output_type": "stream",
     "text": [
      "CBOW 1\n"
     ]
    },
    {
     "data": {
      "image/png": "[encoded data removed]",
      "text/plain": [
       "<Figure size 432x288 with 1 Axes>"
      ]
     },
     "metadata": {
      "needs_background": "light"
     },
     "output_type": "display_data"
    },
    {
     "name": "stdout",
     "output_type": "stream",
     "text": [
      "Skip-Gram 1\n"
     ]
    },
    {
     "data": {
      "image/png": "[encoded data removed]",
      "text/plain": [
       "<Figure size 432x288 with 1 Axes>"
      ]
     },
     "metadata": {
      "needs_background": "light"
     },
     "output_type": "display_data"
    },
    {
     "name": "stdout",
     "output_type": "stream",
     "text": [
      "CBOW 2\n"
     ]
    },
    {
     "data": {
      "image/png": "[encoded data removed]",
      "text/plain": [
       "<Figure size 432x288 with 1 Axes>"
      ]
     },
     "metadata": {
      "needs_background": "light"
     },
     "output_type": "display_data"
    },
    {
     "name": "stdout",
     "output_type": "stream",
     "text": [
      "Skip-Gram 2\n"
     ]
    },
    {
     "data": {
      "image/png": "[encoded data removed]",
      "text/plain": [
       "<Figure size 432x288 with 1 Axes>"
      ]
     },
     "metadata": {
      "needs_background": "light"
     },
     "output_type": "display_data"
    }
   ],
   "source": [
    "# your code here\n",
    "# your code here\n",
    "df = pd.DataFrame()\n",
    "for i in range(0,len(list(modelos.items()))):\n",
    "    name, model = list(modelos.items())[i]\n",
    "    print(name)\n",
    "    p1 = 'josé'\n",
    "    df_aux = graficar_palabras_cercanas_lejanas(p1, model, n=20)\n",
    "    df_aux['Modelo'] = name\n",
    "    df = pd.concat([df, df_aux])"
   ]
  },
  {
   "cell_type": "code",
   "execution_count": 32,
   "metadata": {},
   "outputs": [
    {
     "data": {
      "text/html": [
       "<div>\n",
       "<style scoped>\n",
       "    .dataframe tbody tr th:only-of-type {\n",
       "        vertical-align: middle;\n",
       "    }\n",
       "\n",
       "    .dataframe tbody tr th {\n",
       "        vertical-align: top;\n",
       "    }\n",
       "\n",
       "    .dataframe thead th {\n",
       "        text-align: right;\n",
       "    }\n",
       "</style>\n",
       "<table border=\"1\" class=\"dataframe\">\n",
       "  <thead>\n",
       "    <tr style=\"text-align: right;\">\n",
       "      <th></th>\n",
       "      <th>X</th>\n",
       "      <th>Y</th>\n",
       "      <th>Word</th>\n",
       "      <th>Clas_word</th>\n",
       "      <th>Modelo</th>\n",
       "    </tr>\n",
       "  </thead>\n",
       "  <tbody>\n",
       "    <tr>\n",
       "      <th>0</th>\n",
       "      <td>-0.311266</td>\n",
       "      <td>0.078048</td>\n",
       "      <td>anormal</td>\n",
       "      <td>Words_lejanas</td>\n",
       "      <td>CBOW 1</td>\n",
       "    </tr>\n",
       "    <tr>\n",
       "      <th>1</th>\n",
       "      <td>-0.299497</td>\n",
       "      <td>0.051097</td>\n",
       "      <td>conciencia.</td>\n",
       "      <td>Words_lejanas</td>\n",
       "      <td>CBOW 1</td>\n",
       "    </tr>\n",
       "    <tr>\n",
       "      <th>2</th>\n",
       "      <td>-0.320595</td>\n",
       "      <td>0.008806</td>\n",
       "      <td>cólera</td>\n",
       "      <td>Words_lejanas</td>\n",
       "      <td>CBOW 1</td>\n",
       "    </tr>\n",
       "    <tr>\n",
       "      <th>3</th>\n",
       "      <td>-0.313511</td>\n",
       "      <td>-0.052710</td>\n",
       "      <td>empantanado</td>\n",
       "      <td>Words_lejanas</td>\n",
       "      <td>CBOW 1</td>\n",
       "    </tr>\n",
       "    <tr>\n",
       "      <th>4</th>\n",
       "      <td>-0.285615</td>\n",
       "      <td>-0.042458</td>\n",
       "      <td>cum-</td>\n",
       "      <td>Words_lejanas</td>\n",
       "      <td>CBOW 1</td>\n",
       "    </tr>\n",
       "    <tr>\n",
       "      <th>...</th>\n",
       "      <td>...</td>\n",
       "      <td>...</td>\n",
       "      <td>...</td>\n",
       "      <td>...</td>\n",
       "      <td>...</td>\n",
       "    </tr>\n",
       "    <tr>\n",
       "      <th>35</th>\n",
       "      <td>-0.387775</td>\n",
       "      <td>-0.217079</td>\n",
       "      <td>-llévenme</td>\n",
       "      <td>Word_cercanas</td>\n",
       "      <td>Skip-Gram 2</td>\n",
       "    </tr>\n",
       "    <tr>\n",
       "      <th>36</th>\n",
       "      <td>2.021452</td>\n",
       "      <td>-0.730489</td>\n",
       "      <td>dio</td>\n",
       "      <td>Word_cercanas</td>\n",
       "      <td>Skip-Gram 2</td>\n",
       "    </tr>\n",
       "    <tr>\n",
       "      <th>37</th>\n",
       "      <td>-0.322609</td>\n",
       "      <td>-0.247189</td>\n",
       "      <td>acostumbrarse</td>\n",
       "      <td>Word_cercanas</td>\n",
       "      <td>Skip-Gram 2</td>\n",
       "    </tr>\n",
       "    <tr>\n",
       "      <th>38</th>\n",
       "      <td>1.224683</td>\n",
       "      <td>-0.247682</td>\n",
       "      <td>reveló</td>\n",
       "      <td>Word_cercanas</td>\n",
       "      <td>Skip-Gram 2</td>\n",
       "    </tr>\n",
       "    <tr>\n",
       "      <th>39</th>\n",
       "      <td>-0.316965</td>\n",
       "      <td>-0.155049</td>\n",
       "      <td>aniquilada</td>\n",
       "      <td>Word_cercanas</td>\n",
       "      <td>Skip-Gram 2</td>\n",
       "    </tr>\n",
       "  </tbody>\n",
       "</table>\n",
       "<p>160 rows × 5 columns</p>\n",
       "</div>"
      ],
      "text/plain": [
       "           X         Y           Word      Clas_word       Modelo\n",
       "0  -0.311266  0.078048        anormal  Words_lejanas       CBOW 1\n",
       "1  -0.299497  0.051097    conciencia.  Words_lejanas       CBOW 1\n",
       "2  -0.320595  0.008806         cólera  Words_lejanas       CBOW 1\n",
       "3  -0.313511 -0.052710    empantanado  Words_lejanas       CBOW 1\n",
       "4  -0.285615 -0.042458           cum-  Words_lejanas       CBOW 1\n",
       "..       ...       ...            ...            ...          ...\n",
       "35 -0.387775 -0.217079      -llévenme  Word_cercanas  Skip-Gram 2\n",
       "36  2.021452 -0.730489            dio  Word_cercanas  Skip-Gram 2\n",
       "37 -0.322609 -0.247189  acostumbrarse  Word_cercanas  Skip-Gram 2\n",
       "38  1.224683 -0.247682         reveló  Word_cercanas  Skip-Gram 2\n",
       "39 -0.316965 -0.155049     aniquilada  Word_cercanas  Skip-Gram 2\n",
       "\n",
       "[160 rows x 5 columns]"
      ]
     },
     "execution_count": 32,
     "metadata": {},
     "output_type": "execute_result"
    }
   ],
   "source": [
    "df"
   ]
  },
  {
   "cell_type": "markdown",
   "metadata": {
    "deletable": false,
    "editable": false,
    "id": "KHahpw-X1loE",
    "nbgrader": {
     "cell_type": "markdown",
     "checksum": "01e224ef0b7336455680b480b7765e8f",
     "grade": false,
     "grade_id": "cell-c5b9c836f2a35666",
     "locked": true,
     "schema_version": 3,
     "solution": false,
     "task": false
    }
   },
   "source": [
    "## Conclusiones\n",
    "\n",
    "¿Qué relaciones interesantes encuentra? ¿Tienen sentido la cercanía y la lejanía de dichas palabras? ¿A qué se puede deber este comportamiento dados los parametros y modelos que usted seleccionó?\n",
    "\n",
    "Escriba sus conclusiones a continuación:"
   ]
  },
  {
   "cell_type": "markdown",
   "metadata": {
    "deletable": false,
    "id": "zFAsWMs7ecYN",
    "nbgrader": {
     "cell_type": "markdown",
     "checksum": "23cd38a5ffb123db97791caaf8d88564",
     "grade": true,
     "grade_id": "cell-94c021e10ca04225",
     "locked": false,
     "points": 16,
     "schema_version": 3,
     "solution": true,
     "task": false
    }
   },
   "source": [
    "Los modelos de extracción de texto como CBOW (Continuous Bag of Words) y Skip-gram, se utilizan en procesamiento de lenguaje natural para aprender representaciones vectoriales de palabras o caracteres. En el Taller se evidencia que los Modelos Skip-Gram son los que mejor clasifican las palabras cercanas y lejanas a la palabra de interés, la nube de puntos de estos modelos es más densa y diferenciada entres las palabras cercanas y lejanas entre si.\n",
    "\n",
    "Los Modelos CBOW ignora el orden de las palabras en una oración, ya que considera un contexto dado como una \"bolsa de palabras\". Esto puede ser problemático en tareas donde el orden de las palabras es crítico como por ejemplo en este caso con el fragmento del libro de “100_años_soledad” por lo que puede generar la agrupación errónea al no tener en cuenta el orden y cohesión de texto.\n",
    "\n",
    "Para tratar de resolver el problema se podría utilizar un vocabulario más grande que pueda ayudar a reducir la similitud entre los vectores de las palabras y utilizar un conjunto de datos de entrenamiento más representativo o un conjunto de datos de texto específico como fragmentos de libros de Gabriel Garcia Marquez con el fin de mejorar la precisión de los vectores de las palabras."
   ]
  },
  {
   "cell_type": "markdown",
   "metadata": {
    "deletable": false,
    "editable": false,
    "id": "BcdoAjaNPvHP",
    "nbgrader": {
     "cell_type": "markdown",
     "checksum": "6f8b12c1c982c6a97eb936c1888fa9d2",
     "grade": false,
     "grade_id": "cell-43bc651468880480",
     "locked": true,
     "schema_version": 3,
     "solution": false,
     "task": false
    }
   },
   "source": [
    "# Referencias\n",
    "https://towardsdatascience.com/nlp-101-word2vec-skip-gram-and-cbow-93512ee24314"
   ]
  }
 ],
 "metadata": {
  "colab": {
   "collapsed_sections": [],
   "name": "S1TCP1_Word2Vec.ipynb",
   "provenance": []
  },
  "kernelspec": {
   "display_name": "Python 3 (ipykernel)",
   "language": "python",
   "name": "python3"
  },
  "language_info": {
   "codemirror_mode": {
    "name": "ipython",
    "version": 3
   },
   "file_extension": ".py",
   "mimetype": "text/x-python",
   "name": "python",
   "nbconvert_exporter": "python",
   "pygments_lexer": "ipython3",
   "version": "3.9.12"
  },
  "toc": {
   "base_numbering": 1,
   "nav_menu": {},
   "number_sections": true,
   "sideBar": true,
   "skip_h1_title": false,
   "title_cell": "Table of Contents",
   "title_sidebar": "Contents",
   "toc_cell": false,
   "toc_position": {
    "height": "calc(100% - 180px)",
    "left": "10px",
    "top": "150px",
    "width": "273.188px"
   },
   "toc_section_display": true,
   "toc_window_display": false
  }
 },
 "nbformat": 4,
 "nbformat_minor": 4
}
