{
 "cells": [
  {
   "cell_type": "markdown",
   "metadata": {
    "deletable": false,
    "editable": false,
    "id": "b17xl3P2jAhe",
    "nbgrader": {
     "cell_type": "markdown",
     "checksum": "13dc6ea6ef7c7d7d1630195c6a65ead6",
     "grade": false,
     "grade_id": "cell-8676bc554af579d6",
     "locked": true,
     "schema_version": 3,
     "solution": false,
     "task": false
    }
   },
   "source": [
    "![Banner](img/banner.png)\n",
    "\n",
    "# **Actividad N°1:** Distancias y algoritmo KNN\n",
    "\n",
    "***Matemáticas para Machine Learning.***\n",
    "\n",
    "Semana 1 - Lección 1 : Matrices y Vectores. Operaciones y Dependencia Lineal\n",
    "\n",
    "**Profesor:** *Fernando Enrique Lozano Martinez* - **Autor Notebook:** *Nicolas Orlando López Cuéllar*\n"
   ]
  },
  {
   "cell_type": "markdown",
   "metadata": {
    "deletable": false,
    "editable": false,
    "id": "HA09g08vjAhx",
    "nbgrader": {
     "cell_type": "markdown",
     "checksum": "3e087ed9589b24025361ea9fde14f01d",
     "grade": false,
     "grade_id": "cell-746e18bfeca2937f",
     "locked": true,
     "schema_version": 3,
     "solution": false,
     "task": false
    }
   },
   "source": [
    "# Introducción <a class=\"anchor\" id=\"introduccion\"></a>"
   ]
  },
  {
   "cell_type": "markdown",
   "metadata": {
    "deletable": false,
    "editable": false,
    "id": "b1ixMuT_jAh2",
    "nbgrader": {
     "cell_type": "markdown",
     "checksum": "2976e1a75d64e21e2d76925f5fecf97f",
     "grade": false,
     "grade_id": "cell-f31073f183edc25a",
     "locked": true,
     "schema_version": 3,
     "solution": false,
     "task": false
    }
   },
   "source": [
    "## Descripción \n",
    "\n",
    "El presente *jupyter notebook* contine todo el material para el desarrollo de la Tarea 1 de la Semana 1 del curso ***Matemáticas para Machine Learning***. En este se realizarán ejercicios de manipulación de vectores para familiarizarce al entorno de Jupyter Notebook, así como también se realizara una implementación básica del algoritmo KNN.\n",
    "\n",
    "**Objetivos de Aprendizaje:**\n",
    "\n",
    "*   Cuantificar tamaños y distancias en un espacio vectorial.\n",
    "*   Familiarizarce con el lenguaje de programación de python. Escribir funciones en este lenguaje para resolver problemas.\n",
    "*   Comprender la implementación del algoritmo KNN y como aplicarlo en una base de datos para clasificación."
   ]
  },
  {
   "cell_type": "markdown",
   "metadata": {
    "deletable": false,
    "editable": false,
    "id": "aHc8iEuLjAh3",
    "nbgrader": {
     "cell_type": "markdown",
     "checksum": "f04089435933b070d91396705ff56f5b",
     "grade": false,
     "grade_id": "cell-d08a77cb82bce1fb",
     "locked": true,
     "schema_version": 3,
     "solution": false,
     "task": false
    }
   },
   "source": [
    "## Metodologia\n",
    "\n",
    "Para la realización de los talleres se hará uso de  **cuadernos Jupyter**, los cuales son una aplicación web de fuente abierta en la cual se pueden crear documentos que contengan código, ecuaciones y visualizaciones.\n",
    "\n",
    "Se utilizan 2 ambientes principales: Las celdas tipo Markdown, en donde se pueden escribir ecuaciones utilizando código LateX o HTML, y las celdas tipo código en donde se puede escribir código utilizando Python. Para desarrollar el taller usted deberá editar las celdas de código dispuestas para esto. Estas estarán marcadas con el siguiente comentario:\n",
    "\n",
    "```python\n",
    "# =====================================================\n",
    "# COMPLETAR ===========================================\n",
    "# \n",
    "\n",
    "# =====================================================\n",
    "```\n",
    "\n",
    "Edite o complete el códgio dentro de estas lineas de comentarios. Dentro de estos comentarios encontrará indicaciónes de lo que debe hacer, así como algunas de las variables que debe utilizar o calcular (puede que estas tengan ya una estructura para llenar o no, revise y complete la asignación).\n",
    "\n",
    "En este notebook, cada punto tendrá una sección para probar libremente el trabajo realizado explorando sus resultados, asi como también una sección de pruebas avanzadas las cuales serán autocalificadas. Las secciones de código utilizadas para señalar estos espacios son respectivamente\n",
    "\n",
    "\n",
    "```python\n",
    "# PROBAR ==========================================================\n",
    "funcion_trabajada()\n",
    "```\n",
    "y \n",
    "\n",
    "```python\n",
    "### ==========================================================================\n",
    "### PRUEBAS AVANZADAS ========================================================\n",
    "pruebas_avanzadas(funcion_trabajada)\n",
    "```"
   ]
  },
  {
   "cell_type": "markdown",
   "metadata": {
    "deletable": false,
    "editable": false,
    "id": "VnIeJe0AjAh6",
    "nbgrader": {
     "cell_type": "markdown",
     "checksum": "ab3577ad0280beff8cd14efcb0f8c1f2",
     "grade": false,
     "grade_id": "cell-372e59d363f1a99e",
     "locked": true,
     "schema_version": 3,
     "solution": false,
     "task": false
    }
   },
   "source": [
    "# Teoria <a class=\"anchor\" id=\"teoria\"></a>"
   ]
  },
  {
   "cell_type": "markdown",
   "metadata": {
    "deletable": false,
    "editable": false,
    "id": "lIe-WOwQjAh7",
    "nbgrader": {
     "cell_type": "markdown",
     "checksum": "53bc986b3f7b4a0ce33d6abf12ba26c9",
     "grade": false,
     "grade_id": "cell-be162456d488e9e9",
     "locked": true,
     "schema_version": 3,
     "solution": false,
     "task": false
    }
   },
   "source": [
    "## Norma euclidiana \n",
    "\n",
    "Recuerde que para $\\mathbf{v} = (v_1 , \\ldots , v_n) \\in \\mathbb{R}^n$ podemos definir la norma euclidiana, que coincide con la noción que tenemos de distancia, como:\n",
    "\n",
    "$$ \\| \\mathbf{v} \\| = \\sqrt{ v_1^2 + \\ldots + v_n^2 } $$  \n",
    "\n",
    "Este es un caso particular de un conjunto de normas llamadas $p$-normas. las cuales se definen para $p> 1$ de tal manera que:\n",
    "\n",
    "$$ \\| \\mathbf{v} \\|_p = \\left( |v_1|^p + \\ldots + |v_n|^p \\right)^{1/p} $$  \n",
    "\n",
    "La norma euclidiana es entonces el caso particular de $p = 2$"
   ]
  },
  {
   "cell_type": "markdown",
   "metadata": {
    "deletable": false,
    "editable": false,
    "id": "l6tXS_SRjAh9",
    "nbgrader": {
     "cell_type": "markdown",
     "checksum": "039f44bcc80b52f3463cabdf906cfdb9",
     "grade": false,
     "grade_id": "cell-ff4d461ebcdc92ca",
     "locked": true,
     "schema_version": 3,
     "solution": false,
     "task": false
    }
   },
   "source": [
    "## Algoritmo KNN\n",
    "\n",
    "EL algoritmo de vecinos mas cercanos, o KNN por sus siglas en ingles (K-Nearest Neighbors), es un algoritmo de aprendizaje supervisado usado en problemas de clasificación o de regresión. Es un algoritmo no parámetrico, lo que quiere decir que no realiza suposiciones acerca de la estructura de datos; y se reconoce como un \"algoritmo perezoso\", puesto que realiza el entrenamiento durante su fase de prueba. En este laboratorio implementaremos este algoritmo sobre una base de datos para clasificar datos en etiquetas.\n",
    "\n",
    "Suponga que se tienen $m$ datos y $p$ categorias distintas en las que podemos clasificar estos datos, de tal manera que cada dato tendrá asociada una única categoria. También suponga que a cada dato se le pueden medir un total de $n$ propiedades o características númericas. Esto lo podemos escribir matemáticamente de la siguiente manera:\n",
    "\n",
    "\n",
    "Sea $\\mathcal{V} = \\big\\{ \\mathbf{v}_1 , \\mathbf{v}_2 , \\> \\ldots \\> , \\mathbf{v}_m \\> \\big| \\> \\mathbf{v}_i \\in \\mathbb{R}^n \\big\\}$ Una familia de $m$ vectores en $\\mathbb{R}^n$. Y Sea $\\mathcal{C} = \\big\\{ c_1 , \\> \\ldots \\> , c_p \\> \\big| \\> c_i : \\textrm{Etiqueta}    \\big\\}$ un conjunto de $p$ etiquetas distintas y sea $cl : \\mathcal{V} ⟶ \\mathcal{C}$ una función envia cada vector $\\mathbf{v}_i$ a su etiqueta respectiva. Entonces podemos crear la siguiente tabla\n",
    "\n",
    "$$ \\begin{array}{c|c|c} \n",
    "\\textrm{No Dato} & \\textrm{Descriptores} & \\textrm{Etiqueta} \\\\\n",
    "1 & \\mathbf{v_1} & cl(\\mathbf{v}_1) \\\\\n",
    "2 & \\mathbf{v_2} & cl(\\mathbf{v}_2) \\\\\n",
    "\\vdots & \\vdots & \\vdots \\\\\n",
    "m & \\mathbf{v_m} & cl(\\mathbf{v}_m) \\\\\n",
    "\\end{array} $$\n",
    "\n",
    "$$ \\mathbf{v}_i \\in \\mathcal{V} \\qquad cl(\\mathbf{v}_i) \\in \\mathcal{C}  $$\n",
    "\n",
    "El algoritmo $KNN$ utiliza la información de la base de datos anterior para clasificar o etiquetar nuevos datos (datos sin etiqueta) a partir de sus descriptores. También utiliza el parámetro de ajuste $k$, el cual indica el número de elementos a ser tenidos en cuenta para la clasificación.\n",
    "\n",
    "Suponga que llega un nuevo dato sin etiqueta pero con descriptores $\\mathbf{u} = (u_1 , \\> \\ldots \\> , u_n) \\in \\mathbb{R}^n$. Entonces KNN lo clasifica encontrando los $k$ vectores $\\mathbf{v_i}$ mas cercanos a $\\mathbf{u}$ y tomando la moda de las etiquetas de estos $k$ datos como la etiqueta predicha. En caso de que dos o mas etiquetas tengan la misma cantidad de apariciones entre los $k$ datos seleccionados, se puede seleccionar cualquiera de estas aleatoriamente."
   ]
  },
  {
   "cell_type": "markdown",
   "metadata": {
    "deletable": false,
    "editable": false,
    "id": "ttK8MO0ZjAh_",
    "nbgrader": {
     "cell_type": "markdown",
     "checksum": "5eff2217b47deb894f559bfa09ac9595",
     "grade": false,
     "grade_id": "cell-86c1cae468b90f2a",
     "locked": true,
     "schema_version": 3,
     "solution": false,
     "task": false
    }
   },
   "source": [
    "# Problemas\n",
    "\n",
    "A continuación se presentan una serie de problemas que nos llevarán a construir un algoritmo de KNN y a implementarlo en un grupo de datos. Primero, importamos las librerias necesarias para el laboratorio."
   ]
  },
  {
   "cell_type": "code",
   "execution_count": 1,
   "metadata": {
    "id": "57f7UmHYlGjd"
   },
   "outputs": [],
   "source": [
    "# Librerias Básicas\n",
    "import numpy as np      \n",
    "import pandas as pd\n",
    "\n",
    "# Dibujar\n",
    "import matplotlib.pyplot as plt \n",
    "import matplotlib.colors as mcolors\n",
    "\n",
    "# Visualización\n",
    "from IPython.display import display, HTML\n",
    "from tqdm.notebook import tqdm\n",
    "import warnings\n",
    "warnings.filterwarnings(\"ignore\")"
   ]
  },
  {
   "cell_type": "code",
   "execution_count": 2,
   "metadata": {
    "deletable": false,
    "editable": false,
    "nbgrader": {
     "cell_type": "code",
     "checksum": "182ddd234e30c78aee0c153fca04541f",
     "grade": false,
     "grade_id": "cell-8592999e6b9c6a3d",
     "locked": true,
     "schema_version": 3,
     "solution": false,
     "task": false
    }
   },
   "outputs": [],
   "source": [
    "# UTILIDADES =================================\n",
    "# Correr una única vez por sesión ============\n",
    "from maiautils import MaiaUtils\n",
    "ipython = get_ipython()\n",
    "mutils = MaiaUtils(ipython) \n",
    "# ============================================"
   ]
  },
  {
   "cell_type": "code",
   "execution_count": 3,
   "metadata": {
    "deletable": false,
    "editable": false,
    "nbgrader": {
     "cell_type": "code",
     "checksum": "dfa6598577f870ccedb08e7c5d56b4e4",
     "grade": false,
     "grade_id": "cell-6a8adcc317d6cff3",
     "locked": true,
     "schema_version": 3,
     "solution": false,
     "task": false
    }
   },
   "outputs": [],
   "source": [
    "# Cambiar configuración de informe de errores\n",
    "mutils.toggle_traceback()"
   ]
  },
  {
   "cell_type": "code",
   "execution_count": 4,
   "metadata": {},
   "outputs": [
    {
     "data": {
      "text/plain": [
       "<ipykernel.zmqshell.ZMQInteractiveShell at 0x7f77ebc71290>"
      ]
     },
     "execution_count": 4,
     "metadata": {},
     "output_type": "execute_result"
    }
   ],
   "source": [
    "ipython"
   ]
  },
  {
   "cell_type": "markdown",
   "metadata": {
    "deletable": false,
    "editable": false,
    "id": "yqqke6RWjAh_",
    "nbgrader": {
     "cell_type": "markdown",
     "checksum": "36a5b376ab50d315902dbc3e1fe0eaf3",
     "grade": false,
     "grade_id": "cell-d93f95d87a7fcce3",
     "locked": true,
     "schema_version": 3,
     "solution": false,
     "task": false
    }
   },
   "source": [
    "## Norma Euclidiana \n",
    "\n",
    "Escriba una función en Python que reciba 1 vector $\\mathbf{v}$ como parámetro. de tal manera que retorne la norma euclidiana de este vector."
   ]
  },
  {
   "cell_type": "code",
   "execution_count": 5,
   "metadata": {
    "id": "rGJuHfaCjAiA"
   },
   "outputs": [],
   "source": [
    "def norm(v) -> float:\n",
    "    \"\"\"\n",
    "    Encuentra norma euclidiana de un vector\n",
    "    ___________________________________\n",
    "    Entrada:\n",
    "    v: [1D-array] Vector\n",
    "    ___________________________________\n",
    "    Salida:\n",
    "    nrm: [float]  Norma del vector\n",
    "    \"\"\"\n",
    "\n",
    "    # =====================================================\n",
    "    # COMPLETAR ===========================================\n",
    "    v = np.array(v)\n",
    "    nrm = np.linalg.norm(v)\n",
    "    # AYUDA:\n",
    "    # Estructura de Salida\n",
    "    #nrm = 0\n",
    "    # =====================================================\n",
    "\n",
    "    return nrm"
   ]
  },
  {
   "cell_type": "code",
   "execution_count": 6,
   "metadata": {
    "colab": {
     "base_uri": "https://localhost:8080/"
    },
    "deletable": false,
    "editable": false,
    "id": "8yNb5o0mjAiB",
    "nbgrader": {
     "cell_type": "code",
     "checksum": "9d9f83120d982613fdaddceed19ab404",
     "grade": false,
     "grade_id": "cell-229810efd830aeac",
     "locked": true,
     "schema_version": 3,
     "solution": false,
     "task": false
    },
    "outputId": "4f8ab57a-3769-4bd0-d965-8d379dd28098"
   },
   "outputs": [
    {
     "name": "stdout",
     "output_type": "stream",
     "text": [
      "Help on function norm in module __main__:\n",
      "\n",
      "norm(v) -> float\n",
      "    Encuentra norma euclidiana de un vector\n",
      "    ___________________________________\n",
      "    Entrada:\n",
      "    v: [1D-array] Vector\n",
      "    ___________________________________\n",
      "    Salida:\n",
      "    nrm: [float]  Norma del vector\n",
      "\n"
     ]
    }
   ],
   "source": [
    "\"\"\" \n",
    "Para obtener información de una función en Python utilizamos la función help()\n",
    "\"\"\"\n",
    "\n",
    "help(norm)"
   ]
  },
  {
   "cell_type": "markdown",
   "metadata": {
    "deletable": false,
    "editable": false,
    "id": "H6m4wvIgjAiD",
    "nbgrader": {
     "cell_type": "markdown",
     "checksum": "4254655fcd4a25db46d4cd40b5b2cf92",
     "grade": false,
     "grade_id": "cell-36e6767945a14a5f",
     "locked": true,
     "schema_version": 3,
     "solution": false,
     "task": false
    }
   },
   "source": [
    "### Probar <a class=\"anchor\" id=\"normaProbar\"></a>"
   ]
  },
  {
   "cell_type": "code",
   "execution_count": 7,
   "metadata": {
    "colab": {
     "base_uri": "https://localhost:8080/"
    },
    "id": "SD8LGxSnjAiE",
    "outputId": "7807429d-2b30-4869-bb59-0fe5d8e31f7e"
   },
   "outputs": [
    {
     "name": "stdout",
     "output_type": "stream",
     "text": [
      "3.7416573867739413\n"
     ]
    }
   ],
   "source": [
    "# PROBAR ==========================================================\n",
    "v = [3, 2, 1]\n",
    "print(norm(v))"
   ]
  },
  {
   "cell_type": "markdown",
   "metadata": {},
   "source": [
    "### Test"
   ]
  },
  {
   "cell_type": "code",
   "execution_count": 8,
   "metadata": {
    "colab": {
     "base_uri": "https://localhost:8080/",
     "height": 98
    },
    "deletable": false,
    "editable": false,
    "id": "aHJE1pCGjAiF",
    "nbgrader": {
     "cell_type": "code",
     "checksum": "b24d5111960a15bfa48217cf2f3922ea",
     "grade": true,
     "grade_id": "cell-1031715c0f4a8742",
     "locked": true,
     "points": 1,
     "schema_version": 3,
     "solution": false,
     "task": false
    },
    "outputId": "69a3250e-e4d9-4d9a-b4bf-ca42cddd19b8"
   },
   "outputs": [],
   "source": [
    "### ==========================================================================\n",
    "### PRUEBAS BÁSICAS ==========================================================\n",
    "\n",
    "assert norm([2,2]) == 8**(1/2), f'Vector: [2,2] \\nNorma esperada = {8**(1/2)}'\n",
    "assert norm([3,2,1]) == (9+4+1)**(1/2), f'Vector: [3,2,1] \\nNorma esperada = {(9+4+1)**(1/2)}'\n",
    "assert norm([5,5,5,5,5]) == (5*(5**2))**(1/2), f'Vector: [5,5,5,5,5]\\nNorma esperada = {(5*(5**2))**(1/2)}'"
   ]
  },
  {
   "cell_type": "code",
   "execution_count": 9,
   "metadata": {
    "colab": {
     "base_uri": "https://localhost:8080/",
     "height": 320
    },
    "deletable": false,
    "editable": false,
    "id": "SaM-CyM7jAiG",
    "nbgrader": {
     "cell_type": "code",
     "checksum": "3610f66e590bcf2179c7441a876513c5",
     "grade": true,
     "grade_id": "cell-c7a579a8bd954f2a",
     "locked": true,
     "points": 9,
     "schema_version": 3,
     "solution": false,
     "task": false
    },
    "outputId": "3330121b-0936-4e38-95c1-ce2db185674e"
   },
   "outputs": [
    {
     "name": "stdout",
     "output_type": "stream",
     "text": [
      "__________________________________\n",
      "Verificando errores...\n",
      "\n",
      "\n",
      "\n",
      "\n",
      "Sin Errores\n",
      "__________________________________\n"
     ]
    }
   ],
   "source": [
    "### ==========================================================================\n",
    "### PRUEBAS AVANZADAS ========================================================\n",
    "\n",
    "mutils.correr_prueba_norm(norm)"
   ]
  },
  {
   "cell_type": "code",
   "execution_count": null,
   "metadata": {},
   "outputs": [],
   "source": []
  },
  {
   "cell_type": "code",
   "execution_count": 12,
   "metadata": {},
   "outputs": [
    {
     "name": "stdout",
     "output_type": "stream",
     "text": [
      "Los 2 vectores más cercanos a x son:\n",
      "[array([2, 3]), array([4, 5])]\n"
     ]
    }
   ],
   "source": [
    "import numpy as np\n",
    "\n",
    "#def distancia(norma, a, b):\n",
    "#    # Calcula la distancia entre dos vectores 'a' y 'b' utilizando la norma dada\n",
    "#    return norma(a - b)\n",
    "\n",
    "def k_mas_cercanos(V, x, norma, k):\n",
    "    # Calcula la distancia entre el vector objetivo 'x' y cada vector en 'V'\n",
    "    #distancias = [distancia(norma, x, v) for v in V]\n",
    "    distancias = [norma(x - v) for v in V]\n",
    "    \n",
    "    # Enumera las distancias y vectores correspondientes, luego ordénalos por distancia\n",
    "    distancias_y_vectores = list(enumerate(V, 0))\n",
    "    distancias_y_vectores.sort(key=lambda d: distancias[d[0]])\n",
    "    \n",
    "    # Devuelve los 'k' vectores más cercanos\n",
    "    k_cercanos = [v for _, v in distancias_y_vectores[:k]]\n",
    "    \n",
    "    return k_cercanos\n",
    "\n",
    "# Ejemplo de uso\n",
    "V = [np.array([1, 2]), np.array([2, 3]), np.array([4, 5]), np.array([6, 7])]\n",
    "x = np.array([3, 4])\n",
    "k = 2\n",
    "resultado = k_mas_cercanos(V, x, np.linalg.norm, k)\n",
    "print(\"Los\", k, \"vectores más cercanos a x son:\")\n",
    "print(resultado)\n",
    "#for vector in resultado:\n",
    "#    print(vector)\n"
   ]
  },
  {
   "cell_type": "code",
   "execution_count": null,
   "metadata": {},
   "outputs": [],
   "source": []
  },
  {
   "cell_type": "markdown",
   "metadata": {
    "deletable": false,
    "editable": false,
    "id": "TD_BAlOgjAiH",
    "nbgrader": {
     "cell_type": "markdown",
     "checksum": "e2254afc80d35e7608e06daebd1197bf",
     "grade": false,
     "grade_id": "cell-798eade298406f30",
     "locked": true,
     "schema_version": 3,
     "solution": false,
     "task": false
    }
   },
   "source": [
    "## Elementos mas cercanos\n",
    "\n",
    "Suponga que tiene una familia de vectores $\\mathcal{V} = \\{ \\mathbf{v}_1, \\ldots , \\mathbf{v}_m \\}$  tal que $\\mathbf{v}_i \\in \\mathbb{R}^n$.  Escriba una función en Python que reciba como parámetros la familia de vectores $\\mathcal{V}$, una función de norma $\\| \\cdot \\|: \\mathbb{R}^n \\longrightarrow \\mathbb{R}_+ $, un parámetro $k$ y un vector objetivo $\\mathbf{x}$. Esta función retorna los $k$ elementos de $\\mathcal{V}$ mas cercanos a $\\mathbf{x}$ bajo la norma introducida."
   ]
  },
  {
   "cell_type": "code",
   "execution_count": 44,
   "metadata": {
    "id": "4XvhfKRnjAiI"
   },
   "outputs": [],
   "source": [
    "def k_mas_cercanos(x, V, k =1, norm=norm):\n",
    "    \"\"\"\n",
    "    Encuentra vecinos cercanos\n",
    "    ___________________________________\n",
    "    Entrada:\n",
    "    x: [1D-array] Vector central\n",
    "    V: [2D-array] Familia de vectores \n",
    "    k: [int] # de vectores cercanos\n",
    "    norm: [function] función de norma para utilizar\n",
    "    ___________________________________\n",
    "    Salida:\n",
    "    cercanos: [2D-array] Lista de k vectores.\n",
    "    \"\"\"\n",
    "    # =====================================================\n",
    "    # COMPLETAR ===========================================\n",
    "    # AYUDA:\n",
    "    # Distancia de x con el primer elemento de V\n",
    "    #diff0 = np.array(x) - np.array(V[v])\n",
    "    #dist0 = norm(diff0)\n",
    "    \n",
    "    distancias = [norm(x - v) for v in V]\n",
    "    # Enumera las distancias y vectores correspondientes, luego ordénalos por distancia\n",
    "    distancias_y_vectores = list(enumerate(V, 0))\n",
    "    distancias_y_vectores.sort(key=lambda d: distancias[d[0]])\n",
    "    # Devuelve los 'k' vectores más cercanos\n",
    "    cercanos = [v for _, v in distancias_y_vectores[:k]]\n",
    "    \n",
    "    # Estructura de salida\n",
    "    #cercanos = [[0]*len(x)]*k\n",
    "    # =====================================================\n",
    "\n",
    "    return cercanos"
   ]
  },
  {
   "cell_type": "markdown",
   "metadata": {
    "deletable": false,
    "editable": false,
    "id": "IH2p-EqSjAiJ",
    "nbgrader": {
     "cell_type": "markdown",
     "checksum": "d790d97bd9c7d6d92212e335b94fecdc",
     "grade": false,
     "grade_id": "cell-678206810bb0ba3b",
     "locked": true,
     "schema_version": 3,
     "solution": false,
     "task": false
    }
   },
   "source": [
    "### Generar Datos \n",
    "\n",
    "A continuación se presenta una función que genera datos aleatorios para poder probar nuestro algoritmo"
   ]
  },
  {
   "cell_type": "code",
   "execution_count": 45,
   "metadata": {
    "deletable": false,
    "editable": false,
    "id": "vORua6uKjAiJ",
    "nbgrader": {
     "cell_type": "code",
     "checksum": "c1bf152e6e295a088bb06a3bcfa8aec2",
     "grade": false,
     "grade_id": "cell-1f6d3caebaf7882f",
     "locked": true,
     "schema_version": 3,
     "solution": false,
     "task": false
    }
   },
   "outputs": [],
   "source": [
    "# GENERAR DATOS ==================================================\n",
    "def generar_datos(n=10, dim=2, nlog=3, seed=None):\n",
    "    \"\"\" \n",
    "    Genera datos aleatorios con coordenadas enteras\n",
    "    ___________________________________\n",
    "    Entrada:\n",
    "    n:    [int] número de datos\n",
    "    dim:  [int] dimensión de datos\n",
    "    nlog: [int] vectores en [0, ,10^nlog]]\n",
    "    seed: [int] semilla de alleatoriedad\n",
    "    ___________________________________\n",
    "    Salida:\n",
    "    V: [2D-array] n datos de dimensión dim \n",
    "    x: [1D-array] 1 dato de dimensión dim\n",
    "    \"\"\"\n",
    "    # Inicializa aleatoriedad\n",
    "    if seed is not None: np.random.seed(seed)\n",
    "\n",
    "    # Familia de vectores\n",
    "    V = np.around(np.random.rand(n, dim), nlog)*10**(nlog)\n",
    "    # Vector aparte\n",
    "    x = np.around(np.random.rand(1, dim), nlog)[0]*10**(nlog)\n",
    "\n",
    "    # Formato\n",
    "    V, x = V.astype(int), x.astype(int)\n",
    "    return V, x"
   ]
  },
  {
   "cell_type": "markdown",
   "metadata": {
    "id": "YecMclOzjAiK"
   },
   "source": [
    "### Probar\n",
    "\n",
    "A continuacióon se presenta un ejemplo con $100$ datos aleatorios con números entre $0$ y $10^3$ luego se calculan los 5 elementos mas cercanos a otro vector aleatorio $\\mathbf{x}$ y se observa visualmente."
   ]
  },
  {
   "cell_type": "code",
   "execution_count": 47,
   "metadata": {
    "colab": {
     "base_uri": "https://localhost:8080/"
    },
    "id": "NNM9UOy8jAiO",
    "outputId": "5cff9def-1eef-4ca3-992e-c54c4c191611"
   },
   "outputs": [
    {
     "name": "stdout",
     "output_type": "stream",
     "text": [
      "[array([901,  16]), array([892,  88]), array([837, 128]), array([957,  60]), array([682, 104])]\n"
     ]
    }
   ],
   "source": [
    "# PROBAR ==========================================================\n",
    "V, x =  generar_datos(n=100, dim=2, nlog=3, seed=None)\n",
    "\n",
    "# Encontrar cercanos\n",
    "cercanos = k_mas_cercanos(x, V, k=5,norm=norm)\n",
    "print(cercanos)"
   ]
  },
  {
   "cell_type": "markdown",
   "metadata": {},
   "source": [
    "### Visualizar\n",
    "\n",
    "Para visualizar los resultados se utiliza una función del paquete de maiatest llamada $\\texttt{visualizar_cercanos()}$"
   ]
  },
  {
   "cell_type": "code",
   "execution_count": 48,
   "metadata": {},
   "outputs": [
    {
     "name": "stdout",
     "output_type": "stream",
     "text": [
      "Help on function visualizar_cercanos in module visualizar:\n",
      "\n",
      "visualizar_cercanos(x, V, C=None, ax=None, figsize=(8, 8), s=10, norm=None, k=2, k_mas_cercanos=None)\n",
      "    Crea una figura señalando el vector cental x y los elementos cercanos\n",
      "    ___________________________________\n",
      "    Entrada:\n",
      "    x: [1D-array] Vector central\n",
      "    V: [2D-array] Lista de vectores a buscar\n",
      "    C: [2D-array] Lista de vectores de V cercanos a x\n",
      "    figsize: [2-tuple] Tamaño de figura\n",
      "    s: [int] tamaño de puntos\n",
      "    k: [int] número de elementos cercanos (C=None)\n",
      "    norm: [function] Función de norma a usar (C=None)\n",
      "    k_mas_cercanos: [function] Función de encontrar cercanos a usar (C=None)\n",
      "    ___________________________________\n",
      "    Salida:\n",
      "    ax: imagen\n",
      "\n"
     ]
    }
   ],
   "source": [
    "help(mutils.visualizar_cercanos)"
   ]
  },
  {
   "cell_type": "code",
   "execution_count": 49,
   "metadata": {
    "colab": {
     "base_uri": "https://localhost:8080/",
     "height": 483
    },
    "id": "3OjeD9iMjAiO",
    "outputId": "8d4f3b8a-4e16-4074-84a5-7d2484be49e0"
   },
   "outputs": [
    {
     "data": {
      "image/png": "[encoded data removed]",
      "text/plain": [
       "<Figure size 576x576 with 1 Axes>"
      ]
     },
     "metadata": {
      "needs_background": "light"
     },
     "output_type": "display_data"
    }
   ],
   "source": [
    "ax = mutils.visualizar_cercanos(x, V, C=cercanos,\n",
    "                                ax=None, figsize=(8,8), s=10,\n",
    "                                norm=norm, k=2)"
   ]
  },
  {
   "cell_type": "markdown",
   "metadata": {},
   "source": [
    "### Test"
   ]
  },
  {
   "cell_type": "code",
   "execution_count": 50,
   "metadata": {
    "colab": {
     "base_uri": "https://localhost:8080/",
     "height": 1000
    },
    "deletable": false,
    "editable": false,
    "id": "d3P_3ILDjAiP",
    "nbgrader": {
     "cell_type": "code",
     "checksum": "540ab5da59ce8f45dbafffbb608c1fad",
     "grade": true,
     "grade_id": "cell-fb746c2b8ddfc200",
     "locked": true,
     "points": 20,
     "schema_version": 3,
     "solution": false,
     "task": false
    },
    "outputId": "8a82286a-fda0-40f2-b979-4c2f77a52973"
   },
   "outputs": [
    {
     "name": "stdout",
     "output_type": "stream",
     "text": [
      "__________________________________\n",
      "Verificando errores...\n",
      "\n",
      "\n",
      "test_k_mas_cercanos\n",
      "\n",
      "\n",
      "Sin Errores\n",
      "__________________________________\n"
     ]
    }
   ],
   "source": [
    "# ============================================================\n",
    "# PRUEBAS AVANZADAS ==========================================\n",
    "# ============================================================\n",
    "\n",
    "mutils.correr_prueba_k_mas_cercanos(k_mas_cercanos)"
   ]
  },
  {
   "cell_type": "markdown",
   "metadata": {
    "deletable": false,
    "editable": false,
    "id": "Vvy69510jAiQ",
    "nbgrader": {
     "cell_type": "markdown",
     "checksum": "82df2813a189413a1ae3df93b26614a9",
     "grade": false,
     "grade_id": "cell-c5368dff8e4e6c81",
     "locked": true,
     "schema_version": 3,
     "solution": false,
     "task": false
    }
   },
   "source": [
    "## Vecinos Cercanos \n",
    "\n",
    "En un  Estudio de Stanford  [stanfordchildrens.org/es/topic/default?id=normalgrowth-90-P04728] respecto al crecimiento normal de las personas en la adolescencia se calculo la altura y peso de una gran cantidad de hombres y mujeres en etapa de desarrollo en distintas edades. Usted, para un estudio personal pidio acceso a una parte de los datos utilizados para realizar este estudio. Sin embargo, por circunstancias de la vida, usted perdio definitivamente la información de edad de un grupo de estos datos. Adicionalmente, cada uno de estos datos va acompañado de un indicador que los investigadores dicen podría ser importante para los estudios que usted va a realizar.\n",
    "\n",
    "Para evitar tener que pedir los datos de nuevo usted decide hacer interpolación de datos prediciendo la etiqueta de edad de los datos que le faltan. Para esto usted utilizará el método de Vecinos mas cercanos o KNN. Como aún no es claro como utilizar las etiquetas de Sexo para este fin, usted decide utilizar únicamente las 3 columnas que contienen información númerica. También nota, que en el grupo de datos solo hay 2 edades distintas, por lo que puede tratar este valor númerico como una etiqueta cualitativa y realizar clasificación entre 2 clases utilizando la moda de los vecinos mas cercanos.\n",
    "\n",
    "Entonces usted se propone el siguiente plan de acción:\n",
    "\n",
    "\n",
    "1.   Realizar una función que encuentre el indice de los $k$ vectores más cercanos a un vector $\\mathbf{x}$ en una lista de vectores $V$\n",
    "2.   Realizar una función que encuentre la etiqueta de un vector $x$ utilizando KNN a partir de una base de datos de vectores etiquetados.\n",
    "3.   Realizar una función que encuentre las etiquetas de todos los elementos faltantes.\n"
   ]
  },
  {
   "cell_type": "markdown",
   "metadata": {
    "deletable": false,
    "editable": false,
    "id": "oWSstk8VjAiQ",
    "nbgrader": {
     "cell_type": "markdown",
     "checksum": "4d5206abfd1612697aec823cbeff0d88",
     "grade": false,
     "grade_id": "cell-0ceed0bc7cbaa506",
     "locked": true,
     "schema_version": 3,
     "solution": false,
     "task": false
    }
   },
   "source": [
    "### Datos\n",
    "\n",
    "A continuación se cargan los datos a utilizar en esta sección."
   ]
  },
  {
   "cell_type": "code",
   "execution_count": 51,
   "metadata": {
    "colab": {
     "base_uri": "https://localhost:8080/",
     "height": 488
    },
    "deletable": false,
    "editable": false,
    "id": "4yUbb2KojAiR",
    "nbgrader": {
     "cell_type": "code",
     "checksum": "be756327c0ba9ceded91085b069353de",
     "grade": false,
     "grade_id": "cell-1b22624dc703be66",
     "locked": true,
     "schema_version": 3,
     "solution": false,
     "task": false
    },
    "outputId": "6547e895-22a9-4383-93e0-122b28060b25"
   },
   "outputs": [
    {
     "name": "stdout",
     "output_type": "stream",
     "text": [
      "Datos Conocidos:\n"
     ]
    },
    {
     "data": {
      "text/html": [
       "<div>\n",
       "<style scoped>\n",
       "    .dataframe tbody tr th:only-of-type {\n",
       "        vertical-align: middle;\n",
       "    }\n",
       "\n",
       "    .dataframe tbody tr th {\n",
       "        vertical-align: top;\n",
       "    }\n",
       "\n",
       "    .dataframe thead th {\n",
       "        text-align: right;\n",
       "    }\n",
       "</style>\n",
       "<table border=\"1\" class=\"dataframe\">\n",
       "  <thead>\n",
       "    <tr style=\"text-align: right;\">\n",
       "      <th></th>\n",
       "      <th>Genero</th>\n",
       "      <th>Edad</th>\n",
       "      <th>Altura</th>\n",
       "      <th>Peso</th>\n",
       "      <th>Indicador</th>\n",
       "    </tr>\n",
       "  </thead>\n",
       "  <tbody>\n",
       "    <tr>\n",
       "      <th>0</th>\n",
       "      <td>Mujer</td>\n",
       "      <td>14</td>\n",
       "      <td>152.0</td>\n",
       "      <td>55.8</td>\n",
       "      <td>16.932</td>\n",
       "    </tr>\n",
       "    <tr>\n",
       "      <th>1</th>\n",
       "      <td>Mujer</td>\n",
       "      <td>14</td>\n",
       "      <td>159.9</td>\n",
       "      <td>49.6</td>\n",
       "      <td>16.538</td>\n",
       "    </tr>\n",
       "    <tr>\n",
       "      <th>2</th>\n",
       "      <td>Hombre</td>\n",
       "      <td>14</td>\n",
       "      <td>165.1</td>\n",
       "      <td>54.3</td>\n",
       "      <td>17.508</td>\n",
       "    </tr>\n",
       "    <tr>\n",
       "      <th>3</th>\n",
       "      <td>Mujer</td>\n",
       "      <td>14</td>\n",
       "      <td>161.2</td>\n",
       "      <td>68.7</td>\n",
       "      <td>19.290</td>\n",
       "    </tr>\n",
       "    <tr>\n",
       "      <th>4</th>\n",
       "      <td>Hombre</td>\n",
       "      <td>12</td>\n",
       "      <td>145.0</td>\n",
       "      <td>24.0</td>\n",
       "      <td>12.060</td>\n",
       "    </tr>\n",
       "  </tbody>\n",
       "</table>\n",
       "</div>"
      ],
      "text/plain": [
       "   Genero Edad  Altura  Peso  Indicador\n",
       "0   Mujer   14   152.0  55.8     16.932\n",
       "1   Mujer   14   159.9  49.6     16.538\n",
       "2  Hombre   14   165.1  54.3     17.508\n",
       "3   Mujer   14   161.2  68.7     19.290\n",
       "4  Hombre   12   145.0  24.0     12.060"
      ]
     },
     "metadata": {},
     "output_type": "display_data"
    },
    {
     "name": "stdout",
     "output_type": "stream",
     "text": [
      "\n",
      "__________________________________\n",
      "\n",
      "Datos Desconocidos:\n"
     ]
    },
    {
     "data": {
      "text/html": [
       "<div>\n",
       "<style scoped>\n",
       "    .dataframe tbody tr th:only-of-type {\n",
       "        vertical-align: middle;\n",
       "    }\n",
       "\n",
       "    .dataframe tbody tr th {\n",
       "        vertical-align: top;\n",
       "    }\n",
       "\n",
       "    .dataframe thead th {\n",
       "        text-align: right;\n",
       "    }\n",
       "</style>\n",
       "<table border=\"1\" class=\"dataframe\">\n",
       "  <thead>\n",
       "    <tr style=\"text-align: right;\">\n",
       "      <th></th>\n",
       "      <th>Genero</th>\n",
       "      <th>Edad</th>\n",
       "      <th>Altura</th>\n",
       "      <th>Peso</th>\n",
       "      <th>Indicador</th>\n",
       "    </tr>\n",
       "  </thead>\n",
       "  <tbody>\n",
       "    <tr>\n",
       "      <th>0</th>\n",
       "      <td>Mujer</td>\n",
       "      <td>None</td>\n",
       "      <td>161.9</td>\n",
       "      <td>60.1</td>\n",
       "      <td>18.128</td>\n",
       "    </tr>\n",
       "    <tr>\n",
       "      <th>1</th>\n",
       "      <td>Mujer</td>\n",
       "      <td>None</td>\n",
       "      <td>190.8</td>\n",
       "      <td>40.5</td>\n",
       "      <td>17.118</td>\n",
       "    </tr>\n",
       "    <tr>\n",
       "      <th>2</th>\n",
       "      <td>Mujer</td>\n",
       "      <td>None</td>\n",
       "      <td>183.9</td>\n",
       "      <td>66.8</td>\n",
       "      <td>20.386</td>\n",
       "    </tr>\n",
       "    <tr>\n",
       "      <th>3</th>\n",
       "      <td>Mujer</td>\n",
       "      <td>None</td>\n",
       "      <td>162.6</td>\n",
       "      <td>29.8</td>\n",
       "      <td>13.928</td>\n",
       "    </tr>\n",
       "    <tr>\n",
       "      <th>4</th>\n",
       "      <td>Hombre</td>\n",
       "      <td>None</td>\n",
       "      <td>157.5</td>\n",
       "      <td>66.4</td>\n",
       "      <td>18.746</td>\n",
       "    </tr>\n",
       "  </tbody>\n",
       "</table>\n",
       "</div>"
      ],
      "text/plain": [
       "   Genero  Edad  Altura  Peso  Indicador\n",
       "0   Mujer  None   161.9  60.1     18.128\n",
       "1   Mujer  None   190.8  40.5     17.118\n",
       "2   Mujer  None   183.9  66.8     20.386\n",
       "3   Mujer  None   162.6  29.8     13.928\n",
       "4  Hombre  None   157.5  66.4     18.746"
      ]
     },
     "metadata": {},
     "output_type": "display_data"
    }
   ],
   "source": [
    "datos_conocidos, datos_desconocidos = mutils.DATOS_KNN\n",
    "\n",
    "print('Datos Conocidos:')\n",
    "display(datos_conocidos[:5])\n",
    "\n",
    "print('\\n__________________________________\\n')\n",
    "print('Datos Desconocidos:')\n",
    "display(datos_desconocidos[:5])"
   ]
  },
  {
   "cell_type": "markdown",
   "metadata": {
    "deletable": false,
    "editable": false,
    "id": "rET7LkvkjAiR",
    "nbgrader": {
     "cell_type": "markdown",
     "checksum": "4806baccab02a56c0580c6b7d00db34b",
     "grade": false,
     "grade_id": "cell-4c3ee524268a8080",
     "locked": true,
     "schema_version": 3,
     "solution": false,
     "task": false
    }
   },
   "source": [
    "### Encontrar Indice de cercanos\n",
    "\n",
    "Realice una función que encuentre el indice de los $k$ vectores más cercanos a un vector $\\mathbf{x}$ en una lista de vectores $V=\\{\\mathbf{v_i} \\}_{i=1}^m$"
   ]
  },
  {
   "cell_type": "code",
   "execution_count": 63,
   "metadata": {
    "id": "YZc92kiNjAiS"
   },
   "outputs": [],
   "source": [
    "def k_mas_cercanos_indice(x, V, k=1, norm=norm):\n",
    "    \"\"\"\n",
    "    Encuentra indice de vecinos cercanos\n",
    "    ___________________________________\n",
    "    Entrada:\n",
    "    x: [1D-array] Vector central\n",
    "    V: [2D-array] Familia de vectores \n",
    "    k: [int] # de vectores cercanos\n",
    "    norm: [function] función de norma a utilizar\n",
    "    ___________________________________\n",
    "    Salida:\n",
    "    idx: [list] indice sobre V de los k vectores cercanos.\n",
    "    \"\"\"\n",
    "\n",
    "\n",
    "    # =====================================================\n",
    "    # COMPLETAR ===========================================\n",
    "    # -\n",
    "    # AYUDA:\n",
    "    # Distancia de x con el primer elemento de V\n",
    "    distancias = [norm(x - v) for v in V]\n",
    "    # Enumera las distancias y los índices correspondientes, luego ordénalos por distancia\n",
    "    distancias_y_indices = list(enumerate(distancias, 0))\n",
    "    distancias_y_indices.sort(key=lambda d: d[1])\n",
    "    \n",
    "    # Obtiene los índices de los 'k' vectores más cercanos\n",
    "    \n",
    "    \n",
    "    # Estructura de salida\n",
    "    idx = [i for i, _ in distancias_y_indices[:k]]\n",
    "    #idx = list(range(k))\n",
    "    # =====================================================\n",
    "    \n",
    "    return idx"
   ]
  },
  {
   "cell_type": "markdown",
   "metadata": {
    "deletable": false,
    "editable": false,
    "id": "4gbNxZt1jAiS",
    "nbgrader": {
     "cell_type": "markdown",
     "checksum": "1534a9d768a246dcf326978df05ebdbc",
     "grade": false,
     "grade_id": "cell-e1ad50b6c32f8a13",
     "locked": true,
     "schema_version": 3,
     "solution": false,
     "task": false
    }
   },
   "source": [
    "#### Probar - Test"
   ]
  },
  {
   "cell_type": "code",
   "execution_count": 64,
   "metadata": {
    "colab": {
     "base_uri": "https://localhost:8080/"
    },
    "id": "uIWAkmkLjAiT",
    "outputId": "c8e81f60-2d9f-45ca-a954-f0e66ca47e95"
   },
   "outputs": [
    {
     "name": "stdout",
     "output_type": "stream",
     "text": [
      "[6, 0, 7, 5, 9]\n"
     ]
    }
   ],
   "source": [
    "# PROBAR ==========================================================\n",
    "V, x =  generar_datos(n=10, dim=2, nlog=3, seed=None)\n",
    "\n",
    "# Encontrar cercanos\n",
    "idx = k_mas_cercanos_indice(x, V, k=5,\n",
    "                            norm=norm)\n",
    "print(idx)"
   ]
  },
  {
   "cell_type": "code",
   "execution_count": 65,
   "metadata": {
    "colab": {
     "base_uri": "https://localhost:8080/",
     "height": 310
    },
    "deletable": false,
    "editable": false,
    "id": "krK0n9U7jAiV",
    "nbgrader": {
     "cell_type": "code",
     "checksum": "ad8a6b934e043b0b32aeea8fc9662b13",
     "grade": true,
     "grade_id": "cell-361150129e4741f5",
     "locked": true,
     "points": 10,
     "schema_version": 3,
     "solution": false,
     "task": false
    },
    "outputId": "1a052ce2-5806-437a-a1a3-813f4c7dc825"
   },
   "outputs": [
    {
     "name": "stdout",
     "output_type": "stream",
     "text": [
      "__________________________________\n",
      "Verificando errores...\n",
      "\n",
      "\n",
      "\n",
      "\n",
      "Sin Errores\n",
      "__________________________________\n"
     ]
    }
   ],
   "source": [
    "# ============================================================\n",
    "# PRUEBAS AVANZADAS ==========================================\n",
    "# ============================================================\n",
    "\n",
    "mutils.correr_prueba_k_mas_cercanos_indice(k_mas_cercanos_indice)"
   ]
  },
  {
   "cell_type": "markdown",
   "metadata": {
    "deletable": false,
    "editable": false,
    "id": "hz1i3APJjAiV",
    "nbgrader": {
     "cell_type": "markdown",
     "checksum": "4f968e1cbfbda3c8fd23ab033d09c514",
     "grade": false,
     "grade_id": "cell-e09720a749faf721",
     "locked": true,
     "schema_version": 3,
     "solution": false,
     "task": false
    }
   },
   "source": [
    "### Encontrar Etiqueta\n",
    "\n",
    "Ahora, utilizando la función anterior complete la función $\\texttt{encontrar_etiqueta}$(). Esta función encuentra la etiqueta de un vector $x$ utilizando KNN a partir de una base de datos de vectores etiquetados, como la presentada en la sección de Datos"
   ]
  },
  {
   "cell_type": "code",
   "execution_count": 66,
   "metadata": {
    "deletable": false,
    "editable": false,
    "id": "BJGkHWl4jAiW",
    "nbgrader": {
     "cell_type": "code",
     "checksum": "3d60632dd1aa47bb7ac701356a0b7c18",
     "grade": false,
     "grade_id": "cell-ff67c4bb77587a19",
     "locked": true,
     "schema_version": 3,
     "solution": false,
     "task": false
    }
   },
   "outputs": [],
   "source": [
    "# Guardamos las columnas de la base de datos en constantes.\n",
    "# Genero | Edad | Altura | Peso | Indicador\n",
    "GEN,       EDA ,  ALT,     PES,   IND   = list(datos_conocidos.columns)"
   ]
  },
  {
   "cell_type": "code",
   "execution_count": 82,
   "metadata": {
    "id": "_mfJ5bHKjAiW"
   },
   "outputs": [],
   "source": [
    "def encontrar_etiqueta(d, datos, k=5, etiqueta=EDA):\n",
    "    \"\"\"\n",
    "    Encuentra etiqueta de un dato usando KNN a partir de una base de datos\n",
    "    ___________________________________\n",
    "    Entrada:\n",
    "    d:     [pandas.Series] dato desconocido (Fila de DataFrame)\n",
    "    datos: [pandas.DataFrame] base de datos conocida (DataFrame)\n",
    "    k:     [int] número de vecinos a tener en cuenta\n",
    "    etiqueta: [GEN/EDA] etiqueta a predecir (Genero/Edad)\n",
    "    ___________________________________\n",
    "    Salida:\n",
    "    label:  [str] etiqueta del dato d\n",
    "    kinfo: [array] lista de etiquetas de los k-datos mas cercanos\n",
    "    \"\"\"\n",
    "    global GEN, EDA, ALT, PES, IND \n",
    "    # Identifica vectores de datos y etiquetas\n",
    "    labels = datos[etiqueta]\n",
    "    V = datos[[ALT,PES,IND]]\n",
    "\n",
    "    # Identifica vector del dato\n",
    "    x = d[[ALT,PES,IND]]\n",
    "\n",
    "    # Encuentra etiquetas mas cercanas\n",
    "    idx = k_mas_cercanos_indice(x=x, V=np.array(V), k=k, norm=norm)\n",
    "    klabels = labels[idx] \n",
    "    #print('klabels', klabels)\n",
    "    kvecs = V.iloc[idx]\n",
    "\n",
    "    # Guarda información de mas cercanos\n",
    "    kinfo = kvecs.copy()\n",
    "    kinfo['Etiquetas'] = np.array(klabels) \n",
    "\n",
    "    # =====================================================\n",
    "    # COMPLETAR ===========================================\n",
    "    # -\n",
    "    # AYUDA:\n",
    "    # Estructura de salida \n",
    "    label = label = kinfo['Etiquetas'].mode().iloc[0] ##labels.iloc[0]\n",
    "    # =====================================================\n",
    "\n",
    "    return label, kinfo"
   ]
  },
  {
   "cell_type": "markdown",
   "metadata": {
    "deletable": false,
    "editable": false,
    "nbgrader": {
     "cell_type": "markdown",
     "checksum": "7cd71d47fa9d113fd85250a229486a77",
     "grade": false,
     "grade_id": "cell-8ae7e75a07a7e74b",
     "locked": true,
     "schema_version": 3,
     "solution": false,
     "task": false
    }
   },
   "source": [
    "#### Probar - Test"
   ]
  },
  {
   "cell_type": "code",
   "execution_count": 83,
   "metadata": {
    "colab": {
     "base_uri": "https://localhost:8080/",
     "height": 261
    },
    "id": "E2s57LTijAiX",
    "outputId": "3c70b763-b542-46a6-d2d4-c5fa7d27e2e1"
   },
   "outputs": [
    {
     "name": "stdout",
     "output_type": "stream",
     "text": [
      "________________________________________\n",
      "Edad   : 14\n",
      "Cercanos:\n"
     ]
    },
    {
     "data": {
      "text/html": [
       "<div>\n",
       "<style scoped>\n",
       "    .dataframe tbody tr th:only-of-type {\n",
       "        vertical-align: middle;\n",
       "    }\n",
       "\n",
       "    .dataframe tbody tr th {\n",
       "        vertical-align: top;\n",
       "    }\n",
       "\n",
       "    .dataframe thead th {\n",
       "        text-align: right;\n",
       "    }\n",
       "</style>\n",
       "<table border=\"1\" class=\"dataframe\">\n",
       "  <thead>\n",
       "    <tr style=\"text-align: right;\">\n",
       "      <th></th>\n",
       "      <th>Altura</th>\n",
       "      <th>Peso</th>\n",
       "      <th>Indicador</th>\n",
       "      <th>Etiquetas</th>\n",
       "    </tr>\n",
       "  </thead>\n",
       "  <tbody>\n",
       "    <tr>\n",
       "      <th>1030</th>\n",
       "      <td>161.5</td>\n",
       "      <td>60.2</td>\n",
       "      <td>18.118</td>\n",
       "      <td>14</td>\n",
       "    </tr>\n",
       "    <tr>\n",
       "      <th>1261</th>\n",
       "      <td>161.6</td>\n",
       "      <td>59.4</td>\n",
       "      <td>18.012</td>\n",
       "      <td>14</td>\n",
       "    </tr>\n",
       "    <tr>\n",
       "      <th>1313</th>\n",
       "      <td>160.6</td>\n",
       "      <td>60.0</td>\n",
       "      <td>18.036</td>\n",
       "      <td>12</td>\n",
       "    </tr>\n",
       "    <tr>\n",
       "      <th>286</th>\n",
       "      <td>163.1</td>\n",
       "      <td>60.7</td>\n",
       "      <td>18.284</td>\n",
       "      <td>14</td>\n",
       "    </tr>\n",
       "    <tr>\n",
       "      <th>951</th>\n",
       "      <td>161.6</td>\n",
       "      <td>61.7</td>\n",
       "      <td>18.334</td>\n",
       "      <td>14</td>\n",
       "    </tr>\n",
       "  </tbody>\n",
       "</table>\n",
       "</div>"
      ],
      "text/plain": [
       "      Altura  Peso  Indicador Etiquetas\n",
       "1030   161.5  60.2     18.118        14\n",
       "1261   161.6  59.4     18.012        14\n",
       "1313   160.6  60.0     18.036        12\n",
       "286    163.1  60.7     18.284        14\n",
       "951    161.6  61.7     18.334        14"
      ]
     },
     "metadata": {},
     "output_type": "display_data"
    }
   ],
   "source": [
    "# PROBAR ==========================================================\n",
    "i = 0\n",
    "datos = datos_conocidos\n",
    "d = datos_desconocidos.iloc[i]\n",
    "\n",
    "# Hallar etiquetas\n",
    "et_eda, kinfo_eda = encontrar_etiqueta(d, datos, k=5, etiqueta=EDA)\n",
    "\n",
    "# Mostrar resultados\n",
    "print('________________________________________')\n",
    "print(f'Edad   : {et_eda}')\n",
    "print(f'Cercanos:')\n",
    "display(kinfo_eda)"
   ]
  },
  {
   "cell_type": "code",
   "execution_count": 84,
   "metadata": {
    "colab": {
     "base_uri": "https://localhost:8080/",
     "height": 841,
     "referenced_widgets": [
      "82d5dde625604d8195bd05928367e206",
      "d3571dc0790a46d1a2a2e6a77c3296a9",
      "242d1df9d68148918045c1b4ce1f9bdf",
      "84482eb33a6846f49695c00b117bfd95",
      "1e1d543539334d878f1fc6e74596a147",
      "1a8c6d7b21c24757b15e096146bdd6da",
      "5f1660589bcb45b49c547099a85e78a6",
      "a1f015f98188427b8afa7e207b29b35e",
      "8ae39fb20f364e3f836c4f3a8a8bfdcc",
      "2da6455235e7424f816b18c9144e199e",
      "38ff3c1ebddd4509b378b7add3c921b9"
     ]
    },
    "deletable": false,
    "editable": false,
    "id": "DV25fL7njAiY",
    "nbgrader": {
     "cell_type": "code",
     "checksum": "9dec68704fc3c1e4796a8087deaee641",
     "grade": true,
     "grade_id": "cell-a1cdcdd52698bf8f",
     "locked": true,
     "points": 30,
     "schema_version": 3,
     "solution": false,
     "task": false
    },
    "outputId": "670e3f74-b768-40d0-c50b-305db7e072ab"
   },
   "outputs": [
    {
     "name": "stdout",
     "output_type": "stream",
     "text": [
      "__________________________________\n",
      "Verificando errores...\n",
      "\n",
      "\n"
     ]
    },
    {
     "data": {
      "application/vnd.jupyter.widget-view+json": {
       "model_id": "4cb56a427c544e3ca3b04ae021bafb1a",
       "version_major": 2,
       "version_minor": 0
      },
      "text/plain": [
       "HBox(children=(FloatProgress(value=0.0, max=200.0), HTML(value='')))"
      ]
     },
     "metadata": {},
     "output_type": "display_data"
    },
    {
     "name": "stdout",
     "output_type": "stream",
     "text": [
      "\n",
      "\n",
      "\n",
      "Sin Errores\n",
      "__________________________________\n"
     ]
    }
   ],
   "source": [
    "# ============================================================\n",
    "# PRUEBAS AVANZADAS ==========================================\n",
    "# ============================================================\n",
    "\n",
    "mutils.correr_prueba_encontrar_etiqueta(encontrar_etiqueta)"
   ]
  },
  {
   "cell_type": "markdown",
   "metadata": {
    "deletable": false,
    "editable": false,
    "id": "moBFIscDjAiZ",
    "nbgrader": {
     "cell_type": "markdown",
     "checksum": "ef036133525a35f93c79ece6e5fc47e9",
     "grade": false,
     "grade_id": "cell-ea4dd52ba8d2677a",
     "locked": true,
     "schema_version": 3,
     "solution": false,
     "task": false
    }
   },
   "source": [
    "### Encontrar todas las etiquetas\n",
    "\n",
    "Finalmente, cree una función que le complete la información de la tabla $\\texttt{datos_desconocidos}$"
   ]
  },
  {
   "cell_type": "code",
   "execution_count": 85,
   "metadata": {
    "id": "6hviSsZJjAia"
   },
   "outputs": [],
   "source": [
    "def completar_tabla(datos_conocidos, datos_desconocidos, k=5):\n",
    "    \"\"\"\n",
    "    Realiza interpolación de datos de una base de datos con etiquetas desconocidas\n",
    "    a partir de una base de datos con etiquetas conocida\n",
    "    utilizando el método KNN con parámetro k\n",
    "    ___________________________________\n",
    "    Entrada:\n",
    "    datos_conocidos:    [pandas.DataFrame] base de datos conocida\n",
    "    datos_desconocidos: [pandas.DataFrame] base de datos desconocida \n",
    "    k:                  [int] número de vecinos a tener en cuenta\n",
    "    ___________________________________\n",
    "    Salida:\n",
    "    datos_interpolados:  [pandas.DataFrame] base de datos desconocida interpolada\n",
    "    \"\"\"\n",
    "    global GEN, EDA, ALT, PES, IND \n",
    "\n",
    "    # =====================================================\n",
    "    # COMPLETAR ===========================================\n",
    "    # -\n",
    "    # AYUDA:\n",
    "    # Copia de arreglo para modificar\n",
    "    datos_interpolados = datos_desconocidos.copy(deep=True)\n",
    "    # Iteración con progreso.\n",
    "    list_estimations = []\n",
    "    for i in tqdm(range(len(datos_desconocidos))):\n",
    "        d = datos_desconocidos.iloc[i]\n",
    "        et_eda, kinfo_eda = encontrar_etiqueta(d, datos, k=5, etiqueta=EDA)\n",
    "        list_estimations.append(et_eda)\n",
    "    datos_interpolados['Edad'] = list_estimations\n",
    "    \n",
    "    \n",
    "    return datos_interpolados"
   ]
  },
  {
   "cell_type": "markdown",
   "metadata": {
    "deletable": false,
    "editable": false,
    "id": "7GnMbRPmjAib",
    "nbgrader": {
     "cell_type": "markdown",
     "checksum": "7dc6fc3ca5b658f72d9fddc16b02b137",
     "grade": false,
     "grade_id": "cell-e535806c8060960c",
     "locked": true,
     "schema_version": 3,
     "solution": false,
     "task": false
    }
   },
   "source": [
    "#### Probar - Test"
   ]
  },
  {
   "cell_type": "code",
   "execution_count": 86,
   "metadata": {
    "colab": {
     "base_uri": "https://localhost:8080/",
     "height": 743,
     "referenced_widgets": [
      "37f82031756e44149f146d26deff68ac",
      "0a9e80a4e2b24d0c880b9169646adabc",
      "143a995234154954b0acc51ed24b42d1",
      "e432a3f26ac848d5944620531ba53341",
      "d65d9468e5cc4a1ba9c0982ad25d4c80",
      "f75f6ffd34e845d484040c2c1249c7e2",
      "06de118351174af185b5d66436d348b7",
      "50936af071e14cbb831575af34f3135f",
      "a5d53be16d104a4484e59c07fe67bd07",
      "9c76a6128022461ba524b94c7b3f1493",
      "77695f164dfa40778496a3ab824959fa",
      "aaa627854382469a92ac0bad1fca9e17",
      "b0242c060e29440b8726028535657afa",
      "53ea4dfd556e4e28ab7fec91d69f8132",
      "5ac2b5cc79c74c989d880adb258c4961",
      "c917d6f5e1cf47de88fd075e4ca49000",
      "ac94f734941548939d7a7a47c47836f6",
      "2e9d1f5d56194826a3981294fb954a0a",
      "3c4932e75b784ab78b36fa7c1eec9d1b",
      "d9d19f940d1140d8a01aff1c232a13da",
      "7d009f01f9134b098b3ec9c5b429823a",
      "af2d41723b4f4dec8c67fc73a70ffe6b"
     ]
    },
    "deletable": false,
    "editable": false,
    "id": "8WpOcx5NjAic",
    "nbgrader": {
     "cell_type": "code",
     "checksum": "53a1962597560411dfb44e22a5e3d9cf",
     "grade": true,
     "grade_id": "cell-de96ca75cd91dc30",
     "locked": true,
     "points": 30,
     "schema_version": 3,
     "solution": false,
     "task": false
    },
    "outputId": "5c0f3453-33bc-45d3-f155-338f8c295663"
   },
   "outputs": [
    {
     "name": "stdout",
     "output_type": "stream",
     "text": [
      "__________________________________\n",
      "Verificando errores...\n",
      "\n",
      "\n",
      "\n",
      "Generando tabla a partir de completar_tabla\n"
     ]
    },
    {
     "data": {
      "application/vnd.jupyter.widget-view+json": {
       "model_id": "65c9548ca0a44d6a834bbabf7d364ce6",
       "version_major": 2,
       "version_minor": 0
      },
      "text/plain": [
       "HBox(children=(FloatProgress(value=0.0, max=200.0), HTML(value='')))"
      ]
     },
     "metadata": {},
     "output_type": "display_data"
    },
    {
     "name": "stdout",
     "output_type": "stream",
     "text": [
      "\n",
      "\n",
      "Generando tabla de comparación\n"
     ]
    },
    {
     "data": {
      "application/vnd.jupyter.widget-view+json": {
       "model_id": "971e7444f60d49e49bb7497ee013ee28",
       "version_major": 2,
       "version_minor": 0
      },
      "text/plain": [
       "HBox(children=(FloatProgress(value=0.0, max=200.0), HTML(value='')))"
      ]
     },
     "metadata": {},
     "output_type": "display_data"
    },
    {
     "name": "stdout",
     "output_type": "stream",
     "text": [
      "\n",
      "\n",
      "\n",
      "Sin Errores\n",
      "__________________________________\n"
     ]
    }
   ],
   "source": [
    "# ============================================================\n",
    "# PRUEBAS AVANZADAS ==========================================\n",
    "# ============================================================\n",
    "\n",
    "mutils.correr_prueba_completar_tabla(completar_tabla)"
   ]
  },
  {
   "cell_type": "code",
   "execution_count": null,
   "metadata": {},
   "outputs": [],
   "source": []
  }
 ],
 "metadata": {
  "colab": {
   "collapsed_sections": [],
   "name": "Distancias y Algoritmo KNN.ipynb",
   "provenance": [],
   "toc_visible": true
  },
  "kernelspec": {
   "display_name": "Python 3 (ipykernel)",
   "language": "python",
   "name": "python3"
  },
  "language_info": {
   "codemirror_mode": {
    "name": "ipython",
    "version": 3
   },
   "file_extension": ".py",
   "mimetype": "text/x-python",
   "name": "python",
   "nbconvert_exporter": "python",
   "pygments_lexer": "ipython3",
   "version": "3.9.12"
  },
  "toc": {
   "base_numbering": 1,
   "nav_menu": {},
   "number_sections": true,
   "sideBar": true,
   "skip_h1_title": false,
   "title_cell": "Table of Contents",
   "title_sidebar": "Contents",
   "toc_cell": false,
   "toc_position": {
    "height": "calc(100% - 180px)",
    "left": "10px",
    "top": "150px",
    "width": "273.188px"
   },
   "toc_section_display": true,
   "toc_window_display": false
  },
  "widgets": {
   "application/vnd.jupyter.widget-state+json": {
    "06de118351174af185b5d66436d348b7": {
     "model_module": "@jupyter-widgets/controls",
     "model_module_version": "1.5.0",
     "model_name": "DescriptionStyleModel",
     "state": {
      "_model_module": "@jupyter-widgets/controls",
      "_model_module_version": "1.5.0",
      "_model_name": "DescriptionStyleModel",
      "_view_count": null,
      "_view_module": "@jupyter-widgets/base",
      "_view_module_version": "1.2.0",
      "_view_name": "StyleView",
      "description_width": ""
     }
    },
    "0a9e80a4e2b24d0c880b9169646adabc": {
     "model_module": "@jupyter-widgets/controls",
     "model_module_version": "1.5.0",
     "model_name": "HTMLModel",
     "state": {
      "_dom_classes": [],
      "_model_module": "@jupyter-widgets/controls",
      "_model_module_version": "1.5.0",
      "_model_name": "HTMLModel",
      "_view_count": null,
      "_view_module": "@jupyter-widgets/controls",
      "_view_module_version": "1.5.0",
      "_view_name": "HTMLView",
      "description": "",
      "description_tooltip": null,
      "layout": "IPY_MODEL_f75f6ffd34e845d484040c2c1249c7e2",
      "placeholder": "​",
      "style": "IPY_MODEL_06de118351174af185b5d66436d348b7",
      "value": "100%"
     }
    },
    "143a995234154954b0acc51ed24b42d1": {
     "model_module": "@jupyter-widgets/controls",
     "model_module_version": "1.5.0",
     "model_name": "FloatProgressModel",
     "state": {
      "_dom_classes": [],
      "_model_module": "@jupyter-widgets/controls",
      "_model_module_version": "1.5.0",
      "_model_name": "FloatProgressModel",
      "_view_count": null,
      "_view_module": "@jupyter-widgets/controls",
      "_view_module_version": "1.5.0",
      "_view_name": "ProgressView",
      "bar_style": "success",
      "description": "",
      "description_tooltip": null,
      "layout": "IPY_MODEL_50936af071e14cbb831575af34f3135f",
      "max": 200,
      "min": 0,
      "orientation": "horizontal",
      "style": "IPY_MODEL_a5d53be16d104a4484e59c07fe67bd07",
      "value": 200
     }
    },
    "1a8c6d7b21c24757b15e096146bdd6da": {
     "model_module": "@jupyter-widgets/base",
     "model_module_version": "1.2.0",
     "model_name": "LayoutModel",
     "state": {
      "_model_module": "@jupyter-widgets/base",
      "_model_module_version": "1.2.0",
      "_model_name": "LayoutModel",
      "_view_count": null,
      "_view_module": "@jupyter-widgets/base",
      "_view_module_version": "1.2.0",
      "_view_name": "LayoutView",
      "align_content": null,
      "align_items": null,
      "align_self": null,
      "border": null,
      "bottom": null,
      "display": null,
      "flex": null,
      "flex_flow": null,
      "grid_area": null,
      "grid_auto_columns": null,
      "grid_auto_flow": null,
      "grid_auto_rows": null,
      "grid_column": null,
      "grid_gap": null,
      "grid_row": null,
      "grid_template_areas": null,
      "grid_template_columns": null,
      "grid_template_rows": null,
      "height": null,
      "justify_content": null,
      "justify_items": null,
      "left": null,
      "margin": null,
      "max_height": null,
      "max_width": null,
      "min_height": null,
      "min_width": null,
      "object_fit": null,
      "object_position": null,
      "order": null,
      "overflow": null,
      "overflow_x": null,
      "overflow_y": null,
      "padding": null,
      "right": null,
      "top": null,
      "visibility": null,
      "width": null
     }
    },
    "1e1d543539334d878f1fc6e74596a147": {
     "model_module": "@jupyter-widgets/base",
     "model_module_version": "1.2.0",
     "model_name": "LayoutModel",
     "state": {
      "_model_module": "@jupyter-widgets/base",
      "_model_module_version": "1.2.0",
      "_model_name": "LayoutModel",
      "_view_count": null,
      "_view_module": "@jupyter-widgets/base",
      "_view_module_version": "1.2.0",
      "_view_name": "LayoutView",
      "align_content": null,
      "align_items": null,
      "align_self": null,
      "border": null,
      "bottom": null,
      "display": null,
      "flex": null,
      "flex_flow": null,
      "grid_area": null,
      "grid_auto_columns": null,
      "grid_auto_flow": null,
      "grid_auto_rows": null,
      "grid_column": null,
      "grid_gap": null,
      "grid_row": null,
      "grid_template_areas": null,
      "grid_template_columns": null,
      "grid_template_rows": null,
      "height": null,
      "justify_content": null,
      "justify_items": null,
      "left": null,
      "margin": null,
      "max_height": null,
      "max_width": null,
      "min_height": null,
      "min_width": null,
      "object_fit": null,
      "object_position": null,
      "order": null,
      "overflow": null,
      "overflow_x": null,
      "overflow_y": null,
      "padding": null,
      "right": null,
      "top": null,
      "visibility": null,
      "width": null
     }
    },
    "242d1df9d68148918045c1b4ce1f9bdf": {
     "model_module": "@jupyter-widgets/controls",
     "model_module_version": "1.5.0",
     "model_name": "FloatProgressModel",
     "state": {
      "_dom_classes": [],
      "_model_module": "@jupyter-widgets/controls",
      "_model_module_version": "1.5.0",
      "_model_name": "FloatProgressModel",
      "_view_count": null,
      "_view_module": "@jupyter-widgets/controls",
      "_view_module_version": "1.5.0",
      "_view_name": "ProgressView",
      "bar_style": "danger",
      "description": "",
      "description_tooltip": null,
      "layout": "IPY_MODEL_a1f015f98188427b8afa7e207b29b35e",
      "max": 200,
      "min": 0,
      "orientation": "horizontal",
      "style": "IPY_MODEL_8ae39fb20f364e3f836c4f3a8a8bfdcc",
      "value": 1
     }
    },
    "2da6455235e7424f816b18c9144e199e": {
     "model_module": "@jupyter-widgets/base",
     "model_module_version": "1.2.0",
     "model_name": "LayoutModel",
     "state": {
      "_model_module": "@jupyter-widgets/base",
      "_model_module_version": "1.2.0",
      "_model_name": "LayoutModel",
      "_view_count": null,
      "_view_module": "@jupyter-widgets/base",
      "_view_module_version": "1.2.0",
      "_view_name": "LayoutView",
      "align_content": null,
      "align_items": null,
      "align_self": null,
      "border": null,
      "bottom": null,
      "display": null,
      "flex": null,
      "flex_flow": null,
      "grid_area": null,
      "grid_auto_columns": null,
      "grid_auto_flow": null,
      "grid_auto_rows": null,
      "grid_column": null,
      "grid_gap": null,
      "grid_row": null,
      "grid_template_areas": null,
      "grid_template_columns": null,
      "grid_template_rows": null,
      "height": null,
      "justify_content": null,
      "justify_items": null,
      "left": null,
      "margin": null,
      "max_height": null,
      "max_width": null,
      "min_height": null,
      "min_width": null,
      "object_fit": null,
      "object_position": null,
      "order": null,
      "overflow": null,
      "overflow_x": null,
      "overflow_y": null,
      "padding": null,
      "right": null,
      "top": null,
      "visibility": null,
      "width": null
     }
    },
    "2e9d1f5d56194826a3981294fb954a0a": {
     "model_module": "@jupyter-widgets/controls",
     "model_module_version": "1.5.0",
     "model_name": "DescriptionStyleModel",
     "state": {
      "_model_module": "@jupyter-widgets/controls",
      "_model_module_version": "1.5.0",
      "_model_name": "DescriptionStyleModel",
      "_view_count": null,
      "_view_module": "@jupyter-widgets/base",
      "_view_module_version": "1.2.0",
      "_view_name": "StyleView",
      "description_width": ""
     }
    },
    "37f82031756e44149f146d26deff68ac": {
     "model_module": "@jupyter-widgets/controls",
     "model_module_version": "1.5.0",
     "model_name": "HBoxModel",
     "state": {
      "_dom_classes": [],
      "_model_module": "@jupyter-widgets/controls",
      "_model_module_version": "1.5.0",
      "_model_name": "HBoxModel",
      "_view_count": null,
      "_view_module": "@jupyter-widgets/controls",
      "_view_module_version": "1.5.0",
      "_view_name": "HBoxView",
      "box_style": "",
      "children": [
       "IPY_MODEL_0a9e80a4e2b24d0c880b9169646adabc",
       "IPY_MODEL_143a995234154954b0acc51ed24b42d1",
       "IPY_MODEL_e432a3f26ac848d5944620531ba53341"
      ],
      "layout": "IPY_MODEL_d65d9468e5cc4a1ba9c0982ad25d4c80"
     }
    },
    "38ff3c1ebddd4509b378b7add3c921b9": {
     "model_module": "@jupyter-widgets/controls",
     "model_module_version": "1.5.0",
     "model_name": "DescriptionStyleModel",
     "state": {
      "_model_module": "@jupyter-widgets/controls",
      "_model_module_version": "1.5.0",
      "_model_name": "DescriptionStyleModel",
      "_view_count": null,
      "_view_module": "@jupyter-widgets/base",
      "_view_module_version": "1.2.0",
      "_view_name": "StyleView",
      "description_width": ""
     }
    },
    "3c4932e75b784ab78b36fa7c1eec9d1b": {
     "model_module": "@jupyter-widgets/base",
     "model_module_version": "1.2.0",
     "model_name": "LayoutModel",
     "state": {
      "_model_module": "@jupyter-widgets/base",
      "_model_module_version": "1.2.0",
      "_model_name": "LayoutModel",
      "_view_count": null,
      "_view_module": "@jupyter-widgets/base",
      "_view_module_version": "1.2.0",
      "_view_name": "LayoutView",
      "align_content": null,
      "align_items": null,
      "align_self": null,
      "border": null,
      "bottom": null,
      "display": null,
      "flex": null,
      "flex_flow": null,
      "grid_area": null,
      "grid_auto_columns": null,
      "grid_auto_flow": null,
      "grid_auto_rows": null,
      "grid_column": null,
      "grid_gap": null,
      "grid_row": null,
      "grid_template_areas": null,
      "grid_template_columns": null,
      "grid_template_rows": null,
      "height": null,
      "justify_content": null,
      "justify_items": null,
      "left": null,
      "margin": null,
      "max_height": null,
      "max_width": null,
      "min_height": null,
      "min_width": null,
      "object_fit": null,
      "object_position": null,
      "order": null,
      "overflow": null,
      "overflow_x": null,
      "overflow_y": null,
      "padding": null,
      "right": null,
      "top": null,
      "visibility": null,
      "width": null
     }
    },
    "50936af071e14cbb831575af34f3135f": {
     "model_module": "@jupyter-widgets/base",
     "model_module_version": "1.2.0",
     "model_name": "LayoutModel",
     "state": {
      "_model_module": "@jupyter-widgets/base",
      "_model_module_version": "1.2.0",
      "_model_name": "LayoutModel",
      "_view_count": null,
      "_view_module": "@jupyter-widgets/base",
      "_view_module_version": "1.2.0",
      "_view_name": "LayoutView",
      "align_content": null,
      "align_items": null,
      "align_self": null,
      "border": null,
      "bottom": null,
      "display": null,
      "flex": null,
      "flex_flow": null,
      "grid_area": null,
      "grid_auto_columns": null,
      "grid_auto_flow": null,
      "grid_auto_rows": null,
      "grid_column": null,
      "grid_gap": null,
      "grid_row": null,
      "grid_template_areas": null,
      "grid_template_columns": null,
      "grid_template_rows": null,
      "height": null,
      "justify_content": null,
      "justify_items": null,
      "left": null,
      "margin": null,
      "max_height": null,
      "max_width": null,
      "min_height": null,
      "min_width": null,
      "object_fit": null,
      "object_position": null,
      "order": null,
      "overflow": null,
      "overflow_x": null,
      "overflow_y": null,
      "padding": null,
      "right": null,
      "top": null,
      "visibility": null,
      "width": null
     }
    },
    "53ea4dfd556e4e28ab7fec91d69f8132": {
     "model_module": "@jupyter-widgets/controls",
     "model_module_version": "1.5.0",
     "model_name": "FloatProgressModel",
     "state": {
      "_dom_classes": [],
      "_model_module": "@jupyter-widgets/controls",
      "_model_module_version": "1.5.0",
      "_model_name": "FloatProgressModel",
      "_view_count": null,
      "_view_module": "@jupyter-widgets/controls",
      "_view_module_version": "1.5.0",
      "_view_name": "ProgressView",
      "bar_style": "success",
      "description": "",
      "description_tooltip": null,
      "layout": "IPY_MODEL_3c4932e75b784ab78b36fa7c1eec9d1b",
      "max": 200,
      "min": 0,
      "orientation": "horizontal",
      "style": "IPY_MODEL_d9d19f940d1140d8a01aff1c232a13da",
      "value": 200
     }
    },
    "5ac2b5cc79c74c989d880adb258c4961": {
     "model_module": "@jupyter-widgets/controls",
     "model_module_version": "1.5.0",
     "model_name": "HTMLModel",
     "state": {
      "_dom_classes": [],
      "_model_module": "@jupyter-widgets/controls",
      "_model_module_version": "1.5.0",
      "_model_name": "HTMLModel",
      "_view_count": null,
      "_view_module": "@jupyter-widgets/controls",
      "_view_module_version": "1.5.0",
      "_view_name": "HTMLView",
      "description": "",
      "description_tooltip": null,
      "layout": "IPY_MODEL_7d009f01f9134b098b3ec9c5b429823a",
      "placeholder": "​",
      "style": "IPY_MODEL_af2d41723b4f4dec8c67fc73a70ffe6b",
      "value": " 200/200 [01:48&lt;00:00,  1.85it/s]"
     }
    },
    "5f1660589bcb45b49c547099a85e78a6": {
     "model_module": "@jupyter-widgets/controls",
     "model_module_version": "1.5.0",
     "model_name": "DescriptionStyleModel",
     "state": {
      "_model_module": "@jupyter-widgets/controls",
      "_model_module_version": "1.5.0",
      "_model_name": "DescriptionStyleModel",
      "_view_count": null,
      "_view_module": "@jupyter-widgets/base",
      "_view_module_version": "1.2.0",
      "_view_name": "StyleView",
      "description_width": ""
     }
    },
    "77695f164dfa40778496a3ab824959fa": {
     "model_module": "@jupyter-widgets/controls",
     "model_module_version": "1.5.0",
     "model_name": "DescriptionStyleModel",
     "state": {
      "_model_module": "@jupyter-widgets/controls",
      "_model_module_version": "1.5.0",
      "_model_name": "DescriptionStyleModel",
      "_view_count": null,
      "_view_module": "@jupyter-widgets/base",
      "_view_module_version": "1.2.0",
      "_view_name": "StyleView",
      "description_width": ""
     }
    },
    "7d009f01f9134b098b3ec9c5b429823a": {
     "model_module": "@jupyter-widgets/base",
     "model_module_version": "1.2.0",
     "model_name": "LayoutModel",
     "state": {
      "_model_module": "@jupyter-widgets/base",
      "_model_module_version": "1.2.0",
      "_model_name": "LayoutModel",
      "_view_count": null,
      "_view_module": "@jupyter-widgets/base",
      "_view_module_version": "1.2.0",
      "_view_name": "LayoutView",
      "align_content": null,
      "align_items": null,
      "align_self": null,
      "border": null,
      "bottom": null,
      "display": null,
      "flex": null,
      "flex_flow": null,
      "grid_area": null,
      "grid_auto_columns": null,
      "grid_auto_flow": null,
      "grid_auto_rows": null,
      "grid_column": null,
      "grid_gap": null,
      "grid_row": null,
      "grid_template_areas": null,
      "grid_template_columns": null,
      "grid_template_rows": null,
      "height": null,
      "justify_content": null,
      "justify_items": null,
      "left": null,
      "margin": null,
      "max_height": null,
      "max_width": null,
      "min_height": null,
      "min_width": null,
      "object_fit": null,
      "object_position": null,
      "order": null,
      "overflow": null,
      "overflow_x": null,
      "overflow_y": null,
      "padding": null,
      "right": null,
      "top": null,
      "visibility": null,
      "width": null
     }
    },
    "82d5dde625604d8195bd05928367e206": {
     "model_module": "@jupyter-widgets/controls",
     "model_module_version": "1.5.0",
     "model_name": "HBoxModel",
     "state": {
      "_dom_classes": [],
      "_model_module": "@jupyter-widgets/controls",
      "_model_module_version": "1.5.0",
      "_model_name": "HBoxModel",
      "_view_count": null,
      "_view_module": "@jupyter-widgets/controls",
      "_view_module_version": "1.5.0",
      "_view_name": "HBoxView",
      "box_style": "",
      "children": [
       "IPY_MODEL_d3571dc0790a46d1a2a2e6a77c3296a9",
       "IPY_MODEL_242d1df9d68148918045c1b4ce1f9bdf",
       "IPY_MODEL_84482eb33a6846f49695c00b117bfd95"
      ],
      "layout": "IPY_MODEL_1e1d543539334d878f1fc6e74596a147"
     }
    },
    "84482eb33a6846f49695c00b117bfd95": {
     "model_module": "@jupyter-widgets/controls",
     "model_module_version": "1.5.0",
     "model_name": "HTMLModel",
     "state": {
      "_dom_classes": [],
      "_model_module": "@jupyter-widgets/controls",
      "_model_module_version": "1.5.0",
      "_model_name": "HTMLModel",
      "_view_count": null,
      "_view_module": "@jupyter-widgets/controls",
      "_view_module_version": "1.5.0",
      "_view_name": "HTMLView",
      "description": "",
      "description_tooltip": null,
      "layout": "IPY_MODEL_2da6455235e7424f816b18c9144e199e",
      "placeholder": "​",
      "style": "IPY_MODEL_38ff3c1ebddd4509b378b7add3c921b9",
      "value": " 1/200 [00:01&lt;02:02,  1.62it/s]"
     }
    },
    "8ae39fb20f364e3f836c4f3a8a8bfdcc": {
     "model_module": "@jupyter-widgets/controls",
     "model_module_version": "1.5.0",
     "model_name": "ProgressStyleModel",
     "state": {
      "_model_module": "@jupyter-widgets/controls",
      "_model_module_version": "1.5.0",
      "_model_name": "ProgressStyleModel",
      "_view_count": null,
      "_view_module": "@jupyter-widgets/base",
      "_view_module_version": "1.2.0",
      "_view_name": "StyleView",
      "bar_color": null,
      "description_width": ""
     }
    },
    "9c76a6128022461ba524b94c7b3f1493": {
     "model_module": "@jupyter-widgets/base",
     "model_module_version": "1.2.0",
     "model_name": "LayoutModel",
     "state": {
      "_model_module": "@jupyter-widgets/base",
      "_model_module_version": "1.2.0",
      "_model_name": "LayoutModel",
      "_view_count": null,
      "_view_module": "@jupyter-widgets/base",
      "_view_module_version": "1.2.0",
      "_view_name": "LayoutView",
      "align_content": null,
      "align_items": null,
      "align_self": null,
      "border": null,
      "bottom": null,
      "display": null,
      "flex": null,
      "flex_flow": null,
      "grid_area": null,
      "grid_auto_columns": null,
      "grid_auto_flow": null,
      "grid_auto_rows": null,
      "grid_column": null,
      "grid_gap": null,
      "grid_row": null,
      "grid_template_areas": null,
      "grid_template_columns": null,
      "grid_template_rows": null,
      "height": null,
      "justify_content": null,
      "justify_items": null,
      "left": null,
      "margin": null,
      "max_height": null,
      "max_width": null,
      "min_height": null,
      "min_width": null,
      "object_fit": null,
      "object_position": null,
      "order": null,
      "overflow": null,
      "overflow_x": null,
      "overflow_y": null,
      "padding": null,
      "right": null,
      "top": null,
      "visibility": null,
      "width": null
     }
    },
    "a1f015f98188427b8afa7e207b29b35e": {
     "model_module": "@jupyter-widgets/base",
     "model_module_version": "1.2.0",
     "model_name": "LayoutModel",
     "state": {
      "_model_module": "@jupyter-widgets/base",
      "_model_module_version": "1.2.0",
      "_model_name": "LayoutModel",
      "_view_count": null,
      "_view_module": "@jupyter-widgets/base",
      "_view_module_version": "1.2.0",
      "_view_name": "LayoutView",
      "align_content": null,
      "align_items": null,
      "align_self": null,
      "border": null,
      "bottom": null,
      "display": null,
      "flex": null,
      "flex_flow": null,
      "grid_area": null,
      "grid_auto_columns": null,
      "grid_auto_flow": null,
      "grid_auto_rows": null,
      "grid_column": null,
      "grid_gap": null,
      "grid_row": null,
      "grid_template_areas": null,
      "grid_template_columns": null,
      "grid_template_rows": null,
      "height": null,
      "justify_content": null,
      "justify_items": null,
      "left": null,
      "margin": null,
      "max_height": null,
      "max_width": null,
      "min_height": null,
      "min_width": null,
      "object_fit": null,
      "object_position": null,
      "order": null,
      "overflow": null,
      "overflow_x": null,
      "overflow_y": null,
      "padding": null,
      "right": null,
      "top": null,
      "visibility": null,
      "width": null
     }
    },
    "a5d53be16d104a4484e59c07fe67bd07": {
     "model_module": "@jupyter-widgets/controls",
     "model_module_version": "1.5.0",
     "model_name": "ProgressStyleModel",
     "state": {
      "_model_module": "@jupyter-widgets/controls",
      "_model_module_version": "1.5.0",
      "_model_name": "ProgressStyleModel",
      "_view_count": null,
      "_view_module": "@jupyter-widgets/base",
      "_view_module_version": "1.2.0",
      "_view_name": "StyleView",
      "bar_color": null,
      "description_width": ""
     }
    },
    "aaa627854382469a92ac0bad1fca9e17": {
     "model_module": "@jupyter-widgets/controls",
     "model_module_version": "1.5.0",
     "model_name": "HBoxModel",
     "state": {
      "_dom_classes": [],
      "_model_module": "@jupyter-widgets/controls",
      "_model_module_version": "1.5.0",
      "_model_name": "HBoxModel",
      "_view_count": null,
      "_view_module": "@jupyter-widgets/controls",
      "_view_module_version": "1.5.0",
      "_view_name": "HBoxView",
      "box_style": "",
      "children": [
       "IPY_MODEL_b0242c060e29440b8726028535657afa",
       "IPY_MODEL_53ea4dfd556e4e28ab7fec91d69f8132",
       "IPY_MODEL_5ac2b5cc79c74c989d880adb258c4961"
      ],
      "layout": "IPY_MODEL_c917d6f5e1cf47de88fd075e4ca49000"
     }
    },
    "ac94f734941548939d7a7a47c47836f6": {
     "model_module": "@jupyter-widgets/base",
     "model_module_version": "1.2.0",
     "model_name": "LayoutModel",
     "state": {
      "_model_module": "@jupyter-widgets/base",
      "_model_module_version": "1.2.0",
      "_model_name": "LayoutModel",
      "_view_count": null,
      "_view_module": "@jupyter-widgets/base",
      "_view_module_version": "1.2.0",
      "_view_name": "LayoutView",
      "align_content": null,
      "align_items": null,
      "align_self": null,
      "border": null,
      "bottom": null,
      "display": null,
      "flex": null,
      "flex_flow": null,
      "grid_area": null,
      "grid_auto_columns": null,
      "grid_auto_flow": null,
      "grid_auto_rows": null,
      "grid_column": null,
      "grid_gap": null,
      "grid_row": null,
      "grid_template_areas": null,
      "grid_template_columns": null,
      "grid_template_rows": null,
      "height": null,
      "justify_content": null,
      "justify_items": null,
      "left": null,
      "margin": null,
      "max_height": null,
      "max_width": null,
      "min_height": null,
      "min_width": null,
      "object_fit": null,
      "object_position": null,
      "order": null,
      "overflow": null,
      "overflow_x": null,
      "overflow_y": null,
      "padding": null,
      "right": null,
      "top": null,
      "visibility": null,
      "width": null
     }
    },
    "af2d41723b4f4dec8c67fc73a70ffe6b": {
     "model_module": "@jupyter-widgets/controls",
     "model_module_version": "1.5.0",
     "model_name": "DescriptionStyleModel",
     "state": {
      "_model_module": "@jupyter-widgets/controls",
      "_model_module_version": "1.5.0",
      "_model_name": "DescriptionStyleModel",
      "_view_count": null,
      "_view_module": "@jupyter-widgets/base",
      "_view_module_version": "1.2.0",
      "_view_name": "StyleView",
      "description_width": ""
     }
    },
    "b0242c060e29440b8726028535657afa": {
     "model_module": "@jupyter-widgets/controls",
     "model_module_version": "1.5.0",
     "model_name": "HTMLModel",
     "state": {
      "_dom_classes": [],
      "_model_module": "@jupyter-widgets/controls",
      "_model_module_version": "1.5.0",
      "_model_name": "HTMLModel",
      "_view_count": null,
      "_view_module": "@jupyter-widgets/controls",
      "_view_module_version": "1.5.0",
      "_view_name": "HTMLView",
      "description": "",
      "description_tooltip": null,
      "layout": "IPY_MODEL_ac94f734941548939d7a7a47c47836f6",
      "placeholder": "​",
      "style": "IPY_MODEL_2e9d1f5d56194826a3981294fb954a0a",
      "value": "100%"
     }
    },
    "c917d6f5e1cf47de88fd075e4ca49000": {
     "model_module": "@jupyter-widgets/base",
     "model_module_version": "1.2.0",
     "model_name": "LayoutModel",
     "state": {
      "_model_module": "@jupyter-widgets/base",
      "_model_module_version": "1.2.0",
      "_model_name": "LayoutModel",
      "_view_count": null,
      "_view_module": "@jupyter-widgets/base",
      "_view_module_version": "1.2.0",
      "_view_name": "LayoutView",
      "align_content": null,
      "align_items": null,
      "align_self": null,
      "border": null,
      "bottom": null,
      "display": null,
      "flex": null,
      "flex_flow": null,
      "grid_area": null,
      "grid_auto_columns": null,
      "grid_auto_flow": null,
      "grid_auto_rows": null,
      "grid_column": null,
      "grid_gap": null,
      "grid_row": null,
      "grid_template_areas": null,
      "grid_template_columns": null,
      "grid_template_rows": null,
      "height": null,
      "justify_content": null,
      "justify_items": null,
      "left": null,
      "margin": null,
      "max_height": null,
      "max_width": null,
      "min_height": null,
      "min_width": null,
      "object_fit": null,
      "object_position": null,
      "order": null,
      "overflow": null,
      "overflow_x": null,
      "overflow_y": null,
      "padding": null,
      "right": null,
      "top": null,
      "visibility": null,
      "width": null
     }
    },
    "d3571dc0790a46d1a2a2e6a77c3296a9": {
     "model_module": "@jupyter-widgets/controls",
     "model_module_version": "1.5.0",
     "model_name": "HTMLModel",
     "state": {
      "_dom_classes": [],
      "_model_module": "@jupyter-widgets/controls",
      "_model_module_version": "1.5.0",
      "_model_name": "HTMLModel",
      "_view_count": null,
      "_view_module": "@jupyter-widgets/controls",
      "_view_module_version": "1.5.0",
      "_view_name": "HTMLView",
      "description": "",
      "description_tooltip": null,
      "layout": "IPY_MODEL_1a8c6d7b21c24757b15e096146bdd6da",
      "placeholder": "​",
      "style": "IPY_MODEL_5f1660589bcb45b49c547099a85e78a6",
      "value": "  0%"
     }
    },
    "d65d9468e5cc4a1ba9c0982ad25d4c80": {
     "model_module": "@jupyter-widgets/base",
     "model_module_version": "1.2.0",
     "model_name": "LayoutModel",
     "state": {
      "_model_module": "@jupyter-widgets/base",
      "_model_module_version": "1.2.0",
      "_model_name": "LayoutModel",
      "_view_count": null,
      "_view_module": "@jupyter-widgets/base",
      "_view_module_version": "1.2.0",
      "_view_name": "LayoutView",
      "align_content": null,
      "align_items": null,
      "align_self": null,
      "border": null,
      "bottom": null,
      "display": null,
      "flex": null,
      "flex_flow": null,
      "grid_area": null,
      "grid_auto_columns": null,
      "grid_auto_flow": null,
      "grid_auto_rows": null,
      "grid_column": null,
      "grid_gap": null,
      "grid_row": null,
      "grid_template_areas": null,
      "grid_template_columns": null,
      "grid_template_rows": null,
      "height": null,
      "justify_content": null,
      "justify_items": null,
      "left": null,
      "margin": null,
      "max_height": null,
      "max_width": null,
      "min_height": null,
      "min_width": null,
      "object_fit": null,
      "object_position": null,
      "order": null,
      "overflow": null,
      "overflow_x": null,
      "overflow_y": null,
      "padding": null,
      "right": null,
      "top": null,
      "visibility": null,
      "width": null
     }
    },
    "d9d19f940d1140d8a01aff1c232a13da": {
     "model_module": "@jupyter-widgets/controls",
     "model_module_version": "1.5.0",
     "model_name": "ProgressStyleModel",
     "state": {
      "_model_module": "@jupyter-widgets/controls",
      "_model_module_version": "1.5.0",
      "_model_name": "ProgressStyleModel",
      "_view_count": null,
      "_view_module": "@jupyter-widgets/base",
      "_view_module_version": "1.2.0",
      "_view_name": "StyleView",
      "bar_color": null,
      "description_width": ""
     }
    },
    "e432a3f26ac848d5944620531ba53341": {
     "model_module": "@jupyter-widgets/controls",
     "model_module_version": "1.5.0",
     "model_name": "HTMLModel",
     "state": {
      "_dom_classes": [],
      "_model_module": "@jupyter-widgets/controls",
      "_model_module_version": "1.5.0",
      "_model_name": "HTMLModel",
      "_view_count": null,
      "_view_module": "@jupyter-widgets/controls",
      "_view_module_version": "1.5.0",
      "_view_name": "HTMLView",
      "description": "",
      "description_tooltip": null,
      "layout": "IPY_MODEL_9c76a6128022461ba524b94c7b3f1493",
      "placeholder": "​",
      "style": "IPY_MODEL_77695f164dfa40778496a3ab824959fa",
      "value": " 200/200 [00:00&lt;00:00, 5498.82it/s]"
     }
    },
    "f75f6ffd34e845d484040c2c1249c7e2": {
     "model_module": "@jupyter-widgets/base",
     "model_module_version": "1.2.0",
     "model_name": "LayoutModel",
     "state": {
      "_model_module": "@jupyter-widgets/base",
      "_model_module_version": "1.2.0",
      "_model_name": "LayoutModel",
      "_view_count": null,
      "_view_module": "@jupyter-widgets/base",
      "_view_module_version": "1.2.0",
      "_view_name": "LayoutView",
      "align_content": null,
      "align_items": null,
      "align_self": null,
      "border": null,
      "bottom": null,
      "display": null,
      "flex": null,
      "flex_flow": null,
      "grid_area": null,
      "grid_auto_columns": null,
      "grid_auto_flow": null,
      "grid_auto_rows": null,
      "grid_column": null,
      "grid_gap": null,
      "grid_row": null,
      "grid_template_areas": null,
      "grid_template_columns": null,
      "grid_template_rows": null,
      "height": null,
      "justify_content": null,
      "justify_items": null,
      "left": null,
      "margin": null,
      "max_height": null,
      "max_width": null,
      "min_height": null,
      "min_width": null,
      "object_fit": null,
      "object_position": null,
      "order": null,
      "overflow": null,
      "overflow_x": null,
      "overflow_y": null,
      "padding": null,
      "right": null,
      "top": null,
      "visibility": null,
      "width": null
     }
    }
   }
  }
 },
 "nbformat": 4,
 "nbformat_minor": 4
}
