{
 "cells": [
  {
   "cell_type": "markdown",
   "metadata": {
    "id": "g98tJ7hvpR5H"
   },
   "source": [
    "# **Actividad N°1:** Estimación de Media y Varianza Empírica\n",
    "\n",
    "***Matemáticas para Machine Learning***.\n",
    "\n",
    "**Semana 4 - Lección 1:** Media, varianza y matriz de covarianza empírica\n",
    "\n",
    "**Profesor:** *Fernando Lozano* - **Autor Notebook:** *César Garrido Urbano*"
   ]
  },
  {
   "cell_type": "markdown",
   "metadata": {
    "id": "HMZqvfgxqqb_"
   },
   "source": [
    "# Introducción"
   ]
  },
  {
   "cell_type": "markdown",
   "metadata": {
    "id": "eRa7tWgiqs-v"
   },
   "source": [
    "## Descripción"
   ]
  },
  {
   "cell_type": "markdown",
   "metadata": {
    "id": "ZnsSGeUeqtFC"
   },
   "source": [
    "El presente *jupyter notebook* contiene todo el material para el desarrollo de la Tarea 1 de la Semana 4 del curso ***Matemáticas para Machine Learning***. En esta tarea usted profundizará en el calculo empírico de estadísticas como la media y la varianza a partir de datos reales.\n",
    "\n",
    "**Objetivos de Aprendizaje:**\n",
    "\n",
    "*   Estimar estadísticas como media y varianza de un set de datos.\n",
    "*   Comprender los efectos que tienen la cantidad de datos disponibles en la estimación de media y varianza.\n",
    "*   Entender el concepto de media y varianza estimada como una variable aleatoria.\n",
    "*   Analizar las distribuciones de las estimaciones de media y varianza.\n",
    "\n"
   ]
  },
  {
   "cell_type": "markdown",
   "metadata": {
    "id": "i15vG3rMqtH8"
   },
   "source": [
    "## Teoría\n"
   ]
  },
  {
   "cell_type": "markdown",
   "metadata": {
    "id": "OZRWb7jpdC2I"
   },
   "source": [
    "La estimación de parámetros es una de las herramientas que nos brinda la estadistica para estudiar y entender los datos que deseamos analizar. No obstante, un error común que se comete es el de creer que los valores que se estiman representan de forma completa y fidedigna la distribución o los datos que se analizan.\n",
    "\n",
    "Es por esto, que vale la pena ahondar en la idea de **estimadores**, pues al calcular estadísticas como la *media* o la *varianza*, no se están calculando los valores que describen exactamente a la población (los cuales también se conocen como parámetros), sino que se estan **estimando**. En últimas, estos estimadores resultan ser variables aleatorias por sí mismas!\n",
    "\n",
    "Así las cosas, a continuación se presenta como se calculan algunos de los estimadores más comunes. Note que estas estimaciones dependen completamente de la muestra (subset) de datos $y$ que se tenga."
   ]
  },
  {
   "cell_type": "markdown",
   "metadata": {
    "id": "fC9H1C6W_1Hn"
   },
   "source": [
    "**Media artimetica:** \n",
    "\n",
    "\\begin{equation}\n",
    "\\bar{y} = \\frac{1}{n}\\left( \\sum_{i=1}^k y_i \\right)\n",
    "\\end{equation}\n",
    "\n"
   ]
  },
  {
   "cell_type": "markdown",
   "metadata": {
    "id": "2aOp9yU0AMF_"
   },
   "source": [
    "**Varianza:**\n",
    "\n",
    "\\begin{equation}\n",
    "var(y) = \\frac{1}{n-1}\\left(\\sum_{i=1}^n (y_i - \\bar{y})^2 \\right)\n",
    "\\end{equation}"
   ]
  },
  {
   "cell_type": "markdown",
   "metadata": {
    "id": "5HznzUQNAMOH"
   },
   "source": [
    "**Desviación Estándar:**\n",
    "\n",
    "\\begin{equation}\n",
    "\\bar{\\sigma_y} = \\sqrt{var(y)}\n",
    "\\end{equation}"
   ]
  },
  {
   "cell_type": "markdown",
   "metadata": {
    "id": "EdVSNPxirx3J"
   },
   "source": [
    "## Metodología"
   ]
  },
  {
   "cell_type": "markdown",
   "metadata": {
    "id": "fMo80XrFlumD"
   },
   "source": [
    "En esta tarea usted calculará de forma empírica la media y la varianza para una distribución desconocida para distintos números de muestras y analizará las distribuciones de dichos estimadores."
   ]
  },
  {
   "cell_type": "markdown",
   "metadata": {
    "id": "1EgnRxVYyAPB"
   },
   "source": [
    "Para desarrollar el taller usted deberá editar las celdas de código dispuestas para esto. Estas estarán marcadas con el siguiente comentario:\n",
    "\n",
    "```python\n",
    "# =====================================================\n",
    "# COMPLETAR ===========================================\n",
    "# \n",
    "\n",
    "# =====================================================\n",
    "```\n",
    "\n",
    "Edite o complete el códgio dentro de estas lineas de comentarios. Dentro de estos comentarios encontrará indicaciónes de lo que debe hacer, así como algunas de las variables que debe utilizar o calcular (puede que estas tengan ya una estructura dada pero el valor no sea el definitivo, verifique y complete la asignación)."
   ]
  },
  {
   "cell_type": "markdown",
   "metadata": {
    "id": "NkXEtmx4r0os"
   },
   "source": [
    "# Problema"
   ]
  },
  {
   "cell_type": "markdown",
   "metadata": {
    "id": "NJffJwfb_bMk"
   },
   "source": [
    "## Inicialización"
   ]
  },
  {
   "cell_type": "code",
   "execution_count": 1,
   "metadata": {
    "id": "_xJCd3UMIAxM",
    "tags": []
   },
   "outputs": [],
   "source": [
    "# Librerias principales\n",
    "import sys\n",
    "import numpy as np\n",
    "import matplotlib.pyplot as plt\n",
    "from scipy.stats import norm, chi2\n",
    "\n",
    "# Maia Utils\n",
    "sys.path.append('../')\n",
    "from MaiaUtils_S4TP1 import MaiaUtils"
   ]
  },
  {
   "cell_type": "code",
   "execution_count": 2,
   "metadata": {
    "tags": []
   },
   "outputs": [],
   "source": [
    "# Maia Utis\n",
    "maia = MaiaUtils()\n",
    "\n",
    "# Crear función para ocultar seguimiento de debugging\n",
    "if \"toggle_traceback\" not in globals():\n",
    "    ipython = get_ipython()\n",
    "    toggle_traceback = maia.manipulate_ipython(ipython)"
   ]
  },
  {
   "cell_type": "code",
   "execution_count": 3,
   "metadata": {
    "tags": []
   },
   "outputs": [],
   "source": [
    "#toggle_traceback = maia.manipulate_ipython(get_ipython())"
   ]
  },
  {
   "cell_type": "code",
   "execution_count": 4,
   "metadata": {
    "tags": []
   },
   "outputs": [],
   "source": [
    "# Cambiar configuración de debugging\n",
    "toggle_traceback()"
   ]
  },
  {
   "cell_type": "markdown",
   "metadata": {
    "id": "umcADeFyy0Qy"
   },
   "source": [
    "## Datos"
   ]
  },
  {
   "cell_type": "markdown",
   "metadata": {
    "id": "d-WRLDiPAYI2"
   },
   "source": [
    "Usted tiene acceso a $n$ muestras de datos de una distribución completamente desconocida en una dimensión. Puede acceder a estas muestras a partir de la función $generar\\_datos()$ del módulo $\\texttt{MaiaUtils}$. "
   ]
  },
  {
   "cell_type": "code",
   "execution_count": 5,
   "metadata": {
    "id": "M87Vy2Mty2cQ",
    "tags": []
   },
   "outputs": [
    {
     "data": {
      "text/plain": [
       "array([1817.73794507, 1647.50130474, 1601.87698278, 1584.22126535,\n",
       "       1739.12740634, 1700.99603851, 1772.46315493, 1586.79274093,\n",
       "       1507.04162299, 1590.24479691])"
      ]
     },
     "execution_count": 5,
     "metadata": {},
     "output_type": "execute_result"
    }
   ],
   "source": [
    "maia.generar_datos(n=10)"
   ]
  },
  {
   "cell_type": "markdown",
   "metadata": {
    "id": "jkZuscPGySl8"
   },
   "source": [
    "### Estimación con 5 / 50 / 5000 datos\n",
    "\n"
   ]
  },
  {
   "cell_type": "markdown",
   "metadata": {
    "id": "8d1fN6i5AdvD"
   },
   "source": [
    "Complete la siguiente función en donde estima la media y la varianza de un set de datos que entra como parámetro."
   ]
  },
  {
   "cell_type": "code",
   "execution_count": 9,
   "metadata": {
    "id": "v9QjCgqtXrYy",
    "tags": []
   },
   "outputs": [],
   "source": [
    "def estimar_estadisticas(datos):\n",
    "    \"\"\"\n",
    "    Realiza la estimación de estadísticas de media, varianza y desviación estándar de los datos\n",
    "    que ingresan como parámetro.\n",
    "    ___________________________________\n",
    "    Entrada:\n",
    "    datos:       [numpy.array] Arreglo de datos en una dimensión a los que se le estiman las estadisticas.\n",
    "    ___________________________________\n",
    "    Salida:\n",
    "    media:       [float] Estimación de la media de los datos.\n",
    "    varianza:    [float] Estimación de la varianza de los datos.\n",
    "    sigma:       [float] Estimación de la desviación estándar de los datos.\n",
    "\n",
    "    \"\"\"\n",
    "    # =====================================================\n",
    "    # COMPLETAR ===========================================\n",
    "    mu = np.mean(datos)\n",
    "    var = np.var(datos)\n",
    "    sigma = np.std(datos)\n",
    "\n",
    "    # =====================================================\n",
    "\n",
    "    return mu, var, sigma\n"
   ]
  },
  {
   "cell_type": "markdown",
   "metadata": {
    "id": "cnsTOhabnE9l"
   },
   "source": [
    "Calcule también la desviación estandar a partir de la varianza estimada."
   ]
  },
  {
   "cell_type": "code",
   "execution_count": 10,
   "metadata": {
    "id": "WMeKt8G4ZNfm",
    "tags": []
   },
   "outputs": [],
   "source": [
    "# Estimar para 5 / 50 / 5000 datos\n",
    "mu_5, var_5, sigma_5 = estimar_estadisticas(maia.generar_datos(n=5))\n",
    "mu_50, var_50, sigma_50 = estimar_estadisticas(maia.generar_datos(n=50))\n",
    "mu_5000, var_5000, sigma_5000 = estimar_estadisticas(maia.generar_datos(n=5000))"
   ]
  },
  {
   "cell_type": "code",
   "execution_count": 11,
   "metadata": {
    "id": "Rnp5uWByZjxd",
    "tags": []
   },
   "outputs": [
    {
     "name": "stdout",
     "output_type": "stream",
     "text": [
      "1729.5010016708084\n",
      "1719.0\n",
      "1739.0\n",
      "Estimación de la media +++NOTA DE ALEJANDRA\n",
      "Muy bien! La estimación de la media parece ser correcta\n",
      "\n",
      "Estimación de la varianza:\n",
      "Muy bien! La estimación de la varianza parece ser correcta\n",
      "\n",
      "Verificación de la estimación de la desviación estándar:\n",
      "Muy bien! La estimación de la la desviación estándar parece ser correcta\n",
      "\n"
     ]
    }
   ],
   "source": [
    "# Verificar Estimaciones\n",
    "maia.verificar_estimaciones(mu_5000, var_5000, sigma_5000)"
   ]
  },
  {
   "cell_type": "markdown",
   "metadata": {
    "id": "KdFEGjlemie9"
   },
   "source": [
    "Asumamos que la distribución original de los datos es normal (tiene un comportamiento de campana de Gauss). A continuación se grafican estas distribuciones con base en la media y varianza estimadas."
   ]
  },
  {
   "cell_type": "code",
   "execution_count": 12,
   "metadata": {
    "colab": {
     "base_uri": "https://localhost:8080/",
     "height": 458
    },
    "id": "k75ltahhBBR1",
    "outputId": "90f55c9e-0245-4366-82cb-85529299876d",
    "tags": []
   },
   "outputs": [
    {
     "data": {
      "image/png": "[encoded data removed]",
      "text/plain": [
       "<Figure size 1500x700 with 1 Axes>"
      ]
     },
     "metadata": {},
     "output_type": "display_data"
    }
   ],
   "source": [
    "# Rango\n",
    "x = np.linspace(1000, 2500, 500)\n",
    "\n",
    "# Funciones Normales\n",
    "norm_5 = norm.pdf(x, mu_5, sigma_5)\n",
    "norm_50 = norm.pdf(x, mu_50, sigma_50)\n",
    "norm_5000 = norm.pdf(x, mu_5000, sigma_5000)\n",
    "\n",
    "# Grafica\n",
    "fig = plt.figure(figsize = (15, 7)) \n",
    "\n",
    "# Funciones\n",
    "plt.plot(x, norm_5, label='5 Datos')\n",
    "plt.plot(x, norm_50, label='50 Datos')\n",
    "plt.plot(x, norm_5000, label='5.000 Datos')\n",
    "\n",
    "# Medias\n",
    "plt.vlines(x=[mu_5, mu_50, mu_5000], \n",
    "           ymin=0, ymax=[max(norm_5), max(norm_50), max(norm_5000)],\n",
    "           colors=['blue', 'yellow', 'green'], ls='--', lw=1.5)\n",
    "\n",
    "# Layout\n",
    "plt.title('PDF Estimada')\n",
    "plt.xlabel('x')\n",
    "plt.ylabel('p')\n",
    "plt.grid(True)\n",
    "plt.legend()\n",
    "plt.show()"
   ]
  },
  {
   "cell_type": "markdown",
   "metadata": {
    "id": "KmqC2CwcAxdU"
   },
   "source": [
    "Repita varias veces el proceso (ejecute varias veces la celdas anteriores). ¿Qué cambios observa en las funciones estimadas? ¿Cúal de estas cree que representa de mejor forma la distribución original de los datos?"
   ]
  },
  {
   "cell_type": "markdown",
   "metadata": {
    "id": "GLZxS-_gIZeW"
   },
   "source": [
    "## Distribución Media y Varianza"
   ]
  },
  {
   "cell_type": "markdown",
   "metadata": {
    "id": "qdrbcLm9BG7V"
   },
   "source": [
    "Cómo ya pudo evidenciar, el cálculo de la varianza depende del número de datos de muestra y varía con cada toma de muestra.\n",
    "\n",
    "Para entender de mejor manera como varian las estimaciones de varianza y media , escriba una función que calcule $n\\_rep$ número de estimaciones sobre un número $n\\_datos$ de datos y retorne un arreglo con todos los valores de media y varianza estimados."
   ]
  },
  {
   "cell_type": "markdown",
   "metadata": {
    "id": "NuKrtCmG2UFL"
   },
   "source": [
    "### Múltiples repeticiones"
   ]
  },
  {
   "cell_type": "code",
   "execution_count": 20,
   "metadata": {
    "id": "XnSjDjXF-Qlu",
    "tags": []
   },
   "outputs": [],
   "source": [
    "def estimacion_repetida(n_datos, n_rep):\n",
    "    \"\"\"\n",
    "    Realiza n_rep repeticiones de la estimación de estadísticas con n_datos y guarda los valores estimados.\n",
    "    Es decir, genera n_datos, guarda estimaciones y repite este proceso n_rep veces.\n",
    "    ___________________________________\n",
    "    Entrada:\n",
    "    n_datos:     [int] Número de datos con los que se va a estimar las estadísticas.\n",
    "    n_rep        [int] Número de repeticiones que se van a realizar las estimaciones\n",
    "    ___________________________________\n",
    "    Salida:\n",
    "    media:       [numpy.array] Vector con todas las estimaciones de media realizadas.\n",
    "    varianza:    [numpy.array] Vector con todas las estimaciones de varianza realizadas.\n",
    "    sigma:       [numpy.array] Vector con todas las estimaciones de desviación estándar realizadas.\n",
    "\n",
    "    \"\"\"\n",
    "    \n",
    "    media = []\n",
    "    varianza = []\n",
    "    sigma = []\n",
    "\n",
    "    # =====================================================\n",
    "    # COMPLETAR ===========================================\n",
    "    for i in range(n_rep):\n",
    "        # Generar datos aleatorios\n",
    "        mu_i, var_i, sigma_i = estimar_estadisticas(maia.generar_datos(n=n_datos))\n",
    "        media.append(mu_i)\n",
    "        varianza.append(var_i)\n",
    "        sigma.append(sigma_i)\n",
    "    # =====================================================\n",
    "\n",
    "    return np.array(media), np.array(varianza), np.array(sigma)\n"
   ]
  },
  {
   "cell_type": "code",
   "execution_count": 21,
   "metadata": {
    "id": "fwMqVKn84xz7",
    "tags": []
   },
   "outputs": [],
   "source": [
    "# Parametros\n",
    "n_datos = 1000\n",
    "n_rep = 1000\n",
    "\n",
    "# Estimación repetida\n",
    "media, varianza, sigma = estimacion_repetida(n_datos, n_rep)"
   ]
  },
  {
   "cell_type": "code",
   "execution_count": 23,
   "metadata": {
    "tags": []
   },
   "outputs": [
    {
     "name": "stdout",
     "output_type": "stream",
     "text": [
      "Verificación estimaciones repetidas:\n",
      "\n",
      "1729.250307729119\n",
      "1727.0\n",
      "1731.0\n",
      "Estimación de la media +++NOTA DE ALEJANDRA\n",
      "Muy bien! La estimación de la media parece ser correcta\n",
      "\n",
      "Estimación de la varianza:\n",
      "Muy bien! La estimación de la varianza parece ser correcta\n",
      "\n",
      "Verificación de la estimación de la desviación estándar:\n",
      "Muy bien! La estimación de la la desviación estándar parece ser correcta\n",
      "\n"
     ]
    }
   ],
   "source": [
    "# Verificacion de estimacion repetida\n",
    "maia.verificar_estimacion_repetida(media, varianza, n_datos, n_rep)"
   ]
  },
  {
   "cell_type": "markdown",
   "metadata": {
    "id": "siWhn_AB2Xm7"
   },
   "source": [
    "### Visualización"
   ]
  },
  {
   "cell_type": "markdown",
   "metadata": {
    "id": "ZbANy9j0oIJP"
   },
   "source": [
    "Finalmente, para evidenciar el comportamiento de la estimación, calcule la media, la varianza y la desviación estandar de los estimadores. Es decir, utilice ahora los valores de media y de varianza estimados con la función anterior, como sus datos de entrada para la función de estimar_media y varianza."
   ]
  },
  {
   "cell_type": "code",
   "execution_count": 24,
   "metadata": {
    "id": "caO9aSqnEioD",
    "tags": []
   },
   "outputs": [],
   "source": [
    "# =====================================================\n",
    "# COMPLETAR ===========================================\n",
    "# \n",
    "\n",
    "mu_media = np.mean(media)\n",
    "sigma_media = np.mean(sigma)\n",
    "\n",
    "mu_var = np.var(media)\n",
    "sigma_var = np.var(sigma)\n",
    "\n",
    "# ====================================================="
   ]
  },
  {
   "cell_type": "code",
   "execution_count": 25,
   "metadata": {
    "tags": []
   },
   "outputs": [
    {
     "data": {
      "text/plain": [
       "14.935650340481336"
      ]
     },
     "execution_count": 25,
     "metadata": {},
     "output_type": "execute_result"
    }
   ],
   "source": [
    "mu_var"
   ]
  },
  {
   "cell_type": "markdown",
   "metadata": {
    "id": "M6ll7jAjpIuO"
   },
   "source": [
    "Visualicemos ahora en un historama de la frecuencia con la que los valores de media caen y la distribución normal estimada sobre estos datos."
   ]
  },
  {
   "cell_type": "code",
   "execution_count": 26,
   "metadata": {
    "colab": {
     "base_uri": "https://localhost:8080/",
     "height": 499
    },
    "id": "uitWznFPPep2",
    "outputId": "063581c4-f220-4c85-c4df-a05b15a55c22",
    "tags": []
   },
   "outputs": [
    {
     "data": {
      "image/png": "[encoded data removed]",
      "text/plain": [
       "<Figure size 1200x800 with 1 Axes>"
      ]
     },
     "metadata": {},
     "output_type": "display_data"
    }
   ],
   "source": [
    "# Graficar distribucion de la media\n",
    "fig = plt.figure(figsize = (12, 8)) \n",
    "count, bins, ignored = plt.hist(media, 50, density=True, edgecolor='black', facecolor='b')\n",
    "plt.plot(bins, norm.pdf(bins, mu_media, sigma_media), color='r', lw=2)\n",
    "plt.title(\"Histograma - Distribución de la media émpirica\")\n",
    "plt.show()"
   ]
  },
  {
   "cell_type": "markdown",
   "metadata": {
    "id": "Pq2cB3SLpbpy"
   },
   "source": [
    "Repitamos ahora la visualización con un histograma pero para los datos de varianza."
   ]
  },
  {
   "cell_type": "code",
   "execution_count": 27,
   "metadata": {
    "colab": {
     "base_uri": "https://localhost:8080/",
     "height": 499
    },
    "id": "RlDos3u6PWmq",
    "outputId": "f8022b33-0e52-47af-fcbf-010cda6af8f9",
    "tags": []
   },
   "outputs": [
    {
     "data": {
      "image/png": "[encoded data removed]",
      "text/plain": [
       "<Figure size 1200x800 with 1 Axes>"
      ]
     },
     "metadata": {},
     "output_type": "display_data"
    }
   ],
   "source": [
    "# Graficar distribucion de la varianza\n",
    "fig = plt.figure(figsize = (12, 8)) \n",
    "count, bins, ignored = plt.hist(varianza, 50, density=True, edgecolor='black', facecolor='b')\n",
    "plt.plot(bins, norm.pdf(bins, mu_var, sigma_var), color='r', lw=2)\n",
    "plt.title(\"Histograma - Distribución de la varianza émpirica\")\n",
    "plt.show()"
   ]
  },
  {
   "cell_type": "markdown",
   "metadata": {
    "id": "-106XKwNqFO7"
   },
   "source": [
    "Observe detalladamente la distribución de los datos en el histograma y la función normal estimada ¿realmente coincide la distribución normal estimada con la distribución de los datos? Compare con los resultados obtenidos para la media.\n",
    "\n",
    "Pruebe distintos valores de datos y de repeticiones. ¿Cuál cree que puede ser la verdadera distribución de las estimaciones de la varianza?"
   ]
  },
  {
   "cell_type": "markdown",
   "metadata": {},
   "source": [
    "# Referencias Complementarias"
   ]
  },
  {
   "cell_type": "markdown",
   "metadata": {
    "id": "S2BH9J9pOsYD"
   },
   "source": [
    "Para verificar la correcta distribución del estimador de varianza y revisar en detalle las demostraciones en las que se derivan las distribuciones de las variables aleatorias de los estimadores de *media* y *varianza*, puede revisar el siguiente artículo:\n",
    "\n",
    "Taboga, Marco (2021). \"Estimation of the variance\", *Lectures on probability theory and mathematical statistics*. Kindle Direct Publishing. Online appendix. (statlect.com/fundamentals-of-statistics/variance-estimation)"
   ]
  },
  {
   "cell_type": "markdown",
   "metadata": {},
   "source": [
    "Para una explicación rápida y sencilla del proceso de estimación estadístico, refiérase al siguiente artículo:\n",
    "\n",
    "Chandra, Trisha (2021) \"Performing Statistical Estimation\", *TowardsDataScience* (towardsdatascience.com/performing-statistical-estimation-82368ad89486)\n"
   ]
  },
  {
   "cell_type": "markdown",
   "metadata": {},
   "source": [
    "Puede utilizar la extensión de google chrome para traducir cualquier articulo: *Click derecho* -> *Traducir a español*."
   ]
  },
  {
   "cell_type": "code",
   "execution_count": null,
   "metadata": {},
   "outputs": [],
   "source": []
  }
 ],
 "metadata": {
  "kernelspec": {
   "display_name": "Python 3 (ipykernel)",
   "language": "python",
   "name": "python3"
  },
  "language_info": {
   "codemirror_mode": {
    "name": "ipython",
    "version": 3
   },
   "file_extension": ".py",
   "mimetype": "text/x-python",
   "name": "python",
   "nbconvert_exporter": "python",
   "pygments_lexer": "ipython3",
   "version": "3.11.4"
  }
 },
 "nbformat": 4,
 "nbformat_minor": 4
}
