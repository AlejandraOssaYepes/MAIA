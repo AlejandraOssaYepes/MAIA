{
 "cells": [
  {
   "cell_type": "markdown",
   "metadata": {
    "id": "SDcNMhJxonc3"
   },
   "source": [
    "# **Taller:** Clasificador Cuadrático\n",
    "\n",
    "***Matemáticas para Machine Learning.***\n",
    "\n",
    "**Semana 3 - Práctica Calificada -** Probabilidad I\n",
    "\n",
    "**Profesor:** *Fernando Lozano* - **Autor Notebook:** *Nicolás Lopez / César Garrido*"
   ]
  },
  {
   "cell_type": "markdown",
   "metadata": {
    "id": "9fqJBe-Sqz9q"
   },
   "source": [
    "# Introducción"
   ]
  },
  {
   "cell_type": "markdown",
   "metadata": {
    "id": "gfvjKDIHq5fi"
   },
   "source": [
    "## Descripción"
   ]
  },
  {
   "cell_type": "markdown",
   "metadata": {
    "id": "MEYC7yKYq2Ub"
   },
   "source": [
    "El presente *jupyter notebook* contine todo el material para el desarrollo del Taller de la Semana 3 del curso ***Matemáticas para Machine Learning***. \n",
    "En este taller usted tendrá como reto implementar un clásificador cuadrático (QDA) dentro de un problema de clasificación práctico.\n",
    "\n",
    "**Objetivos de Aprendizaje:**\n",
    "\n",
    "*   Repasar los conceptos básicos de probabilidad (como probabilidad condicional, Bayes, a priori, a posteriori, etc.) y la importancia de estos, dentro del contexto de un problema práctico de clasificación.\n",
    "*   Analizar una muestra de datos reales.\n",
    "*   Entender e implemntar el modelo de Clasificador Cuadrático (QDA).\n",
    "*   Analizar los alcances y limitaciones de la clasificación con el modelo de QDA."
   ]
  },
  {
   "cell_type": "markdown",
   "metadata": {
    "id": "zT2tUx4wq-qO"
   },
   "source": [
    "## Teoria"
   ]
  },
  {
   "cell_type": "markdown",
   "metadata": {
    "id": "fNbK21IPq_mn"
   },
   "source": [
    "$$ \\textrm{QDA} $$\n",
    "\n",
    "Describir como funciona, par acuaciones de de donde viene, que signifca cada variable.\n",
    "\n",
    "https://towardsdatascience.com/quadratic-discriminant-analysis-ae55d8a8148a"
   ]
  },
  {
   "cell_type": "markdown",
   "metadata": {
    "id": "E_1ckyaqiCen"
   },
   "source": [
    "**Clasificador cuadrático:**\n",
    "\n",
    "El clasificador cuadrático o análisis de discriminante cuadrático (QDA por sus siglas en inglés) es un modelo generativo, sí a pesar de que el nombre diga lo contrario, que utiliza las distribuciones conjuntas de probabilidad de los datos para resolver problemas de clasificación.\n",
    "\n",
    "\n",
    "QDA parte del supuesto que las densidades de probabilidad condicional de todas las clases están distribuidas de forma normal (gaussiana). Lo que significa que para un dataset de datos de entrenamiento ($x$) con etiquetas ($y$):\n",
    "\n",
    "\\begin{equation}\n",
    "P(x | y=c, \\mu_c, \\Sigma_c) = \\mathcal{N}(x|\\mu_c, \\Sigma_c)\n",
    "\\end{equation}\n",
    "\n",
    "Donde $\\mu_c$ es la media estadistica de la clase $c$ y $\\Sigma_c$ es la matriz de covariancia correspondiente para la clase $c$."
   ]
  },
  {
   "cell_type": "markdown",
   "metadata": {
    "id": "cn24JHAKkXwU"
   },
   "source": [
    "**¿Cómo clasifica?**\n",
    "\n",
    "Ahora bien, con el ya conocido y trabajado teorema de bayes se puede calcular lo que se conoce como la probabilidad *a posteriori*. Es decir, la probabilidad de que $x$ (la nueva observación) pertenezca a la clase $c$, dados la distribución de los datos con parametros $\\mu_c$ y $\\Sigma_c$:\n",
    "\n",
    "\\begin{equation}\n",
    "P(y=c|x, \\mu_c, \\Sigma_c) = \\frac{P(x|y=c, \\mu_c, \\Sigma_c) P(y=c)}{ \\sum_{k=1}^K P(x|y=c, \\mu_k, \\Sigma_k) P(y=k)}\n",
    "\\end{equation}\n",
    "\n",
    "Donde se tiene la densidad de probabilidad condicional de la clase $c$ (modelada por una gaussiana), ponderada por la probbilidad a priori de la clase ($P(y=c)$), normalizado por la suma de probabilidades de todas las clases."
   ]
  },
  {
   "cell_type": "markdown",
   "metadata": {
    "id": "g5OFbkhinNjI"
   },
   "source": [
    "Así las cosas, se clasifica una observación ($x$) en una clase ($c$) dada la máxima probabilidad a posteriori:\n",
    "\n",
    "\n",
    "\\begin{equation}\n",
    "\\hat{h}(x) = argmax_c P(y=c|x, \\mu_c, \\Sigma_c)\n",
    "\\end{equation}"
   ]
  },
  {
   "cell_type": "markdown",
   "metadata": {
    "id": "TuGt0N4-cv0l"
   },
   "source": [
    "Adicionalmente en el analísis de discriminante cuadrático (QDA), se parte del hecho que se tienen distribuciones normales, con medias y covarianzas no necesariamente iguales. Ademas se utiliza siguiente función discriminatne para una de estas distribuciones $k$:\n",
    "\n",
    "$$ \\delta_k(\\mathbf{x}) = - \\frac{1}{2} \\log |\\Sigma_k| - \\frac{1}{2} (\\mathbf{x} - \\mu_k)^T \\Sigma_k^{-1}(\\mathbf{x} - \\mu_k) + \\log \\pi_k $$\n",
    "\n",
    "En donde $\\Sigma_k$ y $\\mu_k$ son la matriz de covarianza y la media de la distribución $k$, y $\\pi_k$ es la probabilidad a priori para la clase $k$. Una vez hemos identificado este valor de discriminante podemos observar que las fronteras de decisión para este método estarán dadas por puntos que satisfacen:\n",
    "\n",
    "$$ \\frac{1}{2} \\log |\\Sigma_l| +  \\frac{1}{2} (\\mathbf{x} - \\mu_l)^T \\Sigma_l^{-1}(\\mathbf{x} - \\mu_l) - \\log \\pi_l = \\frac{1}{2} \\log |\\Sigma_k| +  \\frac{1}{2} (\\mathbf{x} - \\mu_k)^T \\Sigma_k^{-1}(\\mathbf{x} - \\mu_k) - \\log \\pi_k $$\n",
    "\n",
    "para $l,k$ distribuciones distintas.\n"
   ]
  },
  {
   "cell_type": "markdown",
   "metadata": {},
   "source": [
    "## Metodología"
   ]
  },
  {
   "cell_type": "markdown",
   "metadata": {},
   "source": [
    "Para desarrollar el taller usted deberá editar las celdas de código dispuestas para esto. Estas estarán marcadas con el siguiente comentario:\n",
    "\n",
    "```python\n",
    "# =====================================================\n",
    "# COMPLETAR ===========================================\n",
    "# \n",
    "\n",
    "# =====================================================\n",
    "```\n",
    "\n",
    "Edite o complete el códgio dentro de estas lineas de comentarios. Dentro de estos comentarios encontrará indicaciónes de lo que debe hacer, así como algunas de las variables que debe utilizar o calcular (puede que estas tengan ya una estructura para llenar o esten solo igualadas a None, complete la asignación)."
   ]
  },
  {
   "cell_type": "markdown",
   "metadata": {
    "id": "sKj8gLNsspQ0"
   },
   "source": [
    "# Problema Práctico"
   ]
  },
  {
   "cell_type": "markdown",
   "metadata": {
    "id": "Psr7Z610aX7c"
   },
   "source": [
    "El problema práctico que se desea resolver en este taller es el de **clasificación de pulsares**. Estos astros son un tipo de estrella de neutrones que emite radiacion detectable en la Tierra. Estas estrellas son de gran interes en distintas áreas de la física y la astronomía, pero requieren de un análisis detallado de los datos para ser detectadas. Es por esto último que en las decadas recientes se han empleado técnicas de *Machine Learning* para desarrollar modelos que las detecten. \n",
    "\n",
    "Para esto usted va a trabjar con un subset de datos del dataset HTRU2. Este contiene únicamente dos mediciones astronómicas relevantes (2 variables de entrada) con las que usted va a tratar de detectar posibles pulsares. Este es un problema binario de dos clases, los datos corresponden a un pulsar o no sencillamente no corresponden a un pulsar."
   ]
  },
  {
   "cell_type": "markdown",
   "metadata": {
    "id": "RledeIKvsq2D"
   },
   "source": [
    "## Inicialización"
   ]
  },
  {
   "cell_type": "code",
   "execution_count": null,
   "metadata": {
    "id": "80A5KMlLsx_f"
   },
   "outputs": [],
   "source": [
    "# Librerias principales\n",
    "import os\n",
    "import cv2\n",
    "import numpy as np\n",
    "import pandas as pd\n",
    "\n",
    "# Sklearn\n",
    "from sklearn.datasets import load_iris\n",
    "from sklearn.decomposition import TruncatedSVD, PCA\n",
    "\n",
    "# Visualización\n",
    "import plotly.express as px\n",
    "import matplotlib.pyplot as plt"
   ]
  },
  {
   "cell_type": "markdown",
   "metadata": {
    "id": "MEficWAjsxGA"
   },
   "source": [
    "## Datos"
   ]
  },
  {
   "cell_type": "markdown",
   "metadata": {
    "id": "PAzldFhozpdQ"
   },
   "source": [
    "\n",
    "A continuación usted encontrará un primer set de datos para dos de las variables descritas anteriormente con su respectiva etiqueta.\n",
    "\n",
    "**Columna Pulsar:** \n",
    "*  0 = Datos NO corresponden a un pulsar\n",
    "*  1 = Datos corresponden a un pulsar. "
   ]
  },
  {
   "cell_type": "code",
   "execution_count": null,
   "metadata": {
    "colab": {
     "base_uri": "https://localhost:8080/",
     "height": 206
    },
    "id": "W8oOvXbkMPgD",
    "outputId": "66edf77c-4f0c-4ae9-d12c-2b04e8ad1ab9"
   },
   "outputs": [],
   "source": [
    "# Carga e imprime primeros datos de la muestra\n",
    "datos_muestra = pd.read_csv(\"first_data.csv\")\n",
    "datos_muestra.head(5)"
   ]
  },
  {
   "cell_type": "code",
   "execution_count": null,
   "metadata": {
    "colab": {
     "base_uri": "https://localhost:8080/",
     "height": 542
    },
    "id": "yZvwnj_0EYlU",
    "outputId": "cabf8e52-5e45-4186-ee1e-039183853d1a"
   },
   "outputs": [],
   "source": [
    "# Gráfica datos de la muestra\n",
    "datos_muestra[\"Pulsar\"] = datos_muestra[\"Pulsar\"].astype(str)\n",
    "fig = px.scatter(datos_muestra, title=\"Distribución Inicial de los datos\", x=\"Exceso de curtosis del perfil integrado\", y=\"Exceso de curtosis de la curva DM-SNR\", color=\"Pulsar\")\n",
    "fig.show()"
   ]
  },
  {
   "cell_type": "markdown",
   "metadata": {
    "id": "8aV4ODTKz5z3"
   },
   "source": [
    "### Inspección de los datos"
   ]
  },
  {
   "cell_type": "markdown",
   "metadata": {
    "id": "lV3zzSOLboX8"
   },
   "source": [
    "Ahora bien, a partir de esta muestra usted debe calcular los parámetros que describen estos datos, es decir:\n",
    "\n",
    "*   Media\n",
    "*   Varianza"
   ]
  },
  {
   "cell_type": "code",
   "execution_count": null,
   "metadata": {
    "id": "Y7HjcPhu0GdJ"
   },
   "outputs": [],
   "source": [
    "# =====================================================\n",
    "# COMPLETAR ===========================================\n",
    "# -\n",
    "# AYUDA:\n",
    "distribucion_datos = 0\n",
    "\n",
    "media_pulsar = 0\n",
    "varianza_pulsar = np.zeros((2,2))\n",
    "\n",
    "media_no_pulsar = 0\n",
    "varianza_no_pulsar = np.zeros((2,2))\n",
    "# ====================================================="
   ]
  },
  {
   "cell_type": "markdown",
   "metadata": {
    "id": "ywfeTBBKz1xE"
   },
   "source": [
    "## Completar Algoritmo"
   ]
  },
  {
   "cell_type": "markdown",
   "metadata": {
    "id": "o0xsEU-RHBv3"
   },
   "source": [
    "A continuación, se presenta una implementación del algoritmo de discriminante lineal. En esta implementación se sabe que las probabilidades de que sucedan los distintos están balanceadas o son desconocidas, por lo que las probabilidades a priori no son tenidas en cuenta. Complete la implementación para que el algoritmo funcione"
   ]
  },
  {
   "cell_type": "markdown",
   "metadata": {
    "id": "bt7outqF9Q45"
   },
   "source": [
    "### QDA sin información previa"
   ]
  },
  {
   "cell_type": "code",
   "execution_count": null,
   "metadata": {
    "id": "Egmq0rSV72zx"
   },
   "outputs": [],
   "source": [
    "class QDA0:\n",
    "    def fit(self, X, t):\n",
    "\n",
    "        # Inicializa\n",
    "        self.means = dict()\n",
    "        self.covs = dict()\n",
    "        \n",
    "        # Identifica clases únicas\n",
    "        self.classes = np.unique(t)\n",
    "\n",
    "        # Obtiene información relevante a cada clase\n",
    "        for c in self.classes:\n",
    "            # =====================================================\n",
    "            # COMPLETAR ===========================================\n",
    "            # -\n",
    "            # AYUDA:\n",
    "            self.means[c] = None\n",
    "            self.covs[c] = None\n",
    "            # =====================================================\n",
    "            \n",
    "\n",
    "    def predict(self, X):\n",
    "        preds = list()\n",
    "        for x in X:\n",
    "            likelihoods = list()\n",
    "            for c in self.classes:\n",
    "                # =====================================================\n",
    "                # COMPLETAR ===========================================\n",
    "                # -\n",
    "                # AYUDA:\n",
    "                inv_cov = None\n",
    "                inv_cov_det = None\n",
    "                diff = None\n",
    "                likelihood = None\n",
    "                likelihoods.append(likelihood)\n",
    "                # =====================================================\n",
    "            \n",
    "            # Selecciona una predicción  \n",
    "            pred = self.classes[np.argmax(likelihoods)]\n",
    "            preds.append(pred)\n",
    "            \n",
    "        return np.array(preds)"
   ]
  },
  {
   "cell_type": "markdown",
   "metadata": {
    "id": "8HaMth9j9FFl"
   },
   "source": [
    "### QDA completo\n",
    "\n",
    "Ahora complete QDA suponiento que tiene acceso a información a priori respecto a la distribución de las muestras."
   ]
  },
  {
   "cell_type": "code",
   "execution_count": null,
   "metadata": {
    "id": "845c8xKfsuLi"
   },
   "outputs": [],
   "source": [
    "class QDA:\n",
    "    def fit(self, X, t):\n",
    "\n",
    "        # Inicializa\n",
    "        self.priors = dict()\n",
    "        self.means = dict()\n",
    "        self.covs = dict()\n",
    "        \n",
    "        # Identifica clases únicas\n",
    "        self.classes = np.unique(t)\n",
    "\n",
    "        # Obtiene información relevante a cada clase\n",
    "        for c in self.classes:\n",
    "            # =====================================================\n",
    "            # COMPLETAR ===========================================\n",
    "            # -\n",
    "            # AYUDA:\n",
    "            self.means[c] = None\n",
    "            self.covs[c] = None\n",
    "            # =====================================================\n",
    "            \n",
    "\n",
    "    def predict(self, X):\n",
    "        preds = list()\n",
    "        for x in X:\n",
    "            posts = list()\n",
    "            for c in self.classes:\n",
    "                # =====================================================\n",
    "                # COMPLETAR ===========================================\n",
    "                # -\n",
    "                # AYUDA:\n",
    "                inv_cov = None\n",
    "                inv_cov_det = None\n",
    "                diff = None\n",
    "                likelihood = None\n",
    "                post = None\n",
    "                posts.append(post)\n",
    "                # =====================================================\n",
    "            \n",
    "            # Selecciona una predicción  \n",
    "            pred = self.classes[np.argmax(posts)]\n",
    "            preds.append(pred)\n",
    "\n",
    "        return np.array(preds)"
   ]
  },
  {
   "cell_type": "code",
   "execution_count": null,
   "metadata": {
    "id": "D1NowSzj6C-W"
   },
   "outputs": [],
   "source": [
    "class QDA_sol:\n",
    "    def fit(self, X, t):\n",
    "        self.priors = dict()\n",
    "        self.means = dict()\n",
    "        self.covs = dict()\n",
    "        \n",
    "        # Identifica clases únicas\n",
    "        self.classes = np.unique(t)\n",
    "\n",
    "        # Obtiene información relevante a cada clase\n",
    "        for c in self.classes:\n",
    "            X_c = X[t == c]\n",
    "            self.priors[c] = X_c.shape[0] / X.shape[0]\n",
    "            self.means[c] = np.mean(X_c, axis=0)\n",
    "            self.covs[c] = np.cov(X_c, rowvar=False)\n",
    "            \n",
    "\n",
    "    def predict(self, X):\n",
    "        preds = list()\n",
    "        for x in X:\n",
    "            posts = list()\n",
    "            for c in self.classes:\n",
    "                prior = np.log(self.priors[c])\n",
    "                inv_cov = np.linalg.inv(self.covs[c])\n",
    "                inv_cov_det = np.linalg.det(inv_cov)\n",
    "                diff = x-self.means[c]\n",
    "                likelihood = 0.5*np.log(inv_cov_det) - 0.5*diff.T @ inv_cov @ diff\n",
    "                post = prior + likelihood\n",
    "                posts.append(post)\n",
    "            pred = self.classes[np.argmax(posts)]\n",
    "            preds.append(pred)\n",
    "        return np.array(preds)"
   ]
  },
  {
   "cell_type": "markdown",
   "metadata": {
    "id": "4rt6_hJjz84z"
   },
   "source": [
    "## Implementación y Visualización."
   ]
  },
  {
   "cell_type": "markdown",
   "metadata": {
    "id": "1qkIUjMSAHSd"
   },
   "source": [
    "### Métricas"
   ]
  },
  {
   "cell_type": "markdown",
   "metadata": {
    "id": "DvuXuEmNAK2i"
   },
   "source": [
    "Utilice medidas de Precisión (1's identificados correctamente / 1's totales) , Exhaustividad ( 1's identificados correctamente / 1's Predichos ) y Exactitud ( 1's y 0's identificados correctamente / Total de datos) para comparar ambas implementaciones de QDA. Cree una función que a partir de un conjunto de datos y una implementación de QDA obtenga estos "
   ]
  },
  {
   "cell_type": "code",
   "execution_count": null,
   "metadata": {
    "id": "QEvTp3bEAi-C"
   },
   "outputs": [],
   "source": [
    "def obtener_metricas(pred, real, target=1):\n",
    "    # =====================================================\n",
    "    # COMPLETAR ===========================================\n",
    "    # -\n",
    "    # AYUDA:\n",
    "    acc = 0\n",
    "    prec = 0\n",
    "    recc = 0\n",
    "    # =====================================================\n",
    "    return acc, prec, recc"
   ]
  },
  {
   "cell_type": "markdown",
   "metadata": {
    "id": "coXgVDPhdDC7"
   },
   "source": [
    "### Implementación sobre muestra balanceada"
   ]
  },
  {
   "cell_type": "markdown",
   "metadata": {
    "id": "8TEFHCMh9jXV"
   },
   "source": [
    "Utilice la implementación de QDA sin inrformación previa para completar la siguiente sección."
   ]
  },
  {
   "cell_type": "markdown",
   "metadata": {
    "id": "iUwHsmEl0TkP"
   },
   "source": [
    "Pruebe la clasificación con la primera muestra de datos."
   ]
  },
  {
   "cell_type": "code",
   "execution_count": null,
   "metadata": {
    "id": "Mi3uJx_o0Ut1"
   },
   "outputs": [],
   "source": [
    "# Prueba algoritmo\n"
   ]
  },
  {
   "cell_type": "markdown",
   "metadata": {
    "id": "7_sZmks-eczr"
   },
   "source": [
    "#### Visualización"
   ]
  },
  {
   "cell_type": "code",
   "execution_count": null,
   "metadata": {
    "id": "fMdesAR0edBc"
   },
   "outputs": [],
   "source": [
    "# Grafica\n"
   ]
  },
  {
   "cell_type": "markdown",
   "metadata": {
    "id": "EyfVlTTQdIp-"
   },
   "source": [
    "### Implementación sobre todos los datos"
   ]
  },
  {
   "cell_type": "markdown",
   "metadata": {
    "id": "IW5NrKlt0UBx"
   },
   "source": [
    "Considere que ahora tiene acceso a todo el conjunto de datos tomados durante el año.\n",
    "\n"
   ]
  },
  {
   "cell_type": "code",
   "execution_count": null,
   "metadata": {
    "id": "ipZf97sf0PX_"
   },
   "outputs": [],
   "source": [
    "# Carga e imprime primeros datos de la muestra\n",
    "datos_muestra = pd.read_csv(\"complete_data.csv\")\n",
    "datos_muestra.head(5)"
   ]
  },
  {
   "cell_type": "markdown",
   "metadata": {
    "id": "7LVlW7s8dop1"
   },
   "source": [
    "Inspeccione nuevamente ahora estos datos, calcule los parametros y ponga a prueba nuevamente el algoritmo implementado en el literal anterior.\n",
    "\n",
    "¿Qué cambios observa en la inspección de los parámetros? ¿Es sustancial el cambio en la clasificación? Explique su respuesta."
   ]
  },
  {
   "cell_type": "code",
   "execution_count": null,
   "metadata": {
    "id": "stj6DJvoeTbH"
   },
   "outputs": [],
   "source": [
    "# =====================================================\n",
    "# COMPLETAR ===========================================\n",
    "# -\n",
    "# AYUDA:\n",
    "distribucion_datos = 0\n",
    "\n",
    "media_pulsar = 0\n",
    "varianza_pulsar = np.zeros((2,2))\n",
    "\n",
    "media_no_pulsar = 0\n",
    "varianza_no_pulsar = np.zeros((2,2))\n",
    "# ====================================================="
   ]
  },
  {
   "cell_type": "markdown",
   "metadata": {
    "id": "bOvDjATMBMkQ"
   },
   "source": [
    "#### Visualización"
   ]
  },
  {
   "cell_type": "code",
   "execution_count": null,
   "metadata": {
    "id": "ASgWIEDOeTqR"
   },
   "outputs": [],
   "source": [
    "# Grafica\n",
    "\n"
   ]
  }
 ],
 "metadata": {
  "colab": {
   "collapsed_sections": [],
   "name": "S3TCTaller.ipynb",
   "provenance": []
  },
  "kernelspec": {
   "display_name": "Python 3",
   "language": "python",
   "name": "python3"
  },
  "language_info": {
   "codemirror_mode": {
    "name": "ipython",
    "version": 3
   },
   "file_extension": ".py",
   "mimetype": "text/x-python",
   "name": "python",
   "nbconvert_exporter": "python",
   "pygments_lexer": "ipython3",
   "version": "3.7.12"
  },
  "toc": {
   "base_numbering": 1,
   "nav_menu": {},
   "number_sections": true,
   "sideBar": true,
   "skip_h1_title": false,
   "title_cell": "Table of Contents",
   "title_sidebar": "Contents",
   "toc_cell": false,
   "toc_position": {},
   "toc_section_display": true,
   "toc_window_display": true
  }
 },
 "nbformat": 4,
 "nbformat_minor": 1
}
