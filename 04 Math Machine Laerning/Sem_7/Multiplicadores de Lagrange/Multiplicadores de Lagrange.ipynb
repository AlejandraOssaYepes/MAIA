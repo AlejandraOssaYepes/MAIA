{
 "cells": [
  {
   "cell_type": "markdown",
   "metadata": {
    "deletable": false,
    "editable": false,
    "nbgrader": {
     "cell_type": "markdown",
     "checksum": "ae2af17e675c8cff95313501d8ebe955",
     "grade": false,
     "grade_id": "cell-cdf695fb096069e1",
     "locked": true,
     "schema_version": 3,
     "solution": false,
     "task": false
    }
   },
   "source": [
    "![Banner](img/banner.png)"
   ]
  },
  {
   "cell_type": "markdown",
   "metadata": {
    "deletable": false,
    "editable": false,
    "nbgrader": {
     "cell_type": "markdown",
     "checksum": "29ac377116a8a12b512f465c85c2f1de",
     "grade": false,
     "grade_id": "cell-fe8140dda72cfdcc",
     "locked": true,
     "schema_version": 3,
     "solution": false,
     "task": false
    }
   },
   "source": [
    "# **Actividad No.2:** Multiplicadores de Lagrange\n",
    "\n",
    "***Matemáticas para Machine Learning***.\n",
    "\n",
    "**Semana 7 - Lección 2:** Minimización de una función cuadrática con restricciones lineales.\n",
    "\n",
    "**Profesor:** *Fernando Lozano* - **Autor Notebook:** *Sergio David Salazar Isairias*"
   ]
  },
  {
   "cell_type": "markdown",
   "metadata": {
    "deletable": false,
    "editable": false,
    "nbgrader": {
     "cell_type": "markdown",
     "checksum": "9cba9eef6042820a1d0f075c6bdfa3db",
     "grade": false,
     "grade_id": "cell-b5023f4c3397a908",
     "locked": true,
     "schema_version": 3,
     "solution": false,
     "task": false
    }
   },
   "source": [
    "# Introducción"
   ]
  },
  {
   "cell_type": "markdown",
   "metadata": {
    "deletable": false,
    "editable": false,
    "nbgrader": {
     "cell_type": "markdown",
     "checksum": "4a249b8e74d8f7cf06097d00cfb169f8",
     "grade": false,
     "grade_id": "cell-066886382cd094bb",
     "locked": true,
     "schema_version": 3,
     "solution": false,
     "task": false
    }
   },
   "source": [
    "## Descripción"
   ]
  },
  {
   "cell_type": "markdown",
   "metadata": {
    "deletable": false,
    "editable": false,
    "nbgrader": {
     "cell_type": "markdown",
     "checksum": "14263866d43f0a7112cc6b231de8b6d9",
     "grade": false,
     "grade_id": "cell-3668a5c4d6077242",
     "locked": true,
     "schema_version": 3,
     "solution": false,
     "task": false
    }
   },
   "source": [
    "El presente *jupyter notebook* contine todo el material para el desarrollo de la actividad 2 de la semana 7 del curso ***Matemáticas para Machine Learning***, correspondiente a la lección 2: Minimización de una función cuadrática con restricciones lineales. En este se utilizará el conocimiento adquirido sobre gradiente y Hessiana para identificar mínimos locales..\n",
    "\n",
    "**Objetivos de Aprendizaje:**\n",
    "\n",
    "*   Identificar condiciones necesarias de primer y segundo orden de mínimos locales."
   ]
  },
  {
   "cell_type": "markdown",
   "metadata": {
    "deletable": false,
    "editable": false,
    "nbgrader": {
     "cell_type": "markdown",
     "checksum": "946f246cbb6f282920c4d1e8d0d868e0",
     "grade": false,
     "grade_id": "cell-4f8b453edaced56a",
     "locked": true,
     "schema_version": 3,
     "solution": false,
     "task": false
    }
   },
   "source": [
    "## Metodología"
   ]
  },
  {
   "cell_type": "markdown",
   "metadata": {
    "deletable": false,
    "editable": false,
    "nbgrader": {
     "cell_type": "markdown",
     "checksum": "61e4e51852baa752dc80c043980677a6",
     "grade": false,
     "grade_id": "cell-aabba9128bfede12",
     "locked": true,
     "schema_version": 3,
     "solution": false,
     "task": false
    }
   },
   "source": [
    "Para desarrollar el taller usted deberá editar las celdas de código dispuestas para esto. Estas estarán marcadas con el siguiente comentario:\n",
    "\n",
    "```python\n",
    "# =====================================================\n",
    "# COMPLETAR ===========================================\n",
    "# \n",
    "\n",
    "# =====================================================\n",
    "```\n",
    "\n",
    "Edite o complete el códgio dentro de estas lineas de comentarios. Dentro de estos comentarios encontrará indicaciónes de lo que debe hacer, así como algunas de las variables que debe utilizar o calcular (puede que estas tengan ya una estructura para llenar o esten solo igualadas a None, complete la asignación)."
   ]
  },
  {
   "cell_type": "markdown",
   "metadata": {
    "deletable": false,
    "editable": false,
    "nbgrader": {
     "cell_type": "markdown",
     "checksum": "bc646585c485832fc7625920df973afd",
     "grade": false,
     "grade_id": "cell-ed411c49c3bc1e7c",
     "locked": true,
     "schema_version": 3,
     "solution": false,
     "task": false
    }
   },
   "source": [
    "# Teoría"
   ]
  },
  {
   "cell_type": "markdown",
   "metadata": {
    "deletable": false,
    "editable": false,
    "nbgrader": {
     "cell_type": "markdown",
     "checksum": "d2c71e54f42e3e7850f710faafbdbc6c",
     "grade": false,
     "grade_id": "cell-a7cb4ee5d4872535",
     "locked": true,
     "schema_version": 3,
     "solution": false,
     "task": false
    }
   },
   "source": [
    "Sea $f(\\vec{x})$ una función cuadrática de y $\\vec{x}$ una vector $n$-dimensional. Considere un conjunto de $k$ restricciones sobre $\\vec{x}$. Donde la i-ésima restricción es de la forma $a_{i}^{T}\\vec{x}=c_i$. Con $a_{i}$ el vector de coeficientes de las variables en la restricción lineal y $c_i$ es una constante para cada restricción. Ahora, suponga que desea minimizar $f(\\vec{x})$ sujeto a las restricciones lineales de igualdad ¿Cómo hallaría el valor de $\\vec{x}$?\n",
    "\n",
    "Optimizar una función sujeta a un conjunto de restricciones no es una tarea sencilla, pues su dificultad incrementa conforme aumenta la cantidad de restricciones, así como la complejidad de estas. No obstante, si las restricciones son de baja complejidad, en particular restricciones linales, entonces la tarea se simplifica, puesto que se puede utilizar el **Método de Multiplicadores de Lagrange**.\n",
    "\n",
    "Los **Multiplicadores de Lagrange** son un procedimiento ideado por *Joseph Louis Lagrange* que transforma un problema de optimización de $n$ variables con $k$ restricciones, en un problema sin restricciones con $n+k$ variables de decisión.\n",
    "\n",
    "Sea $g_{i}(\\vec{x})=a_{i}^{T}\\vec{x}=c_i$, se propone la siguiente función.\n",
    "$$ h(\\vec{x}) = f(\\vec{x})-\\sum_{i=1}^{k}\\lambda_{i}(g_{i}(\\vec{x})-c_{i})$$\n",
    "\n",
    "donde $\\lambda_{i}$ es el multiplicador de Lagrange de la restricción $i$.\n",
    "\n",
    "Ahora, para minimizar $f(\\vec{x})$ se minimiza $h(\\vec{x})$ por medio de la definición de punto interior (gradiente cero). Entonces, se halla el valor de $\\vec{x}$ tal que:\n",
    "$$\\frac{\\partial h}{\\partial x_{i}}=0,   \\forall i\\in [1,k]$$.\n",
    "\n",
    "Es decir, se halla el valor de $\\vec{x}$ tal que:\n",
    "$$\\frac{\\partial f}{\\partial x_{i}}=-\\sum_{j=1}^{k}\\lambda_{j}\\frac{\\partial g_{j}}{\\partial x_{i}}$$."
   ]
  },
  {
   "cell_type": "markdown",
   "metadata": {
    "deletable": false,
    "editable": false,
    "nbgrader": {
     "cell_type": "markdown",
     "checksum": "c6e92e739821c70b5d1a1f212b664c0d",
     "grade": false,
     "grade_id": "cell-d845ae7cbcef5da8",
     "locked": true,
     "schema_version": 3,
     "solution": false,
     "task": false
    }
   },
   "source": [
    "# Inicialización"
   ]
  },
  {
   "cell_type": "code",
   "execution_count": 1,
   "metadata": {},
   "outputs": [],
   "source": [
    "# Básico\n",
    "from sympy import *\n",
    "import numpy as np\n",
    "import matplotlib.pyplot as plt"
   ]
  },
  {
   "cell_type": "code",
   "execution_count": 2,
   "metadata": {},
   "outputs": [],
   "source": [
    "# UTILIDADES =================================\n",
    "# Correr una única vez por sesión ============\n",
    "from maiautils import MaiaUtils\n",
    "ipython = get_ipython()\n",
    "mutils = MaiaUtils(ipython) \n",
    "# ============================================"
   ]
  },
  {
   "cell_type": "code",
   "execution_count": 3,
   "metadata": {},
   "outputs": [],
   "source": [
    "# Cambiar configuración de informe de errores\n",
    "mutils.toggle_traceback()"
   ]
  },
  {
   "cell_type": "markdown",
   "metadata": {
    "deletable": false,
    "editable": false,
    "nbgrader": {
     "cell_type": "markdown",
     "checksum": "a5decb9b1513a9618a9094630733b1f0",
     "grade": false,
     "grade_id": "cell-2edcbe82bdb28d98",
     "locked": true,
     "schema_version": 3,
     "solution": false,
     "task": false
    }
   },
   "source": [
    "# Ejemplo"
   ]
  },
  {
   "cell_type": "markdown",
   "metadata": {
    "deletable": false,
    "editable": false,
    "nbgrader": {
     "cell_type": "markdown",
     "checksum": "067de30c51482239cbafcd646f14017f",
     "grade": false,
     "grade_id": "cell-d9bcb71f8b1dfbc9",
     "locked": true,
     "schema_version": 3,
     "solution": false,
     "task": false
    }
   },
   "source": [
    "Sea $$f(x,y) = x^{3/4}y^{1/4}$$\n",
    "Se desea minimizar $f(x,y)$ sujeto a \n",
    "$$25x+250y=5000$$"
   ]
  },
  {
   "cell_type": "markdown",
   "metadata": {
    "deletable": false,
    "editable": false,
    "nbgrader": {
     "cell_type": "markdown",
     "checksum": "9be849d12a697fcba9f2eb155636d5a9",
     "grade": false,
     "grade_id": "cell-c4300483c529a1cc",
     "locked": true,
     "schema_version": 3,
     "solution": false,
     "task": false
    }
   },
   "source": [
    "## Definir funciones del problema"
   ]
  },
  {
   "cell_type": "code",
   "execution_count": 4,
   "metadata": {},
   "outputs": [],
   "source": [
    "def f(x,y):\n",
    "    return x**(3/4)*y**(1/4)"
   ]
  },
  {
   "cell_type": "code",
   "execution_count": 5,
   "metadata": {},
   "outputs": [],
   "source": [
    "def g(x):\n",
    "    return (5000-25*x)/250"
   ]
  },
  {
   "cell_type": "markdown",
   "metadata": {
    "deletable": false,
    "editable": false,
    "nbgrader": {
     "cell_type": "markdown",
     "checksum": "fe360b801446a2d7aca68ecf88fcc495",
     "grade": false,
     "grade_id": "cell-10632b3e970a4bf8",
     "locked": true,
     "schema_version": 3,
     "solution": false,
     "task": false
    }
   },
   "source": [
    "## Visualizar el problema"
   ]
  },
  {
   "cell_type": "code",
   "execution_count": 6,
   "metadata": {},
   "outputs": [],
   "source": [
    "x = np.linspace(0,200,10000)\n",
    "y = np.linspace(0,20,100)\n",
    "X,Y = np.meshgrid(x,y)\n",
    "Z = f(X,Y)"
   ]
  },
  {
   "cell_type": "code",
   "execution_count": 7,
   "metadata": {},
   "outputs": [
    {
     "data": {
      "image/png": "[encoded data removed]",
      "text/plain": [
       "<Figure size 1080x360 with 4 Axes>"
      ]
     },
     "metadata": {
      "needs_background": "light"
     },
     "output_type": "display_data"
    }
   ],
   "source": [
    "fig, (ax_l, ax_r) = plt.subplots(1, 2, figsize = (15, 5))\n",
    "\n",
    "CS = ax_l.contourf(X, Y, Z, 8,cmap='winter')\n",
    "ax_l.plot(x,g(x),'r--')\n",
    "cbar = fig.colorbar(CS,ax=ax_l)\n",
    "\n",
    "CS = ax_r.contour(X, Y, Z, 8,cmap='winter')\n",
    "ax_r.plot(x,g(x),'r--')\n",
    "cbar = fig.colorbar(CS,ax=ax_r)"
   ]
  },
  {
   "cell_type": "markdown",
   "metadata": {
    "deletable": false,
    "editable": false,
    "nbgrader": {
     "cell_type": "markdown",
     "checksum": "3d55fb15b3eb32024ba8b91035b81796",
     "grade": false,
     "grade_id": "cell-95d3de5bbdf4343e",
     "locked": true,
     "schema_version": 3,
     "solution": false,
     "task": false
    }
   },
   "source": [
    "## Método de Lagrange"
   ]
  },
  {
   "cell_type": "markdown",
   "metadata": {
    "deletable": false,
    "editable": false,
    "nbgrader": {
     "cell_type": "markdown",
     "checksum": "084ed1142d4f0342906e88851827c04e",
     "grade": false,
     "grade_id": "cell-b971370e2b43eebb",
     "locked": true,
     "schema_version": 3,
     "solution": false,
     "task": false
    }
   },
   "source": [
    "El Lagrangiano $h(x,y,\\lambda)$ es el siguiente.\n",
    "$$h(x,y,\\lambda) = x^{3/4}y^{1/4} - \\lambda(25x+250y-5000)$$\n",
    "\n",
    "Ahora, calculese el gradiente de $h(x,y,\\lambda)$.\n",
    "$$\\frac{\\partial h}{\\partial x} = \\frac{3}{4}x^{-1/4}y^{1/4} - 25\\lambda$$\n",
    "\n",
    "$$\\frac{\\partial h}{\\partial y} = \\frac{1}{4}x^{3/4}y^{-3/4} - 250\\lambda$$\n",
    "\n",
    "$$\\frac{\\partial h}{\\partial \\lambda} = 25x+250y-5000$$\n",
    "\n",
    "Igualando el gradiente de $h(x,y,\\lambda)$ al vector cero se obtiene la siguiente condición sobre $x$ y $y$.\n",
    "$$x=30y$$.\n",
    "\n",
    "Ahora, se reemplaza en $g(x,y)$.\n",
    "$$25x+250y=5000$$\n",
    "$$750y+250y=5000$$\n",
    "$$\\rightarrow y=5$$\n",
    "$$\\rightarrow x=150$$"
   ]
  },
  {
   "cell_type": "code",
   "execution_count": 8,
   "metadata": {},
   "outputs": [
    {
     "name": "stdout",
     "output_type": "stream",
     "text": [
      "El mínimo de f(x,y) es: 64.09305095943512\n"
     ]
    }
   ],
   "source": [
    "print(f'El mínimo de f(x,y) es: {f(150,5)}')"
   ]
  },
  {
   "cell_type": "markdown",
   "metadata": {
    "deletable": false,
    "editable": false,
    "nbgrader": {
     "cell_type": "markdown",
     "checksum": "e3c556b8d08aaffd1c79e9643b64ec72",
     "grade": false,
     "grade_id": "cell-0eae7a3a0172eec5",
     "locked": true,
     "schema_version": 3,
     "solution": false,
     "task": false
    }
   },
   "source": [
    "Entonces el mínimo de $f(x,y)$ sujeto a $g(x,y)$ se encuentra en el punto $(150,5)$."
   ]
  },
  {
   "cell_type": "markdown",
   "metadata": {
    "deletable": false,
    "editable": false,
    "nbgrader": {
     "cell_type": "markdown",
     "checksum": "aeb1db1b51dd8daa8299b44ba5a1a035",
     "grade": false,
     "grade_id": "cell-4ac6cacdc11151e8",
     "locked": true,
     "schema_version": 3,
     "solution": false,
     "task": false
    }
   },
   "source": [
    "# Problemas"
   ]
  },
  {
   "cell_type": "markdown",
   "metadata": {
    "deletable": false,
    "editable": false,
    "nbgrader": {
     "cell_type": "markdown",
     "checksum": "adce074613d38be0b2a7431fd6f75976",
     "grade": false,
     "grade_id": "cell-b8361ccb8f8ad3b6",
     "locked": true,
     "schema_version": 3,
     "solution": false,
     "task": false
    }
   },
   "source": [
    "Dada $f$ una función de $n$ variables de la forma:\n",
    "$$ \n",
    "f = \\mathbf{x}^T A \\mathbf{x} + B \\mathbf{x}\n",
    "$$\n",
    "\n",
    "Con $k$ restricciones de la forma.\n",
    "$$\n",
    "g(x)=a^{T}x=c\n",
    "$$"
   ]
  },
  {
   "cell_type": "markdown",
   "metadata": {
    "deletable": false,
    "editable": false,
    "nbgrader": {
     "cell_type": "markdown",
     "checksum": "ab3789246bf1e8ec5483ee5a4ca27605",
     "grade": false,
     "grade_id": "cell-2c3e543830d9fecf",
     "locked": true,
     "schema_version": 3,
     "solution": false,
     "task": false
    }
   },
   "source": [
    "Realice una función que grafique las curvas de nivel de $f$ y las restricciones lineales cuando $n=2$."
   ]
  },
  {
   "cell_type": "code",
   "execution_count": 10,
   "metadata": {},
   "outputs": [],
   "source": [
    "def grafica_nivel(A:list,B:list,a:list,c:list,xlim:list,ylim:list,n=1000):\n",
    "    \"\"\" \n",
    "    Grafica las curvas de nivel de f y las rectas correspondientes a las restricciones lineales.\n",
    "    ___________________________________\n",
    "    Entrada:\n",
    "    A: [list] Lista cuyos elementos son las filas de la matriz A.\n",
    "    B: [list] Lista que contiene los coeficientes del vector B.\n",
    "    a: [list] Lista cuyos elementos son los vector de las restricciones lineales.\n",
    "    c: [list] Lista cuyos elementos son las constantes asociadas a cada restricción.\n",
    "    xlim: [list] Limites del eje x.\n",
    "    ylim: [list] Limites del eje y.\n",
    "    n: [int] Número de muestras para cada variable independiente.\n",
    "    ___________________________________\n",
    "    Salida:\n",
    "    Se graficaron las curvas de nivel de la función y las rectas de las restricciones.\n",
    "    \"\"\"\n",
    "    x = np.linspace(xlim[0],xlim[1],n)\n",
    "    y = np.linspace(ylim[0],ylim[1],n)\n",
    "    \n",
    "    X,Y = np.meshgrid(x,y)\n",
    "    \n",
    "    # =====================================================\n",
    "    # COMPLETAR ===========================================\n",
    "    # reemplace X por la expresión correcta para Z.\n",
    "    # Z depende de A y B.\n",
    "    Z = A[0][0]*X**2 + A[1][1]*Y**2 + (A[0][1]+A[1][0])*X*Y + B[0]*X + B[1]*Y\n",
    "    # =====================================================\n",
    "    \n",
    "    fig, (ax_l, ax_r) = plt.subplots(1, 2, figsize = (15, 5))\n",
    "\n",
    "    CS = ax_l.contourf(X, Y, Z, 8,cmap='winter')\n",
    "    for i in range(len(a)):\n",
    "        ax_l.plot(x,(c[i]-a[i][0]*x)/a[i][1])\n",
    "    cbar = fig.colorbar(CS,ax=ax_l)\n",
    "\n",
    "    CS = ax_r.contour(X, Y, Z, 8,cmap='winter')\n",
    "    for i in range(len(a)):\n",
    "        ax_r.plot(x,(c[i]-a[i][0]*x)/a[i][1])\n",
    "    cbar = fig.colorbar(CS,ax=ax_r)"
   ]
  },
  {
   "cell_type": "markdown",
   "metadata": {},
   "source": [
    "Compruebe la función con los siguientes parámetros"
   ]
  },
  {
   "cell_type": "code",
   "execution_count": 11,
   "metadata": {},
   "outputs": [],
   "source": [
    "A = [[1,1],[0,3]]\n",
    "B = [1,5]\n",
    "a = [[1,-1],[0,1]]\n",
    "c = [1,8]\n",
    "xlim = [-20,20]\n",
    "ylim = [-20,20]"
   ]
  },
  {
   "cell_type": "code",
   "execution_count": 12,
   "metadata": {},
   "outputs": [
    {
     "data": {
      "image/png": "[encoded data removed]",
      "text/plain": [
       "<Figure size 1080x360 with 4 Axes>"
      ]
     },
     "metadata": {
      "needs_background": "light"
     },
     "output_type": "display_data"
    }
   ],
   "source": [
    "grafica_nivel(A,B,a,c,xlim,ylim)"
   ]
  },
  {
   "cell_type": "markdown",
   "metadata": {
    "deletable": false,
    "editable": false,
    "nbgrader": {
     "cell_type": "markdown",
     "checksum": "5cd142d261f2f3807ed6534ef11c1604",
     "grade": false,
     "grade_id": "cell-18b931ceb75c5888",
     "locked": true,
     "schema_version": 3,
     "solution": false,
     "task": false
    }
   },
   "source": [
    "Realice una función que reciba los parámetros $A$ y $B$ y los vectores $a_{i}$ y $c$ y retorne el argumento que minimiza $f$ sujeto a las restricciones lineales para $n = 2$. "
   ]
  },
  {
   "cell_type": "markdown",
   "metadata": {
    "deletable": false,
    "editable": false,
    "nbgrader": {
     "cell_type": "markdown",
     "checksum": "aa778211ae8508184a921fe4b584e072",
     "grade": false,
     "grade_id": "cell-88bf89e303abe286",
     "locked": true,
     "schema_version": 3,
     "solution": false,
     "task": false
    }
   },
   "source": [
    "Para completar la función tiene dos alternativas: deducir analiticamente la solución para $n=2$ o utilizar variables simbolicas por medio de *sympy*."
   ]
  },
  {
   "cell_type": "code",
   "execution_count": 18,
   "metadata": {},
   "outputs": [],
   "source": [
    "def metodo_lagrange(A:list,B:list,a:list,c:list):\n",
    "    \"\"\" \n",
    "    Implementa el método de Multiplicadores de Lagrange\n",
    "    ___________________________________\n",
    "    Entrada:\n",
    "    A: [list] Lista cuyos elementos son las filas de la matriz A.\n",
    "    B: [list] Lista que contiene los coeficientes del vector B.\n",
    "    a: [list] Lista cuyos elementos son los vector de las restricciones lineales.\n",
    "    c: [list] Lista cuyos elementos son las constantes asociadas a cada restricción.\n",
    "    ___________________________________\n",
    "    Salida:\n",
    "    out : [dic] Argumento que minimiza f(x,y) y valores de los multiplicadores de Lagrange. \n",
    "                Si el problema es infactible retorna [0,0].\n",
    "    \"\"\"\n",
    "    \n",
    "    x, y, l0, l1 = symbols('x, y, l0, l1')\n",
    "    \n",
    "    xs = Matrix([[x], [y]])\n",
    "    \n",
    "    A = Matrix(A)\n",
    "    B = Matrix(B)\n",
    "    \n",
    "    fo = xs.dot(A*xs) + B.dot(xs)\n",
    "    \n",
    "    # =====================================================\n",
    "    # COMPLETAR ===========================================\n",
    "    # defina correctamente Lagrangiano del ejercicio.\n",
    "    # Para ello:\n",
    "    #  - defina la función objetivo del problema inicial\n",
    "    #  - defina las restricciones del problema\n",
    "    #  - considere los multiplicadores de Lagrange\n",
    "    r = []\n",
    "    for i in range(len(a)):\n",
    "        r.append(a[i][0]*x+a[i][1]*y-c[i])\n",
    "    \n",
    "    L = fo - l0*r[0]\n",
    "    if len(a)>1:\n",
    "        L= L-l1*r[1]\n",
    "\n",
    "    # ===================================================== \n",
    "        \n",
    "    \n",
    "    \n",
    "    # =====================================================\n",
    "    # COMPLETAR ===========================================\n",
    "    # agrege a dl las derivadas parciales faltantes\n",
    "    # =====================================================\n",
    "    dl = [diff(L,x),diff(L,y),diff(L,l0)]\n",
    "    if len(a)>1:\n",
    "        dl.append(diff(L,l1))\n",
    "        \n",
    "    try:\n",
    "        sol = solve(dl,[x,y,l0,l1],dic=True)\n",
    "    except:\n",
    "        sol = {x:0,y:0,l0:0,l1:0}\n",
    "    return sol"
   ]
  },
  {
   "cell_type": "code",
   "execution_count": 19,
   "metadata": {},
   "outputs": [],
   "source": [
    "A = [[1,1],[0,3]]\n",
    "B = [1,5]\n",
    "a = [[1,-1],[0,10]]\n",
    "c = [1,8]"
   ]
  },
  {
   "cell_type": "code",
   "execution_count": 20,
   "metadata": {},
   "outputs": [
    {
     "data": {
      "text/plain": [
       "{x: 9/5, y: 4/5, l0: 27/5, l1: 17/10}"
      ]
     },
     "execution_count": 20,
     "metadata": {},
     "output_type": "execute_result"
    }
   ],
   "source": [
    "ll = metodo_lagrange(A,B,a,c)\n",
    "ll"
   ]
  },
  {
   "cell_type": "code",
   "execution_count": 21,
   "metadata": {
    "deletable": false,
    "editable": false,
    "nbgrader": {
     "cell_type": "code",
     "checksum": "db001919ed1ba5ca7475e7d53165204d",
     "grade": true,
     "grade_id": "cell-09895e8278b4b68c",
     "locked": true,
     "points": 20,
     "schema_version": 3,
     "solution": false,
     "task": false
    }
   },
   "outputs": [],
   "source": [
    "ll = metodo_lagrange(A,B,a,c)"
   ]
  },
  {
   "cell_type": "code",
   "execution_count": 22,
   "metadata": {
    "deletable": false,
    "editable": false,
    "nbgrader": {
     "cell_type": "code",
     "checksum": "04d65801cb2291ae2e8445d12c104e9a",
     "grade": true,
     "grade_id": "cell-dd59ab38632eb0f8",
     "locked": true,
     "points": 80,
     "schema_version": 3,
     "solution": false,
     "task": false
    }
   },
   "outputs": [],
   "source": [
    "mutils.calificar_minimo_local(metodo_lagrange)"
   ]
  },
  {
   "cell_type": "code",
   "execution_count": null,
   "metadata": {},
   "outputs": [],
   "source": []
  }
 ],
 "metadata": {
  "kernelspec": {
   "display_name": "Python 3",
   "language": "python",
   "name": "python3"
  },
  "language_info": {
   "codemirror_mode": {
    "name": "ipython",
    "version": 3
   },
   "file_extension": ".py",
   "mimetype": "text/x-python",
   "name": "python",
   "nbconvert_exporter": "python",
   "pygments_lexer": "ipython3",
   "version": "3.7.6"
  },
  "toc": {
   "base_numbering": 1,
   "nav_menu": {},
   "number_sections": true,
   "sideBar": true,
   "skip_h1_title": false,
   "title_cell": "Table of Contents",
   "title_sidebar": "Contents",
   "toc_cell": false,
   "toc_position": {},
   "toc_section_display": true,
   "toc_window_display": false
  }
 },
 "nbformat": 4,
 "nbformat_minor": 4
}
