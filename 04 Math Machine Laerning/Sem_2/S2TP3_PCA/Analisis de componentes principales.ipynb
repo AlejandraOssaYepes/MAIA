{
 "cells": [
  {
   "cell_type": "markdown",
   "metadata": {},
   "source": [
    "![Banner](img/banner.png)"
   ]
  },
  {
   "cell_type": "markdown",
   "metadata": {
    "deletable": false,
    "editable": false,
    "id": "MUeTSMcqFWsT",
    "nbgrader": {
     "cell_type": "markdown",
     "checksum": "ad62eef8e7e3e7321fab8e8cf1401e3d",
     "grade": false,
     "grade_id": "cell-f99fd8c767056b07",
     "locked": true,
     "schema_version": 3,
     "solution": false,
     "task": false
    }
   },
   "source": [
    "# **Actividad N°3:** Analisis de componentes principales (PCA) \n",
    "\n",
    "***Matemáticas para Machine Learning.***\n",
    "\n",
    "Semana 2 - Lección 3: Descomposición en valores singulares.\n",
    "\n",
    "**Profesor:** *Fernando Enrique Lozano Martinez* - **Autor Notebook:** *Nicolas Orlando López Cuéllar*"
   ]
  },
  {
   "cell_type": "markdown",
   "metadata": {
    "deletable": false,
    "editable": false,
    "id": "F8uk1XWTFu7m",
    "nbgrader": {
     "cell_type": "markdown",
     "checksum": "4828a48d73bddce281d69cdbfd1772e5",
     "grade": false,
     "grade_id": "cell-448d2898a303cbb3",
     "locked": true,
     "schema_version": 3,
     "solution": false,
     "task": false
    }
   },
   "source": [
    "# Introducción"
   ]
  },
  {
   "cell_type": "markdown",
   "metadata": {
    "deletable": false,
    "editable": false,
    "id": "bHZi-pYQGPK7",
    "nbgrader": {
     "cell_type": "markdown",
     "checksum": "2d89ce41d356119a37a11f770d85514e",
     "grade": false,
     "grade_id": "cell-115409e4ba7e3a7c",
     "locked": true,
     "schema_version": 3,
     "solution": false,
     "task": false
    }
   },
   "source": [
    "## Descripción\n",
    "\n",
    "El presente *jupyter notebook* contiene todo el material para el desarrollo de la Actividad 3 de la Semana 2 del curso ***Matemáticas para Machine Learning***. En este se construira un algoritmo de reducción de dimensionalidad a partir del análisis de componentes principales o PCA (por su nombre en ingles *Principal Component Analysis*), y se observará un caso de estudio en donde podremos utilizarlo.\n",
    "\n",
    "**Objetivos de Aprendizaje:**\n",
    "\n",
    "*   Implementar PCA y aplicarlo sobre una base de datos para visualización.\n",
    "*   Interpretar los componentes de la descomposición en valores singulares de una matriz.\n",
    "*   Interpretar geométricamente la estructura espectral de una matriz positiva (semi) definida."
   ]
  },
  {
   "cell_type": "markdown",
   "metadata": {
    "deletable": false,
    "editable": false,
    "nbgrader": {
     "cell_type": "markdown",
     "checksum": "e263aed65ea82b7bc46ea6d518dd4cae",
     "grade": false,
     "grade_id": "cell-6fe8d37d3affaade",
     "locked": true,
     "schema_version": 3,
     "solution": false,
     "task": false
    }
   },
   "source": [
    "## Metodologia\n",
    "\n",
    "\n",
    "Para desarrollar esta actividad usted deberá editar las celdas de código dispuestas para esto. Estas estarán marcadas con el siguiente comentario:\n",
    "\n",
    "```python\n",
    "# =====================================================\n",
    "# COMPLETAR ===========================================\n",
    "# \n",
    "\n",
    "# =====================================================\n",
    "```\n",
    "\n",
    "Edite o complete el códgio dentro de estas lineas de comentarios. Dentro de estos comentarios encontrará ayudas del trabajo a realizar, así como algunas de las variables que debe utilizar o calcular. Adiionalmente, Cada punto tendrá una sección para probar el trabajo realizado explorando sus resultados, asi como también una sección de pruebas. La sección de pruebas será calificada, se calificará la entrega final del laboratorio."
   ]
  },
  {
   "cell_type": "markdown",
   "metadata": {
    "deletable": false,
    "editable": false,
    "id": "xqD8Mim_MZiL",
    "nbgrader": {
     "cell_type": "markdown",
     "checksum": "14e01ad4ba4596c6ba2cff77990e9df1",
     "grade": false,
     "grade_id": "cell-37f435d67ad1fc14",
     "locked": true,
     "schema_version": 3,
     "solution": false,
     "task": false
    }
   },
   "source": [
    "# Teoria\n",
    "\n",
    "\n",
    "**Motivación PCA**\n",
    "\n",
    "PCA, como su nombre lo indica, se concentra en analizar los componentes principales de un grupo de datos. Esto básicamente consiste en reducir la dimensión en la que se describen los datos, manteniendo la información subyacente relevante que los relaciona. Esto es importante por varios motivos:\n",
    "\n",
    "Suponga que se tienen una base de datos con algún número $n$ de datos, cada uno con 2. Si nos preguntamos por la visualización de estos datos como puntos en el plano cartesiano, entonces su interpretación es fácil de tener. Si por el contrario tenemos mas de 3 variables en cada dato, se bastante complicado de visualizar y consiguientemente de interpretar. Lograr reducir la dimensión en la que se describen los datos nos permite entonces visualizarlos.\n",
    "\n",
    "Adicionalmente, a la hora de analizar datos existe un conjunto de fenómenos agrupados en el término [*Curse of Dimensionalyty*](https://en.wikipedia.org/wiki/Curse_of_dimensionality/) acuñado por Richard E. Bellman. Dentro de estos se agrupan muchos inconvenientes que suceden en altas dimensiones pero y no en bajas dimensiones. Esto junto con otras ventajas técnicas, como que el número de calculos para entrenar un algoritmo se reduce, aumentando la velocidad de entramiento; o que se reduce el ruido, al quedarnos con la información más relevante, nos motiva a utilizar PCA en la fase de pre-procesamiento de datos. A continuación se presenta el pseudo código para la implementación del algorimto de análisis de componentes principales.\n",
    "\n",
    "**Algoritmo PCA**\n",
    "\n",
    "1.   Se resta la media de cada variable sobre todos los datos\n",
    "\n",
    "2.   Se calcula la matriz de covarianza\n",
    "\n",
    "3.   Calcular Valores y Vectores Propios de matriz de covarianza.\n",
    "\n",
    "4.   Organizar valores propios en orden de magnitud.\n",
    "\n",
    "5.   Seleccionar subconjunto de vectores propios relacionados a los valores propios con mayor valor de magnitud.\n",
    "\n",
    "6.   Transformar datos originales en subespacio formado por vectores propios\n",
    "\n"
   ]
  },
  {
   "cell_type": "markdown",
   "metadata": {
    "deletable": false,
    "editable": false,
    "id": "__pzZCcEKVhu",
    "nbgrader": {
     "cell_type": "markdown",
     "checksum": "75134dd3f827c91b95b31055ed79d8ae",
     "grade": false,
     "grade_id": "cell-1e5b26a01832bdce",
     "locked": true,
     "schema_version": 3,
     "solution": false,
     "task": false
    }
   },
   "source": [
    "# Problemas\n",
    "\n",
    "A continuación se presentan un par de problemas que nos llevarán a implementar analisis de componentes principales o PCA sobré una base de datos. Primero, importamos las librerias necesarias para el laboratorio."
   ]
  },
  {
   "cell_type": "code",
   "execution_count": 1,
   "metadata": {
    "deletable": false,
    "editable": false,
    "id": "r-srQa6EFTX7",
    "nbgrader": {
     "cell_type": "code",
     "checksum": "e697b7c8219ca213e7e3054a44f99f02",
     "grade": false,
     "grade_id": "cell-ee205c18a2714cbe",
     "locked": true,
     "schema_version": 3,
     "solution": false,
     "task": false
    }
   },
   "outputs": [],
   "source": [
    "# Librerias Básicas\n",
    "import numpy as np      \n",
    "import pandas as pd\n",
    "\n",
    "# Dibujar\n",
    "import matplotlib.pyplot as plt \n",
    "import matplotlib.colors as mcolors\n",
    "import seaborn as sns\n",
    "\n",
    "\n",
    "# Visualización\n",
    "import sys\n",
    "from IPython.display import display, HTML\n",
    "from tqdm.notebook import tqdm\n",
    "import warnings\n",
    "warnings.filterwarnings(\"ignore\")"
   ]
  },
  {
   "cell_type": "code",
   "execution_count": 2,
   "metadata": {
    "deletable": false,
    "editable": false,
    "nbgrader": {
     "cell_type": "code",
     "checksum": "0a33ef6a2940e8a31221f99542458641",
     "grade": false,
     "grade_id": "cell-64a91ad760e028ab",
     "locked": true,
     "schema_version": 3,
     "solution": false,
     "task": false
    }
   },
   "outputs": [],
   "source": [
    "# UTILIDADES =================================\n",
    "# Correr una única vez por sesión ============\n",
    "from maiautils import MaiaUtils\n",
    "ipython = get_ipython()\n",
    "mutils = MaiaUtils(ipython) \n",
    "# ============================================"
   ]
  },
  {
   "cell_type": "code",
   "execution_count": 3,
   "metadata": {
    "deletable": false,
    "editable": false,
    "nbgrader": {
     "cell_type": "code",
     "checksum": "a4fed1b0e1a69bfedc013c283f46b5ef",
     "grade": false,
     "grade_id": "cell-ec3872d18bcd6994",
     "locked": true,
     "schema_version": 3,
     "solution": false,
     "task": false
    }
   },
   "outputs": [],
   "source": [
    "# Cambiar configuración de informe de errores\n",
    "mutils.toggle_traceback()"
   ]
  },
  {
   "cell_type": "markdown",
   "metadata": {
    "deletable": false,
    "editable": false,
    "id": "YyDPPPX9N4Rq",
    "nbgrader": {
     "cell_type": "markdown",
     "checksum": "0bfcca861cefc0657baa24811873927c",
     "grade": false,
     "grade_id": "cell-e8d7249db9408381",
     "locked": true,
     "schema_version": 3,
     "solution": false,
     "task": false
    }
   },
   "source": [
    "## Proyección\n",
    "\n",
    "Suponga que tiene una familia de vectores $X = \\{ x_1 , \\ldots , x_k \\} $ en $\\mathbb{R}^n$ y una base ortogonal $V = \\{v_1 , \\ldots v_n \\}$, es decir que los vectores en $V$ son linealmene independientes. Encuentre la representación de los vectores en $X$ proyectados en el espacio generado por $V$. Para su representación utilice la base $V$ como sus coordenadas."
   ]
  },
  {
   "cell_type": "code",
   "execution_count": 8,
   "metadata": {
    "id": "I3PxUO26N6FI"
   },
   "outputs": [],
   "source": [
    "def proyeccion(X, V):\n",
    "    \"\"\"\n",
    "    Proyecta los datos en un a * x = 1\n",
    "    ___________________________________\n",
    "    Entrada:\n",
    "    X: [2D-array] Lista de datos en R^n\n",
    "    V: [2D-array] lista de vectores generadores (lin. ind.) en R^n    \n",
    "    ___________________________________\n",
    "    Salida:\n",
    "    Xp: [2D-array] Lista de vectores en R^n proyectados en espacio generado por \n",
    "                   los vectores en V\n",
    "    \"\"\"\n",
    "    X, V = np.array(X), np.array(V)\n",
    "    Xp = np.dot(V.T, X.T).T\n",
    "    # =====================================================\n",
    "    # --------------------------------------------------------------------------\n",
    "    return Xp"
   ]
  },
  {
   "cell_type": "markdown",
   "metadata": {
    "deletable": false,
    "editable": false,
    "id": "QCX2SLvRao9c",
    "nbgrader": {
     "cell_type": "markdown",
     "checksum": "61ce74b61249e9312273bc95dc301923",
     "grade": false,
     "grade_id": "cell-a2fc96419838e788",
     "locked": true,
     "schema_version": 3,
     "solution": false,
     "task": false
    }
   },
   "source": [
    "### Prueba"
   ]
  },
  {
   "cell_type": "code",
   "execution_count": 9,
   "metadata": {
    "deletable": false,
    "editable": false,
    "id": "j-zjEO7baqOr",
    "nbgrader": {
     "cell_type": "code",
     "checksum": "cc2d311c9a88971e7e65327cff613068",
     "grade": true,
     "grade_id": "cell-f07107b60312af60",
     "locked": true,
     "points": 20,
     "schema_version": 3,
     "solution": false,
     "task": false
    }
   },
   "outputs": [
    {
     "name": "stdout",
     "output_type": "stream",
     "text": [
      "__________________________________\n",
      "Verificando errores...\n",
      "\n",
      "\n",
      "\n",
      "\n",
      "Sin Errores\n",
      "__________________________________\n"
     ]
    }
   ],
   "source": [
    "# ============================================================\n",
    "# PRUEBAS AVANZADAS ==========================================\n",
    "# ============================================================\n",
    "\n",
    "mutils.correr_prueba_proyeccion(proyeccion)"
   ]
  },
  {
   "cell_type": "markdown",
   "metadata": {
    "deletable": false,
    "editable": false,
    "id": "NAGPTEp1KW9K",
    "nbgrader": {
     "cell_type": "markdown",
     "checksum": "3653b76377f308ccaed2753baa65a3cd",
     "grade": false,
     "grade_id": "cell-f3030b5f14953c1f",
     "locked": true,
     "schema_version": 3,
     "solution": false,
     "task": false
    }
   },
   "source": [
    "## PCA\n",
    "\n",
    "Complete el algoritmo de PCA. Tenga en cuenta que los vectores propios de una matriz simétrica real son ortogonales."
   ]
  },
  {
   "cell_type": "code",
   "execution_count": 15,
   "metadata": {
    "id": "1_pSg4c_KbFt"
   },
   "outputs": [],
   "source": [
    "def PCA(X , ncomp):\n",
    "    \"\"\"\n",
    "    Realiza PCA sobre un conjunto de datos\n",
    "    ___________________________________\n",
    "    Entrada:\n",
    "    X: [2D-array] Matriz de dimensión m x n con \n",
    "                      m: número de datos  \n",
    "                      n: número de descriptores\n",
    "    n_comp: [int] número de componentes a utilizar\n",
    "    ___________________________________\n",
    "    Salida:\n",
    "    X_PCA: [2D-array]  Matriz reducida de dimensión m x n_comp \n",
    "    \"\"\"\n",
    "    # =====================================================\n",
    "    # COMPLETAR ===========================================\n",
    "    # ---------------------- 1 ----------------------\n",
    "    # 1.   Se resta la media de cada variable sobre todos los datos\n",
    "    X_meaned = X - np.mean(X, axis=0)\n",
    "\n",
    "    # ---------------------- 2 ----------------------\n",
    "    # 2.   Se calcula la matriz de covarianza\n",
    "    cov_mat = np.cov(X_meaned, rowvar=False)\n",
    "\n",
    "    # ---------------------- 3 ----------------------\n",
    "    # 3.   Calcular Valores y Vectores Propios de matriz de covarianza.\n",
    "    eigen_values, eigen_vectors = np.linalg.eigh(cov_mat)\n",
    "\n",
    "    # ---------------------- 4 ----------------------\n",
    "    # 4.   Organizar valores propios en orden de magnitud.\n",
    "    sorted_index = np.argsort(eigen_values)[::-1]\n",
    "    sorted_eigenvalue = eigen_values[sorted_index]\n",
    "    sorted_eigenvectors = eigen_vectors[:, sorted_index]\n",
    "\n",
    "    # ---------------------- 5 ----------------------\n",
    "    # 5.   Seleccionar subconjunto de vectores propios relacionados a los valores propios con mayor valor de magnitud.\n",
    "    eigenvector_subset = sorted_eigenvectors[:, 0:ncomp]\n",
    "\n",
    "    # ---------------------- 6 ----------------------\n",
    "    # 6.   Transformar/Proyctar datos originales en subespacio formado por vectores propios \n",
    "    X_PCA = np.dot(eigenvector_subset.transpose(), X_meaned.transpose()).transpose()\n",
    "    X_PCA = proyeccion(X_meaned, eigenvector_subset)\n",
    "    # =====================================================\n",
    "    \n",
    "    return X_PCA"
   ]
  },
  {
   "cell_type": "markdown",
   "metadata": {
    "deletable": false,
    "editable": false,
    "id": "DT2sJ9Au1HrT",
    "nbgrader": {
     "cell_type": "markdown",
     "checksum": "ec6eb55916121f4d84d35ddc2973ee5d",
     "grade": false,
     "grade_id": "cell-246dcdef995b4a2d",
     "locked": true,
     "schema_version": 3,
     "solution": false,
     "task": false
    }
   },
   "source": [
    "### Prueba"
   ]
  },
  {
   "cell_type": "code",
   "execution_count": 16,
   "metadata": {
    "deletable": false,
    "editable": false,
    "nbgrader": {
     "cell_type": "code",
     "checksum": "9698780fe72eb5055bba6d6e57ecbcc7",
     "grade": true,
     "grade_id": "cell-06a71ae71451d00d",
     "locked": true,
     "points": 50,
     "schema_version": 3,
     "solution": false,
     "task": false
    }
   },
   "outputs": [
    {
     "name": "stdout",
     "output_type": "stream",
     "text": [
      "__________________________________\n",
      "Verificando errores...\n",
      "\n",
      "\n",
      "\n",
      "\n",
      "Sin Errores\n",
      "__________________________________\n"
     ]
    }
   ],
   "source": [
    "# ============================================================\n",
    "# PRUEBAS AVANZADAS ==========================================\n",
    "# ============================================================\n",
    "\n",
    "mutils.correr_prueba_PCA(PCA)"
   ]
  },
  {
   "cell_type": "markdown",
   "metadata": {
    "deletable": false,
    "editable": false,
    "id": "Cp-izGWNBrId",
    "nbgrader": {
     "cell_type": "markdown",
     "checksum": "3fc12868b1c6bcef8c29006b81798aed",
     "grade": false,
     "grade_id": "cell-aaf4306425a8b8ec",
     "locked": true,
     "schema_version": 3,
     "solution": false,
     "task": false
    }
   },
   "source": [
    "## Muestra de Flores\n",
    "\n",
    "A continuación se presenta la [base de datos de iris](https://scikit-learn.org/stable/datasets/toy_dataset.html#iris-dataset), la cual se utiliza de manera estándar para probar algoritmos de clasificación. Esta base de datos consiste en 150 instancias, cada una con 4 propiedades númericas y una propiedad cualitativa. La idea es aplicar el agoritmo de PCA sobre estos datos para poder visualizarlos en 3 o 2 dimensiones."
   ]
  },
  {
   "cell_type": "code",
   "execution_count": 17,
   "metadata": {
    "colab": {
     "base_uri": "https://localhost:8080/",
     "height": 206
    },
    "deletable": false,
    "editable": false,
    "executionInfo": {
     "elapsed": 604,
     "status": "ok",
     "timestamp": 1659467630478,
     "user": {
      "displayName": "Nicolas Lopez",
      "userId": "14633077838591854186"
     },
     "user_tz": 300
    },
    "id": "EMkYkVXTDsWg",
    "nbgrader": {
     "cell_type": "code",
     "checksum": "a9d7bb62d4123aa9e86b52fcac3e639b",
     "grade": false,
     "grade_id": "cell-e9bead0757e7f81b",
     "locked": true,
     "schema_version": 3,
     "solution": false,
     "task": false
    },
    "outputId": "43fbef2d-4688-40c1-84c6-1643f1daa0ad"
   },
   "outputs": [
    {
     "data": {
      "text/html": [
       "<div>\n",
       "<style scoped>\n",
       "    .dataframe tbody tr th:only-of-type {\n",
       "        vertical-align: middle;\n",
       "    }\n",
       "\n",
       "    .dataframe tbody tr th {\n",
       "        vertical-align: top;\n",
       "    }\n",
       "\n",
       "    .dataframe thead th {\n",
       "        text-align: right;\n",
       "    }\n",
       "</style>\n",
       "<table border=\"1\" class=\"dataframe\">\n",
       "  <thead>\n",
       "    <tr style=\"text-align: right;\">\n",
       "      <th></th>\n",
       "      <th>sepal length</th>\n",
       "      <th>sepal width</th>\n",
       "      <th>petal length</th>\n",
       "      <th>petal width</th>\n",
       "      <th>target</th>\n",
       "    </tr>\n",
       "  </thead>\n",
       "  <tbody>\n",
       "    <tr>\n",
       "      <th>0</th>\n",
       "      <td>5.1</td>\n",
       "      <td>3.5</td>\n",
       "      <td>1.4</td>\n",
       "      <td>0.2</td>\n",
       "      <td>Iris-setosa</td>\n",
       "    </tr>\n",
       "    <tr>\n",
       "      <th>1</th>\n",
       "      <td>4.9</td>\n",
       "      <td>3.0</td>\n",
       "      <td>1.4</td>\n",
       "      <td>0.2</td>\n",
       "      <td>Iris-setosa</td>\n",
       "    </tr>\n",
       "    <tr>\n",
       "      <th>2</th>\n",
       "      <td>4.7</td>\n",
       "      <td>3.2</td>\n",
       "      <td>1.3</td>\n",
       "      <td>0.2</td>\n",
       "      <td>Iris-setosa</td>\n",
       "    </tr>\n",
       "    <tr>\n",
       "      <th>3</th>\n",
       "      <td>4.6</td>\n",
       "      <td>3.1</td>\n",
       "      <td>1.5</td>\n",
       "      <td>0.2</td>\n",
       "      <td>Iris-setosa</td>\n",
       "    </tr>\n",
       "    <tr>\n",
       "      <th>4</th>\n",
       "      <td>5.0</td>\n",
       "      <td>3.6</td>\n",
       "      <td>1.4</td>\n",
       "      <td>0.2</td>\n",
       "      <td>Iris-setosa</td>\n",
       "    </tr>\n",
       "  </tbody>\n",
       "</table>\n",
       "</div>"
      ],
      "text/plain": [
       "   sepal length  sepal width  petal length  petal width       target\n",
       "0           5.1          3.5           1.4          0.2  Iris-setosa\n",
       "1           4.9          3.0           1.4          0.2  Iris-setosa\n",
       "2           4.7          3.2           1.3          0.2  Iris-setosa\n",
       "3           4.6          3.1           1.5          0.2  Iris-setosa\n",
       "4           5.0          3.6           1.4          0.2  Iris-setosa"
      ]
     },
     "execution_count": 17,
     "metadata": {},
     "output_type": "execute_result"
    }
   ],
   "source": [
    "# Base de datos IRIS\n",
    "url = \"https://archive.ics.uci.edu/ml/machine-learning-databases/iris/iris.data\"\n",
    "data = pd.read_csv(url, names=['sepal length','sepal width','petal length','petal width','target'])\n",
    "data[:5]"
   ]
  },
  {
   "cell_type": "markdown",
   "metadata": {
    "deletable": false,
    "editable": false,
    "id": "n0yknVbR7aQB",
    "nbgrader": {
     "cell_type": "markdown",
     "checksum": "83a462ea721f6f664dc96e46ed815efe",
     "grade": false,
     "grade_id": "cell-cb4b92cd38ad7f4b",
     "locked": true,
     "schema_version": 3,
     "solution": false,
     "task": false
    }
   },
   "source": [
    "Seleccione y separe los datos de la variable objetivo, luego aplique su implementación de PCA para extraer ncomp componentes. Genere una nueva base de datos con la información obtenida."
   ]
  },
  {
   "cell_type": "code",
   "execution_count": 28,
   "metadata": {
    "id": "3eAfDJaxEWSq"
   },
   "outputs": [],
   "source": [
    "def implementar_PCA(data, ncomp=2):\n",
    "    \"\"\" \n",
    "    Implenta PCA sobre la bsae de datos introducida para poder visualizar los datos\n",
    "    ___________________________________\n",
    "    Entrada:\n",
    "    data: [pd.DataFrame] Base de datos a utilizar\n",
    "    n_comp: [int] número de componentes a utilizar\n",
    "    ___________________________________\n",
    "    Salida:\n",
    "    df: [pd.DataFrame] Base de datos con coordenadas reducidas\n",
    "    \n",
    "    \"\"\"\n",
    "    # =====================================================\n",
    "    # COMPLETAR ===========================================\n",
    "    # Seleccione datos y objetivo\n",
    "    X = data.iloc[:, :4]\n",
    "    Y = data.iloc[:, 4]\n",
    "    X_PCA = PCA(X, ncomp)\n",
    "    columns = [f\"x{i+1}\" for i in range(ncomp)]\n",
    "    df0 = pd.DataFrame(X_PCA, columns=columns)\n",
    "    df = pd.concat([df0, pd.DataFrame(Y)], axis=1)\n",
    "    # =====================================================\n",
    "\n",
    "    return df"
   ]
  },
  {
   "cell_type": "code",
   "execution_count": 29,
   "metadata": {
    "id": "T_cf5jHO-7lY"
   },
   "outputs": [
    {
     "data": {
      "text/html": [
       "<div>\n",
       "<style scoped>\n",
       "    .dataframe tbody tr th:only-of-type {\n",
       "        vertical-align: middle;\n",
       "    }\n",
       "\n",
       "    .dataframe tbody tr th {\n",
       "        vertical-align: top;\n",
       "    }\n",
       "\n",
       "    .dataframe thead th {\n",
       "        text-align: right;\n",
       "    }\n",
       "</style>\n",
       "<table border=\"1\" class=\"dataframe\">\n",
       "  <thead>\n",
       "    <tr style=\"text-align: right;\">\n",
       "      <th></th>\n",
       "      <th>x1</th>\n",
       "      <th>x2</th>\n",
       "      <th>target</th>\n",
       "    </tr>\n",
       "  </thead>\n",
       "  <tbody>\n",
       "    <tr>\n",
       "      <th>0</th>\n",
       "      <td>2.684207</td>\n",
       "      <td>0.326607</td>\n",
       "      <td>Iris-setosa</td>\n",
       "    </tr>\n",
       "    <tr>\n",
       "      <th>1</th>\n",
       "      <td>2.715391</td>\n",
       "      <td>-0.169557</td>\n",
       "      <td>Iris-setosa</td>\n",
       "    </tr>\n",
       "    <tr>\n",
       "      <th>2</th>\n",
       "      <td>2.889820</td>\n",
       "      <td>-0.137346</td>\n",
       "      <td>Iris-setosa</td>\n",
       "    </tr>\n",
       "    <tr>\n",
       "      <th>3</th>\n",
       "      <td>2.746437</td>\n",
       "      <td>-0.311124</td>\n",
       "      <td>Iris-setosa</td>\n",
       "    </tr>\n",
       "    <tr>\n",
       "      <th>4</th>\n",
       "      <td>2.728593</td>\n",
       "      <td>0.333925</td>\n",
       "      <td>Iris-setosa</td>\n",
       "    </tr>\n",
       "    <tr>\n",
       "      <th>...</th>\n",
       "      <td>...</td>\n",
       "      <td>...</td>\n",
       "      <td>...</td>\n",
       "    </tr>\n",
       "    <tr>\n",
       "      <th>145</th>\n",
       "      <td>-1.944017</td>\n",
       "      <td>0.187415</td>\n",
       "      <td>Iris-virginica</td>\n",
       "    </tr>\n",
       "    <tr>\n",
       "      <th>146</th>\n",
       "      <td>-1.525664</td>\n",
       "      <td>-0.375021</td>\n",
       "      <td>Iris-virginica</td>\n",
       "    </tr>\n",
       "    <tr>\n",
       "      <th>147</th>\n",
       "      <td>-1.764046</td>\n",
       "      <td>0.078519</td>\n",
       "      <td>Iris-virginica</td>\n",
       "    </tr>\n",
       "    <tr>\n",
       "      <th>148</th>\n",
       "      <td>-1.901629</td>\n",
       "      <td>0.115877</td>\n",
       "      <td>Iris-virginica</td>\n",
       "    </tr>\n",
       "    <tr>\n",
       "      <th>149</th>\n",
       "      <td>-1.389666</td>\n",
       "      <td>-0.282887</td>\n",
       "      <td>Iris-virginica</td>\n",
       "    </tr>\n",
       "  </tbody>\n",
       "</table>\n",
       "<p>150 rows × 3 columns</p>\n",
       "</div>"
      ],
      "text/plain": [
       "           x1        x2          target\n",
       "0    2.684207  0.326607     Iris-setosa\n",
       "1    2.715391 -0.169557     Iris-setosa\n",
       "2    2.889820 -0.137346     Iris-setosa\n",
       "3    2.746437 -0.311124     Iris-setosa\n",
       "4    2.728593  0.333925     Iris-setosa\n",
       "..        ...       ...             ...\n",
       "145 -1.944017  0.187415  Iris-virginica\n",
       "146 -1.525664 -0.375021  Iris-virginica\n",
       "147 -1.764046  0.078519  Iris-virginica\n",
       "148 -1.901629  0.115877  Iris-virginica\n",
       "149 -1.389666 -0.282887  Iris-virginica\n",
       "\n",
       "[150 rows x 3 columns]"
      ]
     },
     "execution_count": 29,
     "metadata": {},
     "output_type": "execute_result"
    }
   ],
   "source": [
    "# PROBAR ==========================================================\n",
    "df = implementar_PCA(data, ncomp=2)\n",
    "df"
   ]
  },
  {
   "cell_type": "markdown",
   "metadata": {
    "id": "LNNXoFHsIp4A"
   },
   "source": [
    "### Graficar\n",
    "\n",
    "Con esta nueva información podemos gráficar ya sea en 1 o en 2 coordenadas"
   ]
  },
  {
   "cell_type": "code",
   "execution_count": 33,
   "metadata": {
    "colab": {
     "base_uri": "https://localhost:8080/",
     "height": 432
    },
    "executionInfo": {
     "elapsed": 348,
     "status": "ok",
     "timestamp": 1659467680578,
     "user": {
      "displayName": "Nicolas Lopez",
      "userId": "14633077838591854186"
     },
     "user_tz": 300
    },
    "id": "Y21HyVg-EhLp",
    "outputId": "59c6c0f5-fd46-4a95-9832-6e1f53d4a2fb"
   },
   "outputs": [
    {
     "data": {
      "image/png": "[encoded data removed]",
      "text/plain": [
       "<Figure size 1080x504 with 1 Axes>"
      ]
     },
     "metadata": {
      "needs_background": "light"
     },
     "output_type": "display_data"
    }
   ],
   "source": [
    "# Dibujar Primer coordenada\n",
    "plt.figure(figsize=(15, 7))\n",
    "ax = sns.scatterplot(df['x1'], [0] * len(df), hue=df['target'], s=200)"
   ]
  },
  {
   "cell_type": "code",
   "execution_count": 34,
   "metadata": {
    "id": "QF_PgOLzDpTy"
   },
   "outputs": [
    {
     "data": {
      "image/png": "[encoded data removed]",
      "text/plain": [
       "<Figure size 1080x504 with 1 Axes>"
      ]
     },
     "metadata": {
      "needs_background": "light"
     },
     "output_type": "display_data"
    }
   ],
   "source": [
    "# Dibujar Segunda coordenada\n",
    "plt.figure(figsize=(15, 7))\n",
    "ax = sns.scatterplot([0] * len(df), df['x2'], hue=df['target'], s=200)"
   ]
  },
  {
   "cell_type": "code",
   "execution_count": 35,
   "metadata": {
    "colab": {
     "base_uri": "https://localhost:8080/",
     "height": 432
    },
    "executionInfo": {
     "elapsed": 316,
     "status": "ok",
     "timestamp": 1659467699519,
     "user": {
      "displayName": "Nicolas Lopez",
      "userId": "14633077838591854186"
     },
     "user_tz": 300
    },
    "id": "47J08zLoGpLy",
    "outputId": "2fd38f3f-76ea-4cfc-b2f4-dd38d84e6d16"
   },
   "outputs": [
    {
     "data": {
      "image/png": "[encoded data removed]",
      "text/plain": [
       "<Figure size 1080x504 with 1 Axes>"
      ]
     },
     "metadata": {
      "needs_background": "light"
     },
     "output_type": "display_data"
    }
   ],
   "source": [
    "# Dibujar coordenadas\n",
    "plt.figure(figsize=(15, 7))\n",
    "ax = sns.scatterplot(df['x1'], df['x2'], hue=df['target'], s=200)"
   ]
  },
  {
   "cell_type": "markdown",
   "metadata": {},
   "source": [
    "### Prueba"
   ]
  },
  {
   "cell_type": "code",
   "execution_count": 36,
   "metadata": {
    "deletable": false,
    "editable": false,
    "nbgrader": {
     "cell_type": "code",
     "checksum": "624f4c5b654f3ed0530bb2fd704b0bd2",
     "grade": true,
     "grade_id": "cell-9e872779151e809f",
     "locked": true,
     "points": 30,
     "schema_version": 3,
     "solution": false,
     "task": false
    }
   },
   "outputs": [
    {
     "name": "stdout",
     "output_type": "stream",
     "text": [
      "__________________________________\n",
      "Verificando errores...\n",
      "\n",
      "\n",
      "Se obtuvo\n",
      "\n"
     ]
    },
    {
     "data": {
      "text/html": [
       "<div>\n",
       "<style scoped>\n",
       "    .dataframe tbody tr th:only-of-type {\n",
       "        vertical-align: middle;\n",
       "    }\n",
       "\n",
       "    .dataframe tbody tr th {\n",
       "        vertical-align: top;\n",
       "    }\n",
       "\n",
       "    .dataframe thead th {\n",
       "        text-align: right;\n",
       "    }\n",
       "</style>\n",
       "<table border=\"1\" class=\"dataframe\">\n",
       "  <thead>\n",
       "    <tr style=\"text-align: right;\">\n",
       "      <th></th>\n",
       "      <th>x1</th>\n",
       "      <th>x2</th>\n",
       "      <th>target</th>\n",
       "    </tr>\n",
       "  </thead>\n",
       "  <tbody>\n",
       "    <tr>\n",
       "      <th>0</th>\n",
       "      <td>2.684207</td>\n",
       "      <td>0.326607</td>\n",
       "      <td>Iris-setosa</td>\n",
       "    </tr>\n",
       "    <tr>\n",
       "      <th>1</th>\n",
       "      <td>2.715391</td>\n",
       "      <td>-0.169557</td>\n",
       "      <td>Iris-setosa</td>\n",
       "    </tr>\n",
       "    <tr>\n",
       "      <th>2</th>\n",
       "      <td>2.889820</td>\n",
       "      <td>-0.137346</td>\n",
       "      <td>Iris-setosa</td>\n",
       "    </tr>\n",
       "    <tr>\n",
       "      <th>3</th>\n",
       "      <td>2.746437</td>\n",
       "      <td>-0.311124</td>\n",
       "      <td>Iris-setosa</td>\n",
       "    </tr>\n",
       "    <tr>\n",
       "      <th>4</th>\n",
       "      <td>2.728593</td>\n",
       "      <td>0.333925</td>\n",
       "      <td>Iris-setosa</td>\n",
       "    </tr>\n",
       "    <tr>\n",
       "      <th>...</th>\n",
       "      <td>...</td>\n",
       "      <td>...</td>\n",
       "      <td>...</td>\n",
       "    </tr>\n",
       "    <tr>\n",
       "      <th>145</th>\n",
       "      <td>-1.944017</td>\n",
       "      <td>0.187415</td>\n",
       "      <td>Iris-virginica</td>\n",
       "    </tr>\n",
       "    <tr>\n",
       "      <th>146</th>\n",
       "      <td>-1.525664</td>\n",
       "      <td>-0.375021</td>\n",
       "      <td>Iris-virginica</td>\n",
       "    </tr>\n",
       "    <tr>\n",
       "      <th>147</th>\n",
       "      <td>-1.764046</td>\n",
       "      <td>0.078519</td>\n",
       "      <td>Iris-virginica</td>\n",
       "    </tr>\n",
       "    <tr>\n",
       "      <th>148</th>\n",
       "      <td>-1.901629</td>\n",
       "      <td>0.115877</td>\n",
       "      <td>Iris-virginica</td>\n",
       "    </tr>\n",
       "    <tr>\n",
       "      <th>149</th>\n",
       "      <td>-1.389666</td>\n",
       "      <td>-0.282887</td>\n",
       "      <td>Iris-virginica</td>\n",
       "    </tr>\n",
       "  </tbody>\n",
       "</table>\n",
       "<p>150 rows × 3 columns</p>\n",
       "</div>"
      ],
      "text/plain": [
       "           x1        x2          target\n",
       "0    2.684207  0.326607     Iris-setosa\n",
       "1    2.715391 -0.169557     Iris-setosa\n",
       "2    2.889820 -0.137346     Iris-setosa\n",
       "3    2.746437 -0.311124     Iris-setosa\n",
       "4    2.728593  0.333925     Iris-setosa\n",
       "..        ...       ...             ...\n",
       "145 -1.944017  0.187415  Iris-virginica\n",
       "146 -1.525664 -0.375021  Iris-virginica\n",
       "147 -1.764046  0.078519  Iris-virginica\n",
       "148 -1.901629  0.115877  Iris-virginica\n",
       "149 -1.389666 -0.282887  Iris-virginica\n",
       "\n",
       "[150 rows x 3 columns]"
      ]
     },
     "metadata": {},
     "output_type": "display_data"
    },
    {
     "name": "stdout",
     "output_type": "stream",
     "text": [
      "__________________________________\n",
      "\n",
      "\n",
      "Se espera\n",
      "\n"
     ]
    },
    {
     "data": {
      "text/html": [
       "<div>\n",
       "<style scoped>\n",
       "    .dataframe tbody tr th:only-of-type {\n",
       "        vertical-align: middle;\n",
       "    }\n",
       "\n",
       "    .dataframe tbody tr th {\n",
       "        vertical-align: top;\n",
       "    }\n",
       "\n",
       "    .dataframe thead th {\n",
       "        text-align: right;\n",
       "    }\n",
       "</style>\n",
       "<table border=\"1\" class=\"dataframe\">\n",
       "  <thead>\n",
       "    <tr style=\"text-align: right;\">\n",
       "      <th></th>\n",
       "      <th>x1</th>\n",
       "      <th>x2</th>\n",
       "      <th>target</th>\n",
       "    </tr>\n",
       "  </thead>\n",
       "  <tbody>\n",
       "    <tr>\n",
       "      <th>0</th>\n",
       "      <td>2.684207</td>\n",
       "      <td>0.326607</td>\n",
       "      <td>Iris-setosa</td>\n",
       "    </tr>\n",
       "    <tr>\n",
       "      <th>1</th>\n",
       "      <td>2.715391</td>\n",
       "      <td>-0.169557</td>\n",
       "      <td>Iris-setosa</td>\n",
       "    </tr>\n",
       "    <tr>\n",
       "      <th>2</th>\n",
       "      <td>2.889820</td>\n",
       "      <td>-0.137346</td>\n",
       "      <td>Iris-setosa</td>\n",
       "    </tr>\n",
       "    <tr>\n",
       "      <th>3</th>\n",
       "      <td>2.746437</td>\n",
       "      <td>-0.311124</td>\n",
       "      <td>Iris-setosa</td>\n",
       "    </tr>\n",
       "    <tr>\n",
       "      <th>4</th>\n",
       "      <td>2.728593</td>\n",
       "      <td>0.333925</td>\n",
       "      <td>Iris-setosa</td>\n",
       "    </tr>\n",
       "    <tr>\n",
       "      <th>...</th>\n",
       "      <td>...</td>\n",
       "      <td>...</td>\n",
       "      <td>...</td>\n",
       "    </tr>\n",
       "    <tr>\n",
       "      <th>145</th>\n",
       "      <td>-1.944017</td>\n",
       "      <td>0.187415</td>\n",
       "      <td>Iris-virginica</td>\n",
       "    </tr>\n",
       "    <tr>\n",
       "      <th>146</th>\n",
       "      <td>-1.525664</td>\n",
       "      <td>-0.375021</td>\n",
       "      <td>Iris-virginica</td>\n",
       "    </tr>\n",
       "    <tr>\n",
       "      <th>147</th>\n",
       "      <td>-1.764046</td>\n",
       "      <td>0.078519</td>\n",
       "      <td>Iris-virginica</td>\n",
       "    </tr>\n",
       "    <tr>\n",
       "      <th>148</th>\n",
       "      <td>-1.901629</td>\n",
       "      <td>0.115877</td>\n",
       "      <td>Iris-virginica</td>\n",
       "    </tr>\n",
       "    <tr>\n",
       "      <th>149</th>\n",
       "      <td>-1.389666</td>\n",
       "      <td>-0.282887</td>\n",
       "      <td>Iris-virginica</td>\n",
       "    </tr>\n",
       "  </tbody>\n",
       "</table>\n",
       "<p>150 rows × 3 columns</p>\n",
       "</div>"
      ],
      "text/plain": [
       "           x1        x2          target\n",
       "0    2.684207  0.326607     Iris-setosa\n",
       "1    2.715391 -0.169557     Iris-setosa\n",
       "2    2.889820 -0.137346     Iris-setosa\n",
       "3    2.746437 -0.311124     Iris-setosa\n",
       "4    2.728593  0.333925     Iris-setosa\n",
       "..        ...       ...             ...\n",
       "145 -1.944017  0.187415  Iris-virginica\n",
       "146 -1.525664 -0.375021  Iris-virginica\n",
       "147 -1.764046  0.078519  Iris-virginica\n",
       "148 -1.901629  0.115877  Iris-virginica\n",
       "149 -1.389666 -0.282887  Iris-virginica\n",
       "\n",
       "[150 rows x 3 columns]"
      ]
     },
     "metadata": {},
     "output_type": "display_data"
    },
    {
     "ename": "AssertionError",
     "evalue": "",
     "output_type": "error",
     "traceback": [
      "\u001b[0;31mAssertionError\u001b[0m\n"
     ]
    }
   ],
   "source": [
    "# ============================================================\n",
    "# PRUEBAS AVANZADAS ==========================================\n",
    "# ============================================================\n",
    "\n",
    "# Base de datos IRIS\n",
    "url = \"https://archive.ics.uci.edu/ml/machine-learning-databases/iris/iris.data\"\n",
    "data = pd.read_csv(url, names=['sepal length','sepal width','petal length','petal width','target'])\n",
    "\n",
    "ncomp = 2\n",
    "mutils.correr_prueba_implementar_PCA(implementar_PCA, [data, ncomp])\n"
   ]
  },
  {
   "cell_type": "code",
   "execution_count": null,
   "metadata": {},
   "outputs": [],
   "source": []
  }
 ],
 "metadata": {
  "colab": {
   "authorship_tag": "ABX9TyM0ttHEPIG6gR6Ye+uanMPf",
   "collapsed_sections": [],
   "name": "S2TP3_PCA.ipynb",
   "provenance": []
  },
  "kernelspec": {
   "display_name": "Python 3",
   "language": "python",
   "name": "python3"
  },
  "language_info": {
   "codemirror_mode": {
    "name": "ipython",
    "version": 3
   },
   "file_extension": ".py",
   "mimetype": "text/x-python",
   "name": "python",
   "nbconvert_exporter": "python",
   "pygments_lexer": "ipython3",
   "version": "3.7.6"
  },
  "toc": {
   "base_numbering": 1,
   "nav_menu": {},
   "number_sections": true,
   "sideBar": true,
   "skip_h1_title": false,
   "title_cell": "Table of Contents",
   "title_sidebar": "Contents",
   "toc_cell": false,
   "toc_position": {
    "height": "calc(100% - 180px)",
    "left": "10px",
    "top": "150px",
    "width": "303.531px"
   },
   "toc_section_display": true,
   "toc_window_display": false
  }
 },
 "nbformat": 4,
 "nbformat_minor": 1
}
